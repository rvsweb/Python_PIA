{
  "cells": [
    {
      "cell_type": "markdown",
      "metadata": {
        "id": "X2Q3sYvlbzpm"
      },
      "source": [
        "## Introducción : Pair Programming 1 : Segmentación Semantica con Hugging Face\n"
      ]
    },
    {
      "cell_type": "code",
      "execution_count": null,
      "metadata": {},
      "outputs": [],
      "source": [
        "# Descargamos las versiones de las librerías que necesitamos\n",
        "# Numpy se utiliza para el manejo de arreglos\n",
        "%pip install numpy==1.23.5 \n",
        "# Matplotlib se utiliza para la generación de gráficas\n",
        "%pip install matplotlib==3.4.3"
      ]
    },
    {
      "cell_type": "code",
      "execution_count": 7,
      "metadata": {
        "colab": {
          "base_uri": "https://localhost:8080/"
        },
        "id": "90Pbp_fZb4im",
        "outputId": "5310e6ce-a30f-4da1-a71c-c3afdc693114"
      },
      "outputs": [
        {
          "name": "stdout",
          "output_type": "stream",
          "text": [
            "Running on local URL:  http://127.0.0.1:7860\n",
            "\n",
            "To create a public link, set `share=True` in `launch()`.\n"
          ]
        },
        {
          "data": {
            "text/html": [
              "<div><iframe src=\"http://127.0.0.1:7860/\" width=\"100%\" height=\"500\" allow=\"autoplay; camera; microphone; clipboard-read; clipboard-write;\" frameborder=\"0\" allowfullscreen></iframe></div>"
            ],
            "text/plain": [
              "<IPython.core.display.HTML object>"
            ]
          },
          "metadata": {},
          "output_type": "display_data"
        },
        {
          "data": {
            "text/plain": []
          },
          "execution_count": 7,
          "metadata": {},
          "output_type": "execute_result"
        }
      ],
      "source": [
        "# Gradio es una biblioteca \n",
        "# que permite crear rápidamente interfaces de usuario para probar \n",
        "# y compartir tus modelos de machine learning.\n",
        "\n",
        "# gr = alias para la biblioteca Gradio\n",
        "import gradio as gr\n",
        "\n",
        "# Función que recibe un nombre y retorna un mensaje de bienvenida\n",
        "def welcome(name):\n",
        "    # Devuelve un mensaje de bienvenida con el nombre ingresado\n",
        "    return f'Bienvenido a Python → , {name}!'\n",
        "\n",
        "# Interface → Clase en la biblioteca Gradio de Python \n",
        "# Se utiliza para crear una nueva interfaz de usuario. \n",
        "# Puedes proporcionarle varios argumentos para personalizar la interfaz, \n",
        "# Como la función que se debe ejecutar cuando el usuario interactúa con la interfaz, \n",
        "# los tipos de entrada y salida que debe manejar la interfaz \n",
        "\n",
        "# fn = funcion que ejecuta la logica del programa en este caso 'welcome'\n",
        "# inputs = tipo de entrada en este caso de tipo texto\n",
        "# outputs = tipo de salida \"lo que salga de la función\" en este caso de tipo texto\n",
        "demo = gr.Interface(fn=welcome, inputs=\"text\", outputs=\"text\")\n",
        "\n",
        "# Lanzar la interfaz\n",
        "demo.launch(share=True)"
      ]
    }
  ],
  "metadata": {
    "colab": {
      "provenance": []
    },
    "kernelspec": {
      "display_name": "Python 3",
      "name": "python3"
    },
    "language_info": {
      "codemirror_mode": {
        "name": "ipython",
        "version": 3
      },
      "file_extension": ".py",
      "mimetype": "text/x-python",
      "name": "python",
      "nbconvert_exporter": "python",
      "pygments_lexer": "ipython3",
      "version": "3.11.7"
    }
  },
  "nbformat": 4,
  "nbformat_minor": 0
}
