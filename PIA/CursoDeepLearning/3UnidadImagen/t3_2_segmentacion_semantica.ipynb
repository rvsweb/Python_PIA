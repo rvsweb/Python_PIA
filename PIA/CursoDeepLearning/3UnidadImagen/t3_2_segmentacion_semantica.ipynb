{
  "cells": [
    {
      "cell_type": "markdown",
      "metadata": {
        "id": "X2Q3sYvlbzpm"
      },
      "source": [
        "## Introducción : Pair Programming 2 : Segmentación Semantica con Hugging Face\n"
      ]
    },
    {
      "cell_type": "code",
      "execution_count": 1,
      "metadata": {},
      "outputs": [
        {
          "name": "stdout",
          "output_type": "stream",
          "text": [
            "Requirement already satisfied: numpy==1.23.5 in c:\\users\\robot\\appdata\\local\\packages\\pythonsoftwarefoundation.python.3.11_qbz5n2kfra8p0\\localcache\\local-packages\\python311\\site-packages (1.23.5)Note: you may need to restart the kernel to use updated packages.\n"
          ]
        },
        {
          "name": "stderr",
          "output_type": "stream",
          "text": [
            "\n",
            "[notice] A new release of pip is available: 23.3.2 -> 24.0\n",
            "[notice] To update, run: C:\\Users\\Robot\\AppData\\Local\\Microsoft\\WindowsApps\\PythonSoftwareFoundation.Python.3.11_qbz5n2kfra8p0\\python.exe -m pip install --upgrade pip\n"
          ]
        },
        {
          "name": "stdout",
          "output_type": "stream",
          "text": [
            "\n",
            "^C\n",
            "Note: you may need to restart the kernel to use updated packages.\n",
            "Looking in links: https://download.pytorch.org/whl/torch_stable.htmlNote: you may need to restart the kernel to use updated packages.\n"
          ]
        },
        {
          "name": "stderr",
          "output_type": "stream",
          "text": [
            "ERROR: Could not find a version that satisfies the requirement torch==1.10.0+cu113 (from versions: 2.0.0, 2.0.0+cpu, 2.0.0+cu117, 2.0.0+cu118, 2.0.1, 2.0.1+cpu, 2.0.1+cu117, 2.0.1+cu118, 2.1.0, 2.1.0+cpu, 2.1.0+cu118, 2.1.0+cu121, 2.1.1, 2.1.1+cpu, 2.1.1+cu118, 2.1.1+cu121, 2.1.2, 2.1.2+cpu, 2.1.2+cu118, 2.1.2+cu121, 2.2.0, 2.2.0+cpu, 2.2.0+cu118, 2.2.0+cu121)\n",
            "ERROR: No matching distribution found for torch==1.10.0+cu113\n",
            "\n",
            "[notice] A new release of pip is available: 23.3.2 -> 24.0\n",
            "[notice] To update, run: C:\\Users\\Robot\\AppData\\Local\\Microsoft\\WindowsApps\\PythonSoftwareFoundation.Python.3.11_qbz5n2kfra8p0\\python.exe -m pip install --upgrade pip\n"
          ]
        },
        {
          "name": "stdout",
          "output_type": "stream",
          "text": [
            "\n",
            "Note: you may need to restart the kernel to use updated packages.\n"
          ]
        },
        {
          "name": "stderr",
          "output_type": "stream",
          "text": [
            "ERROR: Ignored the following yanked versions: 4.14.0, 4.25.0\n",
            "ERROR: Could not find a version that satisfies the requirement transformers==4.36.3 (from versions: 0.1, 2.0.0, 2.1.0, 2.1.1, 2.2.0, 2.2.1, 2.2.2, 2.3.0, 2.4.0, 2.4.1, 2.5.0, 2.5.1, 2.6.0, 2.7.0, 2.8.0, 2.9.0, 2.9.1, 2.10.0, 2.11.0, 3.0.0, 3.0.1, 3.0.2, 3.1.0, 3.2.0, 3.3.0, 3.3.1, 3.4.0, 3.5.0, 3.5.1, 4.0.0rc1, 4.0.0, 4.0.1, 4.1.0, 4.1.1, 4.2.0, 4.2.1, 4.2.2, 4.3.0rc1, 4.3.0, 4.3.1, 4.3.2, 4.3.3, 4.4.0, 4.4.1, 4.4.2, 4.5.0, 4.5.1, 4.6.0, 4.6.1, 4.7.0, 4.8.0, 4.8.1, 4.8.2, 4.9.0, 4.9.1, 4.9.2, 4.10.0, 4.10.1, 4.10.2, 4.10.3, 4.11.0, 4.11.1, 4.11.2, 4.11.3, 4.12.0, 4.12.1, 4.12.2, 4.12.3, 4.12.4, 4.12.5, 4.13.0, 4.14.1, 4.15.0, 4.16.0, 4.16.1, 4.16.2, 4.17.0, 4.18.0, 4.19.0, 4.19.1, 4.19.2, 4.19.3, 4.19.4, 4.20.0, 4.20.1, 4.21.0, 4.21.1, 4.21.2, 4.21.3, 4.22.0, 4.22.1, 4.22.2, 4.23.0, 4.23.1, 4.24.0, 4.25.1, 4.26.0, 4.26.1, 4.27.0, 4.27.1, 4.27.2, 4.27.3, 4.27.4, 4.28.0, 4.28.1, 4.29.0, 4.29.1, 4.29.2, 4.30.0, 4.30.1, 4.30.2, 4.31.0, 4.32.0, 4.32.1, 4.33.0, 4.33.1, 4.33.2, 4.33.3, 4.34.0, 4.34.1, 4.35.0, 4.35.1, 4.35.2, 4.36.0, 4.36.1, 4.36.2, 4.37.0, 4.37.1, 4.37.2)\n",
            "ERROR: No matching distribution found for transformers==4.36.3\n",
            "\n",
            "[notice] A new release of pip is available: 23.3.2 -> 24.0\n",
            "[notice] To update, run: C:\\Users\\Robot\\AppData\\Local\\Microsoft\\WindowsApps\\PythonSoftwareFoundation.Python.3.11_qbz5n2kfra8p0\\python.exe -m pip install --upgrade pip\n"
          ]
        },
        {
          "name": "stdout",
          "output_type": "stream",
          "text": [
            "^C\n",
            "Note: you may need to restart the kernel to use updated packages.\n",
            "Requirement already satisfied: Pillow==9.4.0 in c:\\users\\robot\\appdata\\local\\packages\\pythonsoftwarefoundation.python.3.11_qbz5n2kfra8p0\\localcache\\local-packages\\python311\\site-packages (9.4.0)\n"
          ]
        },
        {
          "name": "stderr",
          "output_type": "stream",
          "text": [
            "\n",
            "[notice] A new release of pip is available: 23.3.2 -> 24.0\n",
            "[notice] To update, run: C:\\Users\\Robot\\AppData\\Local\\Microsoft\\WindowsApps\\PythonSoftwareFoundation.Python.3.11_qbz5n2kfra8p0\\python.exe -m pip install --upgrade pip\n"
          ]
        },
        {
          "name": "stdout",
          "output_type": "stream",
          "text": [
            "Requirement already satisfied: gradio==4.14.0 in c:\\users\\robot\\appdata\\local\\packages\\pythonsoftwarefoundation.python.3.11_qbz5n2kfra8p0\\localcache\\local-packages\\python311\\site-packages (4.14.0)Note: you may need to restart the kernel to use updated packages.\n"
          ]
        },
        {
          "name": "stderr",
          "output_type": "stream",
          "text": [
            "\n",
            "[notice] A new release of pip is available: 23.3.2 -> 24.0\n",
            "[notice] To update, run: C:\\Users\\Robot\\AppData\\Local\\Microsoft\\WindowsApps\\PythonSoftwareFoundation.Python.3.11_qbz5n2kfra8p0\\python.exe -m pip install --upgrade pip\n"
          ]
        },
        {
          "name": "stdout",
          "output_type": "stream",
          "text": [
            "\n",
            "Requirement already satisfied: aiofiles<24.0,>=22.0 in c:\\users\\robot\\appdata\\local\\packages\\pythonsoftwarefoundation.python.3.11_qbz5n2kfra8p0\\localcache\\local-packages\\python311\\site-packages (from gradio==4.14.0) (23.2.1)\n",
            "Requirement already satisfied: altair<6.0,>=4.2.0 in c:\\users\\robot\\appdata\\local\\packages\\pythonsoftwarefoundation.python.3.11_qbz5n2kfra8p0\\localcache\\local-packages\\python311\\site-packages (from gradio==4.14.0) (5.2.0)\n",
            "Requirement already satisfied: fastapi in c:\\users\\robot\\appdata\\local\\packages\\pythonsoftwarefoundation.python.3.11_qbz5n2kfra8p0\\localcache\\local-packages\\python311\\site-packages (from gradio==4.14.0) (0.109.2)\n",
            "Requirement already satisfied: ffmpy in c:\\users\\robot\\appdata\\local\\packages\\pythonsoftwarefoundation.python.3.11_qbz5n2kfra8p0\\localcache\\local-packages\\python311\\site-packages (from gradio==4.14.0) (0.3.1)\n",
            "Requirement already satisfied: gradio-client==0.8.0 in c:\\users\\robot\\appdata\\local\\packages\\pythonsoftwarefoundation.python.3.11_qbz5n2kfra8p0\\localcache\\local-packages\\python311\\site-packages (from gradio==4.14.0) (0.8.0)\n",
            "Requirement already satisfied: httpx in c:\\users\\robot\\appdata\\local\\packages\\pythonsoftwarefoundation.python.3.11_qbz5n2kfra8p0\\localcache\\local-packages\\python311\\site-packages (from gradio==4.14.0) (0.26.0)\n",
            "Requirement already satisfied: huggingface-hub>=0.19.3 in c:\\users\\robot\\appdata\\local\\packages\\pythonsoftwarefoundation.python.3.11_qbz5n2kfra8p0\\localcache\\local-packages\\python311\\site-packages (from gradio==4.14.0) (0.20.3)\n",
            "Requirement already satisfied: importlib-resources<7.0,>=1.3 in c:\\users\\robot\\appdata\\local\\packages\\pythonsoftwarefoundation.python.3.11_qbz5n2kfra8p0\\localcache\\local-packages\\python311\\site-packages (from gradio==4.14.0) (6.1.1)\n",
            "Requirement already satisfied: jinja2<4.0 in c:\\users\\robot\\appdata\\local\\packages\\pythonsoftwarefoundation.python.3.11_qbz5n2kfra8p0\\localcache\\local-packages\\python311\\site-packages (from gradio==4.14.0) (3.1.3)\n",
            "Requirement already satisfied: markupsafe~=2.0 in c:\\users\\robot\\appdata\\local\\packages\\pythonsoftwarefoundation.python.3.11_qbz5n2kfra8p0\\localcache\\local-packages\\python311\\site-packages (from gradio==4.14.0) (2.1.4)\n",
            "Requirement already satisfied: matplotlib~=3.0 in c:\\users\\robot\\appdata\\local\\packages\\pythonsoftwarefoundation.python.3.11_qbz5n2kfra8p0\\localcache\\local-packages\\python311\\site-packages (from gradio==4.14.0) (3.8.2)\n",
            "Requirement already satisfied: numpy~=1.0 in c:\\users\\robot\\appdata\\local\\packages\\pythonsoftwarefoundation.python.3.11_qbz5n2kfra8p0\\localcache\\local-packages\\python311\\site-packages (from gradio==4.14.0) (1.23.5)\n",
            "Requirement already satisfied: orjson~=3.0 in c:\\users\\robot\\appdata\\local\\packages\\pythonsoftwarefoundation.python.3.11_qbz5n2kfra8p0\\localcache\\local-packages\\python311\\site-packages (from gradio==4.14.0) (3.9.13)\n",
            "Requirement already satisfied: packaging in c:\\users\\robot\\appdata\\local\\packages\\pythonsoftwarefoundation.python.3.11_qbz5n2kfra8p0\\localcache\\local-packages\\python311\\site-packages (from gradio==4.14.0) (23.2)\n",
            "Requirement already satisfied: pandas<3.0,>=1.0 in c:\\users\\robot\\appdata\\local\\packages\\pythonsoftwarefoundation.python.3.11_qbz5n2kfra8p0\\localcache\\local-packages\\python311\\site-packages (from gradio==4.14.0) (2.2.0)\n",
            "Requirement already satisfied: pillow<11.0,>=8.0 in c:\\users\\robot\\appdata\\local\\packages\\pythonsoftwarefoundation.python.3.11_qbz5n2kfra8p0\\localcache\\local-packages\\python311\\site-packages (from gradio==4.14.0) (9.4.0)\n",
            "Requirement already satisfied: pydantic>=2.0 in c:\\users\\robot\\appdata\\local\\packages\\pythonsoftwarefoundation.python.3.11_qbz5n2kfra8p0\\localcache\\local-packages\\python311\\site-packages (from gradio==4.14.0) (2.6.0)\n",
            "Requirement already satisfied: pydub in c:\\users\\robot\\appdata\\local\\packages\\pythonsoftwarefoundation.python.3.11_qbz5n2kfra8p0\\localcache\\local-packages\\python311\\site-packages (from gradio==4.14.0) (0.25.1)\n",
            "Requirement already satisfied: python-multipart in c:\\users\\robot\\appdata\\local\\packages\\pythonsoftwarefoundation.python.3.11_qbz5n2kfra8p0\\localcache\\local-packages\\python311\\site-packages (from gradio==4.14.0) (0.0.7)\n",
            "Requirement already satisfied: pyyaml<7.0,>=5.0 in c:\\users\\robot\\appdata\\local\\packages\\pythonsoftwarefoundation.python.3.11_qbz5n2kfra8p0\\localcache\\local-packages\\python311\\site-packages (from gradio==4.14.0) (6.0.1)\n",
            "Requirement already satisfied: semantic-version~=2.0 in c:\\users\\robot\\appdata\\local\\packages\\pythonsoftwarefoundation.python.3.11_qbz5n2kfra8p0\\localcache\\local-packages\\python311\\site-packages (from gradio==4.14.0) (2.10.0)\n",
            "Requirement already satisfied: tomlkit==0.12.0 in c:\\users\\robot\\appdata\\local\\packages\\pythonsoftwarefoundation.python.3.11_qbz5n2kfra8p0\\localcache\\local-packages\\python311\\site-packages (from gradio==4.14.0) (0.12.0)\n",
            "Requirement already satisfied: typer<1.0,>=0.9 in c:\\users\\robot\\appdata\\local\\packages\\pythonsoftwarefoundation.python.3.11_qbz5n2kfra8p0\\localcache\\local-packages\\python311\\site-packages (from typer[all]<1.0,>=0.9->gradio==4.14.0) (0.9.0)\n",
            "Requirement already satisfied: typing-extensions~=4.0 in c:\\users\\robot\\appdata\\local\\packages\\pythonsoftwarefoundation.python.3.11_qbz5n2kfra8p0\\localcache\\local-packages\\python311\\site-packages (from gradio==4.14.0) (4.9.0)\n",
            "Requirement already satisfied: uvicorn>=0.14.0 in c:\\users\\robot\\appdata\\local\\packages\\pythonsoftwarefoundation.python.3.11_qbz5n2kfra8p0\\localcache\\local-packages\\python311\\site-packages (from gradio==4.14.0) (0.27.0.post1)\n",
            "Requirement already satisfied: fsspec in c:\\users\\robot\\appdata\\local\\packages\\pythonsoftwarefoundation.python.3.11_qbz5n2kfra8p0\\localcache\\local-packages\\python311\\site-packages (from gradio-client==0.8.0->gradio==4.14.0) (2023.12.2)\n",
            "Requirement already satisfied: websockets<12.0,>=10.0 in c:\\users\\robot\\appdata\\local\\packages\\pythonsoftwarefoundation.python.3.11_qbz5n2kfra8p0\\localcache\\local-packages\\python311\\site-packages (from gradio-client==0.8.0->gradio==4.14.0) (11.0.3)\n",
            "Requirement already satisfied: jsonschema>=3.0 in c:\\users\\robot\\appdata\\local\\packages\\pythonsoftwarefoundation.python.3.11_qbz5n2kfra8p0\\localcache\\local-packages\\python311\\site-packages (from altair<6.0,>=4.2.0->gradio==4.14.0) (4.21.1)\n",
            "Requirement already satisfied: toolz in c:\\users\\robot\\appdata\\local\\packages\\pythonsoftwarefoundation.python.3.11_qbz5n2kfra8p0\\localcache\\local-packages\\python311\\site-packages (from altair<6.0,>=4.2.0->gradio==4.14.0) (0.12.1)\n",
            "Requirement already satisfied: filelock in c:\\users\\robot\\appdata\\local\\packages\\pythonsoftwarefoundation.python.3.11_qbz5n2kfra8p0\\localcache\\local-packages\\python311\\site-packages (from huggingface-hub>=0.19.3->gradio==4.14.0) (3.13.1)\n",
            "Requirement already satisfied: requests in c:\\users\\robot\\appdata\\local\\packages\\pythonsoftwarefoundation.python.3.11_qbz5n2kfra8p0\\localcache\\local-packages\\python311\\site-packages (from huggingface-hub>=0.19.3->gradio==4.14.0) (2.31.0)\n",
            "Requirement already satisfied: tqdm>=4.42.1 in c:\\users\\robot\\appdata\\local\\packages\\pythonsoftwarefoundation.python.3.11_qbz5n2kfra8p0\\localcache\\local-packages\\python311\\site-packages (from huggingface-hub>=0.19.3->gradio==4.14.0) (4.66.1)\n",
            "Requirement already satisfied: contourpy>=1.0.1 in c:\\users\\robot\\appdata\\local\\packages\\pythonsoftwarefoundation.python.3.11_qbz5n2kfra8p0\\localcache\\local-packages\\python311\\site-packages (from matplotlib~=3.0->gradio==4.14.0) (1.2.0)\n",
            "Requirement already satisfied: cycler>=0.10 in c:\\users\\robot\\appdata\\local\\packages\\pythonsoftwarefoundation.python.3.11_qbz5n2kfra8p0\\localcache\\local-packages\\python311\\site-packages (from matplotlib~=3.0->gradio==4.14.0) (0.12.1)\n",
            "Requirement already satisfied: fonttools>=4.22.0 in c:\\users\\robot\\appdata\\local\\packages\\pythonsoftwarefoundation.python.3.11_qbz5n2kfra8p0\\localcache\\local-packages\\python311\\site-packages (from matplotlib~=3.0->gradio==4.14.0) (4.47.2)\n",
            "Requirement already satisfied: kiwisolver>=1.3.1 in c:\\users\\robot\\appdata\\local\\packages\\pythonsoftwarefoundation.python.3.11_qbz5n2kfra8p0\\localcache\\local-packages\\python311\\site-packages (from matplotlib~=3.0->gradio==4.14.0) (1.4.5)\n",
            "Requirement already satisfied: pyparsing>=2.3.1 in c:\\users\\robot\\appdata\\local\\packages\\pythonsoftwarefoundation.python.3.11_qbz5n2kfra8p0\\localcache\\local-packages\\python311\\site-packages (from matplotlib~=3.0->gradio==4.14.0) (3.1.1)\n",
            "Requirement already satisfied: python-dateutil>=2.7 in c:\\users\\robot\\appdata\\local\\packages\\pythonsoftwarefoundation.python.3.11_qbz5n2kfra8p0\\localcache\\local-packages\\python311\\site-packages (from matplotlib~=3.0->gradio==4.14.0) (2.8.2)\n",
            "Requirement already satisfied: pytz>=2020.1 in c:\\users\\robot\\appdata\\local\\packages\\pythonsoftwarefoundation.python.3.11_qbz5n2kfra8p0\\localcache\\local-packages\\python311\\site-packages (from pandas<3.0,>=1.0->gradio==4.14.0) (2024.1)\n",
            "Requirement already satisfied: tzdata>=2022.7 in c:\\users\\robot\\appdata\\local\\packages\\pythonsoftwarefoundation.python.3.11_qbz5n2kfra8p0\\localcache\\local-packages\\python311\\site-packages (from pandas<3.0,>=1.0->gradio==4.14.0) (2023.4)\n",
            "Requirement already satisfied: annotated-types>=0.4.0 in c:\\users\\robot\\appdata\\local\\packages\\pythonsoftwarefoundation.python.3.11_qbz5n2kfra8p0\\localcache\\local-packages\\python311\\site-packages (from pydantic>=2.0->gradio==4.14.0) (0.6.0)\n",
            "Requirement already satisfied: pydantic-core==2.16.1 in c:\\users\\robot\\appdata\\local\\packages\\pythonsoftwarefoundation.python.3.11_qbz5n2kfra8p0\\localcache\\local-packages\\python311\\site-packages (from pydantic>=2.0->gradio==4.14.0) (2.16.1)\n",
            "Requirement already satisfied: click<9.0.0,>=7.1.1 in c:\\users\\robot\\appdata\\local\\packages\\pythonsoftwarefoundation.python.3.11_qbz5n2kfra8p0\\localcache\\local-packages\\python311\\site-packages (from typer<1.0,>=0.9->typer[all]<1.0,>=0.9->gradio==4.14.0) (8.1.7)\n",
            "Requirement already satisfied: colorama<0.5.0,>=0.4.3 in c:\\users\\robot\\appdata\\local\\packages\\pythonsoftwarefoundation.python.3.11_qbz5n2kfra8p0\\localcache\\local-packages\\python311\\site-packages (from typer[all]<1.0,>=0.9->gradio==4.14.0) (0.4.6)\n",
            "Requirement already satisfied: shellingham<2.0.0,>=1.3.0 in c:\\users\\robot\\appdata\\local\\packages\\pythonsoftwarefoundation.python.3.11_qbz5n2kfra8p0\\localcache\\local-packages\\python311\\site-packages (from typer[all]<1.0,>=0.9->gradio==4.14.0) (1.5.4)\n",
            "Requirement already satisfied: rich<14.0.0,>=10.11.0 in c:\\users\\robot\\appdata\\local\\packages\\pythonsoftwarefoundation.python.3.11_qbz5n2kfra8p0\\localcache\\local-packages\\python311\\site-packages (from typer[all]<1.0,>=0.9->gradio==4.14.0) (13.7.0)\n",
            "Requirement already satisfied: h11>=0.8 in c:\\users\\robot\\appdata\\local\\packages\\pythonsoftwarefoundation.python.3.11_qbz5n2kfra8p0\\localcache\\local-packages\\python311\\site-packages (from uvicorn>=0.14.0->gradio==4.14.0) (0.14.0)\n",
            "Requirement already satisfied: starlette<0.37.0,>=0.36.3 in c:\\users\\robot\\appdata\\local\\packages\\pythonsoftwarefoundation.python.3.11_qbz5n2kfra8p0\\localcache\\local-packages\\python311\\site-packages (from fastapi->gradio==4.14.0) (0.36.3)\n",
            "Requirement already satisfied: anyio in c:\\users\\robot\\appdata\\local\\packages\\pythonsoftwarefoundation.python.3.11_qbz5n2kfra8p0\\localcache\\local-packages\\python311\\site-packages (from httpx->gradio==4.14.0) (4.2.0)\n",
            "Requirement already satisfied: certifi in c:\\users\\robot\\appdata\\local\\packages\\pythonsoftwarefoundation.python.3.11_qbz5n2kfra8p0\\localcache\\local-packages\\python311\\site-packages (from httpx->gradio==4.14.0) (2023.11.17)\n",
            "Requirement already satisfied: httpcore==1.* in c:\\users\\robot\\appdata\\local\\packages\\pythonsoftwarefoundation.python.3.11_qbz5n2kfra8p0\\localcache\\local-packages\\python311\\site-packages (from httpx->gradio==4.14.0) (1.0.2)\n",
            "Requirement already satisfied: idna in c:\\users\\robot\\appdata\\local\\packages\\pythonsoftwarefoundation.python.3.11_qbz5n2kfra8p0\\localcache\\local-packages\\python311\\site-packages (from httpx->gradio==4.14.0) (3.6)\n",
            "Requirement already satisfied: sniffio in c:\\users\\robot\\appdata\\local\\packages\\pythonsoftwarefoundation.python.3.11_qbz5n2kfra8p0\\localcache\\local-packages\\python311\\site-packages (from httpx->gradio==4.14.0) (1.3.0)\n",
            "Requirement already satisfied: attrs>=22.2.0 in c:\\users\\robot\\appdata\\local\\packages\\pythonsoftwarefoundation.python.3.11_qbz5n2kfra8p0\\localcache\\local-packages\\python311\\site-packages (from jsonschema>=3.0->altair<6.0,>=4.2.0->gradio==4.14.0) (23.2.0)\n",
            "Requirement already satisfied: jsonschema-specifications>=2023.03.6 in c:\\users\\robot\\appdata\\local\\packages\\pythonsoftwarefoundation.python.3.11_qbz5n2kfra8p0\\localcache\\local-packages\\python311\\site-packages (from jsonschema>=3.0->altair<6.0,>=4.2.0->gradio==4.14.0) (2023.12.1)\n",
            "Requirement already satisfied: referencing>=0.28.4 in c:\\users\\robot\\appdata\\local\\packages\\pythonsoftwarefoundation.python.3.11_qbz5n2kfra8p0\\localcache\\local-packages\\python311\\site-packages (from jsonschema>=3.0->altair<6.0,>=4.2.0->gradio==4.14.0) (0.33.0)\n",
            "Requirement already satisfied: rpds-py>=0.7.1 in c:\\users\\robot\\appdata\\local\\packages\\pythonsoftwarefoundation.python.3.11_qbz5n2kfra8p0\\localcache\\local-packages\\python311\\site-packages (from jsonschema>=3.0->altair<6.0,>=4.2.0->gradio==4.14.0) (0.13.1)\n",
            "Requirement already satisfied: six>=1.5 in c:\\users\\robot\\appdata\\local\\packages\\pythonsoftwarefoundation.python.3.11_qbz5n2kfra8p0\\localcache\\local-packages\\python311\\site-packages (from python-dateutil>=2.7->matplotlib~=3.0->gradio==4.14.0) (1.16.0)\n",
            "Requirement already satisfied: markdown-it-py>=2.2.0 in c:\\users\\robot\\appdata\\local\\packages\\pythonsoftwarefoundation.python.3.11_qbz5n2kfra8p0\\localcache\\local-packages\\python311\\site-packages (from rich<14.0.0,>=10.11.0->typer[all]<1.0,>=0.9->gradio==4.14.0) (3.0.0)\n",
            "Requirement already satisfied: pygments<3.0.0,>=2.13.0 in c:\\users\\robot\\appdata\\local\\packages\\pythonsoftwarefoundation.python.3.11_qbz5n2kfra8p0\\localcache\\local-packages\\python311\\site-packages (from rich<14.0.0,>=10.11.0->typer[all]<1.0,>=0.9->gradio==4.14.0) (2.17.2)\n",
            "Requirement already satisfied: charset-normalizer<4,>=2 in c:\\users\\robot\\appdata\\local\\packages\\pythonsoftwarefoundation.python.3.11_qbz5n2kfra8p0\\localcache\\local-packages\\python311\\site-packages (from requests->huggingface-hub>=0.19.3->gradio==4.14.0) (3.3.2)\n",
            "Requirement already satisfied: urllib3<3,>=1.21.1 in c:\\users\\robot\\appdata\\local\\packages\\pythonsoftwarefoundation.python.3.11_qbz5n2kfra8p0\\localcache\\local-packages\\python311\\site-packages (from requests->huggingface-hub>=0.19.3->gradio==4.14.0) (2.1.0)\n",
            "Requirement already satisfied: mdurl~=0.1 in c:\\users\\robot\\appdata\\local\\packages\\pythonsoftwarefoundation.python.3.11_qbz5n2kfra8p0\\localcache\\local-packages\\python311\\site-packages (from markdown-it-py>=2.2.0->rich<14.0.0,>=10.11.0->typer[all]<1.0,>=0.9->gradio==4.14.0) (0.1.2)\n"
          ]
        }
      ],
      "source": [
        "# Descargamos las versiones de las librerías que necesitamos\n",
        "\n",
        "# Numpy se utiliza para el manejo de arreglos\n",
        "%pip install numpy==1.23.5 \n",
        "\n",
        "# Matplotlib se utiliza para la generación de gráficas\n",
        "%pip install matplotlib==3.4.3\n",
        "\n",
        "# Torch es la librería que utilizaremos para el entrenamiento de la red neuronal\n",
        "%pip install torch==1.10.0+cu113 torchvision==0.11.1+cu113 torchaudio==0.10.0+cu113 -f https://download.pytorch.org/whl/torch_stable.html\n",
        "\n",
        "# Transformers es la librería que utilizaremos para la generación de texto , el procesamiento del lenguaje natural (PLN) y el manejo de modelos de lenguaje\n",
        "%pip install transformers==4.36.3\n",
        "\n",
        "# Pillow es la librería que utilizaremos para el manejo de imágenes\n",
        "%pip install Pillow==9.4.0\n",
        "\n",
        "# Gradio es la librería que utilizaremos para la creación de la interfaz de usuario\n",
        "%pip install gradio==4.14.0"
      ]
    },
    {
      "cell_type": "markdown",
      "metadata": {},
      "source": [
        "Importa varias clases del módulo `transformers` de la biblioteca Hugging Face. \n",
        "\n",
        "Esta biblioteca proporciona una gran cantidad de modelos preentrenados para tareas de procesamiento del lenguaje natural (NLP).\n",
        "\n",
        "Aquí está lo que hace cada una de las clases que estás importando:\n",
        "\n",
        "- `AutoModelForSequenceClassification`: \n",
        "\n",
        "Esta es una clase de modelo que se utiliza para tareas de clasificación de secuencias, como la clasificación de texto. \n",
        "\n",
        "Puedes cargar un modelo preentrenado con esta clase y luego usarlo para clasificar secuencias de texto.\n",
        "\n",
        "- `AutoTokenizer`: \n",
        "\n",
        "Esta es una clase que se utiliza para tokenizar texto. \n",
        "\n",
        "La tokenización es el proceso de dividir el texto en piezas más pequeñas llamadas tokens. \n",
        "\n",
        "Los modelos de NLP necesitan que el texto se tokenice antes de que puedan procesarlo.\n",
        "\n",
        "- `pipeline`: \n",
        "\n",
        "Esta es una función que crea una tubería de procesamiento de texto. \n",
        "\n",
        "Una tubería es una secuencia de pasos de procesamiento que se aplican al texto. \n",
        "\n",
        "Por ejemplo, una tubería podría incluir la tokenización, el procesamiento del modelo y la conversión de las salidas del modelo en predicciones legibles por humanos.\n",
        "\n",
        "- `TrainingArguments` y `Trainer`: \n",
        "\n",
        "Estas son clases que se utilizan para entrenar modelos. \n",
        "\n",
        "`TrainingArguments` te permite especificar varios argumentos para el entrenamiento, como el número de épocas, el tamaño del lote, la tasa de aprendizaje, etc. \n",
        "\n",
        "`Trainer` es una clase que realiza el entrenamiento del modelo.\n",
        "\n",
        "En resumen, importamos varias clases que se utilizan para cargar modelos y tokenizadores, crear tuberías de procesamiento de texto, y entrenar modelos para tareas de clasificación de secuencias."
      ]
    },
    {
      "cell_type": "code",
      "execution_count": 1,
      "metadata": {
        "colab": {
          "base_uri": "https://localhost:8080/"
        },
        "id": "90Pbp_fZb4im",
        "outputId": "5310e6ce-a30f-4da1-a71c-c3afdc693114"
      },
      "outputs": [
        {
          "name": "stderr",
          "output_type": "stream",
          "text": [
            "C:\\Users\\Robot\\AppData\\Local\\Packages\\PythonSoftwareFoundation.Python.3.11_qbz5n2kfra8p0\\LocalCache\\local-packages\\Python311\\site-packages\\tqdm\\auto.py:21: TqdmWarning: IProgress not found. Please update jupyter and ipywidgets. See https://ipywidgets.readthedocs.io/en/stable/user_install.html\n",
            "  from .autonotebook import tqdm as notebook_tqdm\n",
            "C:\\Users\\Robot\\AppData\\Local\\Packages\\PythonSoftwareFoundation.Python.3.11_qbz5n2kfra8p0\\LocalCache\\local-packages\\Python311\\site-packages\\transformers\\utils\\generic.py:441: UserWarning: torch.utils._pytree._register_pytree_node is deprecated. Please use torch.utils._pytree.register_pytree_node instead.\n",
            "  _torch_pytree._register_pytree_node(\n"
          ]
        },
        {
          "name": "stdout",
          "output_type": "stream",
          "text": [
            "WARNING:tensorflow:From C:\\Users\\Robot\\AppData\\Local\\Packages\\PythonSoftwareFoundation.Python.3.11_qbz5n2kfra8p0\\LocalCache\\local-packages\\Python311\\site-packages\\keras\\src\\losses.py:2976: The name tf.losses.sparse_softmax_cross_entropy is deprecated. Please use tf.compat.v1.losses.sparse_softmax_cross_entropy instead.\n",
            "\n"
          ]
        },
        {
          "name": "stderr",
          "output_type": "stream",
          "text": [
            "C:\\Users\\Robot\\AppData\\Local\\Packages\\PythonSoftwareFoundation.Python.3.11_qbz5n2kfra8p0\\LocalCache\\local-packages\\Python311\\site-packages\\transformers\\models\\segformer\\image_processing_segformer.py:101: FutureWarning: The `reduce_labels` parameter is deprecated and will be removed in a future version. Please use `do_reduce_labels` instead.\n",
            "  warnings.warn(\n",
            "C:\\Users\\Robot\\AppData\\Local\\Packages\\PythonSoftwareFoundation.Python.3.11_qbz5n2kfra8p0\\LocalCache\\local-packages\\Python311\\site-packages\\transformers\\utils\\generic.py:309: UserWarning: torch.utils._pytree._register_pytree_node is deprecated. Please use torch.utils._pytree.register_pytree_node instead.\n",
            "  _torch_pytree._register_pytree_node(\n"
          ]
        }
      ],
      "source": [
        "# Al modelo lo vamos a alimentar con imagenes de diferentes tipos , formatos y codificaciones que sean compatible con el modelo\n",
        "\n",
        "# Retransformamos la imagen a un formato compatible con el modelo\n",
        "\n",
        "# Importamos la libreria transformers\n",
        "from transformers import SegformerImageProcessor, AutoModelForSemanticSegmentation\n",
        "\n",
        "# Esta línea de código está utilizando la biblioteca `transformers` de Hugging Face para cargar un procesador de imágenes preentrenado llamado `SegformerImageProcessor`.\n",
        "# El método `from_pretrained` se utiliza para cargar un modelo o procesador preentrenado desde el repositorio de modelos de Hugging Face. \n",
        "# El argumento que se pasa a `from_pretrained` es el identificador del modelo o procesador en el repositorio de modelos. \n",
        "# En este caso, el identificador es `\"mattmdjaga/segformer_b2_clothes\"`, que corresponde a un procesador de imágenes preentrenado para trabajar con el modelo SegFormer.\n",
        "# Un procesador de imágenes es una herramienta que puede realizar varias transformaciones en las imágenes para prepararlas para el modelo. \n",
        "# En este caso, el procesador ha sido entrenado junto con el modelo y sabe cómo transformar las imágenes de la manera que el modelo espera.\n",
        "# La línea de código crea una instancia del procesador y la asigna a la variable `processoor`.\n",
        "# Esta variable se puede utilizar luego para procesar imágenes antes de pasarlas al modelo para la inferencia.\n",
        "# Creamos un objeto de la clase SegformerImageProcessor para procesar la imagen\n",
        "processoor = SegformerImageProcessor.from_pretrained(\"mattmdjaga/segformer_b2_clothes\")\n",
        "\n",
        "# Esta línea de código en Python está utilizando la biblioteca `transformers` de Hugging Face para cargar un modelo preentrenado para la tarea de segmentación semántica.\n",
        "# El método `from_pretrained` se utiliza para cargar un modelo preentrenado desde el repositorio de modelos de Hugging Face. \n",
        "# El argumento que se pasa a `from_pretrained` es el identificador del modelo en el repositorio de modelos. \n",
        "# En este caso, el identificador es `\"mattmdjaga/segformer_b2_clothes\"`, que corresponde a un modelo SegFormer preentrenado para la tarea de segmentación de ropa.\n",
        "# La segmentación semántica es una tarea de visión por computadora que implica clasificar cada píxel en una imagen en una de varias clases. \n",
        "# En este caso, el modelo que se está cargando ha sido entrenado para la tarea de segmentación de ropa, lo que significa que puede clasificar los píxeles de una imagen en varias categorías de ropa.\n",
        "# La línea de código crea una instancia del modelo y la asigna a la variable `model`. \n",
        "# Esta variable se puede utilizar luego para hacer inferencias en nuevas imágenes.\n",
        "# Cargamos el modelo preentrenado\n",
        "model = AutoModelForSemanticSegmentation.from_pretrained(\"mattmdjaga/segformer_b2_clothes\")\n"
      ]
    },
    {
      "cell_type": "code",
      "execution_count": null,
      "metadata": {},
      "outputs": [],
      "source": [
        "# La diferencia entre librería y módulo es que una librería es un conjunto de módulos y un módulo es un archivo que contiene código de Python.\n",
        "\n",
        "# La librería PIL (Python Imaging Library) → librería gratuita que permite la edición de imágenes directamente desde Python\n",
        "# Soporta una variedad de formatos, incluyendo los más utilizados como GIF, JPEG y PNG1. Una gran parte del código está escrito en C, para mejorar el rendimiento\n",
        "# PIL = librería que utilizaremos para el manejo de imágenes \n",
        "# Imagen = Se utiliza para abrir, manipular y guardar muchos tipos de archivos de imagen diferentes.\n",
        "from PIL import Image\n",
        "\n",
        "# La librería requests → Es una librería de Python que permite enviar solicitudes HTTP/1.1.\n",
        "# Se usa para enviar solicitudes a través de la red y obtener respuestas.\n",
        "import requests\n",
        "\n",
        "# matplotlib → Es una biblioteca para la generación de gráficos a partir de datos contenidos en listas \n",
        "# o arrays en el lenguaje de programación Python y su extensión matemática NumPy.\n",
        "# pyplot → Es un módulo de matplotlib que proporciona una forma de graficar datos de forma rápida y sencilla.\n",
        "# plt → Es una abreviatura de matplotlib.pyplot\n",
        "import matplotlib.pyplot as plt\n",
        "\n",
        "# Torch es la librería que utilizaremos para el entrenamiento de la red neuronal se utiliza para el manejo de tensores\n",
        "# nn → Es un módulo que contiene los bloques de construcción para crear y entrenar redes neuronales.\n",
        "import torch.nn as nn\n",
        "\n",
        "# Definimos la url de la imagen que vamos a procesar\n",
        "url = \"https://www.chio-lecca.edu.pe/cdn/shop/articles/chio-lecca-blog-estilo-y-moda.jpg?v=1673918894&width=1512\"\n",
        "\n",
        "# Vamos a construir esta imagen a partir de la url\n",
        "# con la libreria requests vamos a hacer una petición a la url y con la libreria PIL vamos a construir la imagen\n",
        "# Esta línea de código en Python está utilizando la biblioteca PIL (Pillow) para abrir una imagen desde una URL.\n",
        "# Primero, utiliza la biblioteca requests para hacer una solicitud GET a la URL proporcionada. \n",
        "# El argumento stream=True en la función get significa que la respuesta se descargará como un flujo de bytes, \n",
        "# lo cual es útil cuando estás trabajando con archivos grandes que no quieres cargar completamente en la memoria.\n",
        "# El atributo .raw de la respuesta de la solicitud es un objeto de archivo sin procesar que puedes pasar a Image.open. \n",
        "# Esta función de la biblioteca PIL se utiliza para abrir una imagen y devolverla como un objeto de imagen de PIL.\n",
        "# El resultado es que la imagen en la URL proporcionada se descarga y se abre como un objeto de imagen de PIL, \n",
        "# que luego se puede utilizar para varias tareas de procesamiento de imágenes. \n",
        "# La imagen abierta se asigna a la variable image.\n",
        "image = Image.open(requests.get(url, stream=True).raw)\n",
        "\n",
        "# Definimos la entrada de la imagen de processoor que definimos anteriormente para procesar la imagen\n",
        "# Esta línea de código en Python está utilizando el procesador de imágenes que se cargó anteriormente para procesar una imagen.\n",
        "input  = processoor(images=image, return_tensors=\"pt\")\n",
        "\n",
        "# La salida será la de aplicar el modelo a la imagen que procesamos mediante una inferencia a la entrada de la imagen eso se hace desde el modelo\n",
        "# Esta línea de código en Python está utilizando el modelo cargado previamente para realizar una inferencia en los datos de entrada.\n",
        "# El operador `**` en Python se utiliza para desempaquetar un diccionario en argumentos de palabras clave. En este caso, `input` es un diccionario que contiene los datos de entrada que se pasarán al modelo. Las claves del diccionario son los nombres de los argumentos que el modelo espera, y los valores son los datos correspondientes.\n",
        "# La función `model` es una llamada al modelo que hemos cargado previamente (por ejemplo, un modelo de segmentación semántica). Esta función toma los datos de entrada y devuelve las salidas del modelo. En el caso de un modelo de segmentación semántica, las salidas serían las clasificaciones de los píxeles de la imagen de entrada.\n",
        "# El resultado de la función `model` se asigna a la variable `outputs`. Esta variable contendrá las salidas del modelo, que luego se pueden utilizar para diversas tareas, como visualizar la segmentación de la imagen o calcular métricas de rendimiento del modelo.\n",
        "outputs = model(**input)\n",
        "\n",
        "# logits = Es la salida del modelo antes de aplicar la función de activación se utiliza para calcular la pérdida y las métricas de rendimiento del modelo y para generar las predicciones.\n",
        "# La salida de la imagen se va a visualizar\n",
        "logits = outputs.logits.cpu()\n",
        "\n",
        "# Ahora vamos a hacer un preprocesamiento de la imagen para que sea compatible con el modelo que tenemos entrenado\n",
        "\n",
        "# upsampled_logits = nn.functional.interpolate(logits, size=image.size, mode=\"bicubic\", align_corners=False)\n",
        "\n",
        "# Esta línea de código en Python está utilizando la biblioteca PyTorch para realizar una interpolación en los logits de salida del modelo.\n",
        "# Esta línea de código en Python está utilizando la función interpolate del módulo nn.functional de PyTorch para redimensionar la imagen de salida del modelo (denotada aquí como logits).\n",
        "# La función interpolate se utiliza para cambiar el tamaño de una imagen (o, más generalmente, de un tensor). \n",
        "# En este caso, se está utilizando para cambiar el tamaño de la imagen de salida del modelo para que coincida con el tamaño de la imagen original.\n",
        "# Los argumentos de la función son los siguientes:\n",
        "# logits → Este es el tensor de entrada que se va a redimensionar. En este caso, es la imagen de salida del modelo.\n",
        "# size → Este es el tamaño deseado de la imagen de salida. Aquí, se está utilizando el tamaño de la imagen original, que se obtiene con image.size[::1]. \n",
        "# El operador de segmentación ::1 se utiliza para invertir el orden de las dimensiones, ya que PyTorch espera las dimensiones en el orden (altura, anchura), mientras que las imágenes de PIL las proporcionan en el orden (anchura, altura).\n",
        "# mode → Este es el algoritmo que se utilizará para el redimensionamiento. \n",
        "# En este caso, se está utilizando el algoritmo \"bilinear\", que es un método de interpolación bilineal.\n",
        "# align_corners → Este argumento determina cómo se alinean los bordes de la imagen de entrada y de salida durante la interpolación. \n",
        "# Si es False, los bordes de la imagen de salida se alinean con los píxeles centrales de la imagen de entrada. \n",
        "# Si es True, los bordes de la imagen de salida se alinean con los bordes de la imagen de entrada.\n",
        "# El resultado de la función interpolate se asigna a la variable upsampled_logits. \n",
        "# Esta variable contiene la imagen de salida del modelo redimensionada para que coincida con el tamaño de la imagen original.\n",
        "upsampled_logits = nn.funcional.interpolate(logits, \n",
        "                                            size=image.size[::1], \n",
        "                                            mode=\"bilinear\", \n",
        "                                            align_corners=False\n",
        "                                            )\n",
        "\n",
        "# Esta línea de código en Python está utilizando la biblioteca PyTorch para realizar una interpolación en los logits de salida del modelo el cual calcula la probabilidad de que un píxel pertenezca a cada de las clases.\n",
        "# Cuando hacemos argmax en la dimensión 1 estamos obteniendo la clase con mayor probabilidad para cada píxel.\n",
        "pred_seg = upsampled_logits.argmax(dim=1)[0]\n",
        "# Visualizamos la imagen procesada mediante plt.imshow el cual muestra el resultado de la segmentación semántica\n",
        "plt.imshow(pred_seg)"
      ]
    }
  ],
  "metadata": {
    "colab": {
      "provenance": []
    },
    "kernelspec": {
      "display_name": "Python 3",
      "name": "python3"
    },
    "language_info": {
      "codemirror_mode": {
        "name": "ipython",
        "version": 3
      },
      "file_extension": ".py",
      "mimetype": "text/x-python",
      "name": "python",
      "nbconvert_exporter": "python",
      "pygments_lexer": "ipython3",
      "version": "3.11.8"
    }
  },
  "nbformat": 4,
  "nbformat_minor": 0
}
