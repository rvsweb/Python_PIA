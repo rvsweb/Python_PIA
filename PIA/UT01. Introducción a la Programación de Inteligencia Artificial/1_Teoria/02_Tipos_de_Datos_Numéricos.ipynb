{
  "nbformat": 4,
  "nbformat_minor": 0,
  "metadata": {
    "colab": {
      "provenance": []
    },
    "kernelspec": {
      "name": "python3",
      "display_name": "Python 3"
    },
    "language_info": {
      "name": "python"
    }
  },
  "cells": [
    {
      "cell_type": "markdown",
      "source": [
        "## Tipos de Datos Numéricos\n",
        "\n",
        "### Pueden ser\n",
        "\n",
        "* Tipos númericos\n",
        "    * Tipo entero (int)\n",
        "    * Tipo real (float)\n",
        "\n",
        "### Operadores\n",
        "\n",
        "* Operadores aritméticos:\n",
        "    * Suma y unario positivo +\n",
        "    * Resta y unario negativo -\n",
        "    * Multiplicación *\n",
        "    * División /\n",
        "    * División Entera //\n",
        "    * Módulo % (resto de la división)\n",
        "    * Potencia **\n",
        "\n",
        "### Funciones interesantes\n",
        "\n",
        "* **abs (valor absoluto)**\n",
        "* **divmod(dividendo, divisor)** => devuelve cociente y resto de la operación\n",
        "* **hex(valor)** => convierte un número decimal a hexadecimal\n",
        "* **pow(base, exponente)**\n",
        "* **round(valor_real, nro_decimales)** => redondea el valor real con el número de decimales indicado"
      ],
      "metadata": {
        "id": "PaQOPX2RDbKx"
      }
    },
    {
      "cell_type": "code",
      "source": [
        "print(abs(-250))\n",
        "\n",
        "print(divmod(100,23))\n",
        "\n",
        "print(hex(16))\n",
        "\n",
        "print(pow(2, 10))\n",
        "\n",
        "print(round(1256.5698, 2))\n"
      ],
      "metadata": {
        "colab": {
          "base_uri": "https://localhost:8080/"
        },
        "id": "yB5Sf_jf8RV-",
        "outputId": "fef1433d-e278-4c1d-dbff-dd86fac1f180"
      },
      "execution_count": null,
      "outputs": [
        {
          "output_type": "stream",
          "name": "stdout",
          "text": [
            "250\n",
            "(4, 8)\n",
            "0x10\n",
            "1024\n",
            "1256.57\n"
          ]
        }
      ]
    },
    {
      "cell_type": "markdown",
      "source": [
        "Con la función **int(valor)** podemos convertir un valor a entero, vamoslo con dos ejemplos:"
      ],
      "metadata": {
        "id": "8swChfs64t4n"
      }
    },
    {
      "cell_type": "code",
      "source": [
        "a = 23.78\n",
        "\n",
        "print(int(a))\n",
        "\n",
        "text_number = \"1263\"\n",
        "\n",
        "print(int(text_number))"
      ],
      "metadata": {
        "colab": {
          "base_uri": "https://localhost:8080/"
        },
        "id": "OFNEpPdU44Q8",
        "outputId": "5379518d-add5-4a24-8640-98b254372824"
      },
      "execution_count": null,
      "outputs": [
        {
          "output_type": "stream",
          "name": "stdout",
          "text": [
            "23\n",
            "1263\n"
          ]
        }
      ]
    },
    {
      "cell_type": "markdown",
      "source": [
        "Para el cálculo de otras funciones requiere la importación de paquetes que ya las implementan, por ejemplo:\n",
        "\n",
        "Para calcular la **raíz cuadrada** usaremos la función **sqrt** que se encuentra dentro del paquete **math**"
      ],
      "metadata": {
        "id": "9H9Gwzui5Hmh"
      }
    },
    {
      "cell_type": "code",
      "source": [
        "from math import sqrt as raiz\n",
        "\n",
        "a = 9\n",
        "\n",
        "print(raiz(a))"
      ],
      "metadata": {
        "colab": {
          "base_uri": "https://localhost:8080/"
        },
        "id": "FKgrlLOO5Yd7",
        "outputId": "8525253f-25bb-480f-e809-c090f87a73e5"
      },
      "execution_count": null,
      "outputs": [
        {
          "output_type": "stream",
          "name": "stdout",
          "text": [
            "3.0\n"
          ]
        }
      ]
    }
  ]
}