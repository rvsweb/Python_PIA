{
  "cells": [
    {
      "cell_type": "markdown",
      "metadata": {
        "id": "W9Gdw-6MCll2"
      },
      "source": [
        "La estructura **for** nos permite recorrer **los elementos de una secuencia (lista, tupla, cadena de caracteres,…)**.\n",
        "\n",
        "Sin embargo de momento vamos a aprender a usar for de forma similar a la instrucción **Para de pseudocódigo**, es decir, ejecutar una secuencia de instrucciones **un número determinado de veces**, desde un valor inicial, hasta un valor final y con un posible incremento.\n",
        "\n",
        "Para ello vamos a usar el tipo de datos **range** que nos permite generar listas de números.\n",
        "\n",
        "Vamos a usar for para crear bucles de instrucciones donde sabemos a priori el número de iteraciones que hay que realizar.\n",
        "\n",
        "\n",
        "## Ejemplos\n",
        "\n",
        "### Ejemplo 1\n",
        "\n",
        "Escribir en pantalla del 1 al 10.\n",
        "\n",
        "En pseudocódigo:\n",
        "\n",
        "\n",
        "```\n",
        "Proceso Contar\n",
        "    Definir var como Entero;\n",
        "    Para var<-1 Hasta 10 Hacer\n",
        "        Escribir Sin Saltar var,\" \";\n",
        "    FinPara\n",
        "FinProceso\n",
        "```\n",
        "\n",
        "En Python3:\n",
        "\n"
      ]
    },
    {
      "cell_type": "code",
      "execution_count": null,
      "metadata": {
        "id": "BqQDuQxXChOf"
      },
      "outputs": [],
      "source": [
        "for var in range(1,11):\n",
        "    print(var,\" \",end=\"\")"
      ]
    },
    {
      "cell_type": "markdown",
      "metadata": {
        "id": "jeG5Y8-GDmkf"
      },
      "source": [
        "### Ejemplo 2\n",
        "\n",
        "Escribir en pantalla del 10 al 1\n",
        "\n",
        "En pseudocódigo:\n",
        "\n",
        "\n",
        "\n",
        "```\n",
        "Proceso ContarDescesdente\n",
        "    Definir var como Entero;\n",
        "    Para var<-10 Hasta 1 Con Paso -1 Hacer\n",
        "        Escribir Sin Saltar var,\" \";\n",
        "    FinPara\n",
        "FinProceso\n",
        "```\n",
        "\n",
        "En Python3:\n"
      ]
    },
    {
      "cell_type": "code",
      "execution_count": null,
      "metadata": {
        "id": "mW1j36y5FhaS"
      },
      "outputs": [],
      "source": [
        "for var in range(10,0,-1):\n",
        "    print(var,\" \",end=\"\")"
      ]
    },
    {
      "cell_type": "markdown",
      "metadata": {
        "id": "vH8t9bt0FfnW"
      },
      "source": [
        "\n",
        "### Ejemplo 3\n",
        "\n",
        "Escribir los número pares desde el 2 al 10.\n",
        "\n",
        "En pseudocódigo:\n",
        "\n",
        "\n",
        "```\n",
        "Proceso ContarPares\n",
        "    Definir var como Entero;\n",
        "    Para var<-2 Hasta 10 Con Paso 2 Hacer\n",
        "        Escribir Sin Saltar var,\" \";\n",
        "    FinPara\n",
        "FinProceso\n",
        "```\n",
        "\n",
        "En Python3:\n",
        "\n"
      ]
    },
    {
      "cell_type": "code",
      "execution_count": null,
      "metadata": {
        "id": "oQoRoX5RFxNz"
      },
      "outputs": [],
      "source": [
        "for var in range(2,11,2):\n",
        "    print(var,\" \",end=\"\")"
      ]
    }
  ],
  "metadata": {
    "colab": {
      "provenance": []
    },
    "kernelspec": {
      "display_name": "Python 3",
      "name": "python3"
    },
    "language_info": {
      "name": "python"
    }
  },
  "nbformat": 4,
  "nbformat_minor": 0
}
