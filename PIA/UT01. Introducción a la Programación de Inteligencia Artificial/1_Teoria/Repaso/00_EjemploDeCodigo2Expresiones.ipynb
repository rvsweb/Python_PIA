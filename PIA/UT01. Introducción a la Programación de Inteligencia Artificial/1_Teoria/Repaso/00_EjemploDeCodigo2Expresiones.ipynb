{
  "cells": [
    {
      "cell_type": "markdown",
      "metadata": {
        "id": "X2Q3sYvlbzpm"
      },
      "source": [
        "## EJEMPLOS DE CODIGO"
      ]
    },
    {
      "cell_type": "code",
      "execution_count": null,
      "metadata": {
        "colab": {
          "base_uri": "https://localhost:8080/"
        },
        "id": "90Pbp_fZb4im",
        "outputId": "5310e6ce-a30f-4da1-a71c-c3afdc693114"
      },
      "outputs": [],
      "source": [
        "# Expresiones\n",
        "a  = 5 # Asignacion\n",
        "b = 10 # Asignacion\n",
        "c = a + b # Suma\n",
        "print(c)\n",
        "c = a - b # Resta\n",
        "print(c)\n",
        "a * b # Multiplicacion\n",
        "print(a)\n",
        "c = a / b # Division\n",
        "print(c)\n",
        "c = a % b # Modulo\n",
        "print(c)\n",
        "c = a ** b # Potencia\n",
        "print(c)\n",
        "c = a // b # Division entera\n",
        "print(c)\n",
        "c = a == b # Igualdad\n",
        "print(c)\n",
        "c = a != b # Desigualdad    \n",
        "print(c)\n",
        "c = a > b # Mayor que\n",
        "print(c)\n",
        "c = a < b # Menor que  \n",
        "print(c)\n",
        "c = a >= b # Mayor o igual que\n",
        "print(c)\n",
        "c = a <= b # Menor o igual que  \n",
        "print(c)\n",
        "c = a and b # Conjuncion\n",
        "print(c)\n",
        "c = a or b # Disyuncion - Separacion\n",
        "print(c)\n",
        "c = not a # Negacion\n",
        "print(c)\n",
        "c = a is b # Identidad\n",
        "print(c)\n",
        "c = a is not b # No identidad\n",
        "print(c)\n"
      ]
    }
  ],
  "metadata": {
    "colab": {
      "provenance": []
    },
    "kernelspec": {
      "display_name": "Python 3",
      "name": "python3"
    },
    "language_info": {
      "codemirror_mode": {
        "name": "ipython",
        "version": 3
      },
      "file_extension": ".py",
      "mimetype": "text/x-python",
      "name": "python",
      "nbconvert_exporter": "python",
      "pygments_lexer": "ipython3",
      "version": "3.11.7"
    }
  },
  "nbformat": 4,
  "nbformat_minor": 0
}
