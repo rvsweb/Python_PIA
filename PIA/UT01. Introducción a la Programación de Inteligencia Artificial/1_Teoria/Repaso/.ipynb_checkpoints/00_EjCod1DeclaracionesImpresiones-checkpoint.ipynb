{
  "cells": [
    {
      "cell_type": "markdown",
      "metadata": {
        "id": "X2Q3sYvlbzpm"
      },
      "source": [
        "# EJEMPLOS DE CODIGO"
      ]
    },
    {
      "cell_type": "code",
      "execution_count": null,
      "metadata": {
        "colab": {
          "base_uri": "https://localhost:8080/"
        },
        "id": "90Pbp_fZb4im",
        "outputId": "5310e6ce-a30f-4da1-a71c-c3afdc693114"
      },
      "outputs": [],
      "source": [
        "# Declaraciones \n",
        "my_var = 5\n",
        "print(\"Variable : \" , my_var)\n",
        "entero = -23\n",
        "print(\"Entero : \" , entero)\n",
        "reales = 12.3 \n",
        "print(\"Reales : \" , reales)\n",
        "booleano = True\n",
        "print(\"Boleano : \" , booleano)\n",
        "literales = 'Hola'\n",
        "print(\"Literal 1 : \",literales)\n",
        "literales2 = \"Hola\"\n",
        "print(\"Literal 2 : \",literales2)\n",
        "literales3 = \"\"\"Hola\"\"\"\n",
        "print(\"Literal 3 : \",literales3)\n",
        "literales4 = '''Hola'''\n",
        "print(\"Literal 4 : \",literales4)\n",
        "literales5 = \"\"\"Salto de linea \\n para cambiar de linea\"\"\"\n",
        "print(literales5)"
      ]
    },
    {
      "cell_type": "markdown",
      "metadata": {},
      "source": [
        "## Salidas por consola"
      ]
    },
    {
      "cell_type": "code",
      "execution_count": null,
      "metadata": {},
      "outputs": [],
      "source": [
        "# Imprimir cadena de texto\n",
        "print(\"Hola , mundo!\")\n",
        "\n",
        "# Imprimir variables\n",
        "nombre = \"Juan\"\n",
        "edad = 25\n",
        "print(\"Nombre: \" , nombre , \"Edad : \" , edad)\n",
        "\n",
        "# Imprimir resultados de operaciones\n",
        "a = 3 \n",
        "b = 5\n",
        "suma = a + b\n",
        "print(\"La suma de : \"  , a , \" y \" , b , \" es: \"  , suma)\n",
        "\n",
        "# Formateo de cadenas con el metodo '.format()'\n",
        "nombre = \"Ana\"\n",
        "edad = 30\n",
        "print(\"Nombre: {} , Edad: {} \".format(nombre,edad))\n",
        "\n",
        "pais = \"España\"\n",
        "poblacion = 48000000\n",
        "print(\"Pais: {} , Poblacion: {} \".format(pais,poblacion))\n",
        "\n",
        "# Formateo de cadenas con 'f'\n",
        "nombre = \"Maria\" \n",
        "edad = 22\n",
        "print(f\"Nombre: {nombre} , edad: {edad}\")\n",
        "\n",
        "nom1 = \"Black\"\n",
        "nom2 = \"Metal\"\n",
        "print(f\"Estilo: {nom1} {nom2}\") \n",
        "\n",
        "# Salto de linea\n",
        "print(\"Linea 1\\nLinea 2\\nLinea 3\")\n",
        "\n",
        "# Tabular texto\n",
        "print(\"\"\"\n",
        "      Formateo de texto\n",
        "      \"\"\")\n",
        "\n",
        "# Uso de argumentos en la función print:\n",
        "# sep = SEPARADOR\n",
        "# end = FINAL DE LA IMPRESION\n",
        "print(\"Hola\" , \"Mundo\" , sep=\"<>\")\n",
        "print(\"Hola\" , \"Mundo\" , sep=\"<>\" , end=\"!!!\\n\")\n",
        "print(\"Hola\" , \"Mundo\" , sep=\"||\" , end=\"|\\n\")\n",
        "# Array\n",
        "numeros = [1 , 2 ,3 , 4 , 5]\n",
        "print(\"Salida normal array: \" , numeros)\n",
        "print(\"Salida formateada: \")\n",
        "print(*numeros, sep=\", \")\n",
        "print(*numeros, sep=\" <-> \")\n",
        "print(*numeros, end=\" <-- \")"
      ]
    }
  ],
  "metadata": {
    "colab": {
      "provenance": []
    },
    "kernelspec": {
      "display_name": "Python 3",
      "name": "python3"
    },
    "language_info": {
      "codemirror_mode": {
        "name": "ipython",
        "version": 3
      },
      "file_extension": ".py",
      "mimetype": "text/x-python",
      "name": "python",
      "nbconvert_exporter": "python",
      "pygments_lexer": "ipython3",
      "version": "3.11.7"
    }
  },
  "nbformat": 4,
  "nbformat_minor": 0
}
