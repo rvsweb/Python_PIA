{
 "cells": [
  {
   "cell_type": "markdown",
   "metadata": {
    "id": "X2Q3sYvlbzpm"
   },
   "source": [
    "# EJEMPLOS DE CODIGO"
   ]
  },
  {
   "cell_type": "markdown",
   "metadata": {},
   "source": [
    "## Declaraciones & Asignaciones"
   ]
  },
  {
   "cell_type": "code",
   "execution_count": 2,
   "metadata": {
    "ExecuteTime": {
     "end_time": "2024-01-27T23:32:05.557948800Z",
     "start_time": "2024-01-27T23:32:05.505135500Z"
    }
   },
   "outputs": [
    {
     "name": "stdout",
     "output_type": "stream",
     "text": [
      "5\n",
      "-23\n",
      "12.3\n",
      "True\n",
      "Hola\n",
      "Hola\n",
      "Hola\n",
      "Hola\n",
      "Salto de linea \n",
      "para cambiar de linea\n"
     ]
    }
   ],
   "source": [
    "my_var = 5\n",
    "print(my_var)\n",
    "entero = -23\n",
    "print(entero)\n",
    "reales = 12.3\n",
    "print(reales)\n",
    "booleano = True\n",
    "print(booleano)\n",
    "literales = 'Hola'\n",
    "print(literales)\n",
    "literales2 = \"Hola\"\n",
    "print(literales2)\n",
    "literales3 = \"\"\"Hola\"\"\"\n",
    "print(literales3)\n",
    "literales4 = '''Hola'''\n",
    "print(literales4)\n",
    "literales5 = \"\"\"Salto de linea \\npara cambiar de linea\"\"\"\n",
    "print(literales5)"
   ]
  },
  {
   "cell_type": "markdown",
   "metadata": {},
   "source": [
    "## Operadores"
   ]
  },
  {
   "cell_type": "code",
   "execution_count": null,
   "metadata": {},
   "outputs": [],
   "source": [
    "a = 5  # Asignacion\n",
    "b = 10  # Asignacion\n",
    "\n",
    "# Expresiones\n",
    "c = a + b  # Suma\n",
    "print(\"Suma: \",c)\n",
    "c = a - b  # Resta\n",
    "print(\"Resta: \", c)\n",
    "c = a * b  # Multiplicacion\n",
    "print(\"Multiplicación: \",c)\n",
    "c = a / b  # Division\n",
    "print(\"Division: \",c)\n",
    "c = a % b  # Modulo\n",
    "print(\"Modulo: \",c)\n",
    "c = a ** b  # Potencia\n",
    "print(\"Potencia: \",c)\n",
    "c = a // b  # Division entera\n",
    "print(\"Division entera: \" ,c)\n",
    "c = a == b  # Igualdad\n",
    "print(\"Igualdad: \",c)\n",
    "c = a != b  # Desigualdad\n",
    "print(\"Desigualdad: \",c)\n",
    "c = a < b  # Menor que\n",
    "print(\"Mayor que : \",c)\n",
    "c = a >= b  # Mayor o igual que\n",
    "print(\"Mayor igual que : \",c)\n",
    "c = a <= b  # Menor o igual que\n",
    "print(\"Menor igual que : \",c)\n",
    "\n",
    "c = a and b  # Conjuncion\n",
    "print(\"Conjuncion: \", c)\n",
    "c = a or b  # Disyuncion - Separacion\n",
    "print(\"Disyuncion - Separacion: \", c)\n",
    "c = not a  # Negacion\n",
    "print(\"Negacion: \", c)\n",
    "c = a is b  # Identidad\n",
    "print(\"Identidad: \",c)\n",
    "c = a is not b  # No identidad\n",
    "print(\"No Identidad: \", c)\n",
    "\n",
    "a = 5  # variable\n",
    "c = 8  # variable\n",
    "b = [1, 2, 3, 4, 5]  # Lista\n",
    "print(\"Lista: \", a in b , \" - \", *b)  # Pertenece\n",
    "print(\"Lista: \", c not in b , \" - \", *b)  # No pertenece"
   ]
  },
  {
   "cell_type": "markdown",
   "metadata": {},
   "source": [
    "## Operaciones Aritmeticas"
   ]
  },
  {
   "cell_type": "code",
   "execution_count": null,
   "metadata": {
    "is_executing": true
   },
   "outputs": [],
   "source": [
    "a = 5\n",
    "b = 10\n",
    "\n",
    "a += b  # Suma en asignacion\n",
    "print(\"Suma en asignacion: \",a)\n",
    "a -= b  # Resta en asignacion\n",
    "print(\"Resta en asignacion: \",a)\n",
    "a *= b  # Multiplicacion en asignacion\n",
    "print(\"Multiplicación en asignacion: \",a)\n",
    "a /= b  # Division en asignacion\n",
    "print(\"Division en asignacion\",a)\n",
    "a %= b  # Modulo en asignacion\n",
    "print(\"Modulo en asignacion\",a)\n",
    "a **= b  # Potencia en asignacion\n",
    "print(\"Potencia en asignacion\",a)\n",
    "a //= b  # Division entera en asignacion\n",
    "print(\"Division entera en asignacion\",a)"
   ]
  },
  {
   "cell_type": "code",
   "execution_count": null,
   "metadata": {},
   "outputs": [],
   "source": [
    "a = 3\n",
    "b = 1\n",
    "c = 4\n",
    "\n",
    "#   Expresiones\n",
    "#   ____↓_____\n",
    "c = a + b * c  # Operaciones aritmeticas basicas de operadores\n",
    "print(\"Operaciones aritmeticas basicas de operadores: \", c)\n",
    "c = (a + b) * c  # Operaciones aritmeticas basicas de operadores\n",
    "print(\"Operaciones aritmeticas basicas de operadores: \", c)\n",
    "c = a + (b * c)  # Operaciones aritmeticas basicas de operadores\n",
    "print(\"Operaciones aritmeticas basicas de operadores: \", c)\n",
    "c = a + b / c  # Operaciones aritmeticas basicas de operadores\n",
    "print(\"Operaciones aritmeticas basicas de operadores: \", c)\n",
    "c = (a + b) / c  # Operaciones aritmeticas basicas de operadores\n",
    "print(\"Operaciones aritmeticas basicas de operadores: \", c)\n",
    "c = a + (b / c)  # Operaciones aritmeticas basicas de operadores\n",
    "print(\"Operaciones aritmeticas basicas de operadores: \", c)\n",
    "c = a + b % c  # Operaciones aritmeticas basicas de operadores\n",
    "print(\"Operaciones aritmeticas basicas de operadores: \", c)\n",
    "c = (a + b) % c  # Operaciones aritmeticas basicas de operadores\n",
    "print(\"Operaciones aritmeticas basicas de operadores: \", c)\n",
    "c = a + b ** c  # Operaciones aritmeticas basicas de operadores\n",
    "print(\"Operaciones aritmeticas basicas de operadores: \", c)\n",
    "c = (a + b) ** c  # Operaciones aritmeticas basicas de operadores\n",
    "print(\"Operaciones aritmeticas basicas de operadores: \", c)\n",
    "c = ((a + b) ** c)  # Operaciones aritmeticas basicas de operadores\n",
    "print(\"Operaciones aritmeticas basicas de operadores: \", c)\n",
    "c = a + (b ** c)  # Operaciones aritmeticas basicas de operadores\n",
    "print(\"Operaciones aritmeticas basicas de operadores: \", c)"
   ]
  },
  {
   "cell_type": "markdown",
   "metadata": {},
   "source": [
    "## Operaciones Booleanas\n"
   ]
  },
  {
   "cell_type": "code",
   "execution_count": null,
   "metadata": {},
   "outputs": [],
   "source": [
    "# Operador Boleanas\n",
    "# True = valor de : 1\n",
    "# False = valor de : 0\n",
    "a = True\n",
    "b = False\n",
    "c = True\n",
    "\n",
    "c = a == b == c  # Comparacion de igualdad\n",
    "print(\"Comparacion de c : \", c)\n",
    "\n",
    "c = a < b < c  # Comparacion de menor que\n",
    "print(\"Comparacion de c : \", c)\n",
    "\n",
    "c = a <= b <= c  # Comparacion de menor o igual que\n",
    "print(\"Comparacion de c : \", c)\n",
    "\n",
    "# Se aplica una especie de 'AND'\n",
    "c = a > b > c  # Comparacion de mayor que\n",
    "\n",
    "# Python las interpreta como (a > b) and (b > c)\n",
    "print(\"1º Comparacion de c : \", c)\n",
    "c = (a > b) and (b > c)  # Comparacion de mayor que\n",
    "print(\"2º Comparacion de c : \", c)\n",
    "\n",
    "# Cuando se encadenan comparaciones con >= o <=\n",
    "# Sólo necesita que una de las comparaciones \n",
    "# sea True para que toda la comparación sea True.\n",
    "# Se aplica una especie de 'AND'\n",
    "c = a >= b >= c  # Comparacion de mayor o igual que\n",
    "print(\"Comparacion de c = a >= b >= c  : \", c)\n",
    "\n",
    "c = (a >= b) and (b >= c)  # Comparacion de mayor o igual que\n",
    "print(\"Comparacion de c = a >= b >= c  : \", c)\n",
    "\n",
    "c = a is b is c  # Comparacion de identidad\n",
    "print(\"Comparacion de c : \", c)\n",
    "\n",
    "c = a is not b is not c  # Comparacion de no identidad\n",
    "print(\"Comparacion de c : \", c)"
   ]
  },
  {
   "cell_type": "code",
   "execution_count": null,
   "metadata": {},
   "outputs": [],
   "source": [
    "# Operaciones Booleanas\n",
    "a = True\n",
    "b = False\n",
    "print(a)\n",
    "a &= b  # AND en asignacion\n",
    "print(a)\n",
    "a ^= b  # XOR en asignacion\n",
    "print(a)\n",
    "a |= b  # OR en asignacion\n",
    "print(a)\n",
    "a <<= b  # Desplazamiento a la izquierda en asignacion\n",
    "print(a)\n",
    "a <<= b  # Desplazamiento a la izquierda en asignacion\n",
    "print(a)\n",
    "a >>= b  # Desplazamiento a la derecha en asignacion\n",
    "print(a)"
   ]
  },
  {
   "cell_type": "markdown",
   "metadata": {},
   "source": [
    "## Operadores de cadenas"
   ]
  },
  {
   "cell_type": "code",
   "execution_count": null,
   "metadata": {},
   "outputs": [],
   "source": [
    "cadena1 = \"Hola\"\n",
    "cadena2 = \"Mundo\"\n",
    "resultado = cadena1 + \"-\" + cadena2\n",
    "print(resultado)\n",
    "\n",
    "cadena1 = \"Hola \"\n",
    "# Repite el mensaje 3 veces\n",
    "resultado =  cadena1 * 3\n",
    "print(resultado)\n",
    "\n",
    "print(cadena1[0],cadena2[0])\n",
    "print(cadena1[0:2],cadena1[0:2])\n",
    "\n",
    "print(cadena1.upper())\n",
    "\n",
    "print(cadena1.lower())\n",
    "\n",
    "print(cadena1.capitalize())\n",
    "\n",
    "print(cadena1.title())"
   ]
  },
  {
   "cell_type": "markdown",
   "metadata": {},
   "source": [
    "## Operador de pertenencia\n"
   ]
  },
  {
   "cell_type": "code",
   "execution_count": null,
   "metadata": {},
   "outputs": [],
   "source": [
    "# Operadores de bits\n",
    "a = 3\n",
    "b = [1, 2, 3, 4, 5]\n",
    "\n",
    "c = a in b  # Pertenencia - Verificación de un iterable\n",
    "print(f\"Verificación de un iterable: \", c, *b)\n",
    "\n",
    "c = a not in b  # No pertenencia\n",
    "print(f\"Verificación de un iterable: \", c, *b)\n",
    "\n",
    "aa = 4 \n",
    "bb = 6\n",
    "\n",
    "c = aa << bb  # Desplazamiento a la izquierda\n",
    "print(f'Desplazamiento a la izquierda : ', c)\n",
    "c = aa >> bb  # Desplazamiento a la derecha\n",
    "print(f'Desplazamiento a la derecha : ', c)\n",
    "c = aa & bb  # AND\n",
    "print(f'Operador AND  : ', c)\n",
    "c = aa ^ bb  # XOR\n",
    "print('Operador XOR  : {} '.format(c))\n",
    "c = aa | bb  # OR\n",
    "print('Operador OR  : {} '.format(c))"
   ]
  }
 ],
 "metadata": {
  "colab": {
   "provenance": []
  },
  "kernelspec": {
   "name": "python3",
   "language": "python",
   "display_name": "Python 3 (ipykernel)"
  },
  "language_info": {
   "codemirror_mode": {
    "name": "ipython",
    "version": 3
   },
   "file_extension": ".py",
   "mimetype": "text/x-python",
   "name": "python",
   "nbconvert_exporter": "python",
   "pygments_lexer": "ipython3",
   "version": "3.11.7"
  }
 },
 "nbformat": 4,
 "nbformat_minor": 0
}
