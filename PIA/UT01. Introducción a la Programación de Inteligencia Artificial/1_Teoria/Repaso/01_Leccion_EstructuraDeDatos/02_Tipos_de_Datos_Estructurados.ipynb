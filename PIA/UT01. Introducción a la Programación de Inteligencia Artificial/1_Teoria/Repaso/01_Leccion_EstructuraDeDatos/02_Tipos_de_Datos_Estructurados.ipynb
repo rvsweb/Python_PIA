{
  "cells": [
    {
      "cell_type": "markdown",
      "metadata": {},
      "source": [
        "## Tipos de Datos\n",
        "\n",
        "### Estructurados"
      ]
    },
    {
      "cell_type": "markdown",
      "metadata": {},
      "source": [
        "### Array\n",
        "\n",
        "* En Python no existen los ``arrays`` como tales\n",
        "\n",
        "    * Existen versiones"
      ]
    },
    {
      "cell_type": "code",
      "execution_count": 2,
      "metadata": {},
      "outputs": [
        {
          "name": "stdout",
          "output_type": "stream",
          "text": [
            "{1, 2, 3, 4, 5, 6, 7, 8, 9, 10}\n"
          ]
        }
      ],
      "source": [
        "## Esto no es un array al estilo Java , es una 'lista' de Python\n",
        "# array = {1, 2, 3, 4, 5, 6, 7, 8, 9, 10}\n",
        "# print(array)\n",
        "\n",
        "import array as arreglo\n",
        "import numpy as np\n",
        "\n",
        "ar = arreglo.array('i', [1, 2, 3, 4, 5, 6, 7, 8, 9, 10])\n",
        "print(\"Libreria Array\",ar)\n",
        "\n",
        "for i in range(0, len(ar)):\n",
        "    print(ar[i] , end=\" \")\n",
        "\n",
        "print(\"\\n\")\n",
        "\n",
        "ny = np.array([1, 2, 3, 4, 5, 6, 7, 8, 9, 10])\n",
        "print(\"Libreria Numpy\",ny)\n",
        "\n",
        "for i in range(0, len(ny)):\n",
        "    print(ny[i] , end=\" \")\n",
        "    "
      ]
    },
    {
      "cell_type": "markdown",
      "metadata": {},
      "source": [
        "### Listas\n",
        "\n",
        "* Son **MUTABLES**\n",
        "\n",
        "* Colección ordenada y modificable de elementos\n",
        "\n",
        "* Pueden ser de cualquier tipo \n",
        "\n",
        "    * Numeros \n",
        "\n",
        "    * Cadenas\n",
        "\n",
        "    * Otras listas\n",
        "\n",
        "* Pueden agregar , eliminar , cambiar elementos despues de crear la lista creada"
      ]
    },
    {
      "cell_type": "code",
      "execution_count": null,
      "metadata": {},
      "outputs": [],
      "source": [
        "# Lista basica → MUTABLES\n",
        "lista = []\n",
        "\n",
        "lista = [1 ,2 ,3 ,4 ,5 ]\n",
        "\n",
        "# Operadores de pertenencia\n",
        "\n",
        "print('Pertenece a la lista ? ',3 in lista)\n",
        "\n",
        "print('No Pertenece a la lista ? ',3 not in lista)\n",
        "\n",
        "print(\"Pertenece a la lista ? \",6 in lista , *lista)\n",
        "\n",
        "print(\"No Pertenece a la lista ? \",6 not in lista , *lista)\n",
        "\n",
        "lista.append(6)\n",
        "\n",
        "print(\"Pertenece a la lista ? \", 6 in lista , *lista)\n",
        "\n",
        "# Uso de Rebanadas\n",
        "lista[0 : 0] = [11]\n",
        "print(\"Uso de Rebanada : \",lista)\n",
        "\n",
        "lista[0 : 0] = [11,12,13,14,15]\n",
        "print(\"Uso de Rebanada : \",lista)\n",
        "\n",
        "lista[0 : 0] = [16,17,18,19,20]\n",
        "print(\"Uso de Rebanada : \",lista)\n",
        "\n",
        "# Dimensiones\n",
        "\n",
        "lista_1D = [1, 2, 3 , 4, 5, 6, 7, 8, 9, 10]\n",
        "print(\"Lista de 1 dimensión:\", lista_1D , end=\" \")\n",
        "\n",
        "for i in range(len(lista_1D)):\n",
        "    print(lista_1D[i] , end=\"\\n\")\n",
        "\n",
        "# Fijate en el numero de comas que contiene después de cada corchete\n",
        "lista_2D = [[1, 2, 3], \n",
        "            [4, 5, 6], \n",
        "            [7, 8, 9]]\n",
        "print(\"Lista de 2 dimensiones:\", lista_2D)\n",
        "\n",
        "for i in range(len(lista_2D)):\n",
        "    for j in range(len(lista_2D[i])):\n",
        "        print(lista_2D[i][j] , end=\"\\n\")\n",
        "\n",
        "# Fijate en el numero de comas que contiene después de cada corchete\n",
        "lista_3D = [[[1, 2, 3], [4, 5, 6], [7, 8, 9]], \n",
        "            [[10, 11, 12], [13, 14, 15], [16, 17, 18]], \n",
        "            [[19, 20, 21], [22, 23, 24], [25, 26, 27]]]\n",
        "print(\"Lista de 3 dimensiones:\", lista_3D , end=\"\\n\")\n",
        "\n",
        "for i in range(len(lista_3D)):\n",
        "    for j in range(len(lista_3D[i])):\n",
        "        for k in range(len(lista_3D[i][j])):\n",
        "            print(lista_3D[i][j][k] , end=\" \")\n",
        "\n"
      ]
    },
    {
      "cell_type": "markdown",
      "metadata": {},
      "source": []
    },
    {
      "cell_type": "code",
      "execution_count": null,
      "metadata": {},
      "outputs": [],
      "source": []
    }
  ],
  "metadata": {
    "colab": {
      "provenance": []
    },
    "kernelspec": {
      "display_name": "Python 3",
      "name": "python3"
    },
    "language_info": {
      "codemirror_mode": {
        "name": "ipython",
        "version": 3
      },
      "file_extension": ".py",
      "mimetype": "text/x-python",
      "name": "python",
      "nbconvert_exporter": "python",
      "pygments_lexer": "ipython3",
      "version": "3.11.7"
    }
  },
  "nbformat": 4,
  "nbformat_minor": 0
}
