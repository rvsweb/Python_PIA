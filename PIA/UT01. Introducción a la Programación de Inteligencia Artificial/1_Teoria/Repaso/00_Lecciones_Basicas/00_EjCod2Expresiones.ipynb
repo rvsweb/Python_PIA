{
  "cells": [
    {
      "cell_type": "markdown",
      "metadata": {
        "id": "X2Q3sYvlbzpm"
      },
      "source": [
        "# Expresiones"
      ]
    },
    {
      "cell_type": "code",
      "execution_count": null,
      "metadata": {
        "colab": {
          "base_uri": "https://localhost:8080/"
        },
        "id": "90Pbp_fZb4im",
        "outputId": "5310e6ce-a30f-4da1-a71c-c3afdc693114"
      },
      "outputs": [],
      "source": [
        "a  = 5 # Asignacion\n",
        "b = 10 # Asignacion\n",
        "\n",
        "c = a + b # Suma\n",
        "print(\"Valor de Suma : \" , c)\n",
        "\n",
        "c = a - b # Resta\n",
        "print(\"Valor de Resta : \" , c)\n",
        "\n",
        "c = a * b # Multiplicacion\n",
        "print(\"Valor de Multiplicacion : \" , c)\n",
        "\n",
        "c = a / b # Division\n",
        "print(\"Valor de Division : \" , c)\n",
        "\n",
        "c = a % b # Modulo\n",
        "print(\"Valor de Modulo : \" , c)\n",
        "\n",
        "c = a ** b # Potencia\n",
        "print(\"Valor de Potencia : \" , c)\n",
        "\n",
        "c = a // b # Division entera\n",
        "print(\"Valor Division entera : \" , c)\n",
        "\n",
        "c = a == b # Igualdad\n",
        "print(\"Valor Igualdad : \" , c)\n",
        "\n",
        "c = a != b # Desigualdad    \n",
        "print(\"Valor DesIgualdad : \" , c)\n",
        "\n",
        "c = a > b # Mayor que\n",
        "print(\"Valor Mayor que : \" , c)\n",
        "\n",
        "c = a < b # Menor que  \n",
        "print(\"Valor Menor que : \" , c)\n",
        "\n",
        "c = a >= b # Mayor o igual que\n",
        "print(\"Valor Mayor o igual que : \" , c)\n",
        "\n",
        "c = a <= b # Menor o igual que  \n",
        "print(\"Valor Menor o igual que : \" , c)\n",
        "\n",
        "# Booleanos\n",
        "a = True\n",
        "b = False\n",
        "\n",
        "c = a and b # Conjuncion\n",
        "print(\"a and b : \", c)\n",
        "\n",
        "c = a or b # Disyuncion - Separacion\n",
        "print(\"a or b : \" , c)\n",
        "\n",
        "c = not a # Negacion\n",
        "print(\"not a : \", c)\n",
        "\n",
        "c = not b # Negacion\n",
        "print(\"not b : \", c)\n",
        "\n",
        "c = a is b # Identidad\n",
        "print(\"a is b : \", c)\n",
        "\n",
        "c = b is a # Identidad\n",
        "print(\"b is a : \", c)\n",
        "\n",
        "c = a is not b # No identidad\n",
        "print(\"a is not b : \",c)\n",
        "\n",
        "c = b is not c # No identidad\n",
        "print(\"b is not c : \",c)\n"
      ]
    }
  ],
  "metadata": {
    "colab": {
      "provenance": []
    },
    "kernelspec": {
      "display_name": "Python 3",
      "name": "python3"
    },
    "language_info": {
      "codemirror_mode": {
        "name": "ipython",
        "version": 3
      },
      "file_extension": ".py",
      "mimetype": "text/x-python",
      "name": "python",
      "nbconvert_exporter": "python",
      "pygments_lexer": "ipython3",
      "version": "3.11.7"
    }
  },
  "nbformat": 4,
  "nbformat_minor": 0
}
