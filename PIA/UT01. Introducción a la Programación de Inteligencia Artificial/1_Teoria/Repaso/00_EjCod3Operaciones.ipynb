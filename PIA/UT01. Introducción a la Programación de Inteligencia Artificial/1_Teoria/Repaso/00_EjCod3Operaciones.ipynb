{
  "cells": [
    {
      "cell_type": "markdown",
      "metadata": {
        "id": "X2Q3sYvlbzpm"
      },
      "source": [
        "## EJEMPLOS DE CODIGO"
      ]
    },
    {
      "cell_type": "code",
      "execution_count": null,
      "metadata": {},
      "outputs": [],
      "source": [
        "# Declaraciones y asignaciones\n",
        "my_var = 5\n",
        "print(my_var)\n",
        "entero = -23\n",
        "print(entero)\n",
        "reales = 12.3\n",
        "print(reales)\n",
        "booleano = True\n",
        "print(booleano)\n",
        "literales = 'Hola'\n",
        "print(literales)\n",
        "literales2 = \"Hola\"\n",
        "print(literales2)\n",
        "literales3 = \"\"\"Hola\"\"\"\n",
        "print(literales3)\n",
        "literales4 = '''Hola'''\n",
        "print(literales4)\n",
        "literales5 = \"\"\"Salto de linea \\npara cambiar de linea\"\"\"\n",
        "print(literales5)"
      ]
    },
    {
      "cell_type": "markdown",
      "metadata": {},
      "source": [
        "# Asignaciones"
      ]
    },
    {
      "cell_type": "code",
      "execution_count": null,
      "metadata": {},
      "outputs": [],
      "source": [
        "a = 5  # Asignacion\n",
        "b = 10  # Asignacion\n",
        "\n",
        "# Expresiones\n",
        "c = a + b  # Suma\n",
        "print(c)\n",
        "c = a - b  # Resta\n",
        "print(c)\n",
        "a * b  # Multiplicacion\n",
        "print(a)\n",
        "c = a / b  # Division\n",
        "print(c)\n",
        "c = a % b  # Modulo\n",
        "print(c)\n",
        "c = a ** b  # Potencia\n",
        "print(c)\n",
        "c = a // b  # Division entera\n",
        "print(c)\n",
        "c = a == b  # Igualdad\n",
        "print(c)\n",
        "c = a != b  # Desigualdad\n",
        "print(c)\n",
        "c = a > b  # Mayor que\n",
        "print(c)\n",
        "c = a < b  # Menor que\n",
        "print(c)\n",
        "c = a >= b  # Mayor o igual que\n",
        "print(c)\n",
        "c = a <= b  # Menor o igual que\n",
        "print(c)\n",
        "c = a and b  # Conjuncion\n",
        "print(c)\n",
        "c = a or b  # Disyuncion - Separacion\n",
        "print(c)\n",
        "c = not a  # Negacion\n",
        "print(c)\n",
        "c = a is b  # Identidad\n",
        "print(c)\n",
        "c = a is not b  # No identidad\n",
        "print(c)"
      ]
    },
    {
      "cell_type": "markdown",
      "metadata": {},
      "source": [
        "# Operadores"
      ]
    },
    {
      "cell_type": "code",
      "execution_count": null,
      "metadata": {},
      "outputs": [],
      "source": [
        "# Operadores de bits\n",
        "a = 3\n",
        "b = [1, 2, 3, 4, 5]\n",
        "\n",
        "aa = 4\n",
        "bb = 6\n",
        "c = a in b  # Pertenencia - Verificación de un iterable\n",
        "print(f\" Verificación de un iterable: \", c, *b)\n",
        "c = a not in b  # No pertenencia\n",
        "print(f\" Verificación de un iterable: \", c, *b)\n",
        "c = aa << bb  # Desplazamiento a la izquierda\n",
        "print(f'Desplazamiento a la izquierda : ', c)\n",
        "c = aa >> bb  # Desplazamiento a la derecha\n",
        "print(f'Desplazamiento a la derecha : ', c)\n",
        "c = aa & bb  # AND\n",
        "print(f'Operador AND  : ', c)\n",
        "c = aa ^ bb  # XOR\n",
        "print('Operador XOR  : {} '.format(c))\n",
        "c = aa | bb  # OR\n",
        "print('Operador OR  : {} '.format(c))"
      ]
    },
    {
      "cell_type": "markdown",
      "metadata": {},
      "source": [
        "# Operaciones Aritmeticas"
      ]
    },
    {
      "cell_type": "code",
      "execution_count": null,
      "metadata": {},
      "outputs": [],
      "source": [
        "# Asignaciones\n",
        "a = 5\n",
        "b = 10\n",
        "\n",
        "a += b  # Suma en asignacion\n",
        "print(a)\n",
        "a -= b  # Resta en asignacion\n",
        "print(a)\n",
        "a *= b  # Multiplicacion en asignacion\n",
        "print(a)\n",
        "a /= b  # Division en asignacion\n",
        "print(a)\n",
        "a %= b  # Modulo en asignacion\n",
        "print(a)\n",
        "a **= b  # Potencia en asignacion\n",
        "print(a)\n",
        "a //= b  # Division entera en asignacion"
      ]
    },
    {
      "cell_type": "markdown",
      "metadata": {},
      "source": [
        "# Operaciones Booleanas\n"
      ]
    },
    {
      "cell_type": "code",
      "execution_count": null,
      "metadata": {},
      "outputs": [],
      "source": [
        "# Operaciones Booleanas\n",
        "a = True\n",
        "b = False\n",
        "print(a)\n",
        "a &= b  # AND en asignacion\n",
        "print(a)\n",
        "a ^= b  # XOR en asignacion\n",
        "print(a)\n",
        "a |= b  # OR en asignacion\n",
        "print(a)\n",
        "a <<= b  # Desplazamiento a la izquierda en asignacion\n",
        "print(a)\n",
        "a <<= b  # Desplazamiento a la izquierda en asignacion\n",
        "print(a)\n",
        "a >>= b  # Desplazamiento a la derecha en asignacion\n",
        "print(a)"
      ]
    },
    {
      "cell_type": "markdown",
      "metadata": {},
      "source": [
        "# Operador de pertenencia\n"
      ]
    },
    {
      "cell_type": "code",
      "execution_count": null,
      "metadata": {},
      "outputs": [],
      "source": [
        "# Operador de pertenencia\n",
        "# True = 1\n",
        "# False = 0\n",
        "a = True\n",
        "b = False\n",
        "c = True\n",
        "\n",
        "c = a == b == c  # Comparacion de igualdad\n",
        "print(\"Comparacion de c : \", c)\n",
        "\n",
        "c = a < b < c  # Comparacion de menor que\n",
        "print(\"Comparacion de c : \", c)\n",
        "\n",
        "c = a <= b <= c  # Comparacion de menor o igual que\n",
        "print(\"Comparacion de c : \", c)\n",
        "\n",
        "# Se aplica una especie de 'AND'\n",
        "c = a > b > c  # Comparacion de mayor que\n",
        "# Python las interpreta como (a > b) and (b > c)\n",
        "print(\"1º Comparacion de c : \", c)\n",
        "c = (a > b) and (b > c)  # Comparacion de mayor que\n",
        "print(\"2º Comparacion de c : \", c)\n",
        "\n",
        "# Cuando se encadenan comparaciones con >= o <=\n",
        "# Sólo necesita que una de las comparaciones sea True para que toda la comparación sea True.\n",
        "# Se aplica una especie de 'AND'\n",
        "c = a >= b >= c  # Comparacion de mayor o igual que\n",
        "print(\"Comparacion de c = a >= b >= c  : \", c)\n",
        "c = (a >= b) and (b >= c)  # Comparacion de mayor o igual que\n",
        "print(\"Comparacion de c = a >= b >= c  : \", c)\n",
        "\n",
        "c = a is b is c  # Comparacion de identidad\n",
        "print(\"Comparacion de c : \", c)\n",
        "\n",
        "c = a is not b is not c  # Comparacion de no identidad\n",
        "print(\"Comparacion de c : \", c)"
      ]
    },
    {
      "cell_type": "markdown",
      "metadata": {},
      "source": [
        "# Operador de pertenencia\n"
      ]
    },
    {
      "cell_type": "code",
      "execution_count": null,
      "metadata": {},
      "outputs": [],
      "source": [
        "# Operador de pertenencia\n",
        "a = 3\n",
        "b = [1, 2, 3, 4, 5]\n",
        "c = a in b\n",
        "print(a, \" ¿ Pertenece a la array de 'b' ? \", c)\n",
        "c = a in b in c  # Comparacion de pertenencia\n",
        "c = a not in b not in c  # Comparacion de no pertenencia\n",
        "c = a + b * c  # Precedencia de operadores\n",
        "c = (a + b) * c  # Precedencia de operadores\n",
        "c = a + (b * c)  # Precedencia de operadores\n",
        "c = a + b / c  # Precedencia de operadores\n",
        "c = (a + b) / c  # Precedencia de operadores\n",
        "c = a + (b / c)  # Precedencia de operadores\n",
        "c = a + b % c  # Precedencia de operadores\n",
        "c = (a + b) % c  # Precedencia de operadores\n",
        "c = a + (b % c)  # Precedencia de operadores\n",
        "c = a + b // c  # Precedencia de operadores\n",
        "c = (a + b) // c  # Precedencia de operadores\n",
        "c = a + (b // c)  # Precedencia de operadores\n",
        "c = a + b ** c  # Precedencia de operadores\n",
        "c = (a + b) ** c  # Precedencia de operadores\n",
        "c = a + (b ** c)  # Precedencia de operadores\n",
        "c = a + b << c  # Precedencia de operadores\n",
        "c = (a + b) << c  # Precedencia de operadores\n",
        "c = a + (b << c)  # Precedencia de operadores\n",
        "c = a + b >> c  # Precedencia de operadores\n",
        "c = (a + b) >> c  # Precedencia de operadores\n",
        "c = a + (b >> c)  # Precedencia de operadores\n",
        "c = a + b & c  # Precedencia de operadores\n",
        "c = (a + b) & c  # Precedencia de operadores"
      ]
    }
  ],
  "metadata": {
    "colab": {
      "provenance": []
    },
    "kernelspec": {
      "display_name": "Python 3",
      "name": "python3"
    },
    "language_info": {
      "codemirror_mode": {
        "name": "ipython",
        "version": 3
      },
      "file_extension": ".py",
      "mimetype": "text/x-python",
      "name": "python",
      "nbconvert_exporter": "python",
      "pygments_lexer": "ipython3",
      "version": "3.11.7"
    }
  },
  "nbformat": 4,
  "nbformat_minor": 0
}
