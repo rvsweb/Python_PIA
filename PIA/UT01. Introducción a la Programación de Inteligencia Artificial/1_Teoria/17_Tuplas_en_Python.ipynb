{
  "cells": [
    {
      "cell_type": "markdown",
      "metadata": {
        "id": "Accv8mAE1oP3"
      },
      "source": [
        "# Tuplas / **(Tuple)**\n",
        "\n",
        "* Sirven para lo mismo que las ``listas`` (me permiten guardar un conjunto de datos que se pueden repetir y que pueden ser de distintos tipos), pero en este caso es un **tipo inmutable/no modificable**.\n",
        "\n",
        "## Construcción de una tupla\n",
        "\n",
        "* Para crear una ``lista`` puedo usar los caracteres ``(`` y ``):``"
      ]
    },
    {
      "cell_type": "code",
      "execution_count": null,
      "metadata": {
        "id": "TVFKg2PvwDyZ"
      },
      "outputs": [],
      "source": [
        "tupla = ()\n",
        "\n",
        "tupla2 = ('a', 1, True)"
      ]
    },
    {
      "cell_type": "markdown",
      "metadata": {
        "id": "4LsLa2rotalG"
      },
      "source": [
        "# Operaciones básicas con tuplas\n",
        "\n",
        "En las tuplas se pueden realizar las siguientes operaciones:\n",
        "\n",
        "* Las tuplas se pueden recorrer.\n",
        "* Operadores de pertenencia: in y not in.\n",
        "* Concatenación: +\n",
        "* Repetición: *\n",
        "* Indexación\n",
        "* Slice\n",
        "\n",
        "Entre las funciones definidas podemos usar: **len, max, min, sum, sorted**\n",
        "\n",
        "Como hemos dicho con anterioridad:\n",
        "\n",
        "## Las tuplas son inmutables"
      ]
    },
    {
      "cell_type": "code",
      "execution_count": null,
      "metadata": {
        "colab": {
          "base_uri": "https://localhost:8080/",
          "height": 218
        },
        "id": "0fgpO1r8wxAQ",
        "outputId": "a96c3e2a-f57b-416e-a54e-a871423039fc"
      },
      "outputs": [
        {
          "ename": "TypeError",
          "evalue": "ignored",
          "output_type": "error",
          "traceback": [
            "\u001b[0;31m---------------------------------------------------------------------------\u001b[0m",
            "\u001b[0;31mTypeError\u001b[0m                                 Traceback (most recent call last)",
            "\u001b[0;32m<ipython-input-2-1dfd63c22bf1>\u001b[0m in \u001b[0;36m<cell line: 3>\u001b[0;34m()\u001b[0m\n\u001b[1;32m      1\u001b[0m \u001b[0mtupla\u001b[0m \u001b[0;34m=\u001b[0m \u001b[0;34m(\u001b[0m\u001b[0;36m1\u001b[0m\u001b[0;34m,\u001b[0m\u001b[0;36m2\u001b[0m\u001b[0;34m,\u001b[0m\u001b[0;36m3\u001b[0m\u001b[0;34m)\u001b[0m\u001b[0;34m\u001b[0m\u001b[0;34m\u001b[0m\u001b[0m\n\u001b[1;32m      2\u001b[0m \u001b[0;34m\u001b[0m\u001b[0m\n\u001b[0;32m----> 3\u001b[0;31m \u001b[0mtupla\u001b[0m\u001b[0;34m[\u001b[0m\u001b[0;36m1\u001b[0m\u001b[0;34m]\u001b[0m \u001b[0;34m=\u001b[0m \u001b[0;36m5\u001b[0m\u001b[0;34m\u001b[0m\u001b[0;34m\u001b[0m\u001b[0m\n\u001b[0m",
            "\u001b[0;31mTypeError\u001b[0m: 'tuple' object does not support item assignment"
          ]
        }
      ],
      "source": [
        "tupla = (1,2,3)\n",
        "\n",
        "tupla[1] = 5"
      ]
    },
    {
      "cell_type": "markdown",
      "metadata": {
        "id": "kAi1Ieqvtsjd"
      },
      "source": [
        "# Método Principales\n",
        "\n",
        "#### Métodos de Búsqueda: count, index\n",
        "\n",
        "\n",
        "\n"
      ]
    },
    {
      "cell_type": "code",
      "execution_count": null,
      "metadata": {
        "colab": {
          "base_uri": "https://localhost:8080/"
        },
        "id": "-bXEUIiH1jnR",
        "outputId": "341c1c08-e355-45a0-8711-0b756fc0ab21"
      },
      "outputs": [
        {
          "name": "stdout",
          "output_type": "stream",
          "text": [
            "2\n",
            "0\n",
            "4\n"
          ]
        }
      ],
      "source": [
        "tupla = (1,2,3,4,1,2,3)\n",
        "\n",
        "print(tupla.count(1))\n",
        "\n",
        "print(tupla.index(1))\n",
        "\n",
        "# Repite desde el rango 2 hasta el 6 el numero 1 que sería 4\n",
        "print(tupla.index(1,2,6))"
      ]
    },
    {
      "cell_type": "markdown",
      "metadata": {},
      "source": [
        "La línea de código `print(tupla.index(1,2,6))` está intentando usar el método `index()` de una tupla en Python. Este método tiene la siguiente sintaxis: `tupla.index(valor, inicio, fin)`, donde:\n",
        "\n",
        "- `valor` es el elemento que se busca en la tupla.\n",
        "- `inicio` y `fin` son opcionales y definen el rango de índices donde se buscará el valor.\n",
        "\n",
        "Por lo tanto, `print(tupla.index(1,2,6))` está buscando el valor `1` en la tupla, comenzando desde el índice `2` hasta el índice `6`. Luego imprime el índice donde se encontró el valor `1`. Si el valor `1` no se encuentra en ese rango, se lanzará una excepción `ValueError`.\n",
        "\n",
        "Espero que esto aclare tu duda sobre esta línea de código. Si tienes más preguntas, no dudes en hacerlas. ¡Estoy aquí para ayudar! 😊"
      ]
    }
  ],
  "metadata": {
    "colab": {
      "provenance": []
    },
    "kernelspec": {
      "display_name": "Python 3",
      "name": "python3"
    },
    "language_info": {
      "name": "python"
    }
  },
  "nbformat": 4,
  "nbformat_minor": 0
}
