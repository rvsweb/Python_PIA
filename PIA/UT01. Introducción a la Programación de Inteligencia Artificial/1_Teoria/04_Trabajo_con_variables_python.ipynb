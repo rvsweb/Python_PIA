{
  "nbformat": 4,
  "nbformat_minor": 0,
  "metadata": {
    "colab": {
      "provenance": []
    },
    "kernelspec": {
      "name": "python3",
      "display_name": "Python 3"
    },
    "language_info": {
      "name": "python"
    }
  },
  "cells": [
    {
      "cell_type": "markdown",
      "source": [
        "\n",
        "## Variables en Python\n",
        "\n",
        "Una variable es un identificador que referencia a un valor. No hay que declarar la variable antes de usarla, el tipo de la variable será el mismo que el del valor al que hace referencia. Por lo tanto su tipo puede cambiar en cualquier momento.\n",
        "\n",
        "```\n",
        "a = 5\n",
        "\n",
        "print(a)\n",
        "\n",
        "a = 8\n",
        "\n",
        "print(a)\n",
        "\n",
        "a = a + 1 (a+=1) #Podemos emplear operadores de asignación (+=, -=, *=, /=, %=, **=, //= )\n",
        "```\n"
      ],
      "metadata": {
        "id": "PaQOPX2RDbKx"
      }
    },
    {
      "cell_type": "code",
      "source": [
        "a = 5\n",
        "\n",
        "print(a)\n",
        "\n",
        "a = 8\n",
        "\n",
        "print(a)\n",
        "\n",
        "a*=2\n",
        "\n",
        "print(a)\n",
        "\n",
        "a = a - 5\n",
        "\n",
        "print(a)"
      ],
      "metadata": {
        "colab": {
          "base_uri": "https://localhost:8080/"
        },
        "id": "yB5Sf_jf8RV-",
        "outputId": "0dcdf453-450e-40b9-c97b-5b9416547802"
      },
      "execution_count": null,
      "outputs": [
        {
          "output_type": "stream",
          "name": "stdout",
          "text": [
            "5\n",
            "8\n",
            "16\n",
            "11\n"
          ]
        }
      ]
    }
  ]
}