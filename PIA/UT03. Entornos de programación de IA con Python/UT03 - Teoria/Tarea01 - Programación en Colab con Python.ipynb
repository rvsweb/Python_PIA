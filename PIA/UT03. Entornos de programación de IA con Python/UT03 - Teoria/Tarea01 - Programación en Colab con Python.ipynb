{
  "cells": [
    {
      "cell_type": "code",
      "execution_count": 3,
      "metadata": {
        "id": "x2PulESGBUM0"
      },
      "outputs": [
        {
          "ename": "ModuleNotFoundError",
          "evalue": "No module named 'google'",
          "output_type": "error",
          "traceback": [
            "\u001b[1;31m---------------------------------------------------------------------------\u001b[0m",
            "\u001b[1;31mModuleNotFoundError\u001b[0m                       Traceback (most recent call last)",
            "\u001b[1;32mk:\\Otros ordenadores\\Mi PC\\CURSO BD & IA\\Python_PIA\\PIA\\UT03. Entornos de programación de IA con Python\\UT03 - Tarea01 - Programacion en Colab con Python\\Tarea01 - Programación en Colab con Python.ipynb Celda 1\u001b[0m line \u001b[0;36m1\n\u001b[1;32m----> <a href='vscode-notebook-cell:/k%3A/Otros%20ordenadores/Mi%20PC/CURSO%20BD%20%26%20IA/Python_PIA/PIA/UT03.%20Entornos%20de%20programaci%C3%B3n%20de%20IA%20con%20Python/UT03%20-%20Tarea01%20-%20Programacion%20en%20Colab%20con%20Python/Tarea01%20-%20Programaci%C3%B3n%20en%20Colab%20con%20Python.ipynb#W0sZmlsZQ%3D%3D?line=0'>1</a>\u001b[0m \u001b[39mfrom\u001b[39;00m \u001b[39mgoogle\u001b[39;00m\u001b[39m.\u001b[39;00m\u001b[39mcolab\u001b[39;00m \u001b[39mimport\u001b[39;00m data_table\n\u001b[0;32m      <a href='vscode-notebook-cell:/k%3A/Otros%20ordenadores/Mi%20PC/CURSO%20BD%20%26%20IA/Python_PIA/PIA/UT03.%20Entornos%20de%20programaci%C3%B3n%20de%20IA%20con%20Python/UT03%20-%20Tarea01%20-%20Programacion%20en%20Colab%20con%20Python/Tarea01%20-%20Programaci%C3%B3n%20en%20Colab%20con%20Python.ipynb#W0sZmlsZQ%3D%3D?line=1'>2</a>\u001b[0m \u001b[39mfrom\u001b[39;00m \u001b[39mvega_datasets\u001b[39;00m \u001b[39mimport\u001b[39;00m data\n\u001b[0;32m      <a href='vscode-notebook-cell:/k%3A/Otros%20ordenadores/Mi%20PC/CURSO%20BD%20%26%20IA/Python_PIA/PIA/UT03.%20Entornos%20de%20programaci%C3%B3n%20de%20IA%20con%20Python/UT03%20-%20Tarea01%20-%20Programacion%20en%20Colab%20con%20Python/Tarea01%20-%20Programaci%C3%B3n%20en%20Colab%20con%20Python.ipynb#W0sZmlsZQ%3D%3D?line=3'>4</a>\u001b[0m cars \u001b[39m=\u001b[39m data\u001b[39m.\u001b[39mcars()\n",
            "\u001b[1;31mModuleNotFoundError\u001b[0m: No module named 'google'"
          ]
        }
      ],
      "source": [
        "from google.colab import data_table\n",
        "from vega_datasets import data\n",
        "\n",
        "cars = data.cars()\n"
      ]
    }
  ],
  "metadata": {
    "colab": {
      "provenance": []
    },
    "kernelspec": {
      "display_name": "Python 3",
      "name": "python3"
    },
    "language_info": {
      "codemirror_mode": {
        "name": "ipython",
        "version": 3
      },
      "file_extension": ".py",
      "mimetype": "text/x-python",
      "name": "python",
      "nbconvert_exporter": "python",
      "pygments_lexer": "ipython3",
      "version": "3.11.6"
    }
  },
  "nbformat": 4,
  "nbformat_minor": 0
}
