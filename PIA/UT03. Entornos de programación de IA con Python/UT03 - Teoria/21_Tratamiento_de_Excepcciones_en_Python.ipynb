{
  "cells": [
    {
      "cell_type": "markdown",
      "metadata": {
        "id": "S9P13YfAHdK4"
      },
      "source": [
        "# Tratamiento de Excepciones en Python\n",
        "\n",
        "## Errores sintácticos y errores de ejecución.\n",
        "\n",
        "Los errores sintácticos se producen cuando tenemos algo mal escrito en nuestro código fuente. Veamos un ejemplo de error sintáctico:"
      ]
    },
    {
      "cell_type": "code",
      "execution_count": null,
      "metadata": {
        "colab": {
          "base_uri": "https://localhost:8080/",
          "height": 141
        },
        "id": "4dryv2HaHbut",
        "outputId": "261c8534-34aa-480f-a212-1201a081df42"
      },
      "outputs": [
        {
          "ename": "SyntaxError",
          "evalue": "ignored",
          "output_type": "error",
          "traceback": [
            "\u001b[0;36m  File \u001b[0;32m\"<ipython-input-1-7a481d3f46d4>\"\u001b[0;36m, line \u001b[0;32m1\u001b[0m\n\u001b[0;31m    while True print('Hello World')\u001b[0m\n\u001b[0m               ^\u001b[0m\n\u001b[0;31mSyntaxError\u001b[0m\u001b[0;31m:\u001b[0m invalid syntax\n"
          ]
        }
      ],
      "source": [
        "while True print('Hello World')"
      ]
    },
    {
      "cell_type": "markdown",
      "metadata": {
        "id": "0SPW0sb-H3pG"
      },
      "source": [
        "Una excepción o un error de ejecución **se produce durante la ejecución del programa**. Las excepciones **se pueden manejar para que no termine el programa**. Veamos algunos ejemplos de excepciones:\n",
        "\n",
        "\n",
        "\n",
        "```\n",
        "4/0\n",
        "Traceback (most recent call last):\n",
        "  File \"<stdin>\", line 1, in <module>\n",
        "ZeroDivisionError: division by zero\n",
        "```\n",
        "\n",
        "```\n",
        "a+4\n",
        "Traceback (most recent call last):\n",
        "  File \"<stdin>\", line 1, in <module>\n",
        "NameError: name 'a' is not defined    \n",
        "```\n",
        "\n",
        "```\n",
        "\"2\"+2\n",
        "Traceback (most recent call last):\n",
        "  File \"<stdin>\", line 1, in <module>\n",
        "TypeError: Can't convert 'int' object to str implicitly\n",
        "```\n",
        "\n",
        "Hemos obtenido varias excepciones: **ˋZeroDivisionErrorˋ**, **ˋNameErrorˋ** y **ˋTypeErrorˋ**. Puedes ver la [lista de excepciones](https://docs.python.org/es/3/tutorial/errors.html#exceptions) y su significado."
      ]
    },
    {
      "cell_type": "markdown",
      "metadata": {
        "id": "9Y3jFD6UJkuN"
      },
      "source": [
        "## Manejando excepciones\n",
        "\n",
        "Veamos un ejemplo simple como podemos tratar una excepción:"
      ]
    },
    {
      "cell_type": "code",
      "execution_count": null,
      "metadata": {
        "id": "b5yVqVbIJq1K"
      },
      "outputs": [],
      "source": [
        "while True:\n",
        "   try:\n",
        "     x = int(input(\"Introduce un número:\"))\n",
        "     break\n",
        "   except ValueError:\n",
        "     print (\"Debes introducir un número\")"
      ]
    },
    {
      "cell_type": "markdown",
      "metadata": {
        "id": "dLx_GnPgJztz"
      },
      "source": [
        "### ¿Cómo funciona este tratamiento?\n",
        "\n",
        "1. Se ejecuta el bloque de instrucciones de **try**.\n",
        "2. Si no se produce la excepción, el bloque de **except** no se ejecuta y continúa la ejecución secuencia.\n",
        "3. Si se produce una excepción, el resto del bloque **try** no se ejecuta, si la excepción que se ha produce corresponde con la indicada en **except** se salta a ejecutar el bloque de instrucciones **except**.\n",
        "4. Si la excepción producida no se corresponde con las indicadas en **except** se pasa a otra instrucción **try**, si finalmente no hay un manejador nos dará un error y el programa terminará."
      ]
    },
    {
      "cell_type": "markdown",
      "metadata": {
        "id": "r4v1aF7LKWYY"
      },
      "source": [
        "Un bloque **except** puede manejar varios tipos de excepciones, si quiero controlar varios tipos de excepciones **puedo poner varios bloques except**.\n",
        "\n",
        "Teniendo en cuenta que en el último, si quiero no indico el tipo de excepción:"
      ]
    },
    {
      "cell_type": "code",
      "execution_count": null,
      "metadata": {
        "id": "cQOCqNr1KjEK"
      },
      "outputs": [],
      "source": [
        "try:\n",
        "   print (10/int(cad))\n",
        "except ValueError:\n",
        "   print(\"No se puede convertir a entero\")\n",
        "except ZeroDivisionError:\n",
        "   print(\"No se puede dividir por cero\")\n",
        "except:\n",
        "   print(\"Otro error\")"
      ]
    },
    {
      "cell_type": "markdown",
      "metadata": {
        "id": "M-Am8SMtKv5P"
      },
      "source": [
        "Se puede utilizar también la cláusula **else**"
      ]
    },
    {
      "cell_type": "code",
      "execution_count": null,
      "metadata": {
        "id": "hLFNvRLtK5nL"
      },
      "outputs": [],
      "source": [
        "try:\n",
        "   print (10/int(cad))\n",
        "except ValueError:\n",
        "   print(\"No se puede convertir a entero\")\n",
        "except ZeroDivisionError:\n",
        "   print(\"No se puede dividir por cero\")\n",
        "else:\n",
        "   print(\"Otro error\")"
      ]
    },
    {
      "cell_type": "markdown",
      "metadata": {
        "id": "NwbTp7t1K9L2"
      },
      "source": [
        "Por último indicar que podemos indicar una clausula **finally** para indicar un bloque de instrucciones que **siempre se debe ejecutar**, independientemente de si la excepción se ha producido o no."
      ]
    },
    {
      "cell_type": "code",
      "execution_count": null,
      "metadata": {
        "id": "pUVPwLJuLNEw"
      },
      "outputs": [],
      "source": [
        "try:\n",
        "  result = x / y\n",
        "except ZeroDivisionError:\n",
        "  print(\"División por cero!\")\n",
        "else:\n",
        "  print(\"El resultado es\", result)\n",
        "finally:\n",
        "  print(\"Terminamos el programa\")"
      ]
    },
    {
      "cell_type": "markdown",
      "metadata": {
        "id": "J22gYbYrLxI0"
      },
      "source": [
        "### Nota:\n",
        "\n",
        "Podemos saber el tipo de excepción que se ha producido y nos permitirá mostrar una información más detallada:"
      ]
    },
    {
      "cell_type": "code",
      "execution_count": null,
      "metadata": {
        "id": "uutaY8iQL-tN"
      },
      "outputs": [],
      "source": [
        "try:\n",
        "  result = x / y\n",
        "except Exception as e:\n",
        "    print(repr(e))"
      ]
    }
  ],
  "metadata": {
    "colab": {
      "provenance": []
    },
    "kernelspec": {
      "display_name": "Python 3",
      "name": "python3"
    },
    "language_info": {
      "name": "python"
    }
  },
  "nbformat": 4,
  "nbformat_minor": 0
}
