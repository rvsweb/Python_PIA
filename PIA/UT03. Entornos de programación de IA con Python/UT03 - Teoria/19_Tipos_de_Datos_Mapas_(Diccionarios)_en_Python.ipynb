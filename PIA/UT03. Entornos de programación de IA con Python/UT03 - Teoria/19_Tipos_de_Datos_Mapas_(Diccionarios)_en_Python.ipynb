{
  "cells": [
    {
      "cell_type": "markdown",
      "metadata": {
        "id": "lgQ4RyAWYnBJ"
      },
      "source": [
        "# Tipos de datos Mapas - Diccionarios\n",
        "\n",
        "Los diccionarios son tipos de datos que nos permiten guardar valores, a los que se puede acceder por medio de una clave (una cadena de caracteres o un número). Son tipos de datos mutables y los campos no tienen asignado orden."
      ]
    },
    {
      "cell_type": "code",
      "execution_count": null,
      "metadata": {
        "id": "SvukPijWUhAX"
      },
      "outputs": [],
      "source": [
        "#Definición de un Diccionario\n",
        "\n",
        "diccionario = {'one': 1, 'two': 2, 'three': 3}"
      ]
    },
    {
      "cell_type": "markdown",
      "metadata": {
        "id": "i-dg6GKpY8q3"
      },
      "source": [
        "Si tenemos un diccionario vacío, al ser un objeto mutable, también podemos construir el diccionario de la siguiente manera."
      ]
    },
    {
      "cell_type": "code",
      "execution_count": null,
      "metadata": {
        "id": "CWTlyUkjZARd"
      },
      "outputs": [],
      "source": [
        "# Los diccionarios tb se recorren con clave valor y si encuentra una clave o un valor\n",
        "dict1 = {}\n",
        "dict1['one'] = 1\n",
        "dict1['two'] = 2\n",
        "dict1['three'] = 3"
      ]
    },
    {
      "cell_type": "markdown",
      "metadata": {
        "id": "ibIopszBZNED"
      },
      "source": [
        "## Operaciones básicas con diccionarios"
      ]
    },
    {
      "cell_type": "code",
      "execution_count": null,
      "metadata": {
        "id": "J162uNXXZiE4"
      },
      "outputs": [],
      "source": [
        "# \n",
        "a = {'one': 1, 'two': 2, 'three': 3}\n"
      ]
    },
    {
      "cell_type": "markdown",
      "metadata": {
        "id": "OUTnJBvzZkLC"
      },
      "source": [
        "* **len()**: Devuelve el número de elementos del diccionario"
      ]
    },
    {
      "cell_type": "code",
      "execution_count": null,
      "metadata": {
        "colab": {
          "base_uri": "https://localhost:8080/"
        },
        "id": "sJzvgOEKZo0u",
        "outputId": "e4974869-86a0-45c2-84fc-fac7751007a4"
      },
      "outputs": [
        {
          "name": "stdout",
          "output_type": "stream",
          "text": [
            "3\n"
          ]
        }
      ],
      "source": [
        "print(len(a))"
      ]
    },
    {
      "cell_type": "markdown",
      "metadata": {
        "id": "krp7hhs5Z2fS"
      },
      "source": [
        "* Indexación: Podemos obtener el valor de un campo o cambiarlo (si no existe el campo nos dará una excepción **KeyError**)"
      ]
    },
    {
      "cell_type": "code",
      "execution_count": null,
      "metadata": {
        "colab": {
          "base_uri": "https://localhost:8080/",
          "height": 254
        },
        "id": "CO1Ii5YgaBWc",
        "outputId": "834429f5-29f7-479a-9e11-323c90602b10"
      },
      "outputs": [
        {
          "name": "stdout",
          "output_type": "stream",
          "text": [
            "1\n",
            "{'one': 2, 'two': 2, 'three': 3}\n"
          ]
        },
        {
          "ename": "KeyError",
          "evalue": "ignored",
          "output_type": "error",
          "traceback": [
            "\u001b[0;31m---------------------------------------------------------------------------\u001b[0m",
            "\u001b[0;31mKeyError\u001b[0m                                  Traceback (most recent call last)",
            "\u001b[0;32m<ipython-input-3-3a5be22ac0e1>\u001b[0m in \u001b[0;36m<cell line: 7>\u001b[0;34m()\u001b[0m\n\u001b[1;32m      5\u001b[0m \u001b[0mprint\u001b[0m\u001b[0;34m(\u001b[0m\u001b[0ma\u001b[0m\u001b[0;34m)\u001b[0m\u001b[0;34m\u001b[0m\u001b[0;34m\u001b[0m\u001b[0m\n\u001b[1;32m      6\u001b[0m \u001b[0;34m\u001b[0m\u001b[0m\n\u001b[0;32m----> 7\u001b[0;31m \u001b[0mprint\u001b[0m\u001b[0;34m(\u001b[0m\u001b[0ma\u001b[0m\u001b[0;34m[\u001b[0m\u001b[0;34m'four'\u001b[0m\u001b[0;34m]\u001b[0m\u001b[0;34m)\u001b[0m\u001b[0;34m\u001b[0m\u001b[0;34m\u001b[0m\u001b[0m\n\u001b[0m",
            "\u001b[0;31mKeyError\u001b[0m: 'four'"
          ]
        }
      ],
      "source": [
        "print(a['one'])\n",
        "\n",
        "a['one'] += 1\n",
        "\n",
        "print(a)\n",
        "# No existe el valor 'four' como key\n",
        "print(a['four'])"
      ]
    },
    {
      "cell_type": "markdown",
      "metadata": {
        "id": "s15T0zUraPex"
      },
      "source": [
        "* **del()**: Podemos eliminar un elemento, si no exite el campo nos da una excepción **KeyError**:"
      ]
    },
    {
      "cell_type": "code",
      "execution_count": null,
      "metadata": {
        "colab": {
          "base_uri": "https://localhost:8080/"
        },
        "id": "DfK-N6DOaX3d",
        "outputId": "137fba55-6ec9-454b-d20c-d4f3966d5a47"
      },
      "outputs": [
        {
          "name": "stdout",
          "output_type": "stream",
          "text": [
            "{'two': 2, 'three': 3}\n"
          ]
        }
      ],
      "source": [
        "del(a['one'])\n",
        "\n",
        "print(a)"
      ]
    },
    {
      "cell_type": "markdown",
      "metadata": {
        "id": "_4rOanAYafCO"
      },
      "source": [
        "* Operadores de pertenencia: **key in d** y **key not in d**"
      ]
    },
    {
      "cell_type": "code",
      "execution_count": null,
      "metadata": {
        "colab": {
          "base_uri": "https://localhost:8080/"
        },
        "id": "K_bHJgn_anFR",
        "outputId": "561b0172-0ae6-4153-ce36-e5a7ec0bbd08"
      },
      "outputs": [
        {
          "name": "stdout",
          "output_type": "stream",
          "text": [
            "True\n",
            "False\n"
          ]
        }
      ],
      "source": [
        "# La clave esta dentro del diccionario o no esta \n",
        "print('two' in a) # Si esta la clave\n",
        "\n",
        "print('one' in a) # No esta "
      ]
    },
    {
      "cell_type": "markdown",
      "metadata": {
        "id": "-_xd7U0Kazox"
      },
      "source": [
        "# Los diccionarios son tipos mutables\n",
        "\n",
        "Los diccionarios, al igual que las litas, son tipos de datos mutable. Por lo tanto podemos encontrar situaciones similares a las que explicamos en su momentos con las listas."
      ]
    },
    {
      "cell_type": "code",
      "execution_count": null,
      "metadata": {
        "colab": {
          "base_uri": "https://localhost:8080/"
        },
        "id": "XVlB4efCbGfL",
        "outputId": "41e226ed-57e6-4ef8-812e-6b8ce901d637"
      },
      "outputs": [
        {
          "name": "stdout",
          "output_type": "stream",
          "text": [
            "{'one': 2, 'two': 2}\n"
          ]
        }
      ],
      "source": [
        "a = {'one': 1, 'two': 2, 'three': 3}\n",
        "\n",
        "a['one']=2\n",
        "\n",
        "del(a['three'])\n",
        "\n",
        "print(a)"
      ]
    },
    {
      "cell_type": "code",
      "execution_count": null,
      "metadata": {
        "colab": {
          "base_uri": "https://localhost:8080/"
        },
        "id": "weXtbiYEbWKU",
        "outputId": "a20b0eb2-c031-481c-b23c-a9d22db4b032"
      },
      "outputs": [
        {
          "name": "stdout",
          "output_type": "stream",
          "text": [
            "{'two': 2, 'three': 3}\n"
          ]
        }
      ],
      "source": [
        "a = {'one': 1, 'two': 2, 'three': 3}\n",
        "\n",
        "b = a # No usaremos para copiar un diccionario en otra variable\n",
        "\n",
        "del(a['one'])\n",
        "\n",
        "print(b)"
      ]
    },
    {
      "cell_type": "markdown",
      "metadata": {
        "id": "auiEaeglbjQi"
      },
      "source": [
        "En este caso para copiar diccionarios vamos a usar el método **copy()**:"
      ]
    },
    {
      "cell_type": "code",
      "execution_count": null,
      "metadata": {
        "colab": {
          "base_uri": "https://localhost:8080/"
        },
        "id": "J4my1U49bnZI",
        "outputId": "fd5210f9-87fa-45cb-ed49-34dc7315c345"
      },
      "outputs": [
        {
          "name": "stdout",
          "output_type": "stream",
          "text": [
            "{'one': 1, 'two': 2, 'three': 3}\n",
            "{'one': 1000, 'two': 2, 'three': 3}\n"
          ]
        }
      ],
      "source": [
        "a = dict(one=1, two=2, three=3)\n",
        "\n",
        "b = a.copy()\n",
        "\n",
        "a['one'] = 1000\n",
        "\n",
        "print(b)\n",
        "\n",
        "print(a)"
      ]
    },
    {
      "cell_type": "markdown",
      "metadata": {
        "id": "eREYFh_icCSJ"
      },
      "source": [
        "# Métodos principales de diccionarios\n",
        "\n",
        "## Métodos de eliminación\n",
        "\n",
        "* **clear()**: Elimina los elementos de un diccionario."
      ]
    },
    {
      "cell_type": "code",
      "execution_count": null,
      "metadata": {
        "colab": {
          "base_uri": "https://localhost:8080/"
        },
        "id": "0a8vZLb-cPMy",
        "outputId": "b589edfc-4d53-42b7-f086-e1e213ad8b5d"
      },
      "outputs": [
        {
          "name": "stdout",
          "output_type": "stream",
          "text": [
            "{'one': 1, 'two': 2, 'three': 3}\n",
            "{}\n"
          ]
        }
      ],
      "source": [
        "dict1 = {'one': 1, 'two': 2, 'three': 3}\n",
        "\n",
        "print(dict1)\n",
        "\n",
        "dict1.clear()\n",
        "\n",
        "print(dict1)"
      ]
    },
    {
      "cell_type": "markdown",
      "metadata": {
        "id": "MHHHB9N5caj2"
      },
      "source": [
        "## Métodos de agregado y creación\n",
        "\n",
        "* **copy()**: Ya lo vimos anteriormente, nos permite copiar diccionarios."
      ]
    },
    {
      "cell_type": "code",
      "execution_count": null,
      "metadata": {
        "colab": {
          "base_uri": "https://localhost:8080/"
        },
        "id": "vuAG_xvCcpDM",
        "outputId": "b1db7f2a-6eb7-4e0b-c1e9-00bbe3d7b597"
      },
      "outputs": [
        {
          "name": "stdout",
          "output_type": "stream",
          "text": [
            "{'one': 1, 'two': 2, 'three': 3}\n"
          ]
        }
      ],
      "source": [
        "dict1 = {'one': 1, 'two': 2, 'three': 3}\n",
        "\n",
        "dict2 = dict1.copy()\n",
        "\n",
        "print(dict2)"
      ]
    },
    {
      "cell_type": "markdown",
      "metadata": {
        "id": "JWOz_vWZcxVG"
      },
      "source": [
        "* **update()**: Nos permite añadir elementos a un diccionario a partir de los elementos de otro diccionario."
      ]
    },
    {
      "cell_type": "code",
      "execution_count": null,
      "metadata": {
        "colab": {
          "base_uri": "https://localhost:8080/"
        },
        "id": "bd_7Vq7xerms",
        "outputId": "2aea355d-4f57-40e0-8b29-765d221a747b"
      },
      "outputs": [
        {
          "name": "stdout",
          "output_type": "stream",
          "text": [
            "{'one': 1, 'two': 2, 'three': 3, 'four': 4, 'five': 5}\n"
          ]
        }
      ],
      "source": [
        "# Metodo extends de la listas\n",
        "dict1 = {'one': 1, 'two': 2, 'three': 3}\n",
        "dict2 = {'four': 4, 'five': 5}\n",
        "\n",
        "dict1.update(dict2)\n",
        "\n",
        "print(dict1)"
      ]
    },
    {
      "cell_type": "markdown",
      "metadata": {
        "id": "VXnoe5-ke4KB"
      },
      "source": [
        "## Métodos de retorno\n",
        "\n",
        "* **get()**: Nos devuelve el valor de un elemento de un diccionario indicando la clave. Además podemos indicar el valor devuelto si no existe el elemento."
      ]
    },
    {
      "cell_type": "code",
      "execution_count": null,
      "metadata": {
        "colab": {
          "base_uri": "https://localhost:8080/"
        },
        "id": "3WiFbJwFfDx5",
        "outputId": "ad48804c-7a01-4ea5-fc8b-c20719ac5607"
      },
      "outputs": [
        {
          "data": {
            "text/plain": [
              "1"
            ]
          },
          "execution_count": 13,
          "metadata": {},
          "output_type": "execute_result"
        }
      ],
      "source": [
        "dict1 = {'one': 1, 'two': 2, 'three': 3}\n",
        "\n",
        "dict1.get('one')"
      ]
    },
    {
      "cell_type": "code",
      "execution_count": null,
      "metadata": {
        "colab": {
          "base_uri": "https://localhost:8080/",
          "height": 36
        },
        "id": "sInNOfUIfOzF",
        "outputId": "2c0765bc-f063-4a87-d04f-ada9a0b53734"
      },
      "outputs": [
        {
          "data": {
            "application/vnd.google.colaboratory.intrinsic+json": {
              "type": "string"
            },
            "text/plain": [
              "'No existe'"
            ]
          },
          "execution_count": 15,
          "metadata": {},
          "output_type": "execute_result"
        }
      ],
      "source": [
        "# Para gestionar los errores dentro de los diccionarios\n",
        "dict1.get('four')\n",
        "dict1.get('four', 'No existe') # Si la clave no se encuentra en el diccionario devuelve el valor por defecto que indicamos"
      ]
    },
    {
      "cell_type": "markdown",
      "metadata": {
        "id": "7arw04FKfhUZ"
      },
      "source": [
        "* **pop()**: Nos devuelve el valor de un elemento de un diccionario a partir de la clave y elimina dicho elemento. También podemos indicar el valor devuelto si no existe el elemento buscado."
      ]
    },
    {
      "cell_type": "code",
      "execution_count": null,
      "metadata": {
        "colab": {
          "base_uri": "https://localhost:8080/"
        },
        "id": "00kCv1ONg7XX",
        "outputId": "316ad502-4dd7-43ae-8e4a-e6fe5cdd6480"
      },
      "outputs": [
        {
          "name": "stdout",
          "output_type": "stream",
          "text": [
            "{'two': 2, 'three': 3}\n"
          ]
        }
      ],
      "source": [
        "dict1.pop('one')\n",
        "\n",
        "print(dict1)"
      ]
    },
    {
      "cell_type": "code",
      "execution_count": null,
      "metadata": {
        "colab": {
          "base_uri": "https://localhost:8080/",
          "height": 181
        },
        "id": "fU-GOL0_hMWi",
        "outputId": "7dd8e018-b6d2-415c-a592-9a616f52eb98"
      },
      "outputs": [
        {
          "ename": "KeyError",
          "evalue": "ignored",
          "output_type": "error",
          "traceback": [
            "\u001b[0;31m---------------------------------------------------------------------------\u001b[0m",
            "\u001b[0;31mKeyError\u001b[0m                                  Traceback (most recent call last)",
            "\u001b[0;32m<ipython-input-17-e2161d658830>\u001b[0m in \u001b[0;36m<cell line: 1>\u001b[0;34m()\u001b[0m\n\u001b[0;32m----> 1\u001b[0;31m \u001b[0mdict1\u001b[0m\u001b[0;34m.\u001b[0m\u001b[0mpop\u001b[0m\u001b[0;34m(\u001b[0m\u001b[0;34m'four'\u001b[0m\u001b[0;34m)\u001b[0m\u001b[0;34m\u001b[0m\u001b[0;34m\u001b[0m\u001b[0m\n\u001b[0m",
            "\u001b[0;31mKeyError\u001b[0m: 'four'"
          ]
        }
      ],
      "source": [
        "dict1.pop('four')"
      ]
    },
    {
      "cell_type": "code",
      "execution_count": null,
      "metadata": {
        "colab": {
          "base_uri": "https://localhost:8080/",
          "height": 36
        },
        "id": "8tGHRuwghOzw",
        "outputId": "8b80d17d-0189-4c70-c778-449f95b8a4a0"
      },
      "outputs": [
        {
          "data": {
            "application/vnd.google.colaboratory.intrinsic+json": {
              "type": "string"
            },
            "text/plain": [
              "'Esa clave no existe en el diccionario'"
            ]
          },
          "execution_count": 19,
          "metadata": {},
          "output_type": "execute_result"
        }
      ],
      "source": [
        "dict1.pop('four', 'Esa clave no existe en el diccionario')"
      ]
    },
    {
      "cell_type": "markdown",
      "metadata": {
        "id": "PyxZWdvbhVwq"
      },
      "source": [
        "## Recorrido de diccionarios\n",
        "\n",
        "El método **keys()** nos devuelve las claves de un diccionario, por lo tanto podemos recorrer las claves de la siguiente manera:"
      ]
    },
    {
      "cell_type": "code",
      "execution_count": null,
      "metadata": {
        "colab": {
          "base_uri": "https://localhost:8080/"
        },
        "id": "_NxhI9-mhfIQ",
        "outputId": "da06b11f-e9c9-49c8-e129-c454480dcfef"
      },
      "outputs": [
        {
          "name": "stdout",
          "output_type": "stream",
          "text": [
            "one\n",
            "two\n",
            "three\n"
          ]
        }
      ],
      "source": [
        "dict1 = {'one': 1, 'two': 2, 'three': 3}\n",
        "\n",
        "for clave in dict1.keys():\n",
        "  print(clave)"
      ]
    },
    {
      "cell_type": "markdown",
      "metadata": {
        "id": "HiQh-rpsiTcw"
      },
      "source": [
        "El método **values()** nos devuelve los valores de un diccionario, por lo tanto podemos recorrer los valores de la siguiente manera:"
      ]
    },
    {
      "cell_type": "code",
      "execution_count": null,
      "metadata": {
        "colab": {
          "base_uri": "https://localhost:8080/"
        },
        "id": "NwxQ2wtGiXUl",
        "outputId": "533602b5-50da-4830-a479-a8dcdf037b15"
      },
      "outputs": [
        {
          "name": "stdout",
          "output_type": "stream",
          "text": [
            "1\n",
            "2\n",
            "3\n"
          ]
        }
      ],
      "source": [
        "for valor in dict1.values():\n",
        "  print(valor)"
      ]
    },
    {
      "cell_type": "markdown",
      "metadata": {
        "id": "ZzFBr0hDie_F"
      },
      "source": [
        "Finalmente el método **items()** nos devuelve la clave y el valor correspondiente de los elementos de un diccionario, por lo tanto podemos recorrer ambos:"
      ]
    },
    {
      "cell_type": "code",
      "execution_count": null,
      "metadata": {
        "colab": {
          "base_uri": "https://localhost:8080/"
        },
        "id": "slnkiND0ijsz",
        "outputId": "4f1d88cf-183a-4aae-e758-a5ba7d36d016"
      },
      "outputs": [
        {
          "name": "stdout",
          "output_type": "stream",
          "text": [
            "one => 1\n",
            "two => 2\n",
            "three => 3\n"
          ]
        }
      ],
      "source": [
        "for clave, valor in dict1.items():\n",
        "  print(f'{clave} => {valor}')"
      ]
    }
  ],
  "metadata": {
    "colab": {
      "provenance": []
    },
    "kernelspec": {
      "display_name": "Python 3",
      "name": "python3"
    },
    "language_info": {
      "name": "python"
    }
  },
  "nbformat": 4,
  "nbformat_minor": 0
}
