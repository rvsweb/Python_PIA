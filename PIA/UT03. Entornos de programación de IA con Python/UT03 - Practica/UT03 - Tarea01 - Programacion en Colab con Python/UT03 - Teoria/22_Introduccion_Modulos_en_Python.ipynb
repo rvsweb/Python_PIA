{
  "cells": [
    {
      "cell_type": "markdown",
      "metadata": {
        "id": "3g3SDW-tM54S"
      },
      "source": [
        "# Módulos (Librerías) en Python\n",
        "\n",
        "**Módulo**: Cada uno de los ficheros **.py** que nosotros creamos se llama módulo.\n",
        "\n",
        "Los elementos creados en un módulo (funciones, clases, …) se pueden importar para ser utilizados en otro módulo.\n",
        "\n",
        "El nombre que vamos a utilizar para importar un módulo es el nombre del fichero."
      ]
    },
    {
      "cell_type": "markdown",
      "metadata": {
        "id": "p6LggU36NYzE"
      },
      "source": [
        "Python tiene sus propios módulos, los cuales forman parte de su librería de módulos estándar, que podemos usar en nuestros programas.\n",
        "\n",
        "Para poder usarlos debemos importarlos.\n",
        "\n",
        "## Importación de Módulos\n",
        "\n",
        "Podemos importar el módulo completo y posteriormente usar cualquier función definida, por ejemplo para realizar la raíz cuadrada importamos el módulo de funciones matemáticas **math**:"
      ]
    },
    {
      "cell_type": "code",
      "execution_count": null,
      "metadata": {
        "colab": {
          "base_uri": "https://localhost:8080/"
        },
        "id": "ESY77fSYM37x",
        "outputId": "b4419da2-f26b-49b9-fe2d-6b6e4a99e319"
      },
      "outputs": [
        {
          "name": "stdout",
          "output_type": "stream",
          "text": [
            "3.0\n"
          ]
        }
      ],
      "source": [
        "import math\n",
        "\n",
        "print(math.sqrt(9))"
      ]
    },
    {
      "cell_type": "markdown",
      "metadata": {
        "id": "1mFzgBZjNneF"
      },
      "source": [
        "Pero si sólo quiero utilizar la función sqrt puedo importar sólo esa función (en este caso al utilizarla no hace falta utilizar el nombre del módulo):\n"
      ]
    },
    {
      "cell_type": "code",
      "execution_count": null,
      "metadata": {
        "colab": {
          "base_uri": "https://localhost:8080/"
        },
        "id": "SRnY8vQONsEk",
        "outputId": "05762f8e-0d03-4f79-e9e6-e3f7be4f37a8"
      },
      "outputs": [
        {
          "name": "stdout",
          "output_type": "stream",
          "text": [
            "3.0\n"
          ]
        }
      ],
      "source": [
        "from math import sqrt\n",
        "from math import sqrt as raiz \n",
        "\n",
        "\n",
        "print(sqrt(9))\n",
        "print(raiz(9))"
      ]
    },
    {
      "cell_type": "markdown",
      "metadata": {
        "id": "7sYEwnw6N2H6"
      },
      "source": [
        "Veamos algunos módulos que ya hemos utilizado en algunos ejercicios:\n",
        "\n",
        "## Módulos matemáticos\n",
        "\n",
        "* **Módulo Math**: El módulo math nos proporciones distintas funciones y operaciones matemáticas. Como la usada en el ejemplo anterior.\n",
        "\n",
        "* **Módulo fractions**: El módulo fractions nos permite trabajar con fracciones.\n",
        "\n",
        "* **Módulo random**: El módulo random nos permite generar datos pseudo-aleatorios."
      ]
    },
    {
      "cell_type": "code",
      "execution_count": null,
      "metadata": {
        "colab": {
          "base_uri": "https://localhost:8080/"
        },
        "id": "ABBPZfKNOTU1",
        "outputId": "a6c035d3-d9d8-4950-dd6e-aca39f89bb85"
      },
      "outputs": [
        {
          "name": "stdout",
          "output_type": "stream",
          "text": [
            "1\n"
          ]
        }
      ],
      "source": [
        "import random\n",
        "\n",
        "print(random.randint(1,10))"
      ]
    },
    {
      "cell_type": "markdown",
      "metadata": {
        "id": "o-I1bTGNOfO3"
      },
      "source": [
        "## Módulos de hora y fecha\n",
        "\n",
        "* **Módulo Time**: El módulo time nos permite trabajar con fechas y horas.\n",
        "El tiempo es medido como un número real que representa los segundos transcurridos desde el 1 de enero de 1970.\n",
        "\n",
        "```\n",
        "time.sleep(1)\n",
        "```\n",
        "\n",
        "* **Módulo datetime**: El módulo datetime amplía las posibilidades del módulo time que provee funciones para manipular expresiones de tiempo."
      ]
    },
    {
      "cell_type": "markdown",
      "metadata": {
        "id": "VxrCEI71O4uy"
      },
      "source": [
        "## Módulo del sistema\n",
        "\n",
        "* **Módulo os**\n",
        "\n",
        "    * El módulo os nos permite acceder a funcionalidades dependientes del Sistema Operativo. Sobre todo, aquellas que nos refieren información sobre el entorno del mismo y nos permiten manipular la estructura de directorios.\n",
        "\n",
        "***\n",
        "\n",
        "* Permite generar carpetas , ficheros , multiples datos dentro del fichero , generar un fichero pdf a través de los datos de un fichero\n",
        "\n",
        "```python\n",
        "os.system('clear')\n",
        "```\n"
      ]
    }
  ],
  "metadata": {
    "colab": {
      "provenance": []
    },
    "kernelspec": {
      "display_name": "Python 3",
      "name": "python3"
    },
    "language_info": {
      "name": "python"
    }
  },
  "nbformat": 4,
  "nbformat_minor": 0
}
