{
  "cells": [
    {
      "cell_type": "markdown",
      "metadata": {
        "id": "HFjw3Q0WVZ_i"
      },
      "source": [
        "\n",
        "# Ejercicios de Funciones\n",
        "\n",
        "## Ejercicio 1\n",
        "\n",
        "Crea un función **CenterText**, que reciba como parámetro un texto y lo escriba centrado en pantalla (suponiendo una anchura de 80 columnas; **pista**: deberás escribir 40 - longitud/2 espacios antes del texto).\n",
        "\n",
        "Además subraya el mensaje utilizando el carácter =.\n",
        "\n"
      ]
    },
    {
      "cell_type": "code",
      "execution_count": 2,
      "metadata": {},
      "outputs": [
        {
          "name": "stdout",
          "output_type": "stream",
          "text": [
            "                            Soy una cadena de texto\n",
            "                            =======================\n"
          ]
        }
      ],
      "source": [
        "def centerText(texto):\n",
        "    longitud = len(texto)\n",
        "    espacios = int((80 - longitud) / 2)\n",
        "    print(' ' * espacios + texto)\n",
        "    print(' ' * espacios + '=' * longitud)\n",
        "\n",
        "\n",
        "centerText(\"Soy una cadena de texto\")"
      ]
    },
    {
      "cell_type": "markdown",
      "metadata": {
        "id": "Zov0-hjGVvHI"
      },
      "source": [
        "## Ejercicio 2\n",
        "\n",
        "Crea un programa que pida dos número enteros al usuario y diga si alguno de ellos es múltiplo del otro. Crea una función **EsMultiplo** que reciba los dos números, y devuelve si el primero es múltiplo del segundo.\n"
      ]
    },
    {
      "cell_type": "code",
      "execution_count": 3,
      "metadata": {},
      "outputs": [
        {
          "name": "stdout",
          "output_type": "stream",
          "text": [
            "El número 2 es múltiplo de 1\n"
          ]
        },
        {
          "data": {
            "text/plain": [
              "False"
            ]
          },
          "execution_count": 3,
          "metadata": {},
          "output_type": "execute_result"
        }
      ],
      "source": [
        "def EsMultiplo(num1 , num2):\n",
        "    if num1 % num2 == 0:\n",
        "        return True\n",
        "    else:\n",
        "        return False\n",
        "\n",
        "num1 = int(input(\"Introduce el primer número: \"))\n",
        "num2 = int(input(\"Introduce el segundo número: \"))\n",
        "\n",
        "if EsMultiplo(num1, num2):\n",
        "    print(f\"El número {num1} es múltiplo de {num2}\")\n",
        "elif EsMultiplo(num2, num1):\n",
        "    print(f\"El número {num2} es múltiplo de {num1}\")\n",
        "else:\n",
        "    print(\"Ninguno de los números es múltiplo del otro.\")\n",
        "    \n",
        "# Metodo\n",
        "EsMultiplo(1,2)\n"
      ]
    },
    {
      "cell_type": "markdown",
      "metadata": {
        "id": "sMFIz7Y6V4O4"
      },
      "source": [
        "## Ejercicio 3\n",
        "Crear una función que calcule la temperatura media de un día a partir de la temperatura máxima y mínima.\n",
        "\n",
        "Crear un programa principal, que utilizando la función anterior, vaya pidiendo la temperatura máxima y mínima de cada día y vaya mostrando la media.\n",
        "\n",
        "El programa pedirá el número de días que se van a introducir."
      ]
    },
    {
      "cell_type": "code",
      "execution_count": 4,
      "metadata": {},
      "outputs": [
        {
          "name": "stdout",
          "output_type": "stream",
          "text": [
            "La temperatura media del día 1 es 20.0 grados.\n",
            "La temperatura media del día 2 es 17.5 grados.\n",
            "La temperatura media del día 3 es 22.5 grados.\n",
            "La temperatura media del día 4 es 32.0 grados.\n",
            "La temperatura media del día 5 es 17.0 grados.\n",
            "La temperatura media del día 6 es 32.0 grados.\n",
            "La temperatura media del día 7 es 22.0 grados.\n",
            "La temperatura media del día 8 es 22.0 grados.\n",
            "La temperatura media del día 9 es 27.5 grados.\n",
            "La temperatura media del día 10 es 17.0 grados.\n"
          ]
        }
      ],
      "source": [
        "def calcular_temperatura_media(maxima, minima):\n",
        "    return (maxima + minima) / 2\n",
        "\n",
        "dias = int(input(\"Introduce el número de días: \"))\n",
        "\n",
        "for i in range(dias):\n",
        "    maxima = float(input(f\"Introduce la temperatura máxima del día {i+1}: \"))\n",
        "    minima = float(input(f\"Introduce la temperatura mínima del día {i+1}: \"))\n",
        "    media = calcular_temperatura_media(maxima, minima)\n",
        "    print(f\"La temperatura media del día {i+1} es {media} grados.\")\n"
      ]
    },
    {
      "cell_type": "markdown",
      "metadata": {
        "id": "hbfFfsW-WAZq"
      },
      "source": [
        "## Ejercicio 4\n",
        "Crea un función **“ConvertirEspaciado”**, que reciba como parámetro un texto y devuelve una cadena con un espacio adicional tras cada letra.\n",
        "\n",
        "Por ejemplo, “Hola, tú” devolverá “H o l a , t ú “. Crea un programa principal donde se use dicha función."
      ]
    },
    {
      "cell_type": "markdown",
      "metadata": {
        "id": "0RMKcLKAWJNk"
      },
      "source": [
        "## Ejercicio 5\n",
        "Crea una función **“calcularMaxMin”** que recibe una lista con valores numéricos y devuelve el valor máximo y el mínimo.\n",
        "\n",
        "Crea un programa que pida números por teclado y muestre el máximo y el mínimo, utilizando la función anterior."
      ]
    },
    {
      "cell_type": "markdown",
      "metadata": {
        "id": "ltEZLGQaWSQb"
      },
      "source": [
        "## Ejercicio 6\n",
        "\n",
        "Diseñar una función que calcule el área y el perímetro de una circunferencia.\n",
        "\n",
        "Utiliza dicha función en un programa principal que lea el radio de una circunferencia y muestre su área y perímetro."
      ]
    },
    {
      "cell_type": "markdown",
      "metadata": {
        "id": "jTT6LIfjWZJd"
      },
      "source": [
        "## Ejercicio 7\n",
        "Crear una subrutina llamada **“Login”**, que recibe un nombre de usuario y una contraseña y te devuelve Verdadero si el nombre de usuario es “usuario1” y la contraseña es “asdasd”.\n",
        "\n",
        "Además recibe el número de intentos que se ha intentado hacer login y si no se ha podido hacer login incremente este valor.\n",
        "\n",
        "Crear un programa principal donde se pida un nombre de usuario y una contraseña y se intente hacer login, solamente tenemos tres oportunidades para intentarlo."
      ]
    },
    {
      "cell_type": "markdown",
      "metadata": {
        "id": "EQepXrvfWiBy"
      },
      "source": [
        "## Ejercicio 8\n",
        "Crear una función recursiva que permita calcular el factorial de un número.\n",
        "\n",
        "Realiza un programa principal donde se lea un entero y se muestre el resultado del factorial."
      ]
    },
    {
      "cell_type": "markdown",
      "metadata": {
        "id": "ur7GAuRpWpk0"
      },
      "source": [
        "## Ejercicio 9\n",
        "Crear una función que calcule el MCD de dos número por el método de Euclides.\n",
        "\n",
        "El método de Euclides es el siguiente:\n",
        "\n",
        "+ Se divide el número mayor entre el menor.\n",
        "+ Si la división es exacta, el divisor es el MCD.\n",
        "+ Si la división no es exacta, dividimos el divisor entre el resto obtenido y se continúa de esta forma hasta obtener una división exacta, siendo el último divisor el MCD.\n",
        "\n",
        "\n",
        "Crea un programa principal que lea dos números enteros y muestre el MCD."
      ]
    },
    {
      "cell_type": "markdown",
      "metadata": {
        "id": "4GVQVdzcW2Jk"
      },
      "source": [
        "## Ejercicio 10\n",
        "Escribir dos funciones que permitan calcular:\n",
        "\n",
        "+ La cantidad de segundos en un tiempo dado en horas, minutos y segundos.\n",
        "+ La cantidad de horas, minutos y segundos de un tiempo dado en segundos.\n",
        "\n",
        "Escribe un programa principal con un menú donde se pueda elegir la opción de convertir a segundos, convertir a horas,minutos y segundos o salir del programa."
      ]
    },
    {
      "cell_type": "markdown",
      "metadata": {
        "id": "sDgH3UJkXAn5"
      },
      "source": [
        "## Ejercicio 11\n",
        "El día juliano correspondiente a una fecha es un número entero que indica los días que han transcurrido desde el 1 de enero del año indicado.\n",
        "\n",
        "Queremos crear un programa principal que al introducir una fecha nos diga el día juliano que corresponde. Para ello podemos hacer las siguientes subrutinas:\n",
        "\n",
        "+ LeerFecha: Nos permite leer por teclado una fecha (día, mes y año).\n",
        "+ DiasDelMes: Recibe un mes y un año y nos dice los días de ese mes en ese año.\n",
        "+ EsBisiesto: Recibe un año y nos dice si es bisiesto.\n",
        "+ Calcular_Dia_Juliano: recibe una fecha y nos devuelve el día juliano."
      ]
    },
    {
      "cell_type": "markdown",
      "metadata": {
        "id": "Johi6PUTXQlH"
      },
      "source": [
        "## Ejercicio 12\n",
        "Vamos a mejorar el ejercicio anterior haciendo una función para validar la fecha. De tal forma que al leer una fecha se asegura que es válida."
      ]
    },
    {
      "cell_type": "markdown",
      "metadata": {
        "id": "7AD6g_xhXXFi"
      },
      "source": [
        "## Ejercicio 13\n",
        "Queremos crear un programa que trabaje con fracciones a/b. Para representar una fracción vamos a utilizar dos enteros: numerador y denominador.\n",
        "\n",
        "Vamos a crear las siguientes funciones para trabajar con funciones:\n",
        "\n",
        "+ **Leer_fracción**: La tarea de esta función es leer por teclado el numerador y el denominador. Cuando leas una fracción debes simplificarla.\n",
        "+ **Escribir_fracción**: Esta función escribe en pantalla la fracción. Si el dominador es 1, se muestra sólo el numerador.\n",
        "+ **Calcular_mcd**: Esta función recibe dos número y devuelve el máximo común divisor.\n",
        "+ **Simplificar_fracción**: Esta función simplifica la fracción, para ello hay que dividir numerador y dominador por el MCD del numerador y denominador.\n",
        "+ **Sumar_fracciones**: Función que recibe dos funciones n1/d1 y n2/d2, y calcula la suma de las dos fracciones. La suma de dos fracciones es otra fracción cuyo numerador=n1*d2+d1*n2 y denominador=d1*d2. Se debe simplificar la fracción resultado.\n",
        "+ **Restar_fracciones**: Función que resta dos fracciones: numerador=n1*d2-d1*n2 y denominador=d1*d2. Se debe simplificar la fracción resultado.\n",
        "+ **Multiplicar_fracciones**: Función que recibe dos fracciones y calcula el producto, para ello numerador=n1*n2 y denominador=d1*d2. Se debe simplificar la fracción resultado.\n",
        "+ **Dividir_fracciones**: Función que recibe dos fracciones y calcula el cociente, para ello numerador=n1*d2 y denominador=d1*n2. Se debe simplificar la fracción resultado.\n",
        "\n",
        "Crear un programa que utilizando las funciones anteriores muestre el siguiente menú:\n",
        "\n",
        "1. Sumar dos fracciones: En esta opción se piden dos fracciones y se muestra el resultado.\n",
        "2. Restar dos fracciones: En esta opción se piden dos fracciones y se muestra la resta.\n",
        "3. Multiplicar dos fracciones: En esta opción se piden dos fracciones y se muestra la producto.\n",
        "4. Dividir dos fracciones: En esta opción se piden dos fracciones y se muestra la cociente.\n",
        "5. Salir"
      ]
    },
    {
      "cell_type": "markdown",
      "metadata": {
        "id": "-R2uj4xIYV_U"
      },
      "source": [
        "## Ejercicio 14\n",
        "Vamos a crear un programa para trabajar con una pila.\n",
        "\n",
        "Una pila es una estructura de datos que nos permite guardar un conjunto de variables. La característica fundamental es que el último elemento que se añade al conjunto es el primero que se puede sacar.\n",
        "\n",
        "Para representar una pila vamos a utilizar una lista de cadenas de caracteres.\n",
        "\n",
        "Vamos a crear varias funciones para trabajar con la pila:\n",
        "\n",
        "+ **LongitudPila**: Función que recibe una pila y devuelve el número de elementos que tiene.\n",
        "+ **EstaVaciaPila**: Función que recibe una pila y que devuelve si la pila está vacía, no tiene elementos.\n",
        "+ **EstaLlenaPila**: Función que recibe una pila y que devuelve si la pila está llena.\n",
        "+ **AddPila**: función que recibe una cadena de caracteres y una pila, y añade la cadena a la pila, si no está llena. si esta llena muestra un mensaje de error.\n",
        "+ **SacarDeLaPila**: Función que recibe una pila y devuelve el último elemento añadido y lo borra de la pila. Si la pila está vacía muestra un mensaje de error.\n",
        "+ **EscribirPila**: Función que recibe una pila y muestra en pantalla los elementos de la pila.\n",
        "\n",
        "\n",
        "Realiza un programa principal que nos permita usar las funciones anterior, que nos muestre un menú, con las siguientes opciones:\n",
        "\n",
        "1. Añadir elemento a la pila\n",
        "2. Sacar elemento de la pila\n",
        "3. Longitud de la pila\n",
        "4. Mostrar pila\n",
        "5. Salir"
      ]
    },
    {
      "cell_type": "markdown",
      "metadata": {
        "id": "jx6kQJaTYyou"
      },
      "source": [
        "## Ejercicio 15\n",
        "Vamos a realizar un programa similar al anterior para trabajar con una **cola**.\n",
        "\n",
        "Una cola es una estructura de datos que nos permite guardar un conjunto de variables. La característica fundamental es que el primer elemento que se añade al conjunto es el primero que se puede sacar.\n",
        "\n",
        "En realidad nos sirven todas las funciones del ejercicio anterior menos la función **SacarDeLaCola** que es la que tienes que modificar."
      ]
    }
  ],
  "metadata": {
    "colab": {
      "provenance": []
    },
    "kernelspec": {
      "display_name": "Python 3",
      "name": "python3"
    },
    "language_info": {
      "codemirror_mode": {
        "name": "ipython",
        "version": 3
      },
      "file_extension": ".py",
      "mimetype": "text/x-python",
      "name": "python",
      "nbconvert_exporter": "python",
      "pygments_lexer": "ipython3",
      "version": "3.11.6"
    }
  },
  "nbformat": 4,
  "nbformat_minor": 0
}
