{
  "nbformat": 4,
  "nbformat_minor": 0,
  "metadata": {
    "colab": {
      "provenance": []
    },
    "kernelspec": {
      "name": "python3",
      "display_name": "Python 3"
    },
    "language_info": {
      "name": "python"
    }
  },
  "cells": [
    {
      "cell_type": "markdown",
      "source": [
        "Las tuplas **(tuple)**: Sirven para los mismo que las listas (me permiten guardar un conjunto de datos que se pueden repetir y que pueden ser de distintos tipos), pero **en este caso es un tipo inmutable**.\n",
        "\n",
        "# Construcción de una tupla\n",
        "\n",
        "Para crear una lista puedo usar los caracteres ( y ):"
      ],
      "metadata": {
        "id": "Accv8mAE1oP3"
      }
    },
    {
      "cell_type": "code",
      "source": [
        "tupla = ()\n",
        "\n",
        "tupla2 = ('a', 1, True)"
      ],
      "metadata": {
        "id": "TVFKg2PvwDyZ"
      },
      "execution_count": null,
      "outputs": []
    },
    {
      "cell_type": "markdown",
      "source": [
        "# Operaciones básicas con tuplas\n",
        "\n",
        "En las tuplas se pueden realizar las siguientes operaciones:\n",
        "\n",
        "* Las tuplas se pueden recorrer.\n",
        "* Operadores de pertenencia: in y not in.\n",
        "* Concatenación: +\n",
        "* Repetición: *\n",
        "* Indexación\n",
        "* Slice\n",
        "\n",
        "Entre las funciones definidas podemos usar: **len, max, min, sum, sorted**\n",
        "\n",
        "Como hemos dicho con anterioridad:\n",
        "\n",
        "## Las tuplas son inmutables"
      ],
      "metadata": {
        "id": "4LsLa2rotalG"
      }
    },
    {
      "cell_type": "code",
      "source": [
        "tupla = (1,2,3)\n",
        "\n",
        "tupla[1] = 5"
      ],
      "metadata": {
        "colab": {
          "base_uri": "https://localhost:8080/",
          "height": 218
        },
        "id": "0fgpO1r8wxAQ",
        "outputId": "a96c3e2a-f57b-416e-a54e-a871423039fc"
      },
      "execution_count": null,
      "outputs": [
        {
          "output_type": "error",
          "ename": "TypeError",
          "evalue": "ignored",
          "traceback": [
            "\u001b[0;31m---------------------------------------------------------------------------\u001b[0m",
            "\u001b[0;31mTypeError\u001b[0m                                 Traceback (most recent call last)",
            "\u001b[0;32m<ipython-input-2-1dfd63c22bf1>\u001b[0m in \u001b[0;36m<cell line: 3>\u001b[0;34m()\u001b[0m\n\u001b[1;32m      1\u001b[0m \u001b[0mtupla\u001b[0m \u001b[0;34m=\u001b[0m \u001b[0;34m(\u001b[0m\u001b[0;36m1\u001b[0m\u001b[0;34m,\u001b[0m\u001b[0;36m2\u001b[0m\u001b[0;34m,\u001b[0m\u001b[0;36m3\u001b[0m\u001b[0;34m)\u001b[0m\u001b[0;34m\u001b[0m\u001b[0;34m\u001b[0m\u001b[0m\n\u001b[1;32m      2\u001b[0m \u001b[0;34m\u001b[0m\u001b[0m\n\u001b[0;32m----> 3\u001b[0;31m \u001b[0mtupla\u001b[0m\u001b[0;34m[\u001b[0m\u001b[0;36m1\u001b[0m\u001b[0;34m]\u001b[0m \u001b[0;34m=\u001b[0m \u001b[0;36m5\u001b[0m\u001b[0;34m\u001b[0m\u001b[0;34m\u001b[0m\u001b[0m\n\u001b[0m",
            "\u001b[0;31mTypeError\u001b[0m: 'tuple' object does not support item assignment"
          ]
        }
      ]
    },
    {
      "cell_type": "markdown",
      "source": [
        "# Método Principales\n",
        "\n",
        "#### Métodos de Búsqueda: count, index\n",
        "\n",
        "\n",
        "\n"
      ],
      "metadata": {
        "id": "kAi1Ieqvtsjd"
      }
    },
    {
      "cell_type": "code",
      "execution_count": null,
      "metadata": {
        "id": "-bXEUIiH1jnR",
        "colab": {
          "base_uri": "https://localhost:8080/"
        },
        "outputId": "341c1c08-e355-45a0-8711-0b756fc0ab21"
      },
      "outputs": [
        {
          "output_type": "stream",
          "name": "stdout",
          "text": [
            "2\n",
            "0\n",
            "4\n"
          ]
        }
      ],
      "source": [
        "tupla = (1,2,3,4,1,2,3)\n",
        "\n",
        "print(tupla.count(1))\n",
        "\n",
        "print(tupla.index(1))\n",
        "\n",
        "print(tupla.index(1,2,6))"
      ]
    }
  ]
}