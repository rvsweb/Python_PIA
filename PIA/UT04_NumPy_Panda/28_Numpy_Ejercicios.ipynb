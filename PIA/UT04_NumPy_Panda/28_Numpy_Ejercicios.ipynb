{
  "nbformat": 4,
  "nbformat_minor": 0,
  "metadata": {
    "colab": {
      "provenance": []
    },
    "kernelspec": {
      "name": "python3",
      "display_name": "Python 3"
    },
    "language_info": {
      "name": "python"
    }
  },
  "cells": [
    {
      "cell_type": "markdown",
      "metadata": {
        "id": "LXgzv1V5lPXi"
      },
      "source": [
        "# Ejercicios NumPy"
      ]
    },
    {
      "cell_type": "markdown",
      "metadata": {
        "id": "dA5cYe7AlShE"
      },
      "source": [
        "Tras hacer tus propias pruebas con la teoría de NumPy, completa los siguientes ejercicios en orden"
      ]
    },
    {
      "cell_type": "markdown",
      "metadata": {
        "id": "ADfp2pApl4BF"
      },
      "source": [
        "---\n",
        "## Ejercicio 1"
      ]
    },
    {
      "cell_type": "markdown",
      "metadata": {
        "id": "KXZZO1zol8Qo"
      },
      "source": [
        "Antes de empezar a trabajar de verdad, tendrás que importar la librería de NumPy para poder trabajar con ella:"
      ]
    },
    {
      "cell_type": "code",
      "metadata": {
        "id": "KZOgslZVl9OD"
      },
      "source": [],
      "execution_count": null,
      "outputs": []
    },
    {
      "cell_type": "markdown",
      "metadata": {
        "id": "4VkL00bgl9ge"
      },
      "source": [
        "---\n",
        "## Ejercicio 2"
      ]
    },
    {
      "cell_type": "markdown",
      "metadata": {
        "id": "BoZhx3JLl-Si"
      },
      "source": [
        "Crea un array de **una dimensión** con los 10 valores que tu quieras y muéstralo por pantalla:"
      ]
    },
    {
      "cell_type": "code",
      "metadata": {
        "id": "Dy7Unk9Wl-qx"
      },
      "source": [],
      "execution_count": null,
      "outputs": []
    },
    {
      "cell_type": "markdown",
      "metadata": {
        "id": "6677oBi5l--F"
      },
      "source": [
        "---\n",
        "## Ejercicio 3"
      ]
    },
    {
      "cell_type": "markdown",
      "metadata": {
        "id": "41JYosl8l_wm"
      },
      "source": [
        "Crea un array de distinto nombre al anterior de **dos dimensiones** con los 3x3 valores que tu quieras y muéstrala por pantalla:"
      ]
    },
    {
      "cell_type": "code",
      "metadata": {
        "id": "5mlfPZf6mABE"
      },
      "source": [],
      "execution_count": null,
      "outputs": []
    },
    {
      "cell_type": "markdown",
      "metadata": {
        "id": "eVg9kk42mAX_"
      },
      "source": [
        "---\n",
        "## Ejercicio 4"
      ]
    },
    {
      "cell_type": "markdown",
      "metadata": {
        "id": "pedf75MGmA-I"
      },
      "source": [
        "Crea un array de distinto nombre a los anteriores de **tres dimensiones** con los 2x2x2 valores que tu quieras y muéstrala por pantalla:"
      ]
    },
    {
      "cell_type": "code",
      "metadata": {
        "id": "N6u9E6i3mBLv"
      },
      "source": [],
      "execution_count": null,
      "outputs": []
    },
    {
      "cell_type": "markdown",
      "metadata": {
        "id": "NK3e4TpmmBfN"
      },
      "source": [
        "---\n",
        "## Ejercicio 5"
      ]
    },
    {
      "cell_type": "markdown",
      "metadata": {
        "id": "YNcdlYDjmCBY"
      },
      "source": [
        "Muestra las dimensiones, el tamaño y la forma que tienen las tres matrices creadas anteriormente:"
      ]
    },
    {
      "cell_type": "code",
      "metadata": {
        "id": "kB77aVDhmCN2"
      },
      "source": [],
      "execution_count": null,
      "outputs": []
    },
    {
      "cell_type": "markdown",
      "metadata": {
        "id": "dWM-6b0lnBbZ"
      },
      "source": [
        "---\n",
        "## Ejercicio 6"
      ]
    },
    {
      "cell_type": "markdown",
      "metadata": {
        "id": "oowvRvyrnCMy"
      },
      "source": [
        "Crea un array de una dimensión de tipo int8. En una de las posiciones pon el valor 1000. ¿Qué ocurre y porqué?"
      ]
    },
    {
      "cell_type": "code",
      "metadata": {
        "id": "8l_eEmAvnCcL"
      },
      "source": [],
      "execution_count": null,
      "outputs": []
    },
    {
      "cell_type": "markdown",
      "metadata": {
        "id": "qV3M-sd0nC26"
      },
      "source": [
        "---\n",
        "## Ejercicio 7"
      ]
    },
    {
      "cell_type": "markdown",
      "metadata": {
        "id": "yYZC-dFOnDmZ"
      },
      "source": [
        "Crea un array de dos dimensiones de tipo float128 y luego muestra su tipo por pantalla:"
      ]
    },
    {
      "cell_type": "code",
      "metadata": {
        "id": "LkAGxyuFnDwh"
      },
      "source": [],
      "execution_count": null,
      "outputs": []
    },
    {
      "cell_type": "markdown",
      "metadata": {
        "id": "OZ3XX41HnEO1"
      },
      "source": [
        "---\n",
        "## Ejercicio 8"
      ]
    },
    {
      "cell_type": "markdown",
      "metadata": {
        "id": "3qBso9AbnE-9"
      },
      "source": [
        "Crea un array con todos los múltiplos de 5 en una sola instrucción y muéstralo por pantalla:"
      ]
    },
    {
      "cell_type": "code",
      "metadata": {
        "id": "NpShB_oUnFKN"
      },
      "source": [],
      "execution_count": null,
      "outputs": []
    },
    {
      "cell_type": "markdown",
      "metadata": {
        "id": "Z2Ymsre1nFp-"
      },
      "source": [
        "---\n",
        "## Ejercicio 9"
      ]
    },
    {
      "cell_type": "markdown",
      "metadata": {
        "id": "R2LvvpIUnGXJ"
      },
      "source": [
        "Crea un array con 20 valores entre los números 1 y 2. Estos valores deben estar distribuídos de manera equitativa:"
      ]
    },
    {
      "cell_type": "code",
      "metadata": {
        "id": "ft9_dnY1nGhd"
      },
      "source": [],
      "execution_count": null,
      "outputs": []
    },
    {
      "cell_type": "markdown",
      "metadata": {
        "id": "V_2YvVrUnGzO"
      },
      "source": [
        "---\n",
        "## Ejercicio 10"
      ]
    },
    {
      "cell_type": "markdown",
      "metadata": {
        "id": "veIUhoHdnHkC"
      },
      "source": [
        "Crea una matriz de forma 2x3 y muéstrala por pantalla. A continuación cambia su forma a una matriz 3x2"
      ]
    },
    {
      "cell_type": "code",
      "metadata": {
        "id": "4xmNj-genHwf"
      },
      "source": [],
      "execution_count": null,
      "outputs": []
    },
    {
      "cell_type": "markdown",
      "metadata": {
        "id": "0OKve7lDoPMT"
      },
      "source": [
        "---\n",
        "## Ejercicio 11"
      ]
    },
    {
      "cell_type": "markdown",
      "metadata": {
        "id": "O-WK7p6soR8-"
      },
      "source": [
        "Crea una matriz de 3x6 con valores aleatorios. Después muestra por pantalla las siguientes convinaciones:\n",
        "*   La primera fila entera\n",
        "*   La primera columna entera\n",
        "*   Todos los valores entre las columnas 2 y 4\n",
        "*   Todos los valores de las filas 1 y 2\n",
        "*   Todos los valores entre las filas 2 y 3 y las columnas 5 y 6"
      ]
    },
    {
      "cell_type": "code",
      "metadata": {
        "id": "A21uA-KdohAT"
      },
      "source": [],
      "execution_count": null,
      "outputs": []
    },
    {
      "cell_type": "markdown",
      "metadata": {
        "id": "NcMs8O0xohx0"
      },
      "source": [
        "---\n",
        "## Ejercicio 12"
      ]
    },
    {
      "cell_type": "markdown",
      "metadata": {
        "id": "O2Aabc_Uoiqe"
      },
      "source": [
        "Crea un array de tamaño 1x5. Después añádele 5 elementos nuevos. Por último, elimina los dos primeros valores y muéstralo por pantalla:"
      ]
    },
    {
      "cell_type": "code",
      "metadata": {
        "id": "8tSosR39oi2O"
      },
      "source": [],
      "execution_count": null,
      "outputs": []
    },
    {
      "cell_type": "markdown",
      "metadata": {
        "id": "M9WW962tojUz"
      },
      "source": [
        "---\n",
        "## Ejercicio 13"
      ]
    },
    {
      "cell_type": "markdown",
      "metadata": {
        "id": "kPfnKIW6okVX"
      },
      "source": [
        "Crea dos matrices 3x3, una con valores aleatorios y otra de identidad. Realiza las cuatro operaciones básicas entre ellas (suma, resta, multiplicación y división). Por último, calcula la raíz cuadrada de matriz de identidad."
      ]
    },
    {
      "cell_type": "code",
      "metadata": {
        "id": "h5PJEntqoks0"
      },
      "source": [],
      "execution_count": null,
      "outputs": []
    },
    {
      "cell_type": "markdown",
      "metadata": {
        "id": "-pvYqcfFolmh"
      },
      "source": [
        "---\n",
        "## Ejercicio 14"
      ]
    },
    {
      "cell_type": "markdown",
      "metadata": {
        "id": "sM9V2Ulnomoo"
      },
      "source": [
        "Sin utilizar las funciones std, mean y median de NumPy, programa dichas funcionalidades:"
      ]
    },
    {
      "cell_type": "code",
      "metadata": {
        "id": "eeN5RTZQom_m"
      },
      "source": [],
      "execution_count": null,
      "outputs": []
    },
    {
      "cell_type": "markdown",
      "metadata": {
        "id": "-QL_QTj-oncQ"
      },
      "source": [
        "---\n",
        "## Ejercicio 15"
      ]
    },
    {
      "cell_type": "markdown",
      "metadata": {
        "id": "jxdjFioFooZS"
      },
      "source": [
        "Compara los tiempos de ejecución entre las funciones que has creado anteriormente  y las de NumPy para matrices de tamaño 1.000.000 x 1.000.000 con valores aleatorios:"
      ]
    },
    {
      "cell_type": "code",
      "metadata": {
        "id": "3Z7iVaiooosD"
      },
      "source": [],
      "execution_count": null,
      "outputs": []
    }
  ]
}