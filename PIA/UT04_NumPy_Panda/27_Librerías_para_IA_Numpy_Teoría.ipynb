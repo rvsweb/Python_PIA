{
  "cells": [
    {
      "cell_type": "markdown",
      "metadata": {
        "id": "z6Z5YIWBDsxK"
      },
      "source": [
        "# NumPy"
      ]
    },
    {
      "cell_type": "markdown",
      "metadata": {
        "id": "h_fD-nMEE1iI"
      },
      "source": [
        "---\n",
        "## Introducción"
      ]
    },
    {
      "cell_type": "markdown",
      "metadata": {
        "id": "lBYAFcgwE3Yi"
      },
      "source": [
        "NumPy es un módulo de Python. El nombre viene de **PY**thon **NUM**érico. Es una librería de código abierto muy utilizada para la generación y manejo de matrices multidimensionales. En su mayor parte está escrito en C para optimizar su velocidad de ejercución.\n",
        "\n",
        "Además, los objetos de Pandas (librería que veremos próximamente) dependen en gran medida de los objetos de NumPy ya que Pandas extiende a NumPy.\n",
        "\n",
        "Aquí os dejo la url de la [documentación oficial](https://numpy.org/doc/stable/) de NumPy."
      ]
    },
    {
      "cell_type": "markdown",
      "metadata": {
        "id": "YvxcwSHXnDW1"
      },
      "source": [
        "No viene instalado por defecto con Python en Visual Studio Code por lo que tendremos que ejecutar la siguiente línea en la consola:"
      ]
    },
    {
      "cell_type": "code",
      "execution_count": 2,
      "metadata": {
        "id": "vz9f1JDwnNsg"
      },
      "outputs": [
        {
          "ename": "SyntaxError",
          "evalue": "invalid syntax (1194955445.py, line 2)",
          "output_type": "error",
          "traceback": [
            "\u001b[1;36m  Cell \u001b[1;32mIn[2], line 2\u001b[1;36m\u001b[0m\n\u001b[1;33m    pip install numpy\u001b[0m\n\u001b[1;37m        ^\u001b[0m\n\u001b[1;31mSyntaxError\u001b[0m\u001b[1;31m:\u001b[0m invalid syntax\n"
          ]
        }
      ],
      "source": [
        "# pip es el gestor de paquetes de Python\n",
        "import numpy\n",
        "\n",
        "\n",
        "pip install numpy"
      ]
    },
    {
      "cell_type": "markdown",
      "metadata": {
        "id": "GNbNW9biE8rS"
      },
      "source": [
        "Además, para nuestros proyectos no vendrá importado por defecto por lo que tendremos que hacerlo nosotros:"
      ]
    },
    {
      "cell_type": "code",
      "execution_count": null,
      "metadata": {
        "id": "yoKVTkB-DYIE"
      },
      "outputs": [],
      "source": [
        "import numpy as np # np es el diminutivo por defecto que se suele ver en internet"
      ]
    },
    {
      "cell_type": "markdown",
      "metadata": {
        "id": "p6XEXRjN1uDb"
      },
      "source": [
        "## Otra opción es usar Anaconda y Jupyter (hagamos un inciso aquí para verlo)\n",
        "\n",
        "[Web Oficial Anaconda](https://www.anaconda.com/)"
      ]
    },
    {
      "cell_type": "markdown",
      "metadata": {
        "id": "9pYvu5-MGDhF"
      },
      "source": [
        "---\n",
        "## Arrays"
      ]
    },
    {
      "cell_type": "markdown",
      "metadata": {
        "id": "3j-rfLx3GVQk"
      },
      "source": [
        "Con NumPy podemos crear arrays de todo tipo de dimensiones: 1D, 2D, 3D...\n",
        "Para ello, podremos utilizar los siguientes comandos:"
      ]
    },
    {
      "cell_type": "code",
      "execution_count": null,
      "metadata": {
        "colab": {
          "base_uri": "https://localhost:8080/"
        },
        "id": "Soo9eaE3GUcJ",
        "outputId": "9427df38-ea78-4576-a770-681dc9598da0"
      },
      "outputs": [
        {
          "name": "stdout",
          "output_type": "stream",
          "text": [
            "[1 2 3]\n",
            "[[1 2 3]\n",
            " [4 5 6]\n",
            " [7 8 9]]\n",
            "[[1 2 3]\n",
            " [4 5 6]\n",
            " [7 8 9]]\n"
          ]
        }
      ],
      "source": [
        "# NumPy cuenta con la función \"array\" que crea su propia estructura de datos de array en función de los datos recibidos\n",
        "# 1D\n",
        "a = np.array([1,2,3])\n",
        "print(a)\n",
        "\n",
        "# 2D con listas de listas\n",
        "a = np.array([[1,2,3],[4,5,6],[7,8,9]])\n",
        "print(a)\n",
        "\n",
        "# 2D con listas de tuplas\n",
        "a = np.array([(1,2,3),(4,5,6),(7,8,9)])\n",
        "print(a)"
      ]
    },
    {
      "cell_type": "markdown",
      "metadata": {
        "id": "anDoV3zHOItN"
      },
      "source": [
        "---\n",
        "## Tipos de datos"
      ]
    },
    {
      "cell_type": "markdown",
      "metadata": {
        "id": "yVP3pes5PTgP"
      },
      "source": [
        "Con NumPy puedes decidir el tipo de datos de un array. Hecho muy importante ya que en función de esto dependerá la información que almacenemos y el espacio que ocupe en memoria:"
      ]
    },
    {
      "cell_type": "code",
      "execution_count": null,
      "metadata": {
        "colab": {
          "base_uri": "https://localhost:8080/"
        },
        "id": "sV-88QTRPk1u",
        "outputId": "087f9c4e-c18d-4765-eaa2-5f5aa778f39b"
      },
      "outputs": [
        {
          "name": "stdout",
          "output_type": "stream",
          "text": [
            "[[1. 2. 3. 4.]\n",
            " [5. 6. 7. 8.]]\n",
            "<class 'numpy.float128'>\n",
            "[[1 2 3 4]\n",
            " [5 6 7 8]]\n",
            "<class 'numpy.int8'>\n",
            "[[ 1  2  3  4]\n",
            " [ 5  6  7 -1]]\n",
            "<class 'numpy.int8'>\n"
          ]
        }
      ],
      "source": [
        "array_float = np.array([[1,2,3,4],[5,6,7,8]], dtype=np.float128) # hay distintos tipos de float: 16, 32, 64, 128\n",
        "print(array_float)\n",
        "print(type(array_float[0][0]))\n",
        "\n",
        "# Al igual que float, también hay distintos tipos de int (8, 16, 32, 64),\n",
        "array_int = np.array([[1,2,3,4],[5,6,7,8]], dtype=np.int8)\n",
        "print(array_int)\n",
        "print(type(array_int[0][0]))\n",
        "\n",
        "# Habrá que tener cuidado ya que cada tipo de dato tiene su límite numérico\n",
        "array_int = np.array([[1,2,3,4],[5,6,7,1000]], dtype=np.int8)\n",
        "print(array_int)"
      ]
    },
    {
      "cell_type": "markdown",
      "metadata": {
        "id": "Kv1iwpb1UwDB"
      },
      "source": [
        "---\n",
        "## Matrices predefinidas"
      ]
    },
    {
      "cell_type": "markdown",
      "metadata": {
        "id": "eUW0EaYFUyJC"
      },
      "source": [
        "Otra de las ventajas es que NumPy permite crear matrices vacías o rellenas con valores aleatorios de distintas formas"
      ]
    },
    {
      "cell_type": "code",
      "execution_count": null,
      "metadata": {
        "colab": {
          "base_uri": "https://localhost:8080/"
        },
        "id": "RCK2JxdhVHLq",
        "outputId": "ab225a25-cd16-43e2-c9fc-435ddd5f8112"
      },
      "outputs": [
        {
          "name": "stdout",
          "output_type": "stream",
          "text": [
            "[[1. 1. 1. 1.]\n",
            " [1. 1. 1. 1.]\n",
            " [1. 1. 1. 1.]]\n",
            "[[0. 0. 0. 0. 0.]\n",
            " [0. 0. 0. 0. 0.]]\n",
            "[[0.63667376 0.38237538 0.62922992]\n",
            " [0.85817229 0.22058705 0.48235666]\n",
            " [0.36536953 0.29787294 0.62113401]]\n",
            "[[5.e-324 5.e-324]\n",
            " [5.e-324 0.e+000]]\n",
            "[[5 5 5]\n",
            " [5 5 5]]\n"
          ]
        }
      ],
      "source": [
        "# matriz rellena de unos\n",
        "unos = np.ones((3,4))\n",
        "print(unos)\n",
        "\n",
        "# matriz rellena de ceros\n",
        "ceros = np.zeros((2,5))\n",
        "print(ceros)\n",
        "\n",
        "# matriz rellena de números aleatorios (entre 0 y 1)\n",
        "aleatorios = np.random.random((3,3))\n",
        "print(aleatorios)\n",
        "\n",
        "# matriz vacía\n",
        "vacia = np.empty((2,2))\n",
        "print(vacia)\n",
        "\n",
        "# matriz con un mismo valor\n",
        "valor = np.full((2,3), 5)\n",
        "print(valor)"
      ]
    },
    {
      "cell_type": "markdown",
      "metadata": {
        "id": "0asleqEIWlEa"
      },
      "source": [
        "Si en lugar de crear valores de las formas anteriores preferimos crearlos en un intérvalo concreto podremos utilizar estas dos funciones:"
      ]
    },
    {
      "cell_type": "code",
      "execution_count": null,
      "metadata": {
        "colab": {
          "base_uri": "https://localhost:8080/"
        },
        "id": "tDDABj5WWtj-",
        "outputId": "ab2677a2-5a56-42da-eb30-90109290658b"
      },
      "outputs": [
        {
          "name": "stdout",
          "output_type": "stream",
          "text": [
            "[ 0  5 10 15 20 25 30 35 40 45]\n",
            "[ 0.   2.5  5.   7.5 10. ]\n"
          ]
        }
      ],
      "source": [
        "# crea una matriz con valores especificados en función de un rango\n",
        "m1 = np.arange(0, 50, 5)\n",
        "print(m1)\n",
        "\n",
        "# crea matriz con valores entre dos datos y definiendo el número de elementos\n",
        "m2 = np.linspace(0, 10, 5)\n",
        "print(m2)"
      ]
    },
    {
      "cell_type": "markdown",
      "metadata": {
        "id": "pgOylyNNXPIJ"
      },
      "source": [
        "Por último, una matriz muy típica es la matriz \"identidad\". Si queremos generar este tipo de matrices tenemos dos formas:"
      ]
    },
    {
      "cell_type": "code",
      "execution_count": null,
      "metadata": {
        "colab": {
          "base_uri": "https://localhost:8080/"
        },
        "id": "NpWq8kf8XUf5",
        "outputId": "de97ba4f-20f7-4e06-d276-99a63f23e807"
      },
      "outputs": [
        {
          "name": "stdout",
          "output_type": "stream",
          "text": [
            "[[1. 0. 0. 0.]\n",
            " [0. 1. 0. 0.]\n",
            " [0. 0. 1. 0.]\n",
            " [0. 0. 0. 1.]]\n",
            "[[1. 0. 0. 0.]\n",
            " [0. 1. 0. 0.]\n",
            " [0. 0. 1. 0.]\n",
            " [0. 0. 0. 1.]]\n"
          ]
        }
      ],
      "source": [
        "# genera matrices de identidad de cualquier dimensión\n",
        "id1 = np.eye(4,4)\n",
        "print(id1)\n",
        "\n",
        "# genera matrices de identidad cuadradas\n",
        "id2 = np.identity(4)\n",
        "print(id2)"
      ]
    },
    {
      "cell_type": "markdown",
      "metadata": {
        "id": "0sl803TOXy33"
      },
      "source": [
        "---\n",
        "## Funciones sobre matrices"
      ]
    },
    {
      "cell_type": "markdown",
      "metadata": {
        "id": "vgAEyGeKX2Oz"
      },
      "source": [
        "NumPy incluye una serie de funciones útiles a la hora de inspeccionar las matrices generadas:"
      ]
    },
    {
      "cell_type": "code",
      "execution_count": null,
      "metadata": {
        "colab": {
          "base_uri": "https://localhost:8080/"
        },
        "id": "hJKhoW1RX8ER",
        "outputId": "3b00e735-3e8b-42e1-8e51-9dc0c61920bb"
      },
      "outputs": [
        {
          "name": "stdout",
          "output_type": "stream",
          "text": [
            "Dimensiones A:  2\n",
            "Dimensiones B:  3\n",
            "Tipo A:  int64\n",
            "Tipo B:  float64\n",
            "Tamaño A:  6\n",
            "Forma A:  (2, 3)\n",
            "Tamaño B:  12\n",
            "Forma B:  (2, 2, 3)\n"
          ]
        }
      ],
      "source": [
        "import numpy as np\n",
        "\n",
        "a = np.array([[1,2,3],[4,5,6]])\n",
        "b = np.array([[[1.1,2.2,3.3],[4.4,5.5,6.6]],[[7.7,8.8,9.9],[10.1,11.2,12.3]]])\n",
        "\n",
        "# saber las dimensiones de un array\n",
        "print(\"Dimensiones A: \", a.ndim)\n",
        "print(\"Dimensiones B: \", b.ndim)\n",
        "\n",
        "# conocer el tipo de datos de un array\n",
        "print(\"Tipo A: \", a.dtype)\n",
        "print(\"Tipo B: \", b.dtype)\n",
        "\n",
        "# para conocer el tamaño y la forma de una matriz\n",
        "print(\"Tamaño A: \", a.size)\n",
        "print(\"Forma A: \", a.shape)\n",
        "print(\"Tamaño B: \", b.size)\n",
        "print(\"Forma B: \", b.shape)\n"
      ]
    },
    {
      "cell_type": "markdown",
      "metadata": {
        "id": "JiTKDz0VZUX4"
      },
      "source": [
        "También podemos cambiar el tamaño y la forma de las matrices:"
      ]
    },
    {
      "cell_type": "code",
      "execution_count": null,
      "metadata": {
        "colab": {
          "base_uri": "https://localhost:8080/"
        },
        "id": "n4YtaTwaZXfz",
        "outputId": "dd53e2e3-f935-4a07-904e-f2ad13ed2035"
      },
      "outputs": [
        {
          "name": "stdout",
          "output_type": "stream",
          "text": [
            "a:  [[1 2 3]\n",
            " [4 5 6]]\n",
            "c:  [[1 2]\n",
            " [3 4]\n",
            " [5 6]]\n"
          ]
        }
      ],
      "source": [
        "# aprovechamos el elemento \"a\" creado en el bloque anterior\n",
        "print(\"a: \", a)\n",
        "\n",
        "# modificamos su forma para que en lugar de 2 filas y 3 columnas sea 3 filas y 2 columnas:\n",
        "c = a.reshape(3,2) # Esto no ha almacenado el cambio sobre \"a\" sino sobre \"c\"\n",
        "print(\"c: \", c)"
      ]
    },
    {
      "cell_type": "markdown",
      "metadata": {
        "id": "vHDlVM2xaZI6"
      },
      "source": [
        "---\n",
        "## Trabajo sobre posiciones de una matriz"
      ]
    },
    {
      "cell_type": "markdown",
      "metadata": {
        "id": "4p5nbx06acHp"
      },
      "source": [
        "NumPy también ofrece unas maneras más sencillas para trabajar sobre posiciones concretas de una matriz:"
      ]
    },
    {
      "cell_type": "code",
      "execution_count": null,
      "metadata": {
        "colab": {
          "base_uri": "https://localhost:8080/"
        },
        "id": "UeNzRg_VaiBC",
        "outputId": "e7cc0116-3f13-492a-a8bb-da4ea5d12788"
      },
      "outputs": [
        {
          "name": "stdout",
          "output_type": "stream",
          "text": [
            "[[0.31808129 0.98512647 0.42187885 0.53145153 0.33215916]\n",
            " [0.53492506 0.80193155 0.08096006 0.03892644 0.05792654]]\n",
            "0.42187885206324915\n",
            "[0.33215916 0.05792654]\n",
            "[[0.31808129 0.98512647]\n",
            " [0.53492506 0.80193155]]\n",
            "[[1 2 3 4]]\n",
            "[[1 2 3 4]\n",
            " [5 6 7 8]]\n",
            "[[5 6 7 8]]\n",
            "[[5 6 7 8]\n",
            " [1 2 3 4]]\n"
          ]
        }
      ],
      "source": [
        "matriz = np.random.random((2,5))\n",
        "print(matriz)\n",
        "\n",
        "# si quiero obtener el elemento de una posición concreta\n",
        "print(matriz[0,2])\n",
        "\n",
        "# si quiero obtener todas las filas de una columna concreta\n",
        "print(matriz[:,4])\n",
        "\n",
        "# si quiero obtener una submatriz de la matriz\n",
        "print(matriz[:,0:2])\n",
        "\n",
        "# En general podemos utilizar todos los wildcard de listas en numpy\n",
        "my_array1 = np.array([[1,2,3,4],[5,6,7,8]])\n",
        "print(my_array1[0:1])\n",
        "print(my_array1[0:2])\n",
        "print(my_array1[1::])\n",
        "print(my_array1[::-1])"
      ]
    },
    {
      "cell_type": "markdown",
      "metadata": {
        "id": "dCjmQdKNhhCO"
      },
      "source": [
        "---\n",
        "## Modificación de arrays"
      ]
    },
    {
      "cell_type": "markdown",
      "metadata": {
        "id": "RUbQxac9hjPk"
      },
      "source": [
        "Si quisieramos modificar matrices creadas anteriormente podríamos tanto insertar como eliminar partes de las mismas:"
      ]
    },
    {
      "cell_type": "code",
      "execution_count": null,
      "metadata": {
        "colab": {
          "base_uri": "https://localhost:8080/"
        },
        "id": "_tsnO_QkhoPy",
        "outputId": "32c4496a-6672-401a-bc65-ca99bdbec3a6"
      },
      "outputs": [
        {
          "name": "stdout",
          "output_type": "stream",
          "text": [
            "[[1 2 8 0 7]]\n",
            "[ 1  2  8  0  7 10 10 10]\n",
            "[ 1  2  8  0  7 10 10]\n",
            "[1 2 8 0 7]\n"
          ]
        }
      ],
      "source": [
        "matriz = np.random.randint(10, size=(1,5))\n",
        "print(matriz)\n",
        "\n",
        "# Añadimos tres nuevos elementos\n",
        "matriz = np.append(matriz, [10, 10, 10])\n",
        "print(matriz)\n",
        "\n",
        "# Eliminamos el último elemento\n",
        "matriz = np.delete(matriz, 7)\n",
        "print(matriz)\n",
        "\n",
        "# Eliminamos los dos últimos elementos\n",
        "matriz = np.delete(matriz, [5,6])\n",
        "print(matriz)"
      ]
    },
    {
      "cell_type": "markdown",
      "metadata": {
        "id": "2kG9NyiIbYpS"
      },
      "source": [
        "---\n",
        "## Operaciones matemáticas sobre matrices"
      ]
    },
    {
      "cell_type": "markdown",
      "metadata": {
        "id": "kyNBU2mebbj0"
      },
      "source": [
        "Tal y como hemos comentado, NumPy ofrece una serie de funciones optimizadas que facilitan los cálculos matemáticos sobre matrices:"
      ]
    },
    {
      "cell_type": "code",
      "execution_count": null,
      "metadata": {
        "colab": {
          "base_uri": "https://localhost:8080/"
        },
        "id": "N-Cwn9ZabnKM",
        "outputId": "4920c081-5803-45ac-bfd1-f135c1b7b139"
      },
      "outputs": [
        {
          "name": "stdout",
          "output_type": "stream",
          "text": [
            "Matriz 1:\n",
            "[[1 3 1 3]\n",
            " [3 2 3 3]\n",
            " [1 4 3 0]]\n",
            "\n",
            "Matriz 2:\n",
            "[[2 0 4 1]\n",
            " [4 0 4 4]\n",
            " [0 1 1 4]]\n",
            "M1 min:  0\n",
            "M1 max:  4\n",
            "M1 suma:  27\n",
            "M1 sqrt:  [[1.         1.73205081 1.         1.73205081]\n",
            " [1.73205081 1.41421356 1.73205081 1.73205081]\n",
            " [1.         2.         1.73205081 0.        ]]\n",
            "\n",
            "[[3 3 5 4]\n",
            " [7 2 7 7]\n",
            " [1 5 4 4]]\n",
            "[[-1  3 -3  2]\n",
            " [-1  2 -1 -1]\n",
            " [ 1  3  2 -4]]\n",
            "[[ 2  0  4  3]\n",
            " [12  0 12 12]\n",
            " [ 0  4  3  0]]\n",
            "[[0.5   inf 0.25 3.  ]\n",
            " [0.75  inf 0.75 0.75]\n",
            " [ inf 4.   3.   0.  ]]\n"
          ]
        },
        {
          "name": "stderr",
          "output_type": "stream",
          "text": [
            "/usr/local/lib/python3.7/dist-packages/ipykernel_launcher.py:23: RuntimeWarning: divide by zero encountered in true_divide\n"
          ]
        }
      ],
      "source": [
        "# genero unas matrices con valores aleatorios del 0 al 4\n",
        "matriz_1 = np.random.randint(5, size=(3,4))\n",
        "matriz_2 = np.random.randint(5, size=(3,4))\n",
        "print(\"Matriz 1:\")\n",
        "print(matriz_1)\n",
        "print()\n",
        "print(\"Matriz 2:\")\n",
        "print(matriz_2)\n",
        "\n",
        "# muestro el valor mínimo, máximo y la suma de los valores de una matriz\n",
        "print(\"M1 min: \", matriz_1.min())\n",
        "print(\"M1 max: \", matriz_1.max())\n",
        "print(\"M1 suma: \", matriz_1.sum())\n",
        "\n",
        "# También podemos calcular la raíz cuadrada\n",
        "print(\"M1 sqrt: \", np.sqrt(matriz_1))\n",
        "print()\n",
        "\n",
        "# Por último, podremos hacer cálculos matemáticos básicos entre matrices. Estos cálculos serán posición a posición\n",
        "print(matriz_1 + matriz_2)\n",
        "print(matriz_1 - matriz_2)\n",
        "print(matriz_1 * matriz_2)\n",
        "print(matriz_1 / matriz_2)"
      ]
    },
    {
      "cell_type": "markdown",
      "metadata": {
        "id": "NVr7sa2_dQou"
      },
      "source": [
        "Otras operaciones interesantes y bastantes útiles son:\n",
        "*   El cálculo de la [desviación estándar o típica](https://es.wikipedia.org/wiki/Desviaci%C3%B3n_t%C3%ADpica)\n",
        "*   El cálculo de la [media aritmética](https://es.wikipedia.org/wiki/Media_aritm%C3%A9tica)\n",
        "*   El cálculo de la [mediana](https://es.wikipedia.org/wiki/Mediana_(estad%C3%ADstica))"
      ]
    },
    {
      "cell_type": "code",
      "execution_count": null,
      "metadata": {
        "colab": {
          "base_uri": "https://localhost:8080/"
        },
        "id": "8bOjaNM7dfOr",
        "outputId": "54022ff6-bcee-45fa-f71a-20ab0e33e21e"
      },
      "outputs": [
        {
          "name": "stdout",
          "output_type": "stream",
          "text": [
            "[[1 3 1 3]\n",
            " [3 2 3 3]\n",
            " [1 4 3 0]]\n",
            "1.1636866703140785\n",
            "2.25\n",
            "3.0\n"
          ]
        }
      ],
      "source": [
        "print(matriz_1)\n",
        "\n",
        "# Desviación estándar\n",
        "print(np.std(matriz_1))\n",
        "\n",
        "# Media aritmética\n",
        "print(np.mean(matriz_1))\n",
        "\n",
        "# Mediana\n",
        "print(np.median(matriz_1))"
      ]
    },
    {
      "cell_type": "markdown",
      "metadata": {
        "id": "3CZb0TV5Oh_r"
      },
      "source": [
        "---\n",
        "## Optimización"
      ]
    },
    {
      "cell_type": "markdown",
      "metadata": {
        "id": "nK16CnrGIkGO"
      },
      "source": [
        "Una comparación interesante de NumPy con respecto a Python es que podemos ver el tamaño de los arrays generados y compararlos. De esta forma veremos que NumPy, además de facilitarnos la generación y el uso de matrices, optimiza el espacio en memoria:"
      ]
    },
    {
      "cell_type": "code",
      "execution_count": null,
      "metadata": {
        "colab": {
          "base_uri": "https://localhost:8080/"
        },
        "id": "zAgW2ufIIyFq",
        "outputId": "3a5b341c-9ba3-40a1-a877-bea14105c58b"
      },
      "outputs": [
        {
          "name": "stdout",
          "output_type": "stream",
          "text": [
            "Tamaño lista de python:  28000\n",
            "Tamaño array de NumPy:  8000\n"
          ]
        }
      ],
      "source": [
        "# Esta librería nos dará acceso a algunas variables utilizadas por el intérprete de python\n",
        "import sys\n",
        "\n",
        "# generamos una lista de 1000 números con python\n",
        "lista_python = range(1000)\n",
        "\n",
        "# calculo el tamaño de un número int normal y lo multiplico por la longitud de la lista\n",
        "print(\"Tamaño lista de python: \", sys.getsizeof(5)*len(lista_python))\n",
        "\n",
        "# generamos un array con NumPy\n",
        "array_numpy = np.arange(1000)\n",
        "\n",
        "# calculo el tamaño de un elemento de numpy y lo multiplico por el tamaño del array\n",
        "print(\"Tamaño array de NumPy: \", array_numpy.size * array_numpy.itemsize)"
      ]
    },
    {
      "cell_type": "markdown",
      "metadata": {
        "id": "o9vltPZXJ9Tb"
      },
      "source": [
        "Otra comparación útil de NumPy frente a Python es la velocidad de cálculo. Hagamos un ejemplo:"
      ]
    },
    {
      "cell_type": "code",
      "execution_count": null,
      "metadata": {
        "colab": {
          "base_uri": "https://localhost:8080/"
        },
        "id": "N6fX2TucKVUA",
        "outputId": "e42eab3e-9f50-4f56-b0b5-4a98ad1f6acf"
      },
      "outputs": [
        {
          "name": "stdout",
          "output_type": "stream",
          "text": [
            "Suma Python:  436.0473155975342\n",
            "Suma NumPy:  3.052234649658203\n"
          ]
        }
      ],
      "source": [
        "# importamos la librería time para poder medir tiempos de ejecución\n",
        "import time\n",
        "\n",
        "# definimos un tamaño de lista/array inicial\n",
        "size = 1000000\n",
        "\n",
        "# creamos dos listas y dos arrays del mismo tamaño\n",
        "lista1_python = range(size)\n",
        "lista2_python = range(size)\n",
        "array1_numpy = np.arange(size)\n",
        "array2_numpy = np.arange(size)\n",
        "\n",
        "# guardamos el momento de inicio\n",
        "start = time.time()\n",
        "\n",
        "# calculamos la suma y la almacenamos en result_python\n",
        "result_python = []\n",
        "for i in range(len(lista1_python)):\n",
        "  result_python.append(lista1_python[i] + lista2_python[i])\n",
        "\n",
        "print(\"Suma Python: \", (time.time() - start) * 1000) # multiplico por 1000 para verlo en milisegundos (time devuelve segundos desde epoch)\n",
        "\n",
        "# reinicio el contador del tiempo\n",
        "start = time.time()\n",
        "\n",
        "# calculamos la suma y la almacenamos en un nuevo objeto\n",
        "result_numpy = array1_numpy + array2_numpy\n",
        "\n",
        "print(\"Suma NumPy: \", (time.time() - start) * 1000)"
      ]
    }
  ],
  "metadata": {
    "colab": {
      "provenance": []
    },
    "kernelspec": {
      "display_name": "Python 3",
      "name": "python3"
    },
    "language_info": {
      "codemirror_mode": {
        "name": "ipython",
        "version": 3
      },
      "file_extension": ".py",
      "mimetype": "text/x-python",
      "name": "python",
      "nbconvert_exporter": "python",
      "pygments_lexer": "ipython3",
      "version": "3.11.6"
    }
  },
  "nbformat": 4,
  "nbformat_minor": 0
}
