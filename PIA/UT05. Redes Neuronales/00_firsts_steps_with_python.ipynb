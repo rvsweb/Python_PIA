{
  "cells": [
    {
      "cell_type": "markdown",
      "metadata": {
        "id": "X2Q3sYvlbzpm"
      },
      "source": [
        "## Tu primera red neuronal en Python y Tensorflow\n",
        "\n",
        "Usaremos la función print() que veremos más adelante con profundidad."
      ]
    },
    {
      "cell_type": "code",
      "execution_count": 13,
      "metadata": {
        "colab": {
          "base_uri": "https://localhost:8080/"
        },
        "id": "90Pbp_fZb4im",
        "outputId": "5310e6ce-a30f-4da1-a71c-c3afdc693114"
      },
      "outputs": [],
      "source": [
        "import tensorflow as tf\n",
        "import numpy as np"
      ]
    },
    {
      "cell_type": "code",
      "execution_count": 14,
      "metadata": {
        "id": "bCwMfoCvb6dq"
      },
      "outputs": [],
      "source": [
        "# Datos reales sobre \n",
        "# 7 entradas de los grados celsius\n",
        "celsius = np.array([-40 , -10 , 0 , 8 , 15 , 22 , 38])\n",
        "# 7 salida de los grados fharenheit\n",
        "fahrenheit = np.array([-40 , 14 , 32 , 46 , 59 , 72 , 100] , dtype=float)"
      ]
    },
    {
      "cell_type": "code",
      "execution_count": 5,
      "metadata": {},
      "outputs": [
        {
          "name": "stdout",
          "output_type": "stream",
          "text": [
            "WARNING:tensorflow:From C:\\Users\\Robot\\AppData\\Local\\Packages\\PythonSoftwareFoundation.Python.3.11_qbz5n2kfra8p0\\LocalCache\\local-packages\\Python311\\site-packages\\keras\\src\\backend.py:873: The name tf.get_default_graph is deprecated. Please use tf.compat.v1.get_default_graph instead.\n",
            "\n"
          ]
        }
      ],
      "source": [
        "# Keras : Framework nos permite simplificar las redes neuronales simples\n",
        "# Capas \"Dense\" del tipo Keras : \n",
        "# Son capas que tienen conexiones desde cada neurona a todas las neuronas de la siguiente capa\n",
        "#                                ↓        La capa de salida solo tiene una \n",
        "#                                ↓        neurona 'usamos la variable input shape'\n",
        "#                                ↓       Indico que tenemos una entrada con\n",
        "#                                ↓        una neurona 'nos autoregistra \n",
        "#                                ↓        la capa de entrada' con una neurona\n",
        "#                                ↓        ↓\n",
        "# capa = tf.keras.layers.Dense(units=1 , input_shape=[1]) # units = 1 , input_shape = 1\n",
        "# Utilizo el modelo secuencial entre otros modelos\n",
        "# Indico la capa que creamos aunque ya tenemos el modelo preparado\n",
        "# modelo = tf.keras.Sequential([capa]) # Sequential = linear stack of layers\n",
        "# Compila el modelo para entrenar el modelo"
      ]
    },
    {
      "cell_type": "markdown",
      "metadata": {},
      "source": [
        "**¿Qué es `input_shape=[1]`?**\n",
        "\n",
        "`input_shape=[1]` es un argumento que se pasa a la capa `Dense` de Keras para especificar la forma del tensor de entrada\n",
        "En este caso, `input_shape=[1]` indica que el tensor de entrada a esta capa debe ser un vector unidimensional.\n",
        "\n",
        "**¿Qué representa `input_shape=[1]`?**\n",
        "\n",
        "`input_shape=[1]` representa la forma de los datos de entrada que se espera que reciba la capa. \n",
        "En este caso, `input_shape=[1]` significa que la capa espera recibir datos de entrada que sean vectores unidimensionales.\n",
        "\n",
        "**¿De dónde viene `input_shape=[1]`?**\n",
        "\n",
        "`input_shape=[1]` viene de los datos con los que estás trabajando. Debes configurar `input_shape` para que coincida con la forma de tus datos de entrada. \n",
        "Por ejemplo, si estás trabajando con datos que son vectores unidimensionales, entonces usarías `input_shape=[1]`\n",
        "\n",
        "**¿Cómo se usa `input_shape=[1]`?**\n",
        "\n",
        "`input_shape=[1]` se usa al definir la arquitectura de tu modelo de red neuronal. \n",
        "Cuando agregas una capa a tu modelo usando `tf.keras.layers.Dense`, puedes especificar `input_shape=[1]` para indicar que esta capa debe esperar recibir vectores unidimensionales como entrada"
      ]
    },
    {
      "cell_type": "code",
      "execution_count": 16,
      "metadata": {},
      "outputs": [],
      "source": [
        "# Agrego 2 capas y 3 neuronas en la capa oculta\n",
        "oculta1 = tf.keras.layers.Dense(units=3 , input_shape=[1])\n",
        "oculta2 = tf.keras.layers.Dense(units=3)\n",
        "salida = tf.keras.layers.Dense(units=1)\n",
        "modelo = tf.keras.Sequential([oculta1 , oculta2 , salida])"
      ]
    },
    {
      "cell_type": "code",
      "execution_count": 17,
      "metadata": {},
      "outputs": [],
      "source": [
        "# Adam = Método de descenso de gradiente estocástico que se basa en la estimación adaptativa de momentos de primer y segundo orden\n",
        "# mean_squared_error = Calcula la media de cuadrados de errores entre etiquetas y predicciones\n",
        "modelo.compile(\n",
        "    #                             Tasa de aprendizaje : 0.1 - ajustar pesos y sesgos\n",
        "    #                                  ↓\n",
        "    #                                  ↓\n",
        "    #                                  ↓\n",
        "    optimizer=tf.keras.optimizers.Adam(0.1),\n",
        "    loss='mean_squared_error'\n",
        ")"
      ]
    },
    {
      "cell_type": "code",
      "execution_count": 18,
      "metadata": {},
      "outputs": [
        {
          "name": "stdout",
          "output_type": "stream",
          "text": [
            "Comenzando el entrenamiento...\n",
            "Modelo entrenado!\n"
          ]
        }
      ],
      "source": [
        "print(\"Comenzando el entrenamiento...\")\n",
        "# Ahora entrenamos nuestro modelo con datos usando la funcion fit\n",
        "# 1º indicamos los datos de entrada y resultados esperados\n",
        "# 2º epochs = solo tenemos 7 datos - una vuelta significa revisar los 7 una sola vez\n",
        "# Tenemos que darle muchas vueltas a los datos para que se optimice lo max posible\n",
        "# verbose = False → para evitar ruido en los datos\n",
        "historial = modelo.fit(celsius , fahrenheit , epochs=1000 , verbose=False)\n",
        "print(\"Modelo entrenado!\")"
      ]
    },
    {
      "cell_type": "code",
      "execution_count": 19,
      "metadata": {},
      "outputs": [
        {
          "data": {
            "text/plain": [
              "[<matplotlib.lines.Line2D at 0x1b344792090>]"
            ]
          },
          "execution_count": 19,
          "metadata": {},
          "output_type": "execute_result"
        },
        {
          "data": {
            "image/png": "[encoded data removed]",
            "text/plain": [
              "<Figure size 640x480 with 1 Axes>"
            ]
          },
          "metadata": {},
          "output_type": "display_data"
        }
      ],
      "source": [
        "# Vamos a ver la función de perdida\n",
        "# Nos indica como de mal están los resultados de la red en cada vuelta que dio\n",
        "import matplotlib.pyplot as plt\n",
        "plt.xlabel(\"# Epoca\")\n",
        "plt.ylabel(\"Magnitud de perdida\")\n",
        "plt.plot(historial.history[\"loss\"])\n",
        "## Como le dimos 1000 vueltas - esas vueltas nos aparecen abajo entre\n"
      ]
    },
    {
      "cell_type": "code",
      "execution_count": 20,
      "metadata": {},
      "outputs": [
        {
          "name": "stdout",
          "output_type": "stream",
          "text": [
            "Hagamos una prediccion\n",
            "1/1 [==============================] - 0s 101ms/step\n",
            "El resultado es : [[211.74742]] fharenheit\n"
          ]
        }
      ],
      "source": [
        "print(\"Hagamos una prediccion\")\n",
        "resultado = modelo.predict([100.0])\n",
        "print(\"El resultado es : \" + str(resultado) + \" fharenheit\") # 12:20"
      ]
    },
    {
      "cell_type": "code",
      "execution_count": 23,
      "metadata": {},
      "outputs": [
        {
          "name": "stdout",
          "output_type": "stream",
          "text": [
            "Variables internas del modelo\n",
            "[array([[-0.2695609 , -0.4750531 , -0.34560877]], dtype=float32), array([-3.8606198, -3.8614678, -3.8500001], dtype=float32)]\n",
            "[array([[ 1.357941  , -0.7542003 , -0.02827949],\n",
            "       [ 0.90737456, -0.59022605,  0.18399917],\n",
            "       [ 0.03215661, -1.3877195 , -0.4266336 ]], dtype=float32), array([-3.9244723,  3.8390677,  2.8068821], dtype=float32)]\n",
            "[array([[-0.8319045],\n",
            "       [ 1.1460551],\n",
            "       [ 0.3192195]], dtype=float32), array([3.6084816], dtype=float32)]\n"
          ]
        }
      ],
      "source": [
        "print(\"Variables internas del modelo\")\n",
        "# print(capa.get_weights()) # 12:30\n",
        "print(oculta1.get_weights())\n",
        "print(oculta2.get_weights())\n",
        "print(salida.get_weights())"
      ]
    }
  ],
  "metadata": {
    "colab": {
      "provenance": []
    },
    "kernelspec": {
      "display_name": "Python 3",
      "name": "python3"
    },
    "language_info": {
      "codemirror_mode": {
        "name": "ipython",
        "version": 3
      },
      "file_extension": ".py",
      "mimetype": "text/x-python",
      "name": "python",
      "nbconvert_exporter": "python",
      "pygments_lexer": "ipython3",
      "version": "3.11.7"
    }
  },
  "nbformat": 4,
  "nbformat_minor": 0
}
