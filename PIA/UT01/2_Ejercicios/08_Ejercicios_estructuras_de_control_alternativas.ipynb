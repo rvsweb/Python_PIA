{
  "cells": [
    {
      "cell_type": "markdown",
      "metadata": {
        "id": "PaQOPX2RDbKx"
      },
      "source": [
        "### Ejercicio 1\n",
        "\n",
        "Algoritmo que pida dos números e indique si el primero es mayor que el segundo.\n",
        "\n"
      ]
    },
    {
      "cell_type": "code",
      "execution_count": 5,
      "metadata": {},
      "outputs": [
        {
          "name": "stdout",
          "output_type": "stream",
          "text": [
            " - El primer numero  4.0   es mayor que el segundo numero  2.0  por lo que el resultado es :   True\n"
          ]
        }
      ],
      "source": [
        "num1 = float(input(\"Introduce 1º numero\"))\n",
        "num2 = float(input(\"Introduce 2º numero\"))\n",
        "resultado = num1 > num2\n",
        "print(\" - El primer numero \" , num1 ,\" es mayor que el segundo numero \", num2 , \" por lo que el resultado es : \" , resultado)"
      ]
    },
    {
      "cell_type": "markdown",
      "metadata": {
        "id": "tIgSOopvQ74W"
      },
      "source": [
        "### Ejercicio 2\n",
        "\n",
        "Algoritmo que pida un número y diga si es positivo, negativo o 0.\n"
      ]
    },
    {
      "cell_type": "code",
      "execution_count": 2,
      "metadata": {},
      "outputs": [
        {
          "name": "stdout",
          "output_type": "stream",
          "text": [
            "5\n",
            "5 Es Positivo\n"
          ]
        }
      ],
      "source": [
        "import random as aleatorio\n",
        "\n",
        "numero1 = aleatorio.randint(- 100 , 100)\n",
        "\n",
        "print(numero1)\n",
        "\n",
        "if numero1 > 0 :\n",
        "    print(numero1 , \"Es Positivo\")\n",
        "\n",
        "if numero1 < 0 :\n",
        "    print(numero1 , \"Es Negativo\")\n",
        "\n",
        "if numero1 == 0 :\n",
        "    print(numero1 , \"Soy valor 0\")\n"
      ]
    },
    {
      "cell_type": "markdown",
      "metadata": {
        "id": "qHyTfynPVk3M"
      },
      "source": [
        "### Ejercicio 3\n",
        "\n",
        "Escribe un programa que lea un número e indique si es par o impar.\n",
        "\n"
      ]
    },
    {
      "cell_type": "code",
      "execution_count": 3,
      "metadata": {},
      "outputs": [
        {
          "name": "stdout",
          "output_type": "stream",
          "text": [
            "• Numero aleatorio  66\n",
            "• Resultado :  True\n"
          ]
        }
      ],
      "source": [
        "import random as aleatorio\n",
        "\n",
        "numero1 = aleatorio.randint(1 , 100)\n",
        "\n",
        "# Operador ternario\n",
        "print(\"• Numero aleatorio \" , numero1)\n",
        "\n",
        "valor_si_verdadero = (numero1 % 2 == 0) if \"Par\"  else \"Impar\"\n",
        "\n",
        "print(\"• Resultado : \" , valor_si_verdadero)"
      ]
    },
    {
      "cell_type": "markdown",
      "metadata": {
        "id": "DdC4E8zP38TI"
      },
      "source": [
        "### Ejercicio 4\n",
        "\n",
        "Crea un programa que pida al usuario dos números y muestre su división si el segundo no es cero, o un mensaje de aviso en caso contrario."
      ]
    },
    {
      "cell_type": "code",
      "execution_count": 7,
      "metadata": {},
      "outputs": [
        {
          "name": "stdout",
          "output_type": "stream",
          "text": [
            "Numero Introducido  10.0\n",
            "Numero Introducido  0.0\n",
            "El segundo número es 0  0.0\n"
          ]
        }
      ],
      "source": [
        "num1 = float(input(\"Introduce numero 1\"))\n",
        "print(\"Numero Introducido \" , num1)\n",
        "\n",
        "num2 = float(input(\"Introduce numero 2\"))\n",
        "print(\"Numero Introducido \" , num2)\n",
        "\n",
        "if (num2 != 0) :\n",
        "    print(\"El segundo número no es '0' → \" , num2 , (num1 - num2)) \n",
        "else : \n",
        "    print(\"El segundo número es 0 → \" , num2)\n"
      ]
    },
    {
      "cell_type": "markdown",
      "metadata": {
        "id": "FfDcYcE5WBy4"
      },
      "source": [
        "### Ejercicio 5\n",
        "\n",
        "Escribe un programa que pida un nombre de usuario y una contraseña y si se ha introducido \"pepe\" y \"asdasd\" se indica \"Has entrado al sistema\", sino se da un error."
      ]
    },
    {
      "cell_type": "code",
      "execution_count": 13,
      "metadata": {},
      "outputs": [
        {
          "name": "stdout",
          "output_type": "stream",
          "text": [
            "Error : Usuario o Contraseña erronea\n",
            "Has entrado al sistema\n"
          ]
        }
      ],
      "source": [
        "usuario = \"pepe\"\n",
        "contraseña = \"asdasd\"\n",
        "\n",
        "introUsuario = input(\"Introduce un Usuario\")\n",
        "introPass = input(\"Introduce un Password\")\n",
        "\n",
        "if((usuario == introUsuario) & (introPass == introPass)) :\n",
        "        print(\"Has entrado al sistema\")\n",
        "else : \n",
        "    while((usuario != introUsuario) | (introPass != introPass)):\n",
        "        print(\"Error : Usuario o Contraseña erronea\")\n",
        "        introUsuario = input(\"Introduce un Usuario\")\n",
        "        introPass = input(\"Introduce un Password\")\n",
        "\n",
        "print(\"Has entrado al sistema\")\n"
      ]
    },
    {
      "cell_type": "markdown",
      "metadata": {
        "id": "k6eCxEUg48qd"
      },
      "source": [
        "### Ejercicio 6\n",
        "\n",
        "Programa que lea una cadena por teclado y compruebe si está en mayúsculas."
      ]
    },
    {
      "cell_type": "code",
      "execution_count": 16,
      "metadata": {},
      "outputs": [
        {
          "name": "stdout",
          "output_type": "stream",
          "text": [
            "La cadena esta en mayuscula :  DE\n"
          ]
        }
      ],
      "source": [
        "cadena = str(input(\"Introduce una cadena\"))\n",
        "\n",
        "cadenaMayus = cadena.upper()\n",
        "\n",
        "if(cadena == cadenaMayus):\n",
        "    print(\"La cadena SI esta en mayuscula : \", cadena )\n",
        "else : \n",
        "    print(\"La cadena NO esta en mayuscula : \", cadena )"
      ]
    },
    {
      "cell_type": "markdown",
      "metadata": {
        "id": "3ew9qX8m6G4u"
      },
      "source": [
        "### Ejercicio 7\n",
        "\n",
        "Realiza un algoritmo que calcule la potencia, para ello pide por teclado la base y el exponente. Pueden ocurrir tres cosas:\n",
        "* El exponente sea positivo, sólo tienes que imprimir la potencia.\n",
        "* El exponente sea 0, el resultado es 1.\n",
        "* El exponente sea negativo, el resultado es 1/potencia con el exponente positivo."
      ]
    },
    {
      "cell_type": "code",
      "execution_count": 17,
      "metadata": {},
      "outputs": [
        {
          "name": "stdout",
          "output_type": "stream",
          "text": [
            "-1.0\n"
          ]
        }
      ],
      "source": [
        "import math as ops\n",
        "\n",
        "base = float(input(\"Base de la potencia\"))\n",
        "exponente = float(input(\"Exponente de la potencia\"))\n",
        "\n",
        "if(exponente > 0):\n",
        "    print(\"Potencia es : \" , ops.pow(base,exponente))\n",
        "if(exponente == 0):\n",
        "    print(\"Resultado es 1 \")\n",
        "if(exponente < 0):\n",
        "    print(\"Exponente es negativo : \" , 1 / (ops.pow(base,exponente)))"
      ]
    },
    {
      "cell_type": "markdown",
      "metadata": {
        "id": "ue2__J1LwH3l"
      },
      "source": [
        "\n",
        "\n",
        "### Ejercicio 8\n",
        "\n",
        "Algoritmo que pida dos números ‘nota’ y ‘edad’ y un carácter ‘sexo’ y muestre el\n",
        "mensaje ‘ACEPTADA’ si la nota es mayor o igual a cinco, la edad es mayor o igual a\n",
        "dieciocho y el sexo es ‘F’. En caso de que se cumpla lo mismo, pero el sexo sea ‘M’, debe\n",
        "imprimir ‘POSIBLE’. Si no se cumplen dichas condiciones se debe mostrar ‘NO ACEPTADA’."
      ]
    },
    {
      "cell_type": "code",
      "execution_count": 108,
      "metadata": {},
      "outputs": [
        {
          "name": "stdout",
          "output_type": "stream",
          "text": [
            "MENOR DE EDAD\n",
            "Edad: 16 Nota: 10 Sexo: F\n"
          ]
        }
      ],
      "source": [
        "import random as aleatorio\n",
        "\n",
        "nota = aleatorio.randint(1,10)\n",
        "edad = aleatorio.randint(16,18)\n",
        "caracter = aleatorio.randint(1,100)\n",
        "sexo = ''\n",
        "mensaje1 = \"ACEPTADA\"\n",
        "mensaje2 = \"POSIBLE\"\n",
        "mensaje3 = \"NO ACEPTADA\"\n",
        "\n",
        "if (caracter < 40):\n",
        "    sexo = 'F'\n",
        "elif (caracter > 60):\n",
        "    sexo = 'M'\n",
        "elif(caracter > 40 or caracter < 60):\n",
        "    sexo = 'N'    \n",
        "\n",
        "if(edad >= 18):\n",
        "    if(nota >= 5):\n",
        "        if(sexo == 'F'):\n",
        "            print(mensaje1)\n",
        "        elif(sexo == 'M'):\n",
        "            print(mensaje2)\n",
        "        elif(sexo == 'M' or sexo == 'F'): \n",
        "            print(mensaje3)\n",
        "    else:\n",
        "        print(\"SUSPENSO\")        \n",
        "else:\n",
        "    print(\"MENOR DE EDAD\")\n",
        "\n",
        "           \n",
        "print(\"Edad:\" , edad , \"Nota:\" , nota  , \"Sexo:\", sexo)\n"
      ]
    },
    {
      "cell_type": "markdown",
      "metadata": {
        "id": "Al7VKlsS0Sva"
      },
      "source": [
        "\n",
        "\n",
        "### Ejercicio 9\n",
        "\n",
        "Algoritmo que pida tres números y los muestre ordenados (de mayor a menor);"
      ]
    },
    {
      "cell_type": "code",
      "execution_count": 169,
      "metadata": {},
      "outputs": [
        {
          "name": "stdout",
          "output_type": "stream",
          "text": [
            "Nuevo valor 1 :  8\n",
            "Nuevo valor 2 :  1\n",
            "Nuevo valor 3 :  9\n",
            "Num1 :  5  - Num2 :  5  - Num3 :  5\n"
          ]
        }
      ],
      "source": [
        "import random\n",
        "\n",
        "numAleatorio1 = random.randint(1,10)\n",
        "numAleatorio2 = random.randint(1,10)\n",
        "numAleatorio3 = random.randint(1,10)\n",
        "\n",
        "# print(numAleatorio1 , numAleatorio2 , numAleatorio3)\n",
        "\n",
        "num1 = numAleatorio1\n",
        "num2 = numAleatorio2\n",
        "num3 = numAleatorio3\n",
        "\n",
        "num1 = 5\n",
        "num2 = 5\n",
        "num3 = 5\n",
        "\n",
        "while(True):\n",
        "    if(num1 == num2 == num3):\n",
        "        numAle1 = random.randint(1,10)\n",
        "        print(\"Nuevo valor 1 : \" , numAle1)\n",
        "        numAle2 = random.randint(1,10)\n",
        "        print(\"Nuevo valor 2 : \" , numAle2)\n",
        "        numAle3 = random.randint(1,10)\n",
        "        print(\"Nuevo valor 3 : \" , numAle3)\n",
        "    if(num1 == num2) & (num1 == num3):\n",
        "       if  (numAle1 == num1):\n",
        "        num1 = numAle1\n",
        "    if((num2 == num1) & (num2 == num3) | (numAle2 == num2)):\n",
        "       if  (numAle2 == num2):\n",
        "        num2 = numAle2\n",
        "    if((num3 == num1) & (num3 == num2) | (numAle3 == num3)):\n",
        "       if  (numAle3 == num3):\n",
        "        num3 = numAle3\n",
        "    break\n",
        "\n",
        "print(\"Num1 : \" , num1 , \" - Num2 : \" , num2 , \" - Num3 : \" , num3)\n",
        "\n",
        "# if(num1 > num2):\n",
        "#     if(num2 > num3):\n",
        "#         if(num1 > num3):\n",
        "#             print(\"Opcion 1: \",num1,num2,num3)\n",
        "\n",
        "# if(num1 > num3):\n",
        "#     if(num1 > num2):\n",
        "#         if(num3 > num2):\n",
        "#             print(\"Opcion 2: \", num1,num3,num2)\n",
        "\n",
        "\n"
      ]
    },
    {
      "cell_type": "markdown",
      "metadata": {
        "id": "-L_EzflO194g"
      },
      "source": [
        "\n",
        "\n",
        "### Ejercicio 10\n",
        "\n",
        "Algoritmo que pida los puntos centrales x1,y1,x2,y2 y los radios r1,r2 de dos\n",
        "circunferencias y las clasifique en uno de estos estados:\n",
        "\n",
        "* exteriores\n",
        "* tangentes exteriores\n",
        "* secantes\n",
        "* tangentes interiores\n",
        "* interiores\n",
        "* concéntricas"
      ]
    },
    {
      "cell_type": "code",
      "execution_count": 33,
      "metadata": {},
      "outputs": [
        {
          "name": "stdout",
          "output_type": "stream",
          "text": [
            "Puntos centrales\n",
            "Punto central x1:  8.97\n",
            "Punto central y1:  8.76\n",
            "Punto central x2:  4.05\n",
            "Punto central y2:  9.63\n",
            "Radio r1:  3.41\n",
            "Radio r2:  1.95\n",
            "Distancia :  5.0\n",
            "○ Puntos Exteriores de dos Circunferencias\n",
            "No es una circunferecia exterior:  False\n",
            "○ Puntos Tangentes Exteriores de dos Circunferencias\n",
            "No es una circunferecia tangentes exterior:  False\n",
            "○ Puntos Secantes de dos Circunferecia \n",
            "Si es una circunferecia secantes :  True\n",
            "○ Puntos de dos Circunferecia Interiores\n",
            "No es una circunferecia interiores :  False\n",
            "○ Puntos de dos Circunferecia Tangentes Interiores\n",
            "Si es una circunferecia tangentes interiores :  1.46\n",
            "○ Puntos de dos Circunferecia Concentricas\n",
            "No es una circunferecia Concentricas :  False\n"
          ]
        }
      ],
      "source": [
        "import random\n",
        "import math\n",
        "\n",
        "print(\"Puntos centrales\")\n",
        "x1 = round(random.uniform(1,10),2)\n",
        "print(\"Punto central x1: \" , x1)\n",
        "y1 = round(random.uniform(1,10),2)\n",
        "print(\"Punto central y1: \" ,y1)\n",
        "x2 = round(random.uniform(1,10),2)\n",
        "print(\"Punto central x2: \" ,x2)\n",
        "y2 = round(random.uniform(1,10),2)\n",
        "print(\"Punto central y2: \" ,y2)\n",
        "r1 = round(random.uniform(1,10),2)\n",
        "print(\"Radio r1: \" ,r1)\n",
        "r2 = round(random.uniform(1,10),2)\n",
        "print(\"Radio r2: \" ,r2)\n",
        "\n",
        "distancia = math.sqrt(((x2 - x1) ** 2) + ((y2 - y1) ** 2)) \n",
        "print(\"Distancia : \", round(distancia,2))\n",
        "\n",
        "print(\"○ Puntos Exteriores de dos Circunferencias\")\n",
        "circunExterior = (distancia > (r1 + r2))\n",
        "if circunExterior:\n",
        "    print(\"Si es una circunferecia exterior: \" , circunExterior)\n",
        "else:\n",
        "    print(\"No es una circunferecia exterior: \" , circunExterior)\n",
        "\n",
        "print(\"○ Puntos Tangentes Exteriores de dos Circunferencias\")\n",
        "circunTangExt = (distancia == (r1 + r2))\n",
        "if circunTangExt:\n",
        "    print(\"Si es una circunferecia tangentes exterior: \" , circunTangExt)\n",
        "else: \n",
        "    print(\"No es una circunferecia tangentes exterior: \" , circunTangExt)\n",
        "\n",
        "print(\"○ Puntos Secantes de dos Circunferecia \")\n",
        "circunSecante = (distancia < (r1 + r2) and (distancia > abs(r1 - r2)))\n",
        "if circunSecante:\n",
        "    print(\"Si es una circunferecia secantes : \" , circunSecante)\n",
        "else: \n",
        "    print(\"No es una circunferecia secantes : \" , circunSecante)\n",
        "\n",
        "print(\"○ Puntos de dos Circunferecia Interiores\")\n",
        "circunInteriores = (distancia > 0 ) and (distancia < abs(r1 - r2))\n",
        "if circunInteriores:\n",
        "    print(\"Si es una circunferecia interiores : \" , circunInteriores)\n",
        "else: \n",
        "    print(\"No es una circunferecia interiores : \" , circunInteriores)\n",
        "\n",
        "print(\"○ Puntos de dos Circunferecia Tangentes Interiores\")\n",
        "circunTangenteInteriores = (r1 - r2)\n",
        "if circunTangenteInteriores:\n",
        "    print(\"Si es una circunferecia tangentes interiores : \" , round(circunTangenteInteriores,2))\n",
        "else: \n",
        "    print(\"No es una circunferecia tangentes interiores : \" , round(circunTangenteInteriores,2))\n",
        "\n",
        "print(\"○ Puntos de dos Circunferecia Concentricas\")\n",
        "circunConcentricas = (distancia == 0)\n",
        "if circunConcentricas:\n",
        "    print(\"Si es una circunferecia Concentricas : \" , circunConcentricas)\n",
        "else: \n",
        "    print(\"No es una circunferecia Concentricas : \" , circunConcentricas)"
      ]
    },
    {
      "cell_type": "markdown",
      "metadata": {
        "id": "t55i8IkV4xBG"
      },
      "source": [
        "\n",
        "\n",
        "### Ejercicio 11\n",
        "\n",
        "Programa que lea 3 datos de entrada A, B y C. Estos corresponden a las dimensiones de los lados de un triángulo. El programa debe determinar que tipo de triangulo es, teniendo en cuenta los siguiente:\n",
        "\n",
        "* Si se cumple Pitágoras entonces es triángulo rectángulo\n",
        "* Si sólo dos lados del triángulo son iguales entonces es isósceles.\n",
        "* Si los 3 lados son iguales entonces es equilátero.\n",
        "* Si no se cumple ninguna de las condiciones anteriores, es escaleno.\n"
      ]
    },
    {
      "cell_type": "code",
      "execution_count": 148,
      "metadata": {},
      "outputs": [
        {
          "name": "stdout",
          "output_type": "stream",
          "text": [
            "Lado A :  8\n",
            "Lado B :  3\n",
            "Lado C :  9\n",
            "• 1º - No es un Triangulo Rectangulo : Todos los lados iguales \n",
            "• 2º - No es un Triangulo Rectangulo : Todos los lados iguales \n",
            "• No es un Triangulo Isosceles : 2 lado iguales\n",
            "• No es un Triangulo Equilátero : Ningún lados iguales \n",
            "○ Es un Triangulo Escaleno : Ningun lado igual \n"
          ]
        }
      ],
      "source": [
        "import random\n",
        "import math as op\n",
        "\n",
        "ladoA = random.randint(1,10)\n",
        "print(\"Lado A : \" , ladoA)\n",
        "ladoB = random.randint(1,10)\n",
        "print(\"Lado B : \" , ladoB)\n",
        "ladoC = random.randint(1,10)\n",
        "print(\"Lado C : \" , ladoC)\n",
        "\n",
        "# Calcular : Teorema de pitágoras para comprobar si es un triangulo rectángulo\n",
        "opTrianRecta1 = (ladoA ** 2) + (ladoB ** 2) \n",
        "opTrianRecta2 = (ladoC ** 2) \n",
        "opTrianRecta3 = (op.pow(ladoA,2) + op.pow(ladoB,2) == op.pow(ladoC,2))\n",
        "                \n",
        "opTrianRectaResult = (opTrianRecta2 == opTrianRecta1)\n",
        "\n",
        "if (opTrianRectaResult):\n",
        "    print(\"○ 1º - Es un Triangulo Rectangulo : Todos los lados iguales \")\n",
        "else: \n",
        "    print(\"• 1º - No es un Triangulo Rectangulo : Todos los lados iguales \")\n",
        "\n",
        "if (opTrianRecta3):\n",
        "    print(\"○ 2º - Es un Triangulo Rectangulo : Todos los lados iguales \")\n",
        "else: \n",
        "    print(\"• 2º - No es un Triangulo Rectangulo : Todos los lados iguales \")\n",
        "\n",
        "# Calcular : Comprobar si es un triangulo Isosceles\n",
        "opIsosceles = (ladoA == ladoB) | (ladoB == ladoC) | (ladoC == ladoA)\n",
        "\n",
        "if (opIsosceles == True):\n",
        "    print(\"○ Es un Triangulo Isosceles : 2 lados iguales\")\n",
        "else: \n",
        "    print(\"• No es un Triangulo Isosceles : 2 lados iguales\")\n",
        "\n",
        "# Calcular : Comprobar si es un triangulo Equílatero\n",
        "opEquilatero = (ladoA == ladoB == ladoC) \n",
        "\n",
        "if (opEquilatero == True):\n",
        "    print(\"○ Es un Triangulo Equilátero : Ningún lado iguales \")\n",
        "else: \n",
        "    print(\"• No es un Triangulo Equilátero : Ningún lado iguales \")\n",
        "\n",
        "# Calcular : Comprobar si es un triangulo Escaleno \n",
        "if((ladoA != ladoB) and (ladoB != ladoC) and (ladoA != ladoC)):\n",
        "    print(\"○ Es un Triangulo Escaleno : Ningun lado igual \")\n",
        "else: \n",
        "    print(\"• No es un Triangulo Escaleno : Ningun lado igual \")\n"
      ]
    },
    {
      "cell_type": "markdown",
      "metadata": {
        "id": "owTQ_7A16so7"
      },
      "source": [
        "\n",
        "\n",
        "### Ejercicio 12\n",
        "\n",
        "Escribir un programa que lea un año indicar si es bisiesto. Nota: un año es bisiesto si es un número divisible por 4, pero no si es divisible por 100, excepto que también sea divisible por 400."
      ]
    },
    {
      "cell_type": "code",
      "execution_count": 21,
      "metadata": {},
      "outputs": [
        {
          "name": "stdout",
          "output_type": "stream",
          "text": [
            "Año Generado :  1801\n",
            "El año :  1801  → No es Bisiesto\n"
          ]
        }
      ],
      "source": [
        "import random\n",
        "\n",
        "anio = random.randint(1800 , 2050)\n",
        "print(\"Año Generado : \" , anio)\n",
        "\n",
        "anioBisiesto = (anio % 4) == 0 and (((anio % 400) == 0 or (anio % 100) != 0))\n",
        "\n",
        "if anioBisiesto:\n",
        "    print(\"El año : \" , anio , \" → Es Bisiesto\")\n",
        "else:\n",
        "    print(\"El año : \" , anio , \" → No es Bisiesto\")\n"
      ]
    },
    {
      "cell_type": "markdown",
      "metadata": {
        "id": "PAgNMbw-80_P"
      },
      "source": [
        "\n",
        "\n",
        "### Ejercicio 13\n",
        "\n",
        "Escribe un programa que pida una fecha (día, mes y año) y diga si es correcta."
      ]
    },
    {
      "cell_type": "code",
      "execution_count": 173,
      "metadata": {},
      "outputs": [
        {
          "name": "stdout",
          "output_type": "stream",
          "text": [
            "26 - 4 - 2007\n",
            "○ Fecha Correcta : El mes introducido tiene 30 dias maximo\n"
          ]
        }
      ],
      "source": [
        "import random\n",
        "\n",
        "for i in range(1):\n",
        "#    print(\"Introduce un dia : \")\n",
        "    dia = random.randint(1,35)\n",
        "#    print(\"Introduce un mes : \")\n",
        "    mes = random.randint(1,15)\n",
        "#   print(\"Introduce un año : \")\n",
        "    anio = random.randint(1900,2050)\n",
        "\n",
        "    print(dia , \"-\" , mes ,\"-\" , anio)\n",
        "\n",
        "    if(dia < 1 or dia > 31):\n",
        "         print(\"◘ Dia introducido es erroneo : \" , dia)  \n",
        "    else: \n",
        "        if(mes < 1 or mes > 12):\n",
        "                print(\"◘ Mes introducido es erroneo : \" , mes)\n",
        "        elif((mes == 4) or (mes == 6) or (mes == 9) or (mes == 11)):\n",
        "            if((dia > 30) or (dia < 1)):\n",
        "                print(\"◘ Introduce otro dia porque el mes introducido solo tiene 30 dias\")\n",
        "            else: \n",
        "                print(\"○ Fecha Correcta : El mes introducido tiene 30 dias maximo\") \n",
        "        elif(mes == 1 ) or (mes == 3) or (mes == 5 ) or (mes == 7) or (mes == 8) or (mes == 10) or (mes == 12):\n",
        "            if((dia > 31 or dia < 1)):\n",
        "                print(\"◘ Introduce otro dia porque el mes introducido solo tiene 31 dias\")\n",
        "            else: \n",
        "                print(\"○ Fecha Correcta : El mes introducido tiene 31 dias maximo\") \n",
        "        elif(mes == 2):\n",
        "    # Si bisiesto\n",
        "            if(anio % 4) == 0 and (((anio % 400) == 0 or (anio % 100) != 0)):\n",
        "                if(dia <= 29):\n",
        "                    print(\"○ Fecha Correcta : Año Bisiesto\")\n",
        "                elif(dia > 29):\n",
        "                    print((\"◘ Fecha erronea\"))\n",
        "            elif(dia <= 28):\n",
        "                print(\"○ Fecha Correcta\")\n",
        "            else:\n",
        "                print(\"◘ Fecha InCorrecta\")\n",
        "    # No es bisiesto\n",
        "        else:\n",
        "            print(\"♦ El mes introducido no es compatible\")      \n",
        "            print(\"♦ Fecha : dia:\" , dia , \" mes:\" , mes , \" anio:\" , anio)"
      ]
    },
    {
      "cell_type": "code",
      "execution_count": 69,
      "metadata": {},
      "outputs": [
        {
          "name": "stdout",
          "output_type": "stream",
          "text": [
            "31 - 2 - 2016\n",
            "◘ Fecha incorrecta: Año bisiesto, pero día mayor que 29\n",
            "31 - 2 - 2016\n",
            "◘ Fecha incorrecta: Año bisiesto, pero día mayor que 29\n",
            "31 - 2 - 2016\n",
            "◘ Fecha incorrecta: Año bisiesto, pero día mayor que 29\n",
            "31 - 2 - 2016\n",
            "◘ Fecha incorrecta: Año bisiesto, pero día mayor que 29\n",
            "31 - 2 - 2016\n",
            "◘ Fecha incorrecta: Año bisiesto, pero día mayor que 29\n",
            "31 - 2 - 2016\n",
            "◘ Fecha incorrecta: Año bisiesto, pero día mayor que 29\n",
            "31 - 2 - 2016\n",
            "◘ Fecha incorrecta: Año bisiesto, pero día mayor que 29\n",
            "31 - 2 - 2016\n",
            "◘ Fecha incorrecta: Año bisiesto, pero día mayor que 29\n",
            "31 - 2 - 2016\n",
            "◘ Fecha incorrecta: Año bisiesto, pero día mayor que 29\n",
            "31 - 2 - 2016\n",
            "◘ Fecha incorrecta: Año bisiesto, pero día mayor que 29\n"
          ]
        }
      ],
      "source": [
        "import random\n",
        "\n",
        "for i in range(10):\n",
        "    dia = random.randint(1, 31)\n",
        "    mes = random.randint(1, 12)\n",
        "    anio = random.randint(1900, 2050)\n",
        "\n",
        "    dia = 31\n",
        "    mes = 2\n",
        "    anio = 2016\n",
        "\n",
        "    print(dia, \"-\", mes, \"-\", anio)\n",
        "\n",
        "    if dia < 1 or dia > 31:\n",
        "        print(\"◘ Día introducido es erróneo: \", dia)\n",
        "    elif mes < 1 or mes > 12:\n",
        "        print(\"◘ Mes introducido es erróneo: \", mes)\n",
        "    else:\n",
        "        if ((mes == 4) or (mes == 6) or (mes == 9) or (mes == 11)) and (dia > 30):\n",
        "            print(\"◘ Introduce otro día porque el mes introducido solo tiene 30 días\")\n",
        "        elif (mes == 2):\n",
        "            if ((anio % 4 == 0 and anio % 100 != 0) or (anio % 400 == 0)) and (dia > 29):\n",
        "                print(\"◘ Fecha incorrecta: Año bisiesto, pero día mayor que 29\")\n",
        "            elif dia > 28:\n",
        "                print(\"◘ Fecha incorrecta: Año no bisiesto, pero día mayor que 28\")\n",
        "            else:\n",
        "                print(\"○ Fecha Correcta\")\n",
        "        elif dia > 31:\n",
        "            print(\"◘ Introduce otro día porque el mes introducido solo tiene 31 días\")\n",
        "        else:\n",
        "            print(\"○ Fecha Correcta\")"
      ]
    },
    {
      "cell_type": "markdown",
      "metadata": {
        "id": "QbUbuL5L-g-j"
      },
      "source": [
        "### Ejercicio 14\n",
        "La asociación de vinicultores tiene como política fijar un precio inicial al kilo de uva, la cual se clasifica en tipos A y B, y además en tamaños 1 y 2. Cuando se realiza la venta del producto, ésta es de un solo tipo y tamaño, se requiere determinar cuánto recibirá un productor por la uva que entrega en un embarque, considerando lo siguiente: si es de tipo A,\n",
        "se le cargan 20 céntimos al precio inicial cuando es de tamaño 1; y 30 céntimos si es de tamaño 2. Si es de tipo B, se rebajan 30 céntimos cuando es de tamaño 1, y 50 céntimos cuando es de tamaño 2. Realice un algoritmo para determinar la ganancia obtenida."
      ]
    },
    {
      "cell_type": "code",
      "execution_count": 5,
      "metadata": {},
      "outputs": [
        {
          "name": "stdout",
          "output_type": "stream",
          "text": [
            "10\n",
            "Precio Total :  30.6\n"
          ]
        }
      ],
      "source": [
        "import random\n",
        "\n",
        "precioInicial = round((random.uniform(200,1000)),2)\n",
        "precioInicial = 10\n",
        "cargaTotal = round(random.uniform(2,10))\n",
        "print(precioInicial)\n",
        "precioTotal = 0\n",
        "\n",
        "# Tipos\n",
        "tipo = input(\"Introduce el tipo de uva : A o B\")\n",
        " \n",
        "# Tamanios\n",
        "Tamanio = int(input(\"Introduce el tipo de tamaño: \"))\n",
        "\n",
        "# Recargo\n",
        "if((tipo == \"A\") and (Tamanio == 1)):\n",
        "   precioTotal = (cargaTotal * (precioInicial + 0.20))\n",
        "\n",
        "# Recargo\n",
        "if((tipo == \"A\") and (Tamanio == 2)):\n",
        "   precioTotal = (cargaTotal * (precioInicial + 0.30))\n",
        "\n",
        "# Rebaja\n",
        "if((tipo == \"B\") and (Tamanio == 1)):\n",
        "   precioTotal = (cargaTotal * (precioInicial - 0.30))\n",
        "\n",
        "# Rebaja\n",
        "if((tipo == \"B\") and (Tamanio == 2)):\n",
        "   precioTotal = (cargaTotal * (precioInicial - 0.50))\n",
        "\n",
        "print(\"Precio Total : \"  , round(precioTotal,2))\n"
      ]
    },
    {
      "cell_type": "code",
      "execution_count": 7,
      "metadata": {},
      "outputs": [
        {
          "name": "stdout",
          "output_type": "stream",
          "text": [
            "Precio inicial: 10\n",
            "Tipo de uva: Tipo A\n",
            "Tamaño: Tamaño 1\n",
            "Carga total: 0\n",
            "Precio total: 0.0\n"
          ]
        }
      ],
      "source": [
        "# Otra solución \n",
        "Carga1A = 0.20\n",
        "Carga2A = 0.30\n",
        "\n",
        "Rebaja1B = 0.30\n",
        "Rebaja2B = 0.50\n",
        "\n",
        "cargaTotal\n",
        "\n",
        "tipo = input(\"Introduce el tipo de uva : A o B\")\n",
        "\n",
        "if tipo == \"A\":\n",
        "  tipo = \"Tipo A\"\n",
        "else:\n",
        "  tipo = \"Tipo B\"\n",
        "\n",
        "# Tamanios\n",
        "Tamanio = int(input(\"Introduce el tipo de tamaño: \"))\n",
        "\n",
        "if Tamanio == 1:\n",
        "  Tamanio = \"Tamaño 1\"\n",
        "else:\n",
        "  Tamanio = \"Tamaño 2\"\n",
        "\n",
        "# Recargo Precio inicial\n",
        "if tipo == \"A\":\n",
        "  precioTotal = (cargaTotal * (precioInicial * Carga1A))\n",
        "else:\n",
        "  precioTotal = (cargaTotal * (precioInicial - Carga2A))\n",
        "\n",
        "# Recargo Precio inicial\n",
        "if tipo == \"B\":\n",
        "  precioTotal = (cargaTotal * (precioInicial * Rebaja1B))\n",
        "else:\n",
        "  precioTotal = (cargaTotal * (precioInicial - Rebaja2B))\n",
        "\n",
        "# Imprimir el informe\n",
        "print(\"Precio inicial:\", precioInicial)\n",
        "print(\"Tipo de uva:\", tipo)\n",
        "print(\"Tamaño:\", Tamanio)\n",
        "print(\"Carga total:\", cargaTotal)\n",
        "print(\"Precio total:\", round(precioTotal,2))"
      ]
    },
    {
      "cell_type": "markdown",
      "metadata": {
        "id": "bL1I2BhiMl8a"
      },
      "source": [
        "### Ejercicio 15\n",
        "\n",
        "Dadas dos variables numéricas A y B, que el usuario debe teclear, se pide realizar un algoritmo que intercambie los valores de ambas variables y muestre cuanto valen al final las dos variables."
      ]
    },
    {
      "cell_type": "code",
      "execution_count": null,
      "metadata": {},
      "outputs": [],
      "source": [
        "variable_a = 5\n",
        "variable_b = 10\n",
        "variable_intermedia = 0\n",
        "\n",
        "if variable_intermedia != variable_a:\n",
        "    variable_intermedia = variable_a\n",
        "    variable_a = variable_b\n",
        "    variable_b = variable_intermedia\n",
        "else:\n",
        "    variable_intermedia = variable_b\n",
        "    variable_b = variable_a\n",
        "    variable_a = variable_intermedia\n",
        "    \n",
        "print(\"Suma de las variables: \" , variable_a + variable_b)    \n",
        "    \n",
        "    "
      ]
    },
    {
      "cell_type": "markdown",
      "metadata": {
        "id": "Xt8VLg2aOxSs"
      },
      "source": [
        "### Ejercicio 16\n",
        "\n",
        "Dos vehículos viajan a diferentes velocidades (v1 y v2) y están distanciados por una distancia d. El que está detrás viaja a una velocidad mayor. Se pide hacer un algoritmo para ingresar la distancia entre los dos vehículos (km) y sus respectivas velocidades (km/h) y con esto determinar y mostrar en que tiempo (minutos) alcanzará el vehículo más rápido al otro.\n",
        "\n",
        "$ V = \\frac {e}{t} $ luego $ t = \\frac {e}{V} $"
      ]
    },
    {
      "cell_type": "code",
      "execution_count": 2,
      "metadata": {},
      "outputs": [
        {
          "name": "stdout",
          "output_type": "stream",
          "text": [
            "120.0\n"
          ]
        }
      ],
      "source": [
        "import random\n",
        "\n",
        "# v1 = random.random(50,100)\n",
        "v1 = 100\n",
        "v2 = 50\n",
        "distancia = 100\n",
        "tiempo = 0\n",
        "\n",
        "print(\"Velocidad coche 1: \" , v1)\n",
        "print(\"Velocidad coche 2: \" , v2)\n",
        "print(\"Distancia: \" , distancia)\n",
        "\n",
        "v_relativa = (v1 - v2)\n",
        "\n",
        "tiempo = (distancia / v_relativa ) * 60\n",
        "\n",
        "print(\"Tiempos para alcanzarse: \" , tiempo)\n",
        "print(\"• Calcular la distancia recorrida por cada coche hasta que se encuentran en direcciones opuestas : \")\n",
        "\n",
        "v_relativa = v1 + v2 \n",
        "print(\"Velocidad relativa : \" , v_relativa , \"km/h\")\n",
        "\n",
        "tiempo = distancia / v_relativa\n",
        "print(\"Tiempo para encontarse : \" , tiempo * 60 , \"minutos\")"
      ]
    },
    {
      "cell_type": "markdown",
      "metadata": {
        "id": "uQZIjnj0Uqoc"
      },
      "source": [
        "### Ejercicio 17\n",
        "\n",
        "Un ciclista parte de una ciudad A a las HH horas, MM minutos y SS segundos. El tiempo de viaje hasta llegar a otra ciudad B es de T segundos. Escribir un algoritmo que determine la hora de llegada a la ciudad B.\n",
        "\n"
      ]
    },
    {
      "cell_type": "code",
      "execution_count": 6,
      "metadata": {},
      "outputs": [
        {
          "name": "stdout",
          "output_type": "stream",
          "text": [
            "Tiempo desde la ciudad A hasta la ciudad B por el ciclista:  7260\n"
          ]
        }
      ],
      "source": [
        "horas = 2 * 3600\n",
        "minutos = 60 * 60\n",
        "segundos = 60 \n",
        "tiempo = 2 \n",
        "\n",
        "tiempo_partida = (horas + minutos + segundos)\n",
        "\n",
        "tiempo_llegada = tiempo_partida + (tiempo * 3600)\n",
        "\n",
        "print(\"Tiempo desde la ciudad A hasta la ciudad B por el ciclista: \" , tiempo_llegada , \"segundos\")\n",
        "\n",
        "horas = tiempo_llegada // 3600\n",
        "minutos = (tiempo_llegada % 3600) // 60\n",
        "segundos = tiempo_llegada % 60\n",
        "\n",
        "horas = int(horas) % 24\n",
        "minutos = int(minutos)\n",
        "segundos = int(segundos)\n",
        "\n",
        "print(f'{horas:02d}:{minutos:02d}:{segundos:02d}')"
      ]
    },
    {
      "cell_type": "code",
      "execution_count": 7,
      "metadata": {},
      "outputs": [
        {
          "name": "stdout",
          "output_type": "stream",
          "text": [
            "05:01:00\n"
          ]
        }
      ],
      "source": [
        "# Otra solución\n",
        "\n",
        "HH = 2\n",
        "MM = 60\n",
        "SS = 60\n",
        "T = 2 * 3600\n",
        "\n",
        "# Convertir la hora de partida a segundos\n",
        "tiempo_partida = HH * 3600 + MM * 60 + SS\n",
        "\n",
        "# Calcular la hora de llegada en segundos\n",
        "tiempo_llegada = tiempo_partida + T\n",
        "\n",
        "print(\"Tiempo desde la ciudad A hasta la ciudad B por el ciclista: \" , tiempo_llegada,\"segundos q\")\n",
        "\n",
        "# Convertir la hora de llegada a formato HH:MM:SS\n",
        "HH = tiempo_llegada // 3600\n",
        "MM = (tiempo_llegada % 3600) // 60\n",
        "SS = tiempo_llegada % 60\n",
        "\n",
        "# Asegurarse de que HH, MM y SS estén en el formato correcto\n",
        "HH = int(HH) % 24\n",
        "MM = int(MM)\n",
        "SS = int(SS)\n",
        "\n",
        "# Prueba del algoritmo\n",
        "print(f'{HH:02d}:{MM:02d}:{SS:02d}')\n"
      ]
    },
    {
      "cell_type": "markdown",
      "metadata": {
        "id": "xzY1tElFcKua"
      },
      "source": [
        "### Ejercicio 18\n",
        "\n",
        "Pedir el nombre y los dos apellidos de una persona y mostrar las iniciales.\n"
      ]
    },
    {
      "cell_type": "code",
      "execution_count": null,
      "metadata": {},
      "outputs": [],
      "source": [
        "nombre = \"Tadeusz\"\n",
        "apellido1 = \"Teddy\"\n",
        "apellido2 = \"Pietrzykowski\"\n",
        "inicales = \"\"\n",
        "\n",
        "print(\"• Nombre completo:\" , nombre , apellido1 , apellido2)\n",
        "\n",
        "if(int(len(nombre[0]))):\n",
        "    if(int(len(apellido1[0]))):\n",
        "        if(int(len(apellido2[0]))):\n",
        "            inicales += nombre[0] + apellido1[0]  + apellido2[0]\n",
        "\n",
        "print(\"• Iniciales:\",inicales)"
      ]
    },
    {
      "cell_type": "markdown",
      "metadata": {
        "id": "B9E19a4EdCIm"
      },
      "source": [
        "### Ejercicio 19\n",
        "\n",
        "Escribir un algoritmo para calcular la nota final de un estudiante, considerando que: por cada respuesta correcta 5 puntos, por una incorrecta -1 y por respuestas en blanco 0. Imprime el resultado obtenido por el estudiante."
      ]
    },
    {
      "cell_type": "code",
      "execution_count": null,
      "metadata": {},
      "outputs": [],
      "source": [
        "numeros_preguntas = 10\n",
        "puntos_correcta = 5\n",
        "respuesta_correcta = 5\n",
        "puntos_incorrecta = 1\n",
        "respuesta_incorrecta = 3\n",
        "puntos_blanco = 0\n",
        "respuesta_blanco = 2\n",
        "\n",
        "if(numeros_preguntas == (respuesta_correcta + respuesta_incorrecta + respuesta_blanco)):\n",
        "    correcta_puntos = (puntos_correcta * respuesta_correcta)\n",
        "    incorrecta_puntos = (puntos_incorrecta * respuesta_incorrecta)\n",
        "    blanco_puntos = (puntos_blanco * respuesta_blanco)\n",
        "else:\n",
        "    print(\"El numero de preguntas no coincide con el total de respuestas\")\n",
        "\n",
        "total_puntos = ((correcta_puntos + blanco_puntos) - incorrecta_puntos) / numeros_preguntas \n",
        "\n",
        "print(\"Nota total : \",total_puntos)"
      ]
    },
    {
      "cell_type": "markdown",
      "metadata": {
        "id": "5Z1GKvepeU7g"
      },
      "source": [
        "### Ejercicio 20\n",
        "\n",
        "Diseñar un algoritmo que nos diga el dinero que tenemos (en euros y céntimos) después de pedirnos cuantas monedas tenemos (de 2€, 1€, 50 céntimos, 20 céntimos o 10 céntimos).\n",
        "\n"
      ]
    },
    {
      "cell_type": "code",
      "execution_count": 8,
      "metadata": {},
      "outputs": [
        {
          "name": "stdout",
          "output_type": "stream",
          "text": [
            "El total de dinero que tienes es:  , 16.0 euros\n"
          ]
        }
      ],
      "source": [
        "monedas = [2.0, 1.0 , 0.50 , 0.20 , 0.10]\n",
        "nombres = [\"2€\" ,\"1€\" , \"50 centimos\" , \"20 centimos\" , \"10 centimos\"]\n",
        "total = 0.0\n",
        "incremento = 0\n",
        "# Recorre la lista de monedas\n",
        "for i in range(len(monedas)):\n",
        "# Introduce el número de monedas que tiene de cada tipo. \n",
        "# Utiliza la variable i para acceder al nombre correspondiente de la moneda en la lista nombres.\n",
        "    num_monedas = int(input(f'¿ Cuántas monedas de {nombres[i]} tienes ?'))\n",
        "    if num_monedas > 0:\n",
        "        if len(monedas) <= 5:\n",
        "            if(i == 0):\n",
        "               print(\"Monedas de 2.0 € → \" , num_monedas)\n",
        "            if(i == 1):\n",
        "               print(\"Monedas de 1.0 € → \" , num_monedas)\n",
        "            if(i == 2):\n",
        "               print(\"Monedas de 0.50 € → \" , num_monedas)\n",
        "            if(i == 3):\n",
        "               print(\"Monedas de 0.20 € → \" , num_monedas)\n",
        "            if(i == 4):\n",
        "               print(\"Monedas de 0.10 € → \" , num_monedas)\n",
        "# Suma al total el valor de las monedas introducidas por el usuario. \n",
        "# Multiplica el número de monedas por el valor de la moneda correspondiente en la lista monedas.\n",
        "    total += (num_monedas * monedas[i])\n",
        "        \n",
        "print(f'El total de dinero que tienes es: {round(total,2)} €')        \n",
        "    "
      ]
    }
  ],
  "metadata": {
    "colab": {
      "collapsed_sections": [
        "PaQOPX2RDbKx",
        "tIgSOopvQ74W",
        "qHyTfynPVk3M",
        "DdC4E8zP38TI"
      ],
      "provenance": []
    },
    "kernelspec": {
      "display_name": "Python 3",
      "name": "python3"
    },
    "language_info": {
      "codemirror_mode": {
        "name": "ipython",
        "version": 3
      },
      "file_extension": ".py",
      "mimetype": "text/x-python",
      "name": "python",
      "nbconvert_exporter": "python",
      "pygments_lexer": "ipython3",
      "version": "3.11.6"
    }
  },
  "nbformat": 4,
  "nbformat_minor": 0
}
