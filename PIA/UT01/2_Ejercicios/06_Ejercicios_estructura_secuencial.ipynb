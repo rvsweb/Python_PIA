{
  "cells": [
    {
      "cell_type": "markdown",
      "metadata": {
        "id": "PaQOPX2RDbKx"
      },
      "source": [
        "### Ejercicio 1\n",
        "\n",
        "Escribir un programa que pregunte al usuario su nombre, y luego lo salude.\n",
        "\n"
      ]
    },
    {
      "cell_type": "code",
      "execution_count": 2,
      "metadata": {
        "colab": {
          "base_uri": "https://localhost:8080/"
        },
        "id": "rNJacQc25fXM",
        "outputId": "585a2045-3468-43b1-c7f0-cb2a566d39f3"
      },
      "outputs": [
        {
          "name": "stdout",
          "output_type": "stream",
          "text": [
            "Hola soy Raúl Vela Salas\n"
          ]
        }
      ],
      "source": [
        "print(\"Hola soy Raúl Vela Salas\")"
      ]
    },
    {
      "cell_type": "markdown",
      "metadata": {
        "id": "tIgSOopvQ74W"
      },
      "source": [
        "### Ejercicio 2\n",
        "\n",
        "Calcular el perímetro y área de un rectángulo dada su base y su altura.\n"
      ]
    },
    {
      "cell_type": "code",
      "execution_count": null,
      "metadata": {
        "colab": {
          "base_uri": "https://localhost:8080/"
        },
        "id": "er_qeSOP5r1k",
        "outputId": "4312ddf2-d142-4265-eab0-afe7f5e18e84"
      },
      "outputs": [
        {
          "name": "stdout",
          "output_type": "stream",
          "text": [
            " ○ Perimetro :  16  • Area :  8\n"
          ]
        }
      ],
      "source": [
        "base = 5\n",
        "altura = 3\n",
        "area = (base * altura)\n",
        "perimetro = 2 * (base + altura)\n",
        "print(\" ○ Perimetro : \"  , perimetro , \" • Area : \" , area)"
      ]
    },
    {
      "cell_type": "markdown",
      "metadata": {
        "id": "qHyTfynPVk3M"
      },
      "source": [
        "### Ejercicio 3\n",
        "\n",
        "Dados los catetos de un triángulo rectángulo, calcular su hipotenusa.\n",
        "\n",
        "Pista: Teorema de Pitágoras: $c^2 = a^2 + b^2$\n"
      ]
    },
    {
      "cell_type": "code",
      "execution_count": 1,
      "metadata": {
        "colab": {
          "base_uri": "https://localhost:8080/"
        },
        "id": "oZntgYER6n96",
        "outputId": "0667c0aa-781b-462e-9c41-2afe74171d3d"
      },
      "outputs": [
        {
          "name": "stdout",
          "output_type": "stream",
          "text": [
            "○ Hipotenusa :  13.0  • cateto a :  4  • cateto b :  3\n",
            "La hipotenusa es 5.0\n"
          ]
        }
      ],
      "source": [
        "import math as mates\n",
        "h = 0\n",
        "a = 4\n",
        "b = 3\n",
        "h = mates.sqrt(mates.pow(a,2)) + (mates.pow(b,2))\n",
        "print(\"○ Hipotenusa : \" , h , \" • cateto a : \" , a , \" • cateto b : \" , b)\n",
        "##################\n",
        "# Longitudes de los dos catetos\n",
        "a = 3\n",
        "b = 4\n",
        "\n",
        "# Calcular la hipotenusa\n",
        "c = mates.sqrt(a**2 + b**2)\n",
        "\n",
        "print(\"La hipotenusa es\", c)"
      ]
    },
    {
      "cell_type": "markdown",
      "metadata": {
        "id": "DdC4E8zP38TI"
      },
      "source": [
        "### Ejercicio 4\n",
        "\n",
        "Dados dos números, mostrar la suma, resta, división y multiplicación de ambos."
      ]
    },
    {
      "cell_type": "code",
      "execution_count": null,
      "metadata": {
        "colab": {
          "base_uri": "https://localhost:8080/"
        },
        "id": "rUebcFeM_FWZ",
        "outputId": "6ae7fd1c-2127-4976-9e2d-1a6e6aefdb5e"
      },
      "outputs": [
        {
          "name": "stdout",
          "output_type": "stream",
          "text": [
            "Suma : 8  Resta :  2  Division :  1.6666666666666667  Multiplicacion :  15\n"
          ]
        }
      ],
      "source": [
        "a = 5\n",
        "b = 3\n",
        "print(\"Suma :\" , a + b , \" Resta : \" , a - b , \" Division : \" , a / b , \" Multiplicacion : \"  , a * b )"
      ]
    },
    {
      "cell_type": "markdown",
      "metadata": {
        "id": "FfDcYcE5WBy4"
      },
      "source": [
        "### Ejercicio 5\n",
        "\n",
        "Escribir un programa que convierta un valor dado en grados Fahrenheit a grados Celsius. Recordar que la fórmula para la conversión es: $ (F-39)*5/9 $"
      ]
    },
    {
      "cell_type": "code",
      "execution_count": null,
      "metadata": {
        "colab": {
          "base_uri": "https://localhost:8080/"
        },
        "id": "YRVp92rLAbgu",
        "outputId": "313ea2a5-b0dd-477a-ae96-46bf5d3ffa86"
      },
      "outputs": [
        {
          "name": "stdout",
          "output_type": "stream",
          "text": [
            " Grados fahrenheit :  22  Grados Centigrados :  -5.555555555555555\n"
          ]
        }
      ],
      "source": [
        "import random as aletario\n",
        "fahrenheit = aletario.randint(0 , 100)\n",
        "centigrados = (fahrenheit - 32 ) * ( 5 / 9)\n",
        "print(\" Grados fahrenheit : \" , fahrenheit , \" Grados Centigrados : \" ,  centigrados)"
      ]
    },
    {
      "cell_type": "markdown",
      "metadata": {
        "id": "k6eCxEUg48qd"
      },
      "source": [
        "### Ejercicio 6\n",
        "\n",
        "Calcular la media de tres números pedidos por teclado."
      ]
    },
    {
      "cell_type": "code",
      "execution_count": null,
      "metadata": {
        "colab": {
          "base_uri": "https://localhost:8080/"
        },
        "id": "NldJPzRMlDx8",
        "outputId": "0bed6da0-8363-44f2-f52d-0cd398d6517b"
      },
      "outputs": [
        {
          "name": "stdout",
          "output_type": "stream",
          "text": [
            "introduce el primer número 1\n",
            "introduce el segundo número 1\n",
            "introduce el tercer número 1\n",
            "La media de los tres números son :  1.0\n"
          ]
        }
      ],
      "source": [
        "numero1 = float(input(\"introduce el primer número \"))\n",
        "numero2 = float(input(\"introduce el segundo número \"))\n",
        "numero3 = float(input(\"introduce el tercer número \"))\n",
        "\n",
        "print(\"La media de los tres números son : \" , (numero1 + numero2 + numero3) / 3)"
      ]
    },
    {
      "cell_type": "markdown",
      "metadata": {
        "id": "3ew9qX8m6G4u"
      },
      "source": [
        "### Ejercicio 7\n",
        "\n",
        "Realiza un programa que reciba una cantidad de minutos y muestre por pantalla a cuantas horas y minutos corresponde.\n",
        "\n",
        "Por ejemplo: **1000 minutos** son **16 horas y 40 minutos**."
      ]
    },
    {
      "cell_type": "code",
      "execution_count": null,
      "metadata": {
        "colab": {
          "base_uri": "https://localhost:8080/"
        },
        "id": "J-E_i6_1m0Fe",
        "outputId": "c05e083b-ea01-47c2-a4ca-938918c2113c"
      },
      "outputs": [
        {
          "name": "stdout",
          "output_type": "stream",
          "text": [
            "Introduce el numero de minutos que quieres calcular : \n",
            "1000\n",
            "El numero de horas son  16.0  minutos  40.0\n"
          ]
        }
      ],
      "source": [
        "print(\"Introduce el numero de minutos que quieres calcular : \")\n",
        "tiempo = float(input())\n",
        "horas_minutos = (tiempo // 60)\n",
        "resto_minutos = (tiempo % 60)\n",
        "print(\"El numero de horas son \" , horas_minutos , \" minutos \" , resto_minutos)"
      ]
    },
    {
      "cell_type": "code",
      "execution_count": null,
      "metadata": {
        "id": "F0IiFP9Jnb3v"
      },
      "outputs": [],
      "source": []
    },
    {
      "cell_type": "markdown",
      "metadata": {
        "id": "ue2__J1LwH3l"
      },
      "source": [
        "\n",
        "\n",
        "### Ejercicio 8\n",
        "\n",
        "Un vendedor recibe un sueldo base mas un 10% extra por comisión de sus ventas, el vendedor desea saber cuanto dinero obtendrá por concepto de comisiones por las tres ventas que realiza en el mes y el total que recibirá en el mes tomando en cuenta su sueldo base y comisiones."
      ]
    },
    {
      "cell_type": "code",
      "execution_count": null,
      "metadata": {
        "colab": {
          "base_uri": "https://localhost:8080/"
        },
        "id": "04V2Jdn60qtK",
        "outputId": "e8b21932-6452-43fd-c781-ac678ec7b1da"
      },
      "outputs": [
        {
          "name": "stdout",
          "output_type": "stream",
          "text": [
            "Sueldo base\n",
            "100\n",
            "Primera venta : \n",
            "10\n",
            "Segunda venta : \n",
            "20\n",
            "Tercera venta : \n",
            "30\n",
            "comisiones por ventas  6.0\n",
            "sueldo_base :  106.0\n",
            "Introduce tu sueldo base: 100\n",
            "Introduce la venta 1: 10\n",
            "Introduce la venta 2: 20\n",
            "Introduce la venta 3: 30\n",
            "Tu comisión por las ventas es de: 6.00€\n",
            "Tu sueldo total este mes es de: 106.00€\n"
          ]
        }
      ],
      "source": [
        "print(\"Sueldo base\")\n",
        "sueldo_base = float(input())\n",
        "print(\"Primera venta : \")\n",
        "venta1 = float(input())\n",
        "venta1 = (venta1 * 10 / 100)\n",
        "print(\"Segunda venta : \")\n",
        "venta2 = float(input())\n",
        "venta2 = (venta2 * 10 / 100)\n",
        "print(\"Tercera venta : \")\n",
        "venta3 = float(input())\n",
        "venta3 = (venta3 * 10 / 100)\n",
        "comisiones = (venta1 + venta2 + venta3)\n",
        "print(\"comisiones por ventas \" , comisiones)\n",
        "print(\"sueldo_base : \"  , (sueldo_base + comisiones))\n",
        "\n",
        "#### 2º Opcion ########\n",
        "# Definir el sueldo base y las ventas\n",
        "sueldo_base = float(input(\"Introduce tu sueldo base: \"))\n",
        "ventas = [float(input(\"Introduce la venta {}: \".format(i+1))) for i in range(3)] # Array\n",
        "\n",
        "# Calcular la comisión\n",
        "comision = sum(ventas) * 0.10\n",
        "\n",
        "# Calcular el sueldo total\n",
        "sueldo_total = sueldo_base + comision\n",
        "\n",
        "# Imprimir los resultados\n",
        "print(\"Tu comisión por las ventas es de: {:.2f}€\".format(comision))\n",
        "print(\"Tu sueldo total este mes es de: {:.2f}€\".format(sueldo_total))\n"
      ]
    },
    {
      "cell_type": "markdown",
      "metadata": {
        "id": "Al7VKlsS0Sva"
      },
      "source": [
        "\n",
        "\n",
        "### Ejercicio 9\n",
        "\n",
        "Una tienda ofrece un descuento del 15% sobre el total de la compra y un cliente desea saber cuanto deberá pagar finalmente por su compra."
      ]
    },
    {
      "cell_type": "code",
      "execution_count": 6,
      "metadata": {
        "colab": {
          "base_uri": "https://localhost:8080/"
        },
        "id": "ZBuxL2eb5KBz",
        "outputId": "b6b1a8f9-1553-4fba-8749-a0a098e80566"
      },
      "outputs": [
        {
          "name": "stdout",
          "output_type": "stream",
          "text": [
            "Total de la compra\n",
            "85.15\n"
          ]
        }
      ],
      "source": [
        "print(\"Total de la compra\")\n",
        "compra_total = float(input())\n",
        "descuento = 15\n",
        "compra_total = compra_total + (descuento / 100)\n",
        "print(compra_total - descuento)"
      ]
    },
    {
      "cell_type": "markdown",
      "metadata": {
        "id": "-L_EzflO194g"
      },
      "source": [
        "\n",
        "\n",
        "### Ejercicio 10\n",
        "\n",
        "Un alumno desea saber cual será su calificación final en la materia de Algoritmos. Dicha calificación se compone de los siguientes porcentajes:\n",
        "\n",
        "* 55% del promedio de sus tres calificaciones parciales.\n",
        "* 30% de la calificación del examen final.\n",
        "* 15% de la calificación de un trabajo final."
      ]
    },
    {
      "cell_type": "code",
      "execution_count": null,
      "metadata": {
        "colab": {
          "base_uri": "https://localhost:8080/"
        },
        "id": "Lg_NAZDh9_42",
        "outputId": "e5174000-7743-4d57-d85d-ae136be660eb"
      },
      "outputs": [
        {
          "name": "stdout",
          "output_type": "stream",
          "text": [
            "55% del promedio de sus tres calificaciones parciales\n",
            "Nota 1\n",
            "5\n",
            "Nota 2\n",
            "5\n",
            "Nota 3\n",
            "5\n",
            "55% del promedio de sus tres calificaciones parciales  2.75\n",
            "Califacion examen final\n",
            "Nota Examen Final\n",
            "5\n",
            "30% de la calificación examen final  1.5\n",
            "Calificación de un trabajo final\n",
            "5\n",
            "15% de la calificación de un trabajo final 0.75\n",
            "Calificacion final de la materia Algoritmos  5.0\n"
          ]
        }
      ],
      "source": [
        "print(\"55% del promedio de sus tres calificaciones parciales\")\n",
        "print(\"Nota 1\")\n",
        "nota1 = float(input())\n",
        "print(\"Nota 2\")\n",
        "nota2 = float(input())\n",
        "print(\"Nota 3\")\n",
        "nota3 = float(input())\n",
        "notas_particales = ((nota1 + nota2 + nota3) / 3)\n",
        "notas_particales = (notas_particales * (0.55))\n",
        "print(\"55% del promedio de sus tres calificaciones parciales \" , notas_particales)\n",
        "print(\"Califacion examen final\")\n",
        "print(\"Nota Examen Final\")\n",
        "nota_examen = float(input())\n",
        "nota_examen = (nota_examen * 0.30)\n",
        "print(\"30% de la calificación examen final \" , nota_examen)\n",
        "print(\"Calificación de un trabajo final\")\n",
        "trabajo_final = float(input())\n",
        "trabajo_final = (trabajo_final * (0.15))\n",
        "print(\"15% de la calificación de un trabajo final\" , trabajo_final)\n",
        "print(\"Calificacion final de la materia Algoritmos \" , (notas_particales + nota_examen + trabajo_final))"
      ]
    },
    {
      "cell_type": "markdown",
      "metadata": {
        "id": "t55i8IkV4xBG"
      },
      "source": [
        "\n",
        "\n",
        "### Ejercicio 11\n",
        "\n",
        "Pide al usuario dos números y muestra la “distancia” entre ellos (el valor absoluto de su diferencia, de modo que el resultado sea siempre positivo)."
      ]
    },
    {
      "cell_type": "code",
      "execution_count": null,
      "metadata": {
        "colab": {
          "base_uri": "https://localhost:8080/"
        },
        "id": "VeNDYu7dDyAl",
        "outputId": "06dc16cf-4448-4b97-9e8d-625018d344dd"
      },
      "outputs": [
        {
          "name": "stdout",
          "output_type": "stream",
          "text": [
            "Introduce el 1º valor \n",
            "11\n",
            "Introduce el 2º valor \n",
            "13\n",
            "Valor absoluto :  2.0\n"
          ]
        }
      ],
      "source": [
        "print(\"Introduce el 1º valor \")\n",
        "numero1 = float(input())\n",
        "print(\"Introduce el 2º valor \")\n",
        "numero2 = float(input())\n",
        "resultado = numero1 - numero2\n",
        "print(\"Valor absoluto : \", abs(resultado))"
      ]
    },
    {
      "cell_type": "markdown",
      "metadata": {
        "id": "owTQ_7A16so7"
      },
      "source": [
        "\n",
        "\n",
        "### Ejercicio 12\n",
        "\n",
        "Pide al usuario dos pares de números x1,y1 y x2,y2, que representen dos puntos en el plano. Calcula y muestra la distancia entre ellos."
      ]
    },
    {
      "cell_type": "code",
      "execution_count": 8,
      "metadata": {
        "colab": {
          "base_uri": "https://localhost:8080/"
        },
        "id": "ipv92ZGZFTZn",
        "outputId": "bc584ff0-2ece-4760-8ecb-a10f23830c75"
      },
      "outputs": [
        {
          "name": "stdout",
          "output_type": "stream",
          "text": [
            "primer numero x1 \n",
            "primer numero x2 \n",
            "primer numero y1 \n",
            "primer numero y2 \n",
            "Calcula y muestra la distancia entre ellos  4.0\n"
          ]
        }
      ],
      "source": [
        "import math\n",
        "\n",
        "x1 = float(input(\"primer numero x1\"))\n",
        "x2 = float(input(\"primer numero x2\"))\n",
        "y1 = float(input(\"primer numero y1\"))\n",
        "y2 = float(input(\"primer numero y2\"))\n",
        "suma_x = math.sqrt((x1 - y2) ** 2)\n",
        "suma_y = math.sqrt((y1 - y2) ** 2)\n",
        "suma_total = (suma_x + suma_y)\n",
        "print(\"Calcula y muestra la distancia entre ellos \" , suma_total)"
      ]
    },
    {
      "cell_type": "markdown",
      "metadata": {
        "id": "PAgNMbw-80_P"
      },
      "source": [
        "\n",
        "\n",
        "\n",
        "### Ejercicio 13\n",
        "\n",
        "Realizar un algoritmos que lea un número y que muestre su raíz cuadrada y su raíz cúbica. **Python3 no tiene ninguna función predefinida que permita calcular la raíz cúbica, ¿Cómo se puede calcular?**"
      ]
    },
    {
      "cell_type": "code",
      "execution_count": 11,
      "metadata": {
        "colab": {
          "base_uri": "https://localhost:8080/"
        },
        "id": "UsJLNw-yHn4c",
        "outputId": "7e000a66-4539-4868-d074-632d743e1357"
      },
      "outputs": [
        {
          "name": "stdout",
          "output_type": "stream",
          "text": [
            "Intro un numero\n",
            "Cuadrado  2.9999999999999996  Cubica  1.4422495703074083\n"
          ]
        }
      ],
      "source": [
        "import math\n",
        "\n",
        "print(\"Intro un numero\")\n",
        "numero1 = float(input())\n",
        "cuadrado = math.sqrt(numero1) ** 2\n",
        "cubica = numero1 ** (1/3)\n",
        "print(\"Cuadrado \" , cuadrado , \" Cubica \" , cubica)"
      ]
    },
    {
      "cell_type": "markdown",
      "metadata": {
        "id": "QbUbuL5L-g-j"
      },
      "source": [
        "### Ejercicio 14\n",
        "Dado un número de dos cifras, diseñe un algoritmo que permita obtener el número invertido. Ejemplo, si se introduce 23 que muestre 32."
      ]
    },
    {
      "cell_type": "code",
      "execution_count": null,
      "metadata": {
        "colab": {
          "base_uri": "https://localhost:8080/"
        },
        "id": "PT3-eTlAIZbG",
        "outputId": "481ed94b-1e9d-4eb7-fc17-72d108164c37"
      },
      "outputs": [
        {
          "name": "stdout",
          "output_type": "stream",
          "text": [
            "Intro numero\n",
            "12\n",
            "Numero original  12 Numero intercambiado  21\n",
            "Nuevo Numero  21\n"
          ]
        }
      ],
      "source": [
        "print(\"Intro numero\")\n",
        "numero = input()\n",
        "cadena = str(numero)\n",
        "cadena1 = cadena[0];\n",
        "cadena2 = cadena[1];\n",
        "print(\"Numero original \" , numero , \"Numero intercambiado \" , cadena[1] + cadena[0])\n",
        "nuevo_numero = int(cadena[1] + cadena[0])\n",
        "print(\"Nuevo Numero \", nuevo_numero)"
      ]
    },
    {
      "cell_type": "markdown",
      "metadata": {
        "id": "bL1I2BhiMl8a"
      },
      "source": [
        "### Ejercicio 15\n",
        "\n",
        "Dadas dos variables numéricas A y B, que el usuario debe teclear, se pide realizar un algoritmo que intercambie los valores de ambas variables y muestre cuanto valen al final las dos variables."
      ]
    },
    {
      "cell_type": "code",
      "execution_count": null,
      "metadata": {
        "colab": {
          "base_uri": "https://localhost:8080/"
        },
        "id": "FQ_5W9p2VkOX",
        "outputId": "4d573df0-8614-4325-deeb-a94041be1732"
      },
      "outputs": [
        {
          "name": "stdout",
          "output_type": "stream",
          "text": [
            "Introduce primer número : 1\n",
            " Valor de A : \" 1\n",
            "Introduce segundo número : 2\n",
            " Valor de B : \" 2\n",
            "Nuevo valor de A : \" 2\n",
            "Nuevo valor de B : \" 1\n"
          ]
        }
      ],
      "source": [
        "varA = int(input(\"Introduce primer número : \"))\n",
        "print(f' Valor de A : \" {varA}')\n",
        "varB = int(input(\"Introduce segundo número : \"))\n",
        "print(f' Valor de B : \" {varB}')\n",
        "\n",
        "# a , b = b , a\n",
        "\n",
        "varIntermedia = varA\n",
        "varA = varB\n",
        "varB = varIntermedia\n",
        "print(f'Nuevo valor de A : \" {varA}')\n",
        "print(f'Nuevo valor de B : \" {varB}')\n"
      ]
    },
    {
      "cell_type": "markdown",
      "metadata": {
        "id": "Xt8VLg2aOxSs"
      },
      "source": [
        "### Ejercicio 16\n",
        "\n",
        "Dos vehículos viajan a diferentes velocidades (v1 y v2) y están distanciados por una distancia d. El que está detrás viaja a una velocidad mayor. Se pide hacer un algoritmo para ingresar la distancia entre los dos vehículos (km) y sus respectivas velocidades (km/h) y con esto determinar y mostrar en que tiempo (minutos) alcanzará el vehículo más rápido al otro.\n",
        "\n",
        "$ V = \\frac {e}{t} $ luego $ t = \\frac {e}{V} $"
      ]
    },
    {
      "cell_type": "code",
      "execution_count": 5,
      "metadata": {
        "colab": {
          "base_uri": "https://localhost:8080/"
        },
        "id": "-8QsHAWYYAAa",
        "outputId": "2a760b30-061f-459d-f9cd-7611cd3f38f7"
      },
      "outputs": [
        {
          "name": "stdout",
          "output_type": "stream",
          "text": [
            "Calcular velocidades entre 2 coches \n",
            "• Tiempo en horas que necesita para alcanzar al 1º coche :  2.0\n",
            "• El tiempo 120.0 minutos que tardará en alcanzar el vehiculo 1 con una velocidad de : 50 km/h el vehiculo 2 con una velocidad de : 100 km/h con una distancia de 100 km \n",
            "♦ El vehículo más rápido alcanzará al otro en 120.0 minutos.\n",
            "♠ El vehiculo más rápido alcanzará el otro en 4320000.0 minutos \n",
            "0.0\n",
            "120.0\n"
          ]
        }
      ],
      "source": [
        "# Revisar Soluciones\n",
        "## 1º Solución\n",
        "print(\"Calcular velocidades entre 2 coches \")\n",
        "#v1 = float(input(\"Velocidad del vehiculo 1 : \"))\n",
        "v1 = 50\n",
        "#v2 = float(input(\"Velocidad del vehiculo 2 : \"))\n",
        "v2 = 100\n",
        "#distancia = float(input(\"Introduce la distancia entre los dos vehiculos : \"))\n",
        "distancia = 100\n",
        "tiempo_horas = distancia / (v2 - v1)\n",
        "print(\"• Tiempo en horas que necesita para alcanzar al 1º coche : \" , tiempo_horas)\n",
        "tiempo_minutos = (tiempo_horas * 60)\n",
        "print(f'• El tiempo {tiempo_minutos} minutos que tardará en alcanzar el vehiculo 1 con una velocidad de : {v1} km/h el vehiculo 2 con una velocidad de : {v2} km/h con una distancia de {distancia} km ')\n",
        "## 2º Solución\n",
        "velocidad = (v2 - v1)\n",
        "tiempo_horas = (distancia / velocidad)\n",
        "tiempo_minutos = (tiempo_horas * 60)\n",
        "print(f'♦ El vehículo más rápido alcanzará al otro en {tiempo_minutos} minutos.')\n",
        "## 3º Solucion\n",
        "v1_ms = (v1 * distancia / 3600) # min a segundos\n",
        "v2_ms = (v2 * distancia / 3600) # min a segundos\n",
        "v_diferencia = (v2_ms - v1_ms)\n",
        "d_m = distancia * 1000 # distancia a metros\n",
        "t = d_m / v_diferencia\n",
        "t = t * 60\n",
        "print(\"♠ El vehiculo más rápido alcanzará el otro en {} minutos \".format(t))\n",
        "\n",
        "### 4º profesor\n",
        "nuevaDistancia = 0\n",
        "v1profsor = 100\n",
        "v2profsor = 150\n",
        "\n",
        "t1 = (nuevaDistancia / v1profsor ) * 60\n",
        "t2 = (nuevaDistancia / v2profsor ) * 60\n",
        "\n",
        "total = t1 - t2\n",
        "print(total)\n",
        "\n",
        "nuevaFormula = distancia / (v2 - v1 ) * 60\n",
        "print(nuevaFormula)\n"
      ]
    },
    {
      "cell_type": "markdown",
      "metadata": {
        "id": "uQZIjnj0Uqoc"
      },
      "source": [
        "### Ejercicio 17\n",
        "\n",
        "Un ciclista parte de una ciudad A a las HH horas, MM minutos y SS segundos. El tiempo de viaje hasta llegar a otra ciudad B es de T segundos. Escribir un algoritmo que determine la hora de llegada a la ciudad B.\n",
        "\n"
      ]
    },
    {
      "cell_type": "code",
      "execution_count": 4,
      "metadata": {
        "colab": {
          "base_uri": "https://localhost:8080/"
        },
        "id": "4xOL3WKyuqtk",
        "outputId": "9bcb0ed1-b86b-4271-889d-145bad065c5a"
      },
      "outputs": [
        {
          "name": "stdout",
          "output_type": "stream",
          "text": [
            "Hora de llegada a la ciudad B en horas  102.69\n",
            "Llegada en segundos :  369700.0  llegada en horas  102.69\n",
            "0.0\n",
            "120.0\n"
          ]
        }
      ],
      "source": [
        "# 1º Solucion\n",
        "hh = float(input(\"Introduce horas : \"))\n",
        "mm = float(input(\"Introduce minutos : \"))\n",
        "ss = float(input(\"Introduce segundos : \"))\n",
        "hhs = hh * 3600\n",
        "mms = mm * 60\n",
        "tiempoS  = ( hhs + mms + ss ) + 3600\n",
        "hora_llegada = tiempoS / 3600\n",
        "print(\"Hora de llegada a la ciudad B en horas \" , round(hora_llegada , 2))\n",
        "# 2º Solucion\n",
        "T = 3600\n",
        "# Convertir la hora de la salida a segundos\n",
        "salida_segundos = (hh * 3600) + (mm * 60) + ss\n",
        "# Calcular la hora de llegada en segundos\n",
        "llegada_segundos = (salida_segundos + T)\n",
        "print(\"Llegada en segundos : \" , llegada_segundos , \" llegada en horas \" , round(llegada_segundos / 3600 , 2))\n",
        "\n"
      ]
    },
    {
      "cell_type": "markdown",
      "metadata": {
        "id": "xzY1tElFcKua"
      },
      "source": [
        "### Ejercicio 18\n",
        "\n",
        "Pedir el nombre y los dos apellidos de una persona y mostrar las iniciales.\n"
      ]
    },
    {
      "cell_type": "code",
      "execution_count": 6,
      "metadata": {
        "colab": {
          "base_uri": "https://localhost:8080/"
        },
        "id": "Z515pTceBXD9",
        "outputId": "8bef9a74-4552-425e-9046-f45235371bff"
      },
      "outputs": [
        {
          "name": "stdout",
          "output_type": "stream",
          "text": [
            "Nombre : de de - Apellidos : de  de - Iniciales : ddd\n"
          ]
        }
      ],
      "source": [
        "nombre = str(input(\"Introduce el nombre\"))\n",
        "apellidos1 = str(input(\"Introduce los apellidos : \"))\n",
        "apellidos2 = str(input(\"Introduce los apellidos : \"))\n",
        "print(f'Nombre : {nombre} - Apellidos : {apellidos1}  {apellidos2} - Iniciales : {nombre[0]}{apellidos1[0]}{apellidos2[0]}')"
      ]
    },
    {
      "cell_type": "markdown",
      "metadata": {
        "id": "B9E19a4EdCIm"
      },
      "source": [
        "### Ejercicio 19\n",
        "\n",
        "Escribir un algoritmo para calcular la nota final de un estudiante, considerando que: por cada respuesta correcta 5 puntos, por una incorrecta -1 y por respuestas en blanco 0. Imprime el resultado obtenido por el estudiante."
      ]
    },
    {
      "cell_type": "code",
      "execution_count": 10,
      "metadata": {
        "colab": {
          "base_uri": "https://localhost:8080/"
        },
        "id": "k1FPxhNSC7la",
        "outputId": "e9581353-8b50-44d2-8e56-6e3a1bd0d4c0"
      },
      "outputs": [
        {
          "name": "stdout",
          "output_type": "stream",
          "text": [
            "9.333333333333334\n"
          ]
        }
      ],
      "source": [
        "numeros_preguntas = 10\n",
        "puntos_correcta = 5\n",
        "respuesta_correcta = 5\n",
        "puntos_incorrecta = 1\n",
        "respuesta_incorrecta = 3\n",
        "puntos_blanco = 0\n",
        "respuesta_blanco = 2\n",
        "\n",
        "correcta_puntos = (puntos_correcta * respuesta_correcta)\n",
        "incorrecta_puntos = (puntos_incorrecta * respuesta_incorrecta)\n",
        "blanco_puntos = (puntos_blanco * respuesta_blanco)\n",
        "\n",
        "total_puntos = ((correcta_puntos + blanco_puntos) - incorrecta_puntos) / numeros_preguntas \n",
        "\n",
        "print(\"Nota total : \",total_puntos)"
      ]
    },
    {
      "cell_type": "markdown",
      "metadata": {
        "id": "5Z1GKvepeU7g"
      },
      "source": [
        "### Ejercicio 20\n",
        "\n",
        "Diseñar un algoritmo que nos diga el dinero que tenemos (en euros y céntimos) después de pedirnos cuantas monedas tenemos (de 2€, 1€, 50 céntimos, 20 céntimos o 10 céntimos).\n",
        "\n"
      ]
    },
    {
      "cell_type": "code",
      "execution_count": 1,
      "metadata": {
        "colab": {
          "base_uri": "https://localhost:8080/"
        },
        "id": "45Pvof3aFz7V",
        "outputId": "1e1f764f-4594-4738-92c2-6ff9dc6c1c19"
      },
      "outputs": [
        {
          "name": "stdout",
          "output_type": "stream",
          "text": [
            "Monedas de 2 €  2\n",
            "Monedas de 1 €  1\n",
            "Monedas de 0.50 €  5\n",
            "Monedas de 0.20 €  3.0\n",
            "Monedas de 0.10 €  0.2\n",
            "Dinero total :  11.2\n"
          ]
        }
      ],
      "source": [
        "import random as aleatorio\n",
        "#numMonedas2 = float(input(\"Monedas de 2€ : \"))\n",
        "alemoneda2 = aleatorio.randint(1 , 5)\n",
        "monedas2 = (alemoneda2 * 2.0)\n",
        "print(\"Monedas de 2 € \" , int(monedas2))\n",
        "\n",
        "alemoneda1 = aleatorio.randint(1 , 10)\n",
        "monedas1 = (alemoneda1 * 1.0)\n",
        "print(\"Monedas de 1 € \" , int(monedas1))\n",
        "\n",
        "alemoneda50 = aleatorio.randint(1 , 15)\n",
        "monedas50c = int(alemoneda50 * 0.50)\n",
        "print(\"Monedas de 0.50 € \" , round(monedas50c,2))\n",
        "\n",
        "alemoneda20 = aleatorio.randint(1 , 20)\n",
        "monedas20c = int(alemoneda20 * 0.20)\n",
        "print(\"Monedas de 0.20 € \" , round(monedas20c,2))\n",
        "\n",
        "alemoneda10 = aleatorio.randint(1 , 25)\n",
        "monedas10c = int(alemoneda10 * 0.10)\n",
        "print(\"Monedas de 0.10 € \" , round(monedas10c,2))\n",
        "\n",
        "total_monedas = (monedas2 + monedas1 + monedas50c + monedas20c + monedas10c)\n",
        "print(\"Dinero total : \" , (round(total_monedas , 2)))\n",
        "\n",
        "# Solucion a centimos\n",
        "\n",
        "monedas2aCentimos = monedas2 * 100\n",
        "\n"
      ]
    }
  ],
  "metadata": {
    "colab": {
      "provenance": []
    },
    "kernelspec": {
      "display_name": "Python 3",
      "name": "python3"
    },
    "language_info": {
      "codemirror_mode": {
        "name": "ipython",
        "version": 3
      },
      "file_extension": ".py",
      "mimetype": "text/x-python",
      "name": "python",
      "nbconvert_exporter": "python",
      "pygments_lexer": "ipython3",
      "version": "3.11.6"
    }
  },
  "nbformat": 4,
  "nbformat_minor": 0
}
