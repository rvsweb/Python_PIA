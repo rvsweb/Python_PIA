{
  "cells": [
    {
      "cell_type": "markdown",
      "metadata": {
        "id": "W9Gdw-6MCll2"
      },
      "source": [
        "# **Ejercicios de Cadenas de Caracteres**\n",
        "\n",
        "## Ejercicio 1\n",
        "\n",
        "Escribir por pantalla cada carácter de una cadena introducida por teclado."
      ]
    },
    {
      "cell_type": "code",
      "execution_count": 3,
      "metadata": {},
      "outputs": [
        {
          "name": "stdout",
          "output_type": "stream",
          "text": [
            "\n"
          ]
        }
      ],
      "source": [
        "cadena = str(input(\"Introduce una cadena\"))\n",
        "print(cadena)"
      ]
    },
    {
      "cell_type": "markdown",
      "metadata": {
        "id": "zmyG292wDOiG"
      },
      "source": [
        "## Ejercicio 2\n",
        "\n",
        "Realizar un programa que comprueba si una cadena leída por teclado comienza por una subcadena introducida por teclado."
      ]
    },
    {
      "cell_type": "code",
      "execution_count": 2,
      "metadata": {},
      "outputs": [
        {
          "name": "stdout",
          "output_type": "stream",
          "text": [
            "Mensaje Completo\n"
          ]
        }
      ],
      "source": [
        "cadena1 = str(input(\"Introduce el 1º mensaje: \"))\n",
        "cadena2 = str(input(\"Introduce el 2º mensaje: \"))\n",
        "\n",
        "print(\"Sistema 1\")\n",
        "\n",
        "print(\"Son iguales las cadenas: \", cadena1.startswith(cadena2))\n",
        "\n",
        "print(\"Sistema 2\")\n",
        "for i in cadena2:\n",
        "    print(cadena1 in cadena2)\n",
        "    break\n",
        "\n",
        "longitud_cadena1 = len(cadena1)\n",
        "longitud_cadena2 = len(cadena2)\n",
        "1\n",
        "print(\"Sistema 3\")\n",
        "# Rellenar la cadena más corta con espacios en blanco\n",
        "if longitud_cadena1 > longitud_cadena2:\n",
        "    cadena2 += ' ' * (longitud_cadena1 - longitud_cadena2)\n",
        "else:\n",
        "    cadena1 += ' ' * (longitud_cadena2 - longitud_cadena1)\n",
        "\n",
        "# Ahora ambas cadenas tienen la misma longitud\n",
        "for i in range(len(cadena1)):\n",
        "    print(\"Letra : \", cadena1[i], \" - \", cadena2[i], \" Validación: \", cadena1[i] == cadena2[i])"
      ]
    },
    {
      "cell_type": "markdown",
      "metadata": {
        "id": "FVzv8hz3DUef"
      },
      "source": [
        "## Ejercicio 3\n",
        "\n",
        "Pide una cadena y un carácter por teclado (valida que sea un carácter) y muestra cuantas veces aparece el carácter en la cadena."
      ]
    },
    {
      "cell_type": "code",
      "execution_count": 2,
      "metadata": {},
      "outputs": [
        {
          "name": "stdout",
          "output_type": "stream",
          "text": [
            "a  -  1  =  False\n"
          ]
        },
        {
          "ename": "IndexError",
          "evalue": "string index out of range",
          "output_type": "error",
          "traceback": [
            "\u001b[1;31m---------------------------------------------------------------------------\u001b[0m",
            "\u001b[1;31mIndexError\u001b[0m                                Traceback (most recent call last)",
            "\u001b[1;32mk:\\Otros ordenadores\\Mi PC\\CURSO BD & IA\\Python_PIA\\PIA\\UT01\\2_Ejercicios\\14_Ejercicios_de_Cadenas_de_caracteres_en_Python.ipynb Celda 6\u001b[0m line \u001b[0;36m1\n\u001b[0;32m     <a href='vscode-notebook-cell:/k%3A/Otros%20ordenadores/Mi%20PC/CURSO%20BD%20%26%20IA/Python_PIA/PIA/UT01/2_Ejercicios/14_Ejercicios_de_Cadenas_de_caracteres_en_Python.ipynb#W5sZmlsZQ%3D%3D?line=15'>16</a>\u001b[0m             \u001b[39mbreak\u001b[39;00m\n\u001b[0;32m     <a href='vscode-notebook-cell:/k%3A/Otros%20ordenadores/Mi%20PC/CURSO%20BD%20%26%20IA/Python_PIA/PIA/UT01/2_Ejercicios/14_Ejercicios_de_Cadenas_de_caracteres_en_Python.ipynb#W5sZmlsZQ%3D%3D?line=17'>18</a>\u001b[0m \u001b[39mfor\u001b[39;00m i \u001b[39min\u001b[39;00m \u001b[39mrange\u001b[39m(\u001b[39m0\u001b[39m, \u001b[39mlen\u001b[39m(cadena)):\n\u001b[1;32m---> <a href='vscode-notebook-cell:/k%3A/Otros%20ordenadores/Mi%20PC/CURSO%20BD%20%26%20IA/Python_PIA/PIA/UT01/2_Ejercicios/14_Ejercicios_de_Cadenas_de_caracteres_en_Python.ipynb#W5sZmlsZQ%3D%3D?line=18'>19</a>\u001b[0m     \u001b[39mif\u001b[39;00m cadena[i] \u001b[39m==\u001b[39m caracter[i]:\n\u001b[0;32m     <a href='vscode-notebook-cell:/k%3A/Otros%20ordenadores/Mi%20PC/CURSO%20BD%20%26%20IA/Python_PIA/PIA/UT01/2_Ejercicios/14_Ejercicios_de_Cadenas_de_caracteres_en_Python.ipynb#W5sZmlsZQ%3D%3D?line=19'>20</a>\u001b[0m         contador_caracter \u001b[39m+\u001b[39m\u001b[39m=\u001b[39m \u001b[39m1\u001b[39m\n\u001b[0;32m     <a href='vscode-notebook-cell:/k%3A/Otros%20ordenadores/Mi%20PC/CURSO%20BD%20%26%20IA/Python_PIA/PIA/UT01/2_Ejercicios/14_Ejercicios_de_Cadenas_de_caracteres_en_Python.ipynb#W5sZmlsZQ%3D%3D?line=20'>21</a>\u001b[0m         \u001b[39mprint\u001b[39m(cadena[i], \u001b[39m\"\u001b[39m\u001b[39m - \u001b[39m\u001b[39m\"\u001b[39m, caracter[\u001b[39m0\u001b[39m], \u001b[39m\"\u001b[39m\u001b[39m = \u001b[39m\u001b[39m\"\u001b[39m, cadena[i] \u001b[39m==\u001b[39m caracter)\n",
            "\u001b[1;31mIndexError\u001b[0m: string index out of range"
          ]
        }
      ],
      "source": [
        "## Ejercicio 3\n",
        "# Pide una cadena y un carácter por teclado (valida que sea un carácter) y muestra cuantas veces aparece el carácter en la cadena.\n",
        "\n",
        "cadena = str(input(\"Introduce un cadena: \"))\n",
        "caracter = str(input(\"Introduce un caracter: \"))\n",
        "\n",
        "contador_caracter = 0\n",
        "\n",
        "if (len(caracter) == 1):\n",
        "    print(\"Caracter elegido: \", caracter[0])\n",
        "elif (len(caracter) > 1):\n",
        "    while (len(caracter) > 1):\n",
        "        caracter = input(\"Introduce un nuevo caracter: \")\n",
        "        if len(caracter) == 1:\n",
        "            nuevo_caracter = caracter\n",
        "            break\n",
        "\n",
        "for i in range(0, len(cadena)):\n",
        "    if cadena[i] == caracter[i]:\n",
        "        contador_caracter += 1\n",
        "        print(cadena[i], \" - \", caracter[0], \" = \", cadena[i] == caracter)\n",
        "    else:\n",
        "        print(cadena[i], \" - \", caracter[0], \" = \", cadena[i] == caracter)\n"
      ]
    },
    {
      "cell_type": "markdown",
      "metadata": {
        "id": "XtEjQoQpDaGW"
      },
      "source": [
        "## Ejercicio 4\n",
        "\n",
        "Suponiendo que hemos introducido una cadena por teclado que representa una frase (palabras separadas por espacios), realiza un programa que cuente cuantas palabras tiene."
      ]
    },
    {
      "cell_type": "code",
      "execution_count": 8,
      "metadata": {},
      "outputs": [
        {
          "name": "stdout",
          "output_type": "stream",
          "text": [
            "Hola Mundo \n",
            "\n",
            "\n",
            "Cuantas palabras existen:  2\n",
            "Contador de espacios:  1\n"
          ]
        }
      ],
      "source": [
        "cadena = input(\"Introduce una cadena\")\n",
        "contador = 0\n",
        "palabras = \"\"\n",
        "contador_palabras = 0\n",
        "subcadena = cadena.split()\n",
        "\n",
        "for palabra in range(0,len(cadena)):\n",
        "    print(cadena[palabra], end=\"\")\n",
        "    if cadena[palabra] == ' ':\n",
        "        contador += 1\n",
        "        \n",
        "print(\" \")        \n",
        "\n",
        "for i in range(0,len(subcadena)):\n",
        "    contador_palabras += 1   \n",
        "        \n",
        "print(\"\\n\")\n",
        "print(\"Cuantas palabras existen: \" , contador_palabras )\n",
        "print(\"Contador de espacios: \" , contador)\n",
        "\n"
      ]
    },
    {
      "cell_type": "markdown",
      "metadata": {
        "id": "J__5_DHTDjci"
      },
      "source": [
        "# Ejercicio 5\n",
        "\n",
        "Si tenemos una cadena con un nombre y apellidos, realizar un programa que muestre las iniciales en mayúsculas."
      ]
    },
    {
      "cell_type": "code",
      "execution_count": 5,
      "metadata": {},
      "outputs": [
        {
          "name": "stdout",
          "output_type": "stream",
          "text": [
            "\n",
            "\n",
            "\n",
            "\n",
            "\n",
            "\n",
            "\n",
            "\n",
            "\n",
            "\n",
            "\n",
            "\n",
            "\n",
            "\n",
            "\n"
          ]
        }
      ],
      "source": [
        "nombre = \"Raul Vela Salas\"\n",
        "nueva_cadena = \"\"\n",
        "inicales = \"\"\n",
        "\n",
        "for letra in range(0,len(nombre)):\n",
        "   if nombre[letra].capitalize() == True:\n",
        "    print(nueva_cadena)\n",
        "    \n"
      ]
    },
    {
      "cell_type": "markdown",
      "metadata": {
        "id": "joAkqTC4Doum"
      },
      "source": [
        "## Ejercicio 6\n",
        "\n",
        "Realizar un programa que dada una cadena de caracteres, genere otra cadena resultado de invertir la primera."
      ]
    },
    {
      "cell_type": "markdown",
      "metadata": {
        "id": "CSZfCwUeD0IH"
      },
      "source": [
        "## Ejercicio 7\n",
        "\n",
        "Pide una cadena y dos caracteres por teclado (valida que sea un carácter), sustituye la aparición del primer carácter en la cadena por el segundo carácter."
      ]
    },
    {
      "cell_type": "markdown",
      "metadata": {
        "id": "5ibc80xoD5fa"
      },
      "source": [
        "## Ejercicio 8\n",
        "\n",
        "Realizar un programa que lea una cadena por teclado y convierta las mayúsculas a minúsculas y viceversa."
      ]
    },
    {
      "cell_type": "markdown",
      "metadata": {
        "id": "BUJSIWtzD_QY"
      },
      "source": [
        "## Ejercicio 9\n",
        "\n",
        "Realizar un programa que compruebe si una cadena contiene una **subcadena**. Las dos cadenas se introducen por teclado."
      ]
    },
    {
      "cell_type": "markdown",
      "metadata": {
        "id": "yX7KMeUQEG1C"
      },
      "source": [
        "## Ejercicio 10\n",
        "\n",
        "Introducir una cadena de caracteres e indicar si es un palíndromo. Una palabra palíndroma es aquella que se lee igual adelante que atrás."
      ]
    }
  ],
  "metadata": {
    "colab": {
      "provenance": []
    },
    "kernelspec": {
      "display_name": "Python 3",
      "name": "python3"
    },
    "language_info": {
      "codemirror_mode": {
        "name": "ipython",
        "version": 3
      },
      "file_extension": ".py",
      "mimetype": "text/x-python",
      "name": "python",
      "nbconvert_exporter": "python",
      "pygments_lexer": "ipython3",
      "version": "3.11.6"
    }
  },
  "nbformat": 4,
  "nbformat_minor": 0
}
