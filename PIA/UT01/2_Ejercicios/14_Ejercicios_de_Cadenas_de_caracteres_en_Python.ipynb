{
  "cells": [
    {
      "cell_type": "markdown",
      "metadata": {
        "id": "W9Gdw-6MCll2"
      },
      "source": [
        "# **Ejercicios de Cadenas de Caracteres**\n",
        "\n",
        "## Ejercicio 1\n",
        "\n",
        "Escribir por pantalla cada carácter de una cadena introducida por teclado."
      ]
    },
    {
      "cell_type": "code",
      "execution_count": 1,
      "metadata": {},
      "outputs": [
        {
          "name": "stdout",
          "output_type": "stream",
          "text": [
            "Hola\n"
          ]
        }
      ],
      "source": [
        "cadena = str(input(\"Introduce una cadena\"))\n",
        "print(cadena)"
      ]
    },
    {
      "cell_type": "markdown",
      "metadata": {
        "id": "zmyG292wDOiG"
      },
      "source": [
        "## Ejercicio 2\n",
        "\n",
        "Realizar un programa que comprueba si una cadena leída por teclado comienza por una subcadena introducida por teclado."
      ]
    },
    {
      "cell_type": "code",
      "execution_count": 2,
      "metadata": {},
      "outputs": [
        {
          "name": "stdout",
          "output_type": "stream",
          "text": [
            "Mensaje Completo\n"
          ]
        }
      ],
      "source": [
        "cadena1 = str(input(\"Introduce el 1º mensaje: \"))\n",
        "cadena2 = str(input(\"Introduce el 2º mensaje: \"))\n",
        "\n",
        "print(\"Sistema 1\")\n",
        "\n",
        "print(\"Son iguales las cadenas: \", cadena1.startswith(cadena2))\n",
        "\n",
        "print(\"Sistema 2\")\n",
        "for i in cadena2:\n",
        "    print(cadena1 in cadena2)\n",
        "    break\n",
        "\n",
        "longitud_cadena1 = len(cadena1)\n",
        "longitud_cadena2 = len(cadena2)\n",
        "\n",
        "print(\"Sistema 3\")\n",
        "# Rellenar la cadena más corta con espacios en blanco\n",
        "if longitud_cadena1 > longitud_cadena2:\n",
        "    cadena2 += ' ' * (longitud_cadena1 - longitud_cadena2)\n",
        "else:\n",
        "    cadena1 += ' ' * (longitud_cadena2 - longitud_cadena1)\n",
        "\n",
        "# Ahora ambas cadenas tienen la misma longitud\n",
        "for i in range(len(cadena1)):\n",
        "    print(\"Letra : \", cadena1[i], \" - \", cadena2[i], \" Validación: \", cadena1[i] == cadena2[i])"
      ]
    },
    {
      "cell_type": "markdown",
      "metadata": {
        "id": "FVzv8hz3DUef"
      },
      "source": [
        "## Ejercicio 3\n",
        "\n",
        "Pide una cadena y un carácter por teclado (valida que sea un carácter) y muestra cuantas veces aparece el carácter en la cadena."
      ]
    },
    {
      "cell_type": "code",
      "execution_count": null,
      "metadata": {},
      "outputs": [],
      "source": [
        "## Ejercicio 3\n",
        "# Pide una cadena y un carácter por teclado (valida que sea un carácter) y muestra cuantas veces aparece el carácter en la cadena.\n",
        "\n",
        "cadena = str(input(\"Introduce un cadena: \"))\n",
        "caracter = str(input(\"Introduce un caracter: \"))\n",
        "\n",
        "contador_caracter = 0\n",
        "\n",
        "if (len(caracter) == 1):\n",
        "    print(\"Caracter elegido: \", caracter[0])\n",
        "elif (len(caracter) > 1):\n",
        "    while (len(caracter) > 1):\n",
        "        caracter = input(\"Introduce un nuevo caracter: \")\n",
        "        if len(caracter) == 1:\n",
        "            nuevo_caracter = caracter\n",
        "            break\n",
        "\n",
        "for i in range(0, len(cadena)):\n",
        "    if cadena[i] == caracter[i]:\n",
        "        contador_caracter += 1\n",
        "        print(cadena[i], \" - \", caracter[0], \" = \", cadena[i] == caracter)\n",
        "    else:\n",
        "        print(cadena[i], \" - \", caracter[0], \" = \", cadena[i] == caracter)\n"
      ]
    },
    {
      "cell_type": "markdown",
      "metadata": {
        "id": "XtEjQoQpDaGW"
      },
      "source": [
        "## Ejercicio 4\n",
        "\n",
        "Suponiendo que hemos introducido una cadena por teclado que representa una frase (palabras separadas por espacios), realiza un programa que cuente cuantas palabras tiene."
      ]
    },
    {
      "cell_type": "code",
      "execution_count": 1,
      "metadata": {},
      "outputs": [
        {
          "name": "stdout",
          "output_type": "stream",
          "text": [
            "Hola Mundo\n",
            "\n",
            "Contador de palabras:  10\n",
            "Contador de espacios:  1\n"
          ]
        }
      ],
      "source": [
        "cadena = input(\"Introduce una cadena\")\n",
        "contador = 0\n",
        "palabras = \"\"\n",
        "contador_palabras = 0\n",
        "subcadena = cadena.split()\n",
        "\n",
        "for palabra in range(0,len(cadena)):\n",
        "    print(cadena[palabra], end=\"\")\n",
        "    if cadena[palabra] == ' ':\n",
        "        contador += 1\n",
        "        \n",
        "print(\" \")        \n",
        "\n",
        "for i in range(0,len(subcadena)):\n",
        "    contador_palabras += 1   \n",
        "        \n",
        "print(\"Cuantas palabras existen: \" , contador_palabras )\n",
        "print(\"Contador de espacios: \" , contador)"
      ]
    },
    {
      "cell_type": "markdown",
      "metadata": {
        "id": "J__5_DHTDjci"
      },
      "source": [
        "# Ejercicio 5\n",
        "\n",
        "Si tenemos una cadena con un nombre y apellidos, realizar un programa que muestre las iniciales en mayúsculas."
      ]
    },
    {
      "cell_type": "code",
      "execution_count": 7,
      "metadata": {},
      "outputs": [
        {
          "name": "stdout",
          "output_type": "stream",
          "text": [
            "• Nombre de la persona:  Armando Bronca Segura\n",
            "• Iniciales de la persona:  ABS\n"
          ]
        }
      ],
      "source": [
        "nombre = input(\"Introduce nombre completo de una persona: \")\n",
        "\n",
        "for letras in range(0,len(nombre)):\n",
        "    if(letras == 0):\n",
        "        iniciales = nombre[letras]\n",
        "    if(nombre[letras] == (\" \")):\n",
        "        iniciales += (nombre[letras + 1]) \n",
        "    \n",
        "print(\"• Nombre de la persona: \" , nombre)    \n",
        "print(\"• Iniciales de la persona: \" , iniciales)"
      ]
    },
    {
      "cell_type": "markdown",
      "metadata": {
        "id": "joAkqTC4Doum"
      },
      "source": [
        "## Ejercicio 6\n",
        "\n",
        "Realizar un programa que dada una cadena de caracteres, genere otra cadena resultado de invertir la primera."
      ]
    },
    {
      "cell_type": "code",
      "execution_count": 4,
      "metadata": {},
      "outputs": [],
      "source": [
        "cadena = \"Hola Mundo\"\n",
        "cadena_invertida = \"\"\n",
        "\n",
        "for i in range(len(cadena) -1 , -1, -1):\n",
        "    cadena_invertida += cadena[i]\n",
        "\n",
        "print(\"1- Cadena Normal: \",cadena , \" - Longitud total: \" ,len(cadena))\n",
        "print(\"2- Cadena Invertida: \",cadena_invertida , \" - Longitud total: \" ,len(cadena_invertida))"
      ]
    },
    {
      "cell_type": "markdown",
      "metadata": {
        "id": "CSZfCwUeD0IH"
      },
      "source": [
        "## Ejercicio 7\n",
        "\n",
        "Pide una cadena y dos caracteres por teclado (valida que sea un carácter), sustituye la aparición del primer carácter en la cadena por el segundo carácter."
      ]
    },
    {
      "cell_type": "code",
      "execution_count": 2,
      "metadata": {},
      "outputs": [
        {
          "name": "stdout",
          "output_type": "stream",
          "text": [
            "No soy un caracter\n"
          ]
        }
      ],
      "source": [
        "cadena =  input(\"Introduce una cadena:\")\n",
        "caracter_1 = input(\"Introduce 1º caracter:\")\n",
        "caracter_2 = input(\"Introduce 2º caracter:\")\n",
        "\n",
        "while(len(caracter_1) > 1):\n",
        "    caracter_1 = input(\"Introduce un solo caracter: \")\n",
        "\n",
        "while(len(caracter_2) > 1):\n",
        "    caracter_2 = input(\"Introduce un solo caracter: \")\n",
        "\n",
        "cadena_modificada = cadena.replace(caracter_1,caracter_2)\n",
        "\n",
        "print(\"Reemplazado : \" , cadena_modificada)   \n"
      ]
    },
    {
      "cell_type": "markdown",
      "metadata": {
        "id": "5ibc80xoD5fa"
      },
      "source": [
        "## Ejercicio 8\n",
        "\n",
        "Realizar un programa que lea una cadena por teclado y convierta las mayúsculas a minúsculas y viceversa."
      ]
    },
    {
      "cell_type": "code",
      "execution_count": null,
      "metadata": {},
      "outputs": [],
      "source": [
        "cadena = \"Cadena\"\n",
        "nueva_cadena = \"\"\n",
        " \n",
        "for i in range(len(cadena)):\n",
        "    if cadena[i].islower():\n",
        "        nueva_cadena += cadena[i].upper()\n",
        "    else: \n",
        "        nueva_cadena += cadena[i].lower()\n",
        "\n",
        "print(nueva_cadena)\n",
        "\n",
        "         \n",
        "        "
      ]
    },
    {
      "cell_type": "markdown",
      "metadata": {
        "id": "BUJSIWtzD_QY"
      },
      "source": [
        "## Ejercicio 9\n",
        "\n",
        "Realizar un programa que compruebe si una cadena contiene una **subcadena**. Las dos cadenas se introducen por teclado."
      ]
    },
    {
      "cell_type": "code",
      "execution_count": null,
      "metadata": {},
      "outputs": [],
      "source": [
        "cadena = \"Hola, mundo\"\n",
        "subcadena = \"mundo\"\n",
        "\n",
        "if subcadena in cadena:\n",
        "    print(\"La subcadena está en la cadena\")\n",
        "else:\n",
        "    print(\"La subcadena no está en la cadena\")\n"
      ]
    },
    {
      "cell_type": "markdown",
      "metadata": {},
      "source": [
        "## Ejercicio 10\n",
        "Introducir una cadena de caracteres e indicar si es un palíndromo. Una palabra palíndroma es aquella que se lee igual adelante que atrás."
      ]
    },
    {
      "cell_type": "code",
      "execution_count": null,
      "metadata": {},
      "outputs": [],
      "source": [
        "palabra = input()\n",
        "if str(palabra) == \"\".join(reversed(palabra)):\n",
        "    print(\"Palindromo\")\n",
        "else:\n",
        "    print(\"No Palindromo\")"
      ]
    },
    {
      "cell_type": "code",
      "execution_count": null,
      "metadata": {},
      "outputs": [],
      "source": [
        "cadena = input(\"Introduce una cadena: \")\n",
        "\n",
        "# Eliminar los espacios en blanco\n",
        "cadena = cadena.replace(\" \", \"\")\n",
        "\n",
        "# Comprobar si la cadena es un palíndromo\n",
        "if cadena == cadena[::-1]:\n",
        "    print(\"La cadena es un palíndromo\")\n",
        "else:\n",
        "    print(\"La cadena no es un palíndromo\")\n"
      ]
    }
  ],
  "metadata": {
    "colab": {
      "provenance": []
    },
    "kernelspec": {
      "display_name": "Python 3",
      "name": "python3"
    },
    "language_info": {
      "codemirror_mode": {
        "name": "ipython",
        "version": 3
      },
      "file_extension": ".py",
      "mimetype": "text/x-python",
      "name": "python",
      "nbconvert_exporter": "python",
      "pygments_lexer": "ipython3",
      "version": "3.11.6"
    }
  },
  "nbformat": 4,
  "nbformat_minor": 0
}
