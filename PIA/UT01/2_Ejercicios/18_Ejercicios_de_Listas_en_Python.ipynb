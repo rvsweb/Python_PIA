{
  "cells": [
    {
      "cell_type": "markdown",
      "metadata": {
        "id": "Accv8mAE1oP3"
      },
      "source": [
        "# Ejercicios de listas\n",
        "\n",
        "## Ejercicio 1\n",
        "\n",
        "Realizar un programa que inicialice una lista con 10 valores aleatorios (del 1 al 10) y posteriormente muestre en pantalla cada elemento de la lista junto con su cuadrado y su cubo."
      ]
    },
    {
      "cell_type": "code",
      "execution_count": 2,
      "metadata": {},
      "outputs": [
        {
          "name": "stdout",
          "output_type": "stream",
          "text": [
            "# calcula el cuadrado y el cubo de un número\n",
            "(25.0, ' - ', 125.0)\n",
            "# calcula el cuadrado y el cubo de un número\n",
            "(36.0, ' - ', 216.0)\n",
            "# calcula el cuadrado y el cubo de un número\n",
            "(81.0, ' - ', 729.0)\n",
            "# calcula el cuadrado y el cubo de un número\n",
            "(1.0, ' - ', 1.0)\n",
            "# calcula el cuadrado y el cubo de un número\n",
            "(4.0, ' - ', 8.0)\n",
            "# calcula el cuadrado y el cubo de un número\n",
            "(4.0, ' - ', 8.0)\n",
            "# calcula el cuadrado y el cubo de un número\n",
            "(81.0, ' - ', 729.0)\n",
            "# calcula el cuadrado y el cubo de un número\n",
            "(49.0, ' - ', 343.0)\n",
            "# calcula el cuadrado y el cubo de un número\n",
            "(1.0, ' - ', 1.0)\n",
            "# calcula el cuadrado y el cubo de un número\n",
            "(16.0, ' - ', 64.0)\n"
          ]
        }
      ],
      "source": [
        "import random as aleatorio\n",
        "import math\n",
        "\n",
        "lista_aleatorios = [aleatorio.randint(0, 10) for _ in range(10)]\n",
        "\n",
        "for num in lista_aleatorios:\n",
        "    print(\n",
        "        f\"# calcula el cuadrado y el cubo de un número\\n\"\n",
        "        f'{math.pow(num,2), \" - \" , math.pow(num,3)}'\n",
        "    )"
      ]
    },
    {
      "cell_type": "markdown",
      "metadata": {},
      "source": [
        "## Ejercicio 2\n",
        "\n",
        "Crea una lista e inicializala con 5 cadenas de caracteres leídas por teclado. Copia los elementos de la lista en otra lista pero en orden inverso, y muestra sus elementos por la pantalla."
      ]
    },
    {
      "cell_type": "code",
      "execution_count": 3,
      "metadata": {},
      "outputs": [
        {
          "name": "stdout",
          "output_type": "stream",
          "text": [
            "['2', '2', '2', '2', '2']\n"
          ]
        }
      ],
      "source": [
        "lista = [None] * 5\n",
        "for i in range(0, len(lista)):\n",
        "    lista[i] = str(input(\"Intro un nuevo caracter\"))\n",
        "\n",
        "lista.reverse()\n",
        "\n",
        "print(lista)"
      ]
    },
    {
      "cell_type": "markdown",
      "metadata": {
        "id": "aMam1QSaJDCu"
      },
      "source": [
        "## Ejercicio 3\n",
        "\n",
        "Se quiere realizar un programa que lea por teclado las 5 notas obtenidas por un alumno (comprendidas entre 0 y 10). A continuación debe mostrar todas las notas, la nota media, la nota más alta que ha sacado y la menor."
      ]
    },
    {
      "cell_type": "code",
      "execution_count": 4,
      "metadata": {},
      "outputs": [
        {
          "name": "stdout",
          "output_type": "stream",
          "text": [
            "Lista de notas:  [2.0, 2.0, 2.0, 2.0, 2.0]\n",
            "Notas media :  2.0\n",
            "Nota más alta :  2.0\n"
          ]
        }
      ],
      "source": [
        "nota_media = 0\n",
        "nota_alta = 0\n",
        "notas = [None] * 5\n",
        "\n",
        "for i in range(len(notas)):\n",
        "    notas[i] = float(input(\"Introduce la nota numero {} : \".format(i)))\n",
        "\n",
        "print(\"Lista de notas: \",notas)\n",
        "\n",
        "nota_alta = notas[0]\n",
        "\n",
        "for i in range(0, len(notas)):\n",
        "    nota_media += notas[i]\n",
        "\n",
        "for i in range(0, len(notas)):\n",
        "    if nota_alta < notas[i]:\n",
        "        nota_alta = notas[i]\n",
        "\n",
        "# Nota media\n",
        "print(\"Notas media : \", nota_media / len(notas))\n",
        "print(\"Nota más alta : \", nota_alta)"
      ]
    },
    {
      "cell_type": "markdown",
      "metadata": {
        "id": "IQHHht7GJJVs"
      },
      "source": [
        "## Ejercicio 4\n",
        "\n",
        "Programa que declare una lista y la vaya llenando de números hasta que introduzcamos un número negativo. Entonces se debe imprimir el vector (sólo los elementos introducidos)."
      ]
    },
    {
      "cell_type": "code",
      "execution_count": 5,
      "metadata": {},
      "outputs": [
        {
          "name": "stdout",
          "output_type": "stream",
          "text": [
            "Negativo si no deseo continuar\n",
            "Negativo si no deseo continuar\n",
            "Negativo si no deseo continuar\n",
            "Negativo si no deseo continuar\n",
            "Negativo si no deseo continuar\n",
            "Negativo si no deseo continuar\n"
          ]
        },
        {
          "ename": "ValueError",
          "evalue": "invalid literal for int() with base 10: ''",
          "output_type": "error",
          "traceback": [
            "\u001b[1;31m---------------------------------------------------------------------------\u001b[0m",
            "\u001b[1;31mValueError\u001b[0m                                Traceback (most recent call last)",
            "\u001b[1;32mk:\\Otros ordenadores\\Mi PC\\CURSO BD & IA\\Python_PIA\\PIA\\UT01\\2_Ejercicios\\18_Ejercicios_de_Listas_en_Python.ipynb Celda 8\u001b[0m line \u001b[0;36m6\n\u001b[0;32m      <a href='vscode-notebook-cell:/k%3A/Otros%20ordenadores/Mi%20PC/CURSO%20BD%20%26%20IA/Python_PIA/PIA/UT01/2_Ejercicios/18_Ejercicios_de_Listas_en_Python.ipynb#X10sZmlsZQ%3D%3D?line=2'>3</a>\u001b[0m incr \u001b[39m=\u001b[39m \u001b[39m0\u001b[39m\n\u001b[0;32m      <a href='vscode-notebook-cell:/k%3A/Otros%20ordenadores/Mi%20PC/CURSO%20BD%20%26%20IA/Python_PIA/PIA/UT01/2_Ejercicios/18_Ejercicios_de_Listas_en_Python.ipynb#X10sZmlsZQ%3D%3D?line=4'>5</a>\u001b[0m \u001b[39mwhile\u001b[39;00m(\u001b[39mTrue\u001b[39;00m):\n\u001b[1;32m----> <a href='vscode-notebook-cell:/k%3A/Otros%20ordenadores/Mi%20PC/CURSO%20BD%20%26%20IA/Python_PIA/PIA/UT01/2_Ejercicios/18_Ejercicios_de_Listas_en_Python.ipynb#X10sZmlsZQ%3D%3D?line=5'>6</a>\u001b[0m     numero \u001b[39m=\u001b[39m \u001b[39mint\u001b[39;49m(\u001b[39minput\u001b[39;49m(\u001b[39m\"\u001b[39;49m\u001b[39mIntroduce un numero\u001b[39;49m\u001b[39m\"\u001b[39;49m))\n\u001b[0;32m      <a href='vscode-notebook-cell:/k%3A/Otros%20ordenadores/Mi%20PC/CURSO%20BD%20%26%20IA/Python_PIA/PIA/UT01/2_Ejercicios/18_Ejercicios_de_Listas_en_Python.ipynb#X10sZmlsZQ%3D%3D?line=6'>7</a>\u001b[0m     \u001b[39mif\u001b[39;00m (numero \u001b[39m>\u001b[39m \u001b[39m0\u001b[39m):\n\u001b[0;32m      <a href='vscode-notebook-cell:/k%3A/Otros%20ordenadores/Mi%20PC/CURSO%20BD%20%26%20IA/Python_PIA/PIA/UT01/2_Ejercicios/18_Ejercicios_de_Listas_en_Python.ipynb#X10sZmlsZQ%3D%3D?line=7'>8</a>\u001b[0m         lista\u001b[39m.\u001b[39mappend(numero)  \n",
            "\u001b[1;31mValueError\u001b[0m: invalid literal for int() with base 10: ''"
          ]
        }
      ],
      "source": [
        "# Añadir una lista vacia\n",
        "lista = []\n",
        "incr = 0\n",
        "\n",
        "while(True):\n",
        "    numero = int(input(\"Introduce un numero\"))\n",
        "    if (numero > 0):\n",
        "        lista.append(numero)  \n",
        "    print('Negativo si no deseo continuar')\n",
        "    if (numero < 0):\n",
        "        break\n",
        "      \n",
        "print(lista)    "
      ]
    },
    {
      "cell_type": "markdown",
      "metadata": {
        "id": "2-Gt2ufCJPqy"
      },
      "source": [
        "## Ejercicio 5\n",
        "\n",
        "Hacer un programa que inicialice una lista de números con valores aleatorios (10 valores), y posterior ordene los elementos de menor a mayor."
      ]
    },
    {
      "cell_type": "code",
      "execution_count": null,
      "metadata": {},
      "outputs": [],
      "source": [
        "import random\n",
        "\n",
        "lista = [random.randint(1,10),random.randint(1,10),random.randint(1,10),random.randint(1,10),random.randint(1,10),random.randint(1,10),random.randint(1,10),random.randint(1,10),random.randint(1,10),random.randint(1,10)]\n",
        "print(\"Longitud: \",len(lista))\n",
        "print(\"Sin ordenación:\" ,lista)\n",
        "lista.sort()\n",
        "print(\"Con ordenación:\" , lista)\n"
      ]
    },
    {
      "cell_type": "markdown",
      "metadata": {
        "id": "6lUuFkx9JUVZ"
      },
      "source": [
        "## Ejercicio 6\n",
        "\n",
        "Crea un programa que pida un número al usuario un número de mes (por ejemplo, el 4) y diga cuántos días tiene (por ejemplo, 30) y el nombre del mes. Debes usar listas. Para simplificarlo vamos a suponer que febrero tiene 28 días."
      ]
    },
    {
      "cell_type": "code",
      "execution_count": null,
      "metadata": {},
      "outputs": [],
      "source": [
        "mes = int(input(\"Numero de mes\"))\n",
        "\n",
        "while (mes < 1) or (mes > 12):\n",
        "    if(mes < 1 or mes > 12):\n",
        "        mes = int(input(\"Introduce un nuevo numero de mes\"))\n",
        "    else:\n",
        "        print(\"Mes correcto\")\n",
        "\n",
        "mes -= 1\n",
        "        \n",
        "print(\"Numero escogido: \", mes+1)\n",
        "lista_meses = [31,28,31,30,31,30,31,31,30,31,30,31]\n",
        "nombre_meses = [\"Enero\" ,\"Febrero\" , \"Marzo\" , \"Abril\" , \"Mayo\" , \"Junio\" , \"Julio\" , \"Agosto\" , \"Septiembre\", \"Octubre\" , \"Noviembre\" , \"Diciembre\"]\n",
        "print(\"El mes: \", nombre_meses[mes] ,\" tiene \" , lista_meses[mes] , \" dias\")"
      ]
    },
    {
      "cell_type": "markdown",
      "metadata": {
        "id": "Tri9usePJalD"
      },
      "source": [
        "## Ejercicio 7\n",
        "\n",
        "Programa que declare tres listas ‘lista1’, ‘lista2’ y ‘lista3’ de cinco enteros cada uno, pida valores para ‘lista1’ y ‘lista2’ y calcule lista3=lista1+lista2."
      ]
    },
    {
      "cell_type": "code",
      "execution_count": null,
      "metadata": {},
      "outputs": [],
      "source": [
        "lista_1 = [0] * 5\n",
        "lista_2 = [0] * 5\n",
        "lista_3 = [0] * 5\n",
        "\n",
        "for i in range(0,len(lista_3)):\n",
        "    lista_1[i] = int(input(\"Introduce un número lista 1\"))\n",
        "    lista_2[i] = int(input(\"Introduce un número lista 2\"))\n",
        "    lista_3[i] = lista_1[i] + lista_2[i]\n",
        "    print(lista_3[i])"
      ]
    },
    {
      "cell_type": "code",
      "execution_count": null,
      "metadata": {},
      "outputs": [],
      "source": [
        "# Pedir valores para lista1 y lista2\n",
        "print(\"Introduce los valores para lista1:\")\n",
        "lista1 = [int(input(\"Introduce un número: \")) for _ in range(5)]\n",
        "\n",
        "print(\"Introduce los valores para lista2:\")\n",
        "lista2 = [int(input(\"Introduce un número: \")) for _ in range(5)]\n",
        "\n",
        "# Calcular lista3 = lista1 + lista2 utilizando comprensión de listas\n",
        "lista3 = [lista1[i] + lista2[i] for i in range(5)]\n",
        "\n",
        "print(\"La suma de lista1 y lista2 es:\", lista3)\n"
      ]
    },
    {
      "cell_type": "markdown",
      "metadata": {
        "id": "kxjDuluCJgQz"
      },
      "source": [
        "## Ejercicio 8\n",
        "\n",
        "Queremos guardar los nombres y la edades de los alumnos de un curso. Realiza un programa que introduzca el nombre y la edad de cada alumno. El proceso de lectura de datos terminará cuando se introduzca como nombre un asterisco (*) Al finalizar se mostrará los siguientes datos:\n",
        "\n",
        "* Todos lo alumnos mayores de edad.\n",
        "* Los alumnos mayores (los que tienen más edad)"
      ]
    },
    {
      "cell_type": "code",
      "execution_count": null,
      "metadata": {},
      "outputs": [],
      "source": [
        "edad_mas_alta =  0\n",
        "mayor_edad = 18\n",
        "alumno_mayor = 0\n",
        "posicion = 0\n",
        "nombre_adulto = ''\n",
        "\n",
        "nombres = []\n",
        "nombres_adultos = []\n",
        "edades = []\n",
        "edades_adultos = []\n",
        "\n",
        "while(True):\n",
        "    nombre = input(\"Nombre del alumno:\")\n",
        "    if nombre == '*':\n",
        "        break\n",
        "    else:\n",
        "        edad = int(input(\"Edad del alumno:\"))\n",
        "        nombres.append(nombre)\n",
        "        edades.append(edad)\n",
        "\n",
        "# Alumnos mayores\n",
        "for i in range(0,len(nombres)):\n",
        "    if edades[i] > mayor_edad:\n",
        "        edades_adultos.append(edades[i]) \n",
        "        nombres_adultos.append(nombres[i]) \n",
        "\n",
        "print(\"Nombres: \",nombres_adultos)      \n",
        "print(\"Edades: \",edades_adultos)\n",
        "    \n",
        "# Mostrar adultos\n",
        "for i in range(0, len(edades_adultos)):\n",
        "    alumno_mayor = edades_adultos[i]\n",
        "    nombre_adulto = nombres_adultos[i]\n",
        "    for j in range(0, len(edades_adultos)):\n",
        "        if 18 < edades_adultos[j] and alumno_mayor < edades_adultos[j]:\n",
        "            posicion = j\n",
        "            alumno_mayor = edades_adultos[j]\n",
        "            nombre_adulto = nombres_adultos[j]\n",
        "      \n",
        "\n",
        "print(\"Nombres: \",nombres)\n",
        "print(\"Edades: \",edades)\n",
        "print(\"Mayores de edad: \", edades_adultos)\n",
        "print(\"Nombre:\" , nombre_adulto ,\" El alumno con más edad:\", alumno_mayor , \" Posicion: \" , posicion + 1)"
      ]
    },
    {
      "cell_type": "code",
      "execution_count": null,
      "metadata": {},
      "outputs": [],
      "source": [
        "# Optimización\n",
        "mayor_edad = 18\n",
        "alumno_mayor = None\n",
        "edad_alumno_mayor = 0\n",
        "\n",
        "personas = []\n",
        "\n",
        "while True:\n",
        "    nombre = input(\"Nombre del alumno:\")\n",
        "    if nombre == '*':\n",
        "        break\n",
        "    else:\n",
        "        edad = int(input(\"Edad del alumno:\"))\n",
        "        personas.append((nombre, edad))\n",
        "\n",
        "adultos = [(nombre, edad) for nombre, edad in personas if edad > mayor_edad]\n",
        "\n",
        "for nombre, edad in adultos:\n",
        "    if edad > edad_alumno_mayor:\n",
        "        alumno_mayor = nombre\n",
        "        edad_alumno_mayor = edad\n",
        "\n",
        "print(\"Adultos: \", adultos)\n",
        "print(\"El alumno con más edad es\", alumno_mayor, \"con\", edad_alumno_mayor, \"años.\")\n"
      ]
    },
    {
      "cell_type": "markdown",
      "metadata": {
        "id": "tSjIHZ2WJtUj"
      },
      "source": [
        "## Ejercicio 9\n",
        "\n",
        "Queremos guardar la temperatura mínima y máxima de 5 días. Realiza un programa que de la siguiente información:\n",
        "\n",
        "* La temperatura media de cada día\n",
        "* Los días con menos temperatura\n",
        "* Se lee una temperatura por teclado y se muestran los días cuya temperatura máxima coincide con ella. si no existe ningún día se muestra un mensaje de información."
      ]
    },
    {
      "cell_type": "code",
      "execution_count": null,
      "metadata": {},
      "outputs": [
        {
          "name": "stdout",
          "output_type": "stream",
          "text": [
            "Dias menos temperaturas :  ['Lunes', '', 'Miercoles', 'Jueves', '']\n",
            "Temperatura media:  22.906\n",
            "Temperatura menor:  2.56\n",
            "Temperatura maxima:  41.39\n"
          ]
        }
      ],
      "source": [
        "import random as r\n",
        "\n",
        "temp_minima = 0\n",
        "temp_maxima = 0\n",
        "temp_media = 0\n",
        "# Temperatura media de España en Verano\n",
        "temp_media_pais = 25\n",
        "\n",
        "\n",
        "# Lista de temperaturas\n",
        "# lista_temp = [r.random() * 40 for _ in  range(0 , 5)]\n",
        "# lista_temp_redondeo = [round(temp,2) for temp in lista_temp]\n",
        "# print(\"Temperaturas: \", lista_temp_redondeo)\n",
        "\n",
        "# Temperaturas mínimas y máximas\n",
        "temperaturas_minimas = []\n",
        "temperaturas_maximas = []\n",
        "\n",
        "dias_semana = [\"Lunes\" , \"Martes\" , \"Miercoles\" , \"Jueves\" , \"Viernes\"]\n",
        "dias_menos_temperaturas = [\"\"] * len(dias_semana)\n",
        "dias_max_temperaturas = [\"\"] * len(dias_semana)\n",
        "\n",
        "lista_temp = [12.19, 34.72, 23.67, 2.56, 41.39]\n",
        "\n",
        "# Temperatura media del total\n",
        "for i in range(0,len(lista_temp)):\n",
        "    temp_media += lista_temp[i] / len(lista_temp)    \n",
        "\n",
        "# Temperatura minima\n",
        "for i in range(0,len(lista_temp)):\n",
        "    temp_minima = lista_temp[i]\n",
        "    for j in range(0,len(lista_temp)):\n",
        "        if temp_minima > lista_temp[j]:\n",
        "            temp_minima = lista_temp[j]\n",
        "            # print(temp_minima)\n",
        "\n",
        "# Temperatura maxima\n",
        "for i in range(0,len(lista_temp)):\n",
        "    temp_maxima = lista_temp[i]\n",
        "    for j in range(0,len(lista_temp)):\n",
        "        if temp_maxima < lista_temp[j]:\n",
        "            temp_maxima = lista_temp[j]\n",
        "            # print(temp_maxima)\n",
        "            \n",
        "# Dias con temperaturas minimas\n",
        "for i in range(0,len(lista_temp)):\n",
        "    if temp_media_pais > lista_temp[i]:\n",
        "        dias_menos_temperaturas[i] = dias_semana[i]\n",
        "        # print(temp_minima)\n",
        "\n",
        "# Dias con temperaturas minimas\n",
        "for i in range(0,len(lista_temp)):\n",
        "    if temp_media_pais < lista_temp[i]:\n",
        "        dias_max_temperaturas[i] = dias_semana[i]\n",
        "        # print(temp_minima)\n",
        "\n",
        "#  Se lee una temperatura por teclado y se muestran los días \n",
        "#  cuya temperatura máxima coincide con ella.\n",
        "#  si no existe ningún día se muestra un mensaje de información.\n",
        "\n",
        "dias_temp_max = float(input(\"Introduce temp maxima\"))\n",
        "\n",
        "salida = False\n",
        "for i in range(0,len(lista_temp)):\n",
        "    if dias_temp_max == lista_temp[i]:\n",
        "        print(\"Dias que coinciden con la temperatura maxima: \",dias_semana[i])\n",
        "        salida = True\n",
        "    elif(i == (len(lista_temp)-1) and salida == False):\n",
        "        print(\"No existen días con esa temperatura máxima\")\n",
        "\n",
        "print(\"Temperaturas : \", lista_temp)\n",
        "print(\"Dias menos temperaturas : \", dias_menos_temperaturas)\n",
        "print(\"Dias maximas temperaturas : \", dias_max_temperaturas)\n",
        "print(\"Temperatura media: \",temp_media)\n",
        "print(\"Temperatura menor: \",temp_minima)\n",
        "print(\"Temperatura maxima: \",temp_maxima)\n",
        "# print(temp_minima)\n",
        "# print(temperaturas_minimas)\n",
        "# print(lista_temp)\n",
        "\n",
        "\n"
      ]
    },
    {
      "cell_type": "code",
      "execution_count": null,
      "metadata": {},
      "outputs": [],
      "source": [
        "import random as r\n",
        "\n",
        "# Lista de temperaturas\n",
        "lista_temp = [12.19, 34.72, 23.67, 2.56, 41.39]\n",
        "\n",
        "# Temperatura media de España en Verano\n",
        "temp_media_pais = 25\n",
        "\n",
        "dias_semana = [\"Lunes\" , \"Martes\" , \"Miercoles\" , \"Jueves\" , \"Viernes\"]\n",
        "\n",
        "# Calculamos la temperatura media\n",
        "temp_media = sum(lista_temp) / len(lista_temp)\n",
        "\n",
        "# Encontramos la temperatura mínima y máxima\n",
        "temp_minima = min(lista_temp)\n",
        "temp_maxima = max(lista_temp)\n",
        "\n",
        "# Días con temperaturas por debajo y por encima de la media\n",
        "dias_menos_temperaturas = [dia for dia, temp in zip(dias_semana, lista_temp) if temp < temp_media_pais]\n",
        "dias_max_temperaturas = [dia for dia, temp in zip(dias_semana, lista_temp) if temp > temp_media_pais]\n",
        "\n",
        "# Se lee una temperatura por teclado y se muestran los días \n",
        "# cuya temperatura máxima coincide con ella.\n",
        "# si no existe ningún día se muestra un mensaje de información.\n",
        "\n",
        "dias_temp_max = float(input(\"Introduce temp maxima\"))\n",
        "\n",
        "dias_con_temp_max = [dia for dia, temp in zip(dias_semana, lista_temp) if temp == dias_temp_max]\n",
        "\n",
        "if dias_con_temp_max:\n",
        "    print(\"Días que coinciden con la temperatura máxima: \", dias_con_temp_max)\n",
        "else:\n",
        "    print(\"No existen días con esa temperatura máxima\")\n",
        "\n",
        "print(\"Temperaturas : \", lista_temp)\n",
        "print(\"Días con temperaturas menores a la media : \", dias_menos_temperaturas)\n",
        "print(\"Días con temperaturas mayores a la media : \", dias_max_temperaturas)\n",
        "print(\"Temperatura media: \", temp_media)\n",
        "print(\"Temperatura menor: \", temp_minima)\n",
        "print(\"Temperatura máxima: \", temp_maxima)"
      ]
    },
    {
      "cell_type": "markdown",
      "metadata": {
        "id": "nL8BLwAOJ4Wi"
      },
      "source": [
        "## Ejercicio 10\n",
        "\n",
        "Diseñar el algoritmo correspondiente a un programa, que:\n",
        "\n",
        "* Crea una tabla (lista con dos dimensiones) de 5x5 enteros.\n",
        "* Carga la tabla con valores numéricos enteros.\n",
        "* Suma todos los elementos de cada fila y todos los elementos de cada columna visualizando los resultados en pantalla.\n"
      ]
    },
    {
      "cell_type": "code",
      "execution_count": null,
      "metadata": {},
      "outputs": [],
      "source": [
        "import random as rad\n",
        "\n",
        "filas = 0\n",
        "columnas = 0\n",
        "\n",
        "mi_lista = [rad.randint(1,9) for _ in range(0,5)]\n",
        "\n",
        "for i in range(0,len(mi_lista)):\n",
        "    filas += mi_lista[i]\n",
        "    for j in range(0,len(mi_lista)):\n",
        "        columnas += mi_lista[j]\n",
        "        print(mi_lista[i] , end=\" \")\n",
        "    print(\"\\n\")   \n",
        "\n",
        "print(filas)\n",
        "print(columnas)"
      ]
    },
    {
      "cell_type": "code",
      "execution_count": null,
      "metadata": {},
      "outputs": [],
      "source": [
        "import random as rad\n",
        "\n",
        "# 1. Crear la tabla\n",
        "tabla = [[0 for i in range(5)] for j in range(1)]\n",
        "\n",
        "# 2. Cargar la tabla\n",
        "for i in range(len(tabla)):\n",
        "    for j in range(len(tabla[0])):\n",
        "        tabla[i][j] = [rad.randint(1, 9) for _ in range(0, 5)]\n",
        "        # tabla[i][j] = int(input(\"Introduce el valor en la posición ({},{}): \".format(i, j)))\n",
        "\n",
        "for i in range(0, len(tabla)):\n",
        "    for j in range(0, len(tabla[i])):\n",
        "        print(tabla[i][j])\n",
        "\n",
        "# 3. Sumar los elementos de cada fila\n",
        "sumas_filas = []\n",
        "for i in range(len(tabla)):\n",
        "    suma_fila = 0\n",
        "    for j in range(len(tabla[0])):\n",
        "        suma_fila += sum(tabla[i][j])  # Aquí está la corrección\n",
        "    sumas_filas.append(suma_fila)\n",
        "\n",
        "# 4. Sumar los elementos de cada columna\n",
        "sumas_columnas = []\n",
        "for j in range(len(tabla[0])):\n",
        "    suma_columna = 0\n",
        "    for i in range(len(tabla)):\n",
        "        suma_columna += sum(tabla[i][j])  # Aquí está la corrección\n",
        "    sumas_columnas.append(suma_columna)\n",
        "\n",
        "# 5. Visualizar los resultados\n",
        "print(\"Sumas de filas:\")\n",
        "for suma in sumas_filas:\n",
        "    print(\"Suma filas : \",suma)\n",
        "print(\"Sumas de columnas:\")\n",
        "for suma in sumas_columnas:\n",
        "    print(suma)\n"
      ]
    },
    {
      "cell_type": "markdown",
      "metadata": {
        "id": "DpDEKp4gKDFO"
      },
      "source": [
        "## Ejercicio 11\n",
        "\n",
        "Diseñar el algoritmo correspondiente a un programa, que:\n",
        "\n",
        "* Crea una tabla bidimensional de longitud 5x5 y nombre ‘diagonal’.\n",
        "* Carga la tabla de forma que los componentes pertenecientes a la diagonal de la matriz tomen el valor 1 y el resto el valor 0.\n",
        "* Muestra el contenido de la tabla en pantalla."
      ]
    },
    {
      "cell_type": "code",
      "execution_count": null,
      "metadata": {},
      "outputs": [
        {
          "name": "stdout",
          "output_type": "stream",
          "text": [
            "1 0 0 0 0 \n",
            "0 1 0 0 0 \n",
            "0 0 1 0 0 \n",
            "0 0 0 1 0 \n",
            "0 0 0 0 1 \n"
          ]
        }
      ],
      "source": [
        "# Declaro la matriz de 5x5\n",
        "matriz = [[0 for i in range(5)] for j in range(5)]\n",
        "\n",
        "print(\"• Diagonal • \")\n",
        "print(\"-------------\")\n",
        "\n",
        "for i in range(0,len(matriz)):\n",
        "    for j in range(0,len(matriz)):\n",
        "        if (i == j):\n",
        "            matriz[i][j] = 1\n",
        "                \n",
        "for i in range(0,len(matriz)):\n",
        "    for j in range(0,len(matriz)):\n",
        "        print(matriz[i][j] , end=\" \")\n",
        "    print()"
      ]
    },
    {
      "cell_type": "markdown",
      "metadata": {
        "id": "AKnNXsN4KRym"
      },
      "source": [
        "## Ejercicio 12\n",
        "\n",
        "Diseñar el algoritmo correspondiente a un programa, que:\n",
        "\n",
        "* Crea una tabla bidimensional de longitud 5x15 y nombre ‘marco’.\n",
        "* Carga la tabla con dos únicos valores 0 y 1, donde el valor uno ocupará las posiciones o elementos que delimitan la tabla, es decir, las más externas, mientras que el resto de los elementos contendrán el valor 0.\n",
        "\n",
        "\n",
        "```\n",
        "111111111111111\n",
        "100000000000001\n",
        "100000000000001\n",
        "100000000000001\n",
        "111111111111111\n",
        "```\n",
        "\n",
        "* Visualiza el contenido de la matriz en pantalla"
      ]
    },
    {
      "cell_type": "code",
      "execution_count": 1,
      "metadata": {},
      "outputs": [
        {
          "name": "stdout",
          "output_type": "stream",
          "text": [
            "00000\n",
            "00000\n",
            "00000\n",
            "00000\n",
            "00000\n"
          ]
        }
      ],
      "source": [
        "matriz = [[0 for i in range(5)] for j in range(5)]\n",
        "\n",
        "limite = len(matriz)\n",
        "\n",
        "for i in range(0,len(matriz)):\n",
        "    for j in range(0,len(matriz)):\n",
        "        if (i == limite) or (j == limite):\n",
        "           matriz[i][j] = 1\n",
        "        else: \n",
        "           matriz[i][j] = 0\n",
        "        print(matriz[i][j], end=\"\")\n",
        "    print(\"\")\n"
      ]
    },
    {
      "cell_type": "code",
      "execution_count": null,
      "metadata": {},
      "outputs": [],
      "source": [
        "matriz = [[0 for i in range(5)] for j in range(5)]\n",
        "\n",
        "limite = len(matriz)-1\n",
        "\n",
        "for i in range(0,len(matriz)):\n",
        "    for j in range(0,len(matriz)):\n",
        "        matriz[i][j] += 1\n",
        "        \n",
        "incr = 0\n",
        "for i in range(0,len(matriz)):\n",
        "    for j in range(0,len(matriz)):\n",
        "        if (i == incr or i == limite) or (j == incr or j == limite):\n",
        "           matriz[i][j] = 1\n",
        "        else: \n",
        "           matriz[i][j] = 0\n",
        "        print(matriz[i][j], end=\"\")\n",
        "    print(\"\")\n"
      ]
    },
    {
      "cell_type": "code",
      "execution_count": null,
      "metadata": {},
      "outputs": [],
      "source": [
        "#Valores \n",
        "\n",
        "matriz = [[0 for i in range(5)] for j in range(5)]\n",
        "\n",
        "limite = len(matriz)-1\n",
        "\n",
        "for i in range(0,len(matriz)):\n",
        "    for j in range(0,len(matriz)):\n",
        "        matriz[i][j] += 1\n",
        "        \n",
        "\n",
        "incr = 0\n",
        "for i in range(0,len(matriz)):\n",
        "    for j in range(0,len(matriz)):\n",
        "        if (i == incr or i == limite): \n",
        "            if(j == incr or j == limite):\n",
        "               matriz[i][j] = 1\n",
        "            else: \n",
        "                matriz[i][j] = 0\n",
        "        print(matriz[i][j], end=\"\")\n",
        "    print(\"\")\n"
      ]
    },
    {
      "cell_type": "markdown",
      "metadata": {
        "id": "H7VlNaP5Kk2T"
      },
      "source": [
        "## Ejercicio 13\n",
        "\n",
        "De una empresa de transporte se quiere guardar el nombre de los conductores que tiene, y los kilómetros que conducen cada día de la semana.\n",
        "\n",
        "Para guardar esta información se van a utilizar dos arrays:\n",
        "\n",
        "* Nombre: Lista para guardar los nombres de los conductores.\n",
        "* kms: Tabla para guardar los kilómetros que realizan cada día de la semana.\n",
        "\n",
        "Se quiere generar una nueva lista (“total_kms”) con los kilómetros totales que realza cada conductor.\n",
        "\n",
        "Al finalizar se muestra la lista con los nombres de conductores y los kilómetros que ha realizado."
      ]
    },
    {
      "cell_type": "code",
      "execution_count": 1,
      "metadata": {},
      "outputs": [
        {
          "name": "stdout",
          "output_type": "stream",
          "text": [
            "Nombre | Kilómetros\n",
            "Juan | 1500\n",
            "Pedro | 2000\n",
            "María | 2500\n"
          ]
        }
      ],
      "source": [
        "# ☻ Definimos los arrays\n",
        "Nombre = [\"Juan\", \"Pedro\", \"María\"]\n",
        "kms = [[100, 200, 300, 400, 500], [200, 300, 400, 500, 600], [300, 400, 500, 600, 700]]\n",
        "\n",
        "# Calculamos los kilómetros totales\n",
        "total_kms = []\n",
        "for i in range(len(Nombre)):\n",
        "    total = 0\n",
        "    for j in range(len(kms[i])):\n",
        "        total += kms[i][j]\n",
        "    total_kms.append(total)\n",
        "\n",
        "# Imprimimos los resultados\n",
        "print(\"Nombre | Kilómetros\")\n",
        "for i in range(len(Nombre)):\n",
        "    print(f\"{Nombre[i]} | {total_kms[i]}\")"
      ]
    },
    {
      "cell_type": "markdown",
      "metadata": {
        "id": "QEDeTz8FKzfu"
      },
      "source": [
        "## Ejercicio 14\n",
        "\n",
        "Crear un programa que lea los precios de 5 artículos y las cantidades vendidas por una empresa en sus 4 sucursales. Informar:\n",
        "\n",
        "* Las cantidades totales de cada articulo.\n",
        "* La cantidad de artículos en la sucursal 2.\n",
        "* La cantidad del articulo 3 en la sucursal 1.\n",
        "* La recaudación total de cada sucursal.\n",
        "* La recaudación total de la empresa.\n",
        "* La sucursal de mayor recaudación."
      ]
    },
    {
      "cell_type": "code",
      "execution_count": 2,
      "metadata": {},
      "outputs": [
        {
          "name": "stdout",
          "output_type": "stream",
          "text": [
            "---------- Resultados ----------\n",
            "Cantidades totales:\n",
            "Articulo 1: 400\n",
            "Articulo 2: 400\n",
            "Articulo 3: 400\n",
            "Articulo 4: 400\n",
            "Articulo 5: 400\n",
            "\n",
            "Cantidad de artículos en la sucursal 2: 500\n",
            "\n",
            "Cantidad del artículo 3 en la sucursal 1: 100\n",
            "\n",
            "Recaudación total por sucursal:\n",
            "Sucursal 1: 15000\n",
            "Sucursal 2: 15000\n",
            "Sucursal 3: 15000\n",
            "Sucursal 4: 15000\n",
            "\n",
            "Recaudación total de la empresa: 60000\n",
            "\n",
            "Sucursal de mayor recaudación: 1\n"
          ]
        }
      ],
      "source": [
        "# ☻ Definimos las variables\n",
        "precios = [10, 20, 30, 40, 50]\n",
        "cantidades = [[0, 0, 0, 0, 0], [0, 0, 0, 0, 0], [0, 0, 0, 0, 0], [0, 0, 0, 0, 0]]\n",
        "\n",
        "# Leemos los datos\n",
        "for i in range(len(precios)):\n",
        "    for j in range(4):\n",
        "        cantidades[j][i] = int(input(f\"Ingrese la cantidad del artículo {i + 1} en la sucursal {j + 1}: \"))\n",
        "\n",
        "# Calculamos las cantidades totales\n",
        "cantidades_totales = []\n",
        "for i in range(len(precios)):\n",
        "    cantidades_totales.append(sum(cantidades[j][i] for j in range(4)))\n",
        "\n",
        "# Calculamos la cantidad de artículos en la sucursal 2\n",
        "cantidad_sucursal2 = sum(cantidades[1])\n",
        "\n",
        "# Calculamos la cantidad del artículo 3 en la sucursal 1\n",
        "cantidad_articulo3_sucursal1 = cantidades[0][2]\n",
        "\n",
        "# Calculamos la recaudación total de cada sucursal\n",
        "recaudacion_sucursales = []\n",
        "\n",
        "for i in range(4):\n",
        "    recaudacion_sucursales.append(sum(precios[j] * cantidades[i][j] for j in range(len(precios))))\n",
        "\n",
        "# Calculamos la recaudación total de la empresa\n",
        "recaudacion_total = sum(recaudacion_sucursales)\n",
        "\n",
        "# Calculamos la sucursal de mayor recaudación\n",
        "sucursal_mayor_recaudacion = recaudacion_sucursales.index(max(recaudacion_sucursales)) + 1\n",
        "\n",
        "# Imprimimos los resultados\n",
        "print(\"---------- Resultados ----------\")\n",
        "print(\"Cantidades totales:\")\n",
        "for i in range(len(cantidades_totales)):\n",
        "    print(f\"Articulo {i + 1}: {cantidades_totales[i]}\")\n",
        "print()\n",
        "print(f\"Cantidad de artículos en la sucursal 2: {cantidad_sucursal2}\")\n",
        "print()\n",
        "print(f\"Cantidad del artículo 3 en la sucursal 1: {cantidad_articulo3_sucursal1}\")\n",
        "print()\n",
        "print(\"Recaudación total por sucursal:\")\n",
        "for i in range(4):\n",
        "    print(f\"Sucursal {i + 1}: {recaudacion_sucursales[i]}\")\n",
        "print()\n",
        "print(f\"Recaudación total de la empresa: {recaudacion_total}\")\n",
        "print()\n",
        "print(f\"Sucursal de mayor recaudación: {sucursal_mayor_recaudacion}\")"
      ]
    },
    {
      "cell_type": "markdown",
      "metadata": {
        "id": "6SMOp_uVK-b8"
      },
      "source": [
        "## Ejercicio 15\n",
        "\n",
        "Crear un programa de ordenador para gestionar los resultados de la quiniela de fútbol. Para ello vamos a utilizar dos tablas:\n",
        "\n",
        "* Equipos: Que es una tabla de cadenas donde guardamos en cada columna el nombre de los equipos de cada partido. En la quiniela se indican 15 partidos.\n",
        "* Resultados: Es una tabla de enteros donde se indica el resultado. También tiene dos columnas, en la primera se guarda el número de goles del equipo que está guardado en la primera columna\n",
        "de la tabla anterior, y en la segunda los goles del otro equipo.\n",
        "\n",
        "El programa ira pidiendo los nombres de los equipos de cada partido y el resultado del partido, a continuación se imprimirá la quiniela de esa jornada.\n",
        "\n",
        "¿Qué modificación habría que hacer en las tablas para guardar todos los resultados de todas las jornadas de la temporada?"
      ]
    },
    {
      "cell_type": "code",
      "execution_count": 3,
      "metadata": {},
      "outputs": [
        {
          "ename": "IndexError",
          "evalue": "list index out of range",
          "output_type": "error",
          "traceback": [
            "\u001b[1;31m---------------------------------------------------------------------------\u001b[0m",
            "\u001b[1;31mIndexError\u001b[0m                                Traceback (most recent call last)",
            "\u001b[1;32mk:\\Otros ordenadores\\Mi PC\\CURSO BD & IA\\Python_PIA\\PIA\\UT01\\2_Ejercicios\\18_Ejercicios_de_Listas_en_Python.ipynb Celda 36\u001b[0m line \u001b[0;36m9\n\u001b[0;32m      <a href='vscode-notebook-cell:/k%3A/Otros%20ordenadores/Mi%20PC/CURSO%20BD%20%26%20IA/Python_PIA/PIA/UT01/2_Ejercicios/18_Ejercicios_de_Listas_en_Python.ipynb#X50sZmlsZQ%3D%3D?line=6'>7</a>\u001b[0m \u001b[39m# Guardamos los resultados de la jornada 1\u001b[39;00m\n\u001b[0;32m      <a href='vscode-notebook-cell:/k%3A/Otros%20ordenadores/Mi%20PC/CURSO%20BD%20%26%20IA/Python_PIA/PIA/UT01/2_Ejercicios/18_Ejercicios_de_Listas_en_Python.ipynb#X50sZmlsZQ%3D%3D?line=7'>8</a>\u001b[0m \u001b[39mfor\u001b[39;00m i \u001b[39min\u001b[39;00m \u001b[39mrange\u001b[39m(\u001b[39m15\u001b[39m):\n\u001b[1;32m----> <a href='vscode-notebook-cell:/k%3A/Otros%20ordenadores/Mi%20PC/CURSO%20BD%20%26%20IA/Python_PIA/PIA/UT01/2_Ejercicios/18_Ejercicios_de_Listas_en_Python.ipynb#X50sZmlsZQ%3D%3D?line=8'>9</a>\u001b[0m     Resultados[i][\u001b[39m0\u001b[39m] \u001b[39m=\u001b[39m \u001b[39mint\u001b[39m(\u001b[39minput\u001b[39m(\u001b[39mf\u001b[39m\u001b[39m\"\u001b[39m\u001b[39mIngrese el número de goles del equipo 1 del partido \u001b[39m\u001b[39m{\u001b[39;00mi\u001b[39m \u001b[39m\u001b[39m+\u001b[39m\u001b[39m \u001b[39m\u001b[39m1\u001b[39m\u001b[39m}\u001b[39;00m\u001b[39m: \u001b[39m\u001b[39m\"\u001b[39m))\n\u001b[0;32m     <a href='vscode-notebook-cell:/k%3A/Otros%20ordenadores/Mi%20PC/CURSO%20BD%20%26%20IA/Python_PIA/PIA/UT01/2_Ejercicios/18_Ejercicios_de_Listas_en_Python.ipynb#X50sZmlsZQ%3D%3D?line=9'>10</a>\u001b[0m     Resultados[i][\u001b[39m1\u001b[39m] \u001b[39m=\u001b[39m \u001b[39mint\u001b[39m(\u001b[39minput\u001b[39m(\u001b[39mf\u001b[39m\u001b[39m\"\u001b[39m\u001b[39mIngrese el número de goles del equipo 2 del partido \u001b[39m\u001b[39m{\u001b[39;00mi\u001b[39m \u001b[39m\u001b[39m+\u001b[39m\u001b[39m \u001b[39m\u001b[39m1\u001b[39m\u001b[39m}\u001b[39;00m\u001b[39m: \u001b[39m\u001b[39m\"\u001b[39m))\n",
            "\u001b[1;31mIndexError\u001b[0m: list index out of range"
          ]
        }
      ],
      "source": [
        "# ☻ Tabla Equipos - Sin terminar\n",
        "Equipos = [[\"Equipo 1\", \"Equipo 2\"], [\"Equipo 3\", \"Equipo 4\"]]\n",
        "\n",
        "# Tabla Resultados\n",
        "Resultados = [[0, 0], [0, 0] , [0,0] , [0, 0] , [0, 0],[0,0],[0, 0], [0, 0],[0,0]]\n",
        "\n",
        "# Guardamos los resultados de la jornada 1\n",
        "for i in range(15):\n",
        "    Resultados[i][0] = int(input(f\"Ingrese el número de goles del equipo 1 del partido {i + 1}: \"))\n",
        "    Resultados[i][1] = int(input(f\"Ingrese el número de goles del equipo 2 del partido {i + 1}: \"))\n",
        "    \n",
        "# Imprimimos los resultados de todas las jornadas\n",
        "for jornada in range(38):\n",
        "    print(f\"Jornada {jornada + 1}\")\n",
        "    for i in range(15):\n",
        "        print(f\"{Equipos[i][0]} - {Equipos[i][1]}: {Resultados[jornada][i]} - {Resultados[jornada][i + 1]}\")   "
      ]
    },
    {
      "cell_type": "markdown",
      "metadata": {
        "id": "8lOcKOs5LLvS"
      },
      "source": [
        "## Ejercicio 16\n",
        "\n",
        "Vamos a crear un programa que tenga el siguiente menú:\n",
        "\n",
        "\n",
        "\n",
        "1.   Añadir número a la lista: Me pide un número de la lista y lo añade al final de la lista.\n",
        "2.   Añadir número de la lista en una posición: Me pide un número y una posición, y si la posición existe en la lista lo añade a ella (la posición se pide a partir de 1).\n",
        "3.  Longitud de la lista: te muestra el número de elementos de la lista.\n",
        "4.  Eliminar el último número: Muestra el último número de la lista y lo borra.\n",
        "5.  Eliminar un número: Pide una posición, y si la posición existe en la lista lo borra de ella (la posición se pide a partir de 1).\n",
        "6.  Contar números: Te pide un número y te dice cuantas apariciones hay en la lista.\n",
        "7.  Posiciones de un número: Te pide un número y te dice en que posiciones está (contando desde 1).\n",
        "8.  Mostrar números: Muestra los números de la lista.\n",
        "9.  Salir"
      ]
    },
    {
      "cell_type": "code",
      "execution_count": 4,
      "metadata": {},
      "outputs": [
        {
          "name": "stdout",
          "output_type": "stream",
          "text": [
            "1: Añadir número a la lista\n",
            "2: Añadir número de la lista en una posición\n",
            "3: Longitud de la lista\n",
            "4: Eliminar el último número\n",
            "5: Eliminar un número\n",
            "6: Contar números\n",
            "7: Posiciones de un número\n",
            "8: Mostrar números\n",
            "9: Salir\n"
          ]
        }
      ],
      "source": [
        "# ☻ Definimos la lista\n",
        "lista = []\n",
        "\n",
        "# Creamos el menú\n",
        "opciones = {\n",
        "    1: \"Añadir número a la lista\",\n",
        "    2: \"Añadir número de la lista en una posición\",\n",
        "    3: \"Longitud de la lista\",\n",
        "    4: \"Eliminar el último número\",\n",
        "    5: \"Eliminar un número\",\n",
        "    6: \"Contar números\",\n",
        "    7: \"Posiciones de un número\",\n",
        "    8: \"Mostrar números\",\n",
        "    9: \"Salir\",\n",
        "}\n",
        "\n",
        "# Bucle principal\n",
        "while True:\n",
        "    # Mostramos el menú\n",
        "    for opcion, descripcion in opciones.items():\n",
        "        print(f\"{opcion}: {descripcion}\")\n",
        "\n",
        "    # Leemos la opción\n",
        "    opcion = int(input(\"Introduce una opción: \"))\n",
        "\n",
        "    # Ejecutamos la acción correspondiente\n",
        "    if opcion == 1:\n",
        "        # Añadimos un número al final de la lista\n",
        "        numero = int(input(\"Introduce un número: \"))\n",
        "        lista.append(numero)\n",
        "    elif opcion == 2:\n",
        "        # Añadimos un número a una posición determinada\n",
        "        numero = int(input(\"Introduce un número: \"))\n",
        "        posicion = int(input(\"Introduce la posición: \"))\n",
        "        lista.insert(posicion - 1, numero)\n",
        "    elif opcion == 3:\n",
        "        # Mostramos la longitud de la lista\n",
        "        print(f\"La longitud de la lista es {len(lista)}\")\n",
        "    elif opcion == 4:\n",
        "        # Eliminamos el último número de la lista\n",
        "        numero = lista.pop()\n",
        "        print(f\"Se ha eliminado el número {numero}\")\n",
        "    elif opcion == 5:\n",
        "        # Eliminamos un número de la lista\n",
        "        posicion = int(input(\"Introduce la posición: \"))\n",
        "        lista.pop(posicion - 1)\n",
        "    elif opcion == 6:\n",
        "        # Contamos las apariciones de un número\n",
        "        numero = int(input(\"Introduce un número: \"))\n",
        "        contador = lista.count(numero)\n",
        "        print(f\"El número {numero} aparece {contador} veces\")\n",
        "    elif opcion == 7:\n",
        "        # Mostramos las posiciones de un número\n",
        "        numero = int(input(\"Introduce un número: \"))\n",
        "        posiciones = [i for i, n in enumerate(lista) if n == numero]\n",
        "        print(f\"El número {numero} aparece en las posiciones: {posiciones}\")\n",
        "    elif opcion == 8:\n",
        "        # Mostramos los números de la lista\n",
        "        print(lista)\n",
        "    elif opcion == 9:\n",
        "        # Salimos del programa\n",
        "        break\n"
      ]
    },
    {
      "cell_type": "markdown",
      "metadata": {
        "id": "JJvxL8wVL3Zm"
      },
      "source": [
        "## Ejercicio 17\n",
        "\n",
        "Crear un programa que añada números a una lista hasta que introducimos un número negativo. A continuación debe crear una nueva lista igual que la anterior pero eliminando los números duplicados. Muestra esta segunda lista para comprobar que hemos eliminados los duplicados."
      ]
    },
    {
      "cell_type": "code",
      "execution_count": null,
      "metadata": {},
      "outputs": [],
      "source": [
        "# ☻ Definimos la lista\n",
        "lista = []\n",
        "\n",
        "# Bucle principal\n",
        "while True:\n",
        "    # Leemos un número\n",
        "    numero = int(input(\"Introduce un número: \"))\n",
        "\n",
        "    # Si el número es negativo, salimos del bucle\n",
        "    if numero < 0:\n",
        "        break\n",
        "\n",
        "    # Añadimos el número a la lista\n",
        "    lista.append(numero)\n",
        "\n",
        "# Creamos una nueva lista sin duplicados\n",
        "lista_sin_duplicados = list(set(lista))\n",
        "\n",
        "# Mostramos la nueva lista\n",
        "print(lista_sin_duplicados)\n"
      ]
    },
    {
      "cell_type": "markdown",
      "metadata": {
        "id": "BZtFKJ8uL-vS"
      },
      "source": [
        "## Ejercicio 18\n",
        "\n",
        "Escriba un programa que permita crear una lista de palabras y que, a continuación de tres opciones:\n",
        "\n",
        "* Contar: Me pide una cadena, y me dice cuantas veces aparece en la lista\n",
        "* Modificar: Me pide una cadena, y otra cadena a modificar, y modifica todas las apariciones de la primera por la segunda en la lista.\n",
        "* Eliminar: Me pide una cadena, y la elimina de la lista.\n",
        "* Mostrar: Muestra la lista de cadenas\n",
        "* Terminar"
      ]
    },
    {
      "cell_type": "code",
      "execution_count": 5,
      "metadata": {},
      "outputs": [
        {
          "name": "stdout",
          "output_type": "stream",
          "text": [
            "1: Contar\n",
            "2: Modificar\n",
            "3: Eliminar\n",
            "4: Mostrar\n",
            "5: Terminar\n"
          ]
        }
      ],
      "source": [
        "# ☻ Definimos la lista\n",
        "lista = []\n",
        "\n",
        "# Bucle principal\n",
        "while True:\n",
        "    # Mostramos el menú\n",
        "    opciones = {\n",
        "        1: \"Contar\",\n",
        "        2: \"Modificar\",\n",
        "        3: \"Eliminar\",\n",
        "        4: \"Mostrar\",\n",
        "        5: \"Terminar\",\n",
        "    }\n",
        "    for opcion, descripcion in opciones.items():\n",
        "        print(f\"{opcion}: {descripcion}\")\n",
        "\n",
        "    # Leemos la opción\n",
        "    opcion = int(input(\"Introduce una opción: \"))\n",
        "\n",
        "    # Ejecutamos la acción correspondiente\n",
        "    if opcion == 1:\n",
        "        # Contamos las apariciones de una cadena\n",
        "        cadena = input(\"Introduce una cadena: \")\n",
        "        contador = lista.count(cadena)\n",
        "        print(f\"La cadena {cadena} aparece {contador} veces\")\n",
        "    elif opcion == 2:\n",
        "        # Modificamos una cadena\n",
        "        cadena_a_buscar = input(\"Introduce una cadena a buscar: \")\n",
        "        cadena_a_modificar = input(\"Introduce una cadena a modificar: \")\n",
        "        for i, cadena in enumerate(lista):\n",
        "            if cadena == cadena_a_buscar:\n",
        "                lista[i] = cadena_a_modificar\n",
        "    elif opcion == 3:\n",
        "        # Eliminamos una cadena\n",
        "        cadena = input(\"Introduce una cadena a eliminar: \")\n",
        "        lista.remove(cadena)\n",
        "    elif opcion == 4:\n",
        "        # Mostramos la lista\n",
        "        print(lista)\n",
        "    elif opcion == 5:\n",
        "        # Salimos del programa\n",
        "        break\n"
      ]
    }
  ],
  "metadata": {
    "colab": {
      "provenance": []
    },
    "kernelspec": {
      "display_name": "Python 3",
      "name": "python3"
    },
    "language_info": {
      "codemirror_mode": {
        "name": "ipython",
        "version": 3
      },
      "file_extension": ".py",
      "mimetype": "text/x-python",
      "name": "python",
      "nbconvert_exporter": "python",
      "pygments_lexer": "ipython3",
      "version": "3.11.6"
    }
  },
  "nbformat": 4,
  "nbformat_minor": 0
}
