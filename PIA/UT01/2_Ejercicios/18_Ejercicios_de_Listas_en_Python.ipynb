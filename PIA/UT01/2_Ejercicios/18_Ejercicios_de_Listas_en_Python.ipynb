{
  "cells": [
    {
      "cell_type": "markdown",
      "metadata": {
        "id": "Accv8mAE1oP3"
      },
      "source": [
        "# Ejercicios de listas\n",
        "\n",
        "## Ejercicio 1\n",
        "\n",
        "Realizar un programa que inicialice una lista con 10 valores aleatorios (del 1 al 10) y posteriormente muestre en pantalla cada elemento de la lista junto con su cuadrado y su cubo."
      ]
    },
    {
      "cell_type": "code",
      "execution_count": 1,
      "metadata": {},
      "outputs": [],
      "source": [
        "import random as aleatorio\n",
        "import math\n",
        "\n",
        "lista_aleatorios = [aleatorio.randint(0, 10) for _ in range(10)]\n",
        "\n",
        "for num in lista_aleatorios:\n",
        "    print(\n",
        "        f\"# calcula el cuadrado y el cubo de un número\\n\"\n",
        "        f'{math.pow(num,2), \" - \" , math.pow(num,3)}'\n",
        "    )"
      ]
    },
    {
      "cell_type": "markdown",
      "metadata": {},
      "source": [
        "## Ejercicio 2\n",
        "\n",
        "Crea una lista e inicializala con 5 cadenas de caracteres leídas por teclado. Copia los elementos de la lista en otra lista pero en orden inverso, y muestra sus elementos por la pantalla."
      ]
    },
    {
      "cell_type": "code",
      "execution_count": null,
      "metadata": {},
      "outputs": [],
      "source": [
        "lista = [None] * 5\n",
        "for i in range(0, len(lista)):\n",
        "    lista[i] = str(input(\"Intro un nuevo caracter\"))\n",
        "\n",
        "lista.reverse()\n",
        "\n",
        "print(lista)"
      ]
    },
    {
      "cell_type": "markdown",
      "metadata": {
        "id": "aMam1QSaJDCu"
      },
      "source": [
        "## Ejercicio 3\n",
        "\n",
        "Se quiere realizar un programa que lea por teclado las 5 notas obtenidas por un alumno (comprendidas entre 0 y 10). A continuación debe mostrar todas las notas, la nota media, la nota más alta que ha sacado y la menor."
      ]
    },
    {
      "cell_type": "code",
      "execution_count": 2,
      "metadata": {},
      "outputs": [
        {
          "name": "stdout",
          "output_type": "stream",
          "text": [
            "[5, 6, 7, 8, 9]\n",
            "Notas media :  7.0\n",
            "Nota más alta :  9\n"
          ]
        }
      ],
      "source": [
        "nota_media = 0\n",
        "nota_alta = 0\n",
        "notas = [None] * 5\n",
        "\n",
        "for i in range(len(notas)):\n",
        "    notas[i] = float(input(\"Introduce la nota numero {} : \".format(i)))\n",
        "\n",
        "print(\"Lista de notas: \",notas)\n",
        "\n",
        "nota_alta = notas[0]\n",
        "\n",
        "for i in range(0, len(notas)):\n",
        "    nota_media += notas[i]\n",
        "\n",
        "for i in range(0, len(notas)):\n",
        "    if nota_alta < notas[i]:\n",
        "        nota_alta = notas[i]\n",
        "\n",
        "# Nota media\n",
        "print(\"Notas media : \", nota_media / len(notas))\n",
        "print(\"Nota más alta : \", nota_alta)"
      ]
    },
    {
      "cell_type": "markdown",
      "metadata": {
        "id": "IQHHht7GJJVs"
      },
      "source": [
        "## Ejercicio 4\n",
        "\n",
        "Programa que declare una lista y la vaya llenando de números hasta que introduzcamos un número negativo. Entonces se debe imprimir el vector (sólo los elementos introducidos)."
      ]
    },
    {
      "cell_type": "code",
      "execution_count": null,
      "metadata": {},
      "outputs": [],
      "source": [
        "# Añadir una lista vacia\n",
        "lista = []\n",
        "incr = 0\n",
        "\n",
        "while(True):\n",
        "    numero = int(input(\"Introduce un numero\"))\n",
        "    if (numero > 0):\n",
        "        lista.append(numero)  \n",
        "    print('Negativo si no deseo continuar')\n",
        "    if (numero < 0):\n",
        "        break\n",
        "      \n",
        "print(lista)    "
      ]
    },
    {
      "cell_type": "markdown",
      "metadata": {
        "id": "2-Gt2ufCJPqy"
      },
      "source": [
        "## Ejercicio 5\n",
        "\n",
        "Hacer un programa que inicialice una lista de números con valores aleatorios (10 valores), y posterior ordene los elementos de menor a mayor."
      ]
    },
    {
      "cell_type": "code",
      "execution_count": null,
      "metadata": {},
      "outputs": [],
      "source": [
        "import random\n",
        "\n",
        "lista = [random.randint(1,10),random.randint(1,10),random.randint(1,10),random.randint(1,10),random.randint(1,10),random.randint(1,10),random.randint(1,10),random.randint(1,10),random.randint(1,10),random.randint(1,10)]\n",
        "print(\"Longitud: \",len(lista))\n",
        "print(\"Sin ordenación:\" ,lista)\n",
        "lista.sort()\n",
        "print(\"Con ordenación:\" , lista)\n"
      ]
    },
    {
      "cell_type": "markdown",
      "metadata": {
        "id": "6lUuFkx9JUVZ"
      },
      "source": [
        "## Ejercicio 6\n",
        "\n",
        "Crea un programa que pida un número al usuario un número de mes (por ejemplo, el 4) y diga cuántos días tiene (por ejemplo, 30) y el nombre del mes. Debes usar listas. Para simplificarlo vamos a suponer que febrero tiene 28 días."
      ]
    },
    {
      "cell_type": "code",
      "execution_count": null,
      "metadata": {},
      "outputs": [],
      "source": [
        "mes = int(input(\"Numero de mes\"))\n",
        "\n",
        "while (mes < 1) or (mes > 12):\n",
        "    if(mes < 1 or mes > 12):\n",
        "        mes = int(input(\"Introduce un nuevo numero de mes\"))\n",
        "    else:\n",
        "        print(\"Mes correcto\")\n",
        "\n",
        "mes -= 1\n",
        "        \n",
        "print(\"Numero escogido: \", mes+1)\n",
        "lista_meses = [31,28,31,30,31,30,31,31,30,31,30,31]\n",
        "nombre_meses = [\"Enero\" ,\"Febrero\" , \"Marzo\" , \"Abril\" , \"Mayo\" , \"Junio\" , \"Julio\" , \"Agosto\" , \"Septiembre\", \"Octubre\" , \"Noviembre\" , \"Diciembre\"]\n",
        "print(\"El mes: \", nombre_meses[mes] ,\" tiene \" , lista_meses[mes] , \" dias\")"
      ]
    },
    {
      "cell_type": "markdown",
      "metadata": {
        "id": "Tri9usePJalD"
      },
      "source": [
        "## Ejercicio 7\n",
        "\n",
        "Programa que declare tres listas ‘lista1’, ‘lista2’ y ‘lista3’ de cinco enteros cada uno, pida valores para ‘lista1’ y ‘lista2’ y calcule lista3=lista1+lista2."
      ]
    },
    {
      "cell_type": "code",
      "execution_count": null,
      "metadata": {},
      "outputs": [],
      "source": [
        "lista_1 = [0] * 5\n",
        "lista_2 = [0] * 5\n",
        "lista_3 = [0] * 5\n",
        "\n",
        "for i in range(0,len(lista_3)):\n",
        "    lista_1[i] = int(input(\"Introduce un número lista 1\"))\n",
        "    lista_2[i] = int(input(\"Introduce un número lista 2\"))\n",
        "    lista_3[i] = lista_1[i] + lista_2[i]\n",
        "    print(lista_3[i])"
      ]
    },
    {
      "cell_type": "code",
      "execution_count": null,
      "metadata": {},
      "outputs": [],
      "source": [
        "# Pedir valores para lista1 y lista2\n",
        "print(\"Introduce los valores para lista1:\")\n",
        "lista1 = [int(input(\"Introduce un número: \")) for _ in range(5)]\n",
        "\n",
        "print(\"Introduce los valores para lista2:\")\n",
        "lista2 = [int(input(\"Introduce un número: \")) for _ in range(5)]\n",
        "\n",
        "# Calcular lista3 = lista1 + lista2 utilizando comprensión de listas\n",
        "lista3 = [lista1[i] + lista2[i] for i in range(5)]\n",
        "\n",
        "print(\"La suma de lista1 y lista2 es:\", lista3)\n"
      ]
    },
    {
      "cell_type": "markdown",
      "metadata": {
        "id": "kxjDuluCJgQz"
      },
      "source": [
        "## Ejercicio 8\n",
        "\n",
        "Queremos guardar los nombres y la edades de los alumnos de un curso. Realiza un programa que introduzca el nombre y la edad de cada alumno. El proceso de lectura de datos terminará cuando se introduzca como nombre un asterisco (*) Al finalizar se mostrará los siguientes datos:\n",
        "\n",
        "* Todos lo alumnos mayores de edad.\n",
        "* Los alumnos mayores (los que tienen más edad)"
      ]
    },
    {
      "cell_type": "code",
      "execution_count": null,
      "metadata": {},
      "outputs": [],
      "source": [
        "edad_mas_alta =  0\n",
        "mayor_edad = 18\n",
        "alumno_mayor = 0\n",
        "posicion = 0\n",
        "nombre_adulto = ''\n",
        "\n",
        "nombres = []\n",
        "nombres_adultos = []\n",
        "edades = []\n",
        "edades_adultos = []\n",
        "\n",
        "while(True):\n",
        "    nombre = input(\"Nombre del alumno:\")\n",
        "    if nombre == '*':\n",
        "        break\n",
        "    else:\n",
        "        edad = int(input(\"Edad del alumno:\"))\n",
        "        nombres.append(nombre)\n",
        "        edades.append(edad)\n",
        "\n",
        "# Alumnos mayores\n",
        "for i in range(0,len(nombres)):\n",
        "    if edades[i] > mayor_edad:\n",
        "        edades_adultos.append(edades[i]) \n",
        "        nombres_adultos.append(nombres[i]) \n",
        "\n",
        "print(\"Nombres: \",nombres_adultos)      \n",
        "print(\"Edades: \",edades_adultos)\n",
        "    \n",
        "# Mostrar adultos\n",
        "for i in range(0, len(edades_adultos)):\n",
        "    alumno_mayor = edades_adultos[i]\n",
        "    nombre_adulto = nombres_adultos[i]\n",
        "    for j in range(0, len(edades_adultos)):\n",
        "        if 18 < edades_adultos[j] and alumno_mayor < edades_adultos[j]:\n",
        "            posicion = j\n",
        "            alumno_mayor = edades_adultos[j]\n",
        "            nombre_adulto = nombres_adultos[j]\n",
        "      \n",
        "\n",
        "print(\"Nombres: \",nombres)\n",
        "print(\"Edades: \",edades)\n",
        "print(\"Mayores de edad: \", edades_adultos)\n",
        "print(\"Nombre:\" , nombre_adulto ,\" El alumno con más edad:\", alumno_mayor , \" Posicion: \" , posicion + 1)"
      ]
    },
    {
      "cell_type": "markdown",
      "metadata": {
        "id": "tSjIHZ2WJtUj"
      },
      "source": [
        "## Ejercicio 9\n",
        "\n",
        "Queremos guardar la temperatura mínima y máxima de 5 días. Realiza un programa que de la siguiente información:\n",
        "\n",
        "* La temperatura media de cada día\n",
        "* Los días con menos temperatura\n",
        "* Se lee una temperatura por teclado y se muestran los días cuya temperatura máxima coincide con ella. si no existe ningún día se muestra un mensaje de información."
      ]
    },
    {
      "cell_type": "code",
      "execution_count": null,
      "metadata": {},
      "outputs": [],
      "source": []
    },
    {
      "cell_type": "markdown",
      "metadata": {
        "id": "nL8BLwAOJ4Wi"
      },
      "source": [
        "## Ejercicio 10\n",
        "\n",
        "Diseñar el algoritmo correspondiente a un programa, que:\n",
        "\n",
        "* Crea una tabla (lista con dos dimensiones) de 5x5 enteros.\n",
        "* Carga la tabla con valores numéricos enteros.\n",
        "* Suma todos los elementos de cada fila y todos los elementos de cada columna visualizando los resultados en pantalla.\n"
      ]
    },
    {
      "cell_type": "code",
      "execution_count": null,
      "metadata": {},
      "outputs": [],
      "source": []
    },
    {
      "cell_type": "markdown",
      "metadata": {
        "id": "DpDEKp4gKDFO"
      },
      "source": [
        "## Ejercicio 11\n",
        "\n",
        "Diseñar el algoritmo correspondiente a un programa, que:\n",
        "\n",
        "* Crea una tabla bidimensional de longitud 5x5 y nombre ‘diagonal’.\n",
        "* Carga la tabla de forma que los componentes pertenecientes a la diagonal de la matriz tomen el valor 1 y el resto el valor 0.\n",
        "* Muestra el contenido de la tabla en pantalla."
      ]
    },
    {
      "cell_type": "code",
      "execution_count": null,
      "metadata": {},
      "outputs": [],
      "source": []
    },
    {
      "cell_type": "markdown",
      "metadata": {
        "id": "AKnNXsN4KRym"
      },
      "source": [
        "## Ejercicio 12\n",
        "\n",
        "Diseñar el algoritmo correspondiente a un programa, que:\n",
        "\n",
        "* Crea una tabla bidimensional de longitud 5x15 y nombre ‘marco’.\n",
        "* Carga la tabla con dos únicos valores 0 y 1, donde el valor uno ocupará las posiciones o elementos que delimitan la tabla, es decir, las más externas, mientras que el resto de los elementos contendrán el valor 0.\n",
        "\n",
        "\n",
        "```\n",
        "111111111111111\n",
        "100000000000001\n",
        "100000000000001\n",
        "100000000000001\n",
        "111111111111111\n",
        "```\n",
        "\n",
        "* Visualiza el contenido de la matriz en pantalla"
      ]
    },
    {
      "cell_type": "code",
      "execution_count": null,
      "metadata": {},
      "outputs": [],
      "source": []
    },
    {
      "cell_type": "markdown",
      "metadata": {
        "id": "H7VlNaP5Kk2T"
      },
      "source": [
        "## Ejercicio 13\n",
        "\n",
        "De una empresa de transporte se quiere guardar el nombre de los conductores que tiene, y los kilómetros que conducen cada día de la semana.\n",
        "\n",
        "Para guardar esta información se van a utilizar dos arrays:\n",
        "\n",
        "* Nombre: Lista para guardar los nombres de los conductores.\n",
        "* kms: Tabla para guardar los kilómetros que realizan cada día de la semana.\n",
        "\n",
        "Se quiere generar una nueva lista (“total_kms”) con los kilómetros totales que realza cada conductor.\n",
        "\n",
        "Al finalizar se muestra la lista con los nombres de conductores y los kilómetros que ha realizado."
      ]
    },
    {
      "cell_type": "code",
      "execution_count": null,
      "metadata": {},
      "outputs": [],
      "source": []
    },
    {
      "cell_type": "markdown",
      "metadata": {
        "id": "QEDeTz8FKzfu"
      },
      "source": [
        "## Ejercicio 14\n",
        "\n",
        "Crear un programa que lea los precios de 5 artículos y las cantidades vendidas por una empresa en sus 4 sucursales. Informar:\n",
        "\n",
        "* Las cantidades totales de cada articulo.\n",
        "* La cantidad de artículos en la sucursal 2.\n",
        "* La cantidad del articulo 3 en la sucursal 1.\n",
        "* La recaudación total de cada sucursal.\n",
        "* La recaudación total de la empresa.\n",
        "* La sucursal de mayor recaudación."
      ]
    },
    {
      "cell_type": "code",
      "execution_count": null,
      "metadata": {},
      "outputs": [],
      "source": []
    },
    {
      "cell_type": "markdown",
      "metadata": {
        "id": "6SMOp_uVK-b8"
      },
      "source": [
        "## Ejercicio 15\n",
        "\n",
        "Crear un programa de ordenador para gestionar los resultados de la quiniela de fútbol. Para ello vamos a utilizar dos tablas:\n",
        "\n",
        "* Equipos: Que es una tabla de cadenas donde guardamos en cada columna el nombre de los equipos de cada partido. En la quiniela se indican 15 partidos.\n",
        "* Resultados: Es una tabla de enteros donde se indica el resultado. También tiene dos columnas, en la primera se guarda el número de goles del equipo que está guardado en la primera columna\n",
        "de la tabla anterior, y en la segunda los goles del otro equipo.\n",
        "\n",
        "El programa ira pidiendo los nombres de los equipos de cada partido y el resultado del partido, a continuación se imprimirá la quiniela de esa jornada.\n",
        "\n",
        "¿Qué modificación habría que hacer en las tablas para guardar todos los resultados de todas las jornadas de la temporada?"
      ]
    },
    {
      "cell_type": "code",
      "execution_count": null,
      "metadata": {},
      "outputs": [],
      "source": []
    },
    {
      "cell_type": "markdown",
      "metadata": {
        "id": "8lOcKOs5LLvS"
      },
      "source": [
        "## Ejercicio 16\n",
        "\n",
        "Vamos a crear un programa que tenga el siguiente menú:\n",
        "\n",
        "\n",
        "\n",
        "1.   Añadir número a la lista: Me pide un número de la lista y lo añade al final de la lista.\n",
        "2.   Añadir número de la lista en una posición: Me pide un número y una posición, y si la posición existe en la lista lo añade a ella (la posición se pide a partir de 1).\n",
        "3.  Longitud de la lista: te muestra el número de elementos de la lista.\n",
        "4.  Eliminar el último número: Muestra el último número de la lista y lo borra.\n",
        "5.  Eliminar un número: Pide una posición, y si la posición existe en la lista lo borra de ella (la posición se pide a partir de 1).\n",
        "6.  Contar números: Te pide un número y te dice cuantas apariciones hay en la lista.\n",
        "7.  Posiciones de un número: Te pide un número y te dice en que posiciones está (contando desde 1).\n",
        "8.  Mostrar números: Muestra los números de la lista.\n",
        "9.  Salir"
      ]
    },
    {
      "cell_type": "code",
      "execution_count": null,
      "metadata": {},
      "outputs": [],
      "source": []
    },
    {
      "cell_type": "markdown",
      "metadata": {
        "id": "JJvxL8wVL3Zm"
      },
      "source": [
        "## Ejercicio 17\n",
        "\n",
        "Crear un programa que añada números a una lista hasta que introducimos un número negativo. A continuación debe crear una nueva lista igual que la anterior pero eliminando los números duplicados. Muestra esta segunda lista para comprobar que hemos eliminados los duplicados."
      ]
    },
    {
      "cell_type": "code",
      "execution_count": null,
      "metadata": {},
      "outputs": [],
      "source": []
    },
    {
      "cell_type": "markdown",
      "metadata": {
        "id": "BZtFKJ8uL-vS"
      },
      "source": [
        "## Ejercicio 18\n",
        "\n",
        "Escriba un programa que permita crear una lista de palabras y que, a continuación de tres opciones:\n",
        "\n",
        "* Contar: Me pide una cadena, y me dice cuantas veces aparece en la lista\n",
        "* Modificar: Me pide una cadena, y otra cadena a modificar, y modifica todas las apariciones de la primera por la segunda en la lista.\n",
        "* Eliminar: Me pide una cadena, y la elimina de la lista.\n",
        "* Mostrar: Muestra la lista de cadenas\n",
        "* Terminar"
      ]
    },
    {
      "cell_type": "code",
      "execution_count": null,
      "metadata": {},
      "outputs": [],
      "source": []
    }
  ],
  "metadata": {
    "colab": {
      "provenance": []
    },
    "kernelspec": {
      "display_name": "Python 3",
      "name": "python3"
    },
    "language_info": {
      "codemirror_mode": {
        "name": "ipython",
        "version": 3
      },
      "file_extension": ".py",
      "mimetype": "text/x-python",
      "name": "python",
      "nbconvert_exporter": "python",
      "pygments_lexer": "ipython3",
      "version": "3.11.6"
    }
  },
  "nbformat": 4,
  "nbformat_minor": 0
}
