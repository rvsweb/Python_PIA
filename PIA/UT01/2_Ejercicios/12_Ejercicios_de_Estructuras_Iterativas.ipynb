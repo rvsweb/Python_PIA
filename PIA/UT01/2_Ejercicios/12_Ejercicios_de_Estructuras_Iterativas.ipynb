{
  "cells": [
    {
      "cell_type": "markdown",
      "metadata": {
        "id": "W9Gdw-6MCll2"
      },
      "source": [
        "## Ejercicios estructuras repetitivas\n",
        "\n",
        "### Ejercicio 1\n",
        "\n",
        "Crea una aplicación que pida un número y calcule su factorial (El factorial de un número es el producto de todos los enteros entre 1 y el propio número y se representa por el número seguido de un signo de exclamación. Por ejemplo 5! = 1x2x3x4x5=120),\n",
        "\n"
      ]
    },
    {
      "cell_type": "code",
      "execution_count": 61,
      "metadata": {},
      "outputs": [
        {
          "name": "stdout",
          "output_type": "stream",
          "text": [
            "1 - 2 - 6 - 24 - 120 - 720 - 5040 - 40320 - 362880 - "
          ]
        }
      ],
      "source": [
        "import random\n",
        "\n",
        "contador = 1\n",
        "aletarorio = random.randint(1, 10)\n",
        "for i in range(1, aletarorio):\n",
        "    contador = contador * i\n",
        "    print(contador, \"-\", end=\" \")"
      ]
    },
    {
      "cell_type": "code",
      "execution_count": 62,
      "metadata": {},
      "outputs": [
        {
          "name": "stdout",
          "output_type": "stream",
          "text": [
            "1 - 2 - 6 - 24 - 120 - "
          ]
        }
      ],
      "source": [
        "factorial = 1\n",
        "for i in range(1, 6):\n",
        "    factorial *= i\n",
        "    print(factorial, \"-\", end=\" \")"
      ]
    },
    {
      "cell_type": "code",
      "execution_count": 50,
      "metadata": {},
      "outputs": [
        {
          "name": "stdout",
          "output_type": "stream",
          "text": [
            "120\n"
          ]
        }
      ],
      "source": [
        "# Sistema recursivo\n",
        "def factorial(n):\n",
        "    if n == 0:\n",
        "        return 1\n",
        "    else:\n",
        "        return n * factorial(n - 1)\n",
        "\n",
        "\n",
        "# Prueba la función con el número 5\n",
        "print(factorial(5))"
      ]
    },
    {
      "cell_type": "markdown",
      "metadata": {
        "id": "6-7ZvIQwABgv"
      },
      "source": [
        "### Ejercicio 2\n",
        "Crea una aplicación que permita adivinar un número. La aplicación genera un número aleatorio del 1 al 100. A continuación va pidiendo números y va respondiendo si el número a adivinar es mayor o menor que el introducido, además de los intentos que te quedan (tienes 10 intentos para acertarlo). El programa termina cuando se acierta el número (además te dice en cuantos intentos lo has acertado), si se llega al limite de intentos te muestra el número que había generado.\n",
        "\n"
      ]
    },
    {
      "cell_type": "code",
      "execution_count": 7,
      "metadata": {},
      "outputs": [
        {
          "name": "stdout",
          "output_type": "stream",
          "text": [
            "💀 Vamos a jugar un juego\n",
            "🎲 Numero de intentos que te quedan:  4\n",
            "💥 Has fallado\n",
            "El numero elegido:  11  es menor que el numero Magico\n",
            "🎲 Numero de intentos que te quedan:  3\n",
            "💥 Has fallado\n",
            "El numero elegido:  32  es menor que el numero Magico\n",
            "🎲 Numero de intentos que te quedan:  2\n",
            "💥 Has fallado\n",
            "El numero elegido:  45  es menor que el numero Magico\n",
            "🎲 Numero de intentos que te quedan:  1\n",
            "💥 Has fallado\n",
            "El numero elegido:  65  es menor que el numero Magico\n",
            "❎ Fin del juego\n",
            "⭕ El número Magico era el:  95\n",
            "💫 Numero de veces ejecutadas el juego antes de encontrar el numero Magico:  5\n"
          ]
        }
      ],
      "source": [
        "import random\n",
        "\n",
        "# Presentación\n",
        "print(\"💀 Vamos a jugar un juego\")\n",
        "\n",
        "# Numero Aleatorio\n",
        "numeroMagico = random.randint(1, 100)\n",
        "\n",
        "# Numero Elegido\n",
        "numeroElegido = int(input(\"Introduce el 1º numero aleatorio: \"))\n",
        "\n",
        "# Intentos disponibles\n",
        "intentos = 5\n",
        "# Veces que se repite la jugada\n",
        "numVeces = 1\n",
        "\n",
        "# Cambio de condición\n",
        "interruptor = False\n",
        "\n",
        "# Algoritmo del juego\n",
        "while interruptor != True:\n",
        "    intentos -= 1\n",
        "    if intentos > 0:\n",
        "        numVeces += 1\n",
        "        print(\"🎲 Numero de intentos que te quedan:  , intentos)\n",
        "        if numeroMagico == numeroElegido:\n",
        "            print(\"🥇 Felicidades - Numero Magico Descubierto : \", numeroElegido))\n",
        "            interruptor = True\n",
        "        elif numeroMagico != numeroElegido:\n",
        "            if numeroMagico != numeroElegido:\n",
        "                if numeroMagico > numeroElegido:\n",
        "                    print(\"💥 Has fallado\")\n",
        "                    print(\n",
        "                        \"El numero elegido:\",\n",
        "                        numeroElegido,\n",
        "                        \" es menor que el numero Magico\",\n",
        "                    )\n",
        "                    numeroElegido = int(\n",
        "                        input(\"▶ Introduce un nuevo numero aleatorio: \")\n",
        "                    )\n",
        "                elif numeroMagico < numeroElegido:\n",
        "                    print(\"💥 Has fallado\")\n",
        "                    print(\n",
        "                        \"El numero elegido: \",\n",
        "                        numeroElegido,\n",
        "                        \" es mayor que el numero Magico\",\n",
        "                    )\n",
        "                    numeroElegido = int(\n",
        "                        input(\"▶ Introduce un nuevo numero aleatorio: \")\n",
        "                    )\n",
        "    else:\n",
        "        interruptor = True\n",
        "\n",
        "print(\"❎ Fin del juegdo\")\n",
        "print(\"⭕ El número Magico era el: \", numeroMagico)\n",
        "print(\n",
        "    \"💫 Numero de veces ejecutadas el juego antes de encontrar el numero Magico: \",\n",
        "    numVeces,\n",
        ")"
      ]
    },
    {
      "cell_type": "markdown",
      "metadata": {
        "id": "DHBXQLiPAEa7"
      },
      "source": [
        "### Ejercicio 3\n",
        "Algoritmo que pida números hasta que se introduzca un cero. Debe imprimir la suma y la media de todos los números introducidos.\n",
        "\n"
      ]
    },
    {
      "cell_type": "code",
      "execution_count": 4,
      "metadata": {},
      "outputs": [
        {
          "name": "stdout",
          "output_type": "stream",
          "text": [
            "• Numero introducido\n",
            " ← Nuevo numero añadido :  1\n",
            "• Numero introducido\n",
            " ← Nuevo numero añadido :  1\n",
            "• Numero introducido\n",
            " ← Nuevo numero añadido :  0\n",
            "♣ Numero de veces ejecutadas el programa :  3\n",
            "♣ La suma de todos los numeros  2\n",
            "♣ La media de todos los numeros  0.6666666666666666\n",
            "♣ Fin del programa\n"
          ]
        }
      ],
      "source": [
        "### Ejercicio 3\n",
        "# Algoritmo que pida números hasta que se introduzca un cero.\n",
        "# Debe imprimir la suma y la media de todos los números introducidos.\n",
        "\n",
        "suma = 0\n",
        "media = 0\n",
        "contador = 0\n",
        "\n",
        "numero = int(\n",
        "    input(\n",
        "        \"♦ Introduce un numero o Pulsa '0' para terminar la ejecución del programa : \"\n",
        "    )\n",
        ")\n",
        "\n",
        "# Si son numeros usar operadores\n",
        "# Si son booleanos usar palabras\n",
        "while numero != 0:\n",
        "    contador += 1\n",
        "    if numero == 0:\n",
        "        numero = 0\n",
        "    else:\n",
        "        print(\"• Numero introducido\")\n",
        "        numero = int(input(\"○ Introduce un numero : \"))\n",
        "        print(\" ← Nuevo numero añadido : \", numero)\n",
        "    suma += numero\n",
        "\n",
        "print(\"♣ Numero de veces ejecutadas el programa : \", contador)\n",
        "print(\"♣ La suma de todos los numeros \", suma)\n",
        "print(\"♣ La media de todos los numeros \", suma / contador)\n",
        "print(\"♣ Fin del programa\")"
      ]
    },
    {
      "cell_type": "markdown",
      "metadata": {
        "id": "wd3cjiHPAHg1"
      },
      "source": [
        "### Ejercicio 4\n",
        "Realizar un algoritmo que pida números (se pedirá por teclado la cantidad de números a introducir). El programa debe informar de cuantos números introducidos son mayores que 0, menores que 0 e iguales a 0.\n",
        "\n"
      ]
    },
    {
      "cell_type": "code",
      "execution_count": null,
      "metadata": {},
      "outputs": [],
      "source": [
        "# Ejercicio 4\n",
        "# 👌 Realizar un algoritmo que pida números (se pedirá por teclado la cantidad de números a introducir).\n",
        "# El programa debe informar de cuantos números introducidos son mayores que 0, menores que 0 e iguales a 0.\n",
        "\n",
        "numVeces = int(input(\"Introduce el numero total de numeros: \"))\n",
        "print(\"Has pedido reservar un total de: \", numVeces)\n",
        "numeroMayores = 0\n",
        "numeroMenores = 0\n",
        "numeroIguales = 0\n",
        "\n",
        "for i in range(1, numVeces):\n",
        "    numero = int(input(\"Introduce un numero: \"))\n",
        "    if numero > 0:\n",
        "        numeroMayores += 1\n",
        "    if numero < 0:\n",
        "        numeroMenores += 1\n",
        "    if numero == 0:\n",
        "        numeroIguales += 1\n",
        "\n",
        "print(\"Numero Iguales a 0 = \", numeroIguales)\n",
        "print(\"Numero Menores a 0 = \", numeroMenores)\n",
        "print(\"Numero Mayores a 0 = \", numeroMayores)"
      ]
    },
    {
      "cell_type": "markdown",
      "metadata": {
        "id": "Rx90_59QAKY8"
      },
      "source": [
        "### Ejercicio 5\n",
        "Algoritmo que pida caracteres e imprima ‘VOCAL’ si son vocales y ‘NO VOCAL’ en caso contrario, el programa termina cuando se introduce un espacio."
      ]
    },
    {
      "cell_type": "code",
      "execution_count": null,
      "metadata": {},
      "outputs": [],
      "source": [
        "# Ejercicio 5\n",
        "# Algoritmo que pida caracteres e imprima ‘VOCAL’ si son vocales y ‘NO VOCAL’ en caso contrario\n",
        "# El programa termina cuando se introduce un espacio.\n",
        "\n",
        "print(\"Introduce caracteres vocales y consonantes\")\n",
        "salida = \" \"\n",
        "fin_programa = True\n",
        "\n",
        "dato = input(\"Introduce el primer dato: \")\n",
        "\n",
        "v_a = \"a\"\n",
        "v_e = \"e\"\n",
        "v_i = \"i\"\n",
        "v_o = \"o\"\n",
        "v_u = \"u\"\n",
        "\n",
        "while fin_programa is True:\n",
        "    if salida is dato:\n",
        "        fin_programa = False\n",
        "    else:\n",
        "        print(\"Dato introducido: \", dato)\n",
        "        match dato:\n",
        "            case \"a\":\n",
        "                print(\"vocal: \", v_a)\n",
        "            case \"e\":\n",
        "                print(\"vocal: \", v_e)\n",
        "            case \"i\":\n",
        "                print(\"vocal: \", v_i)\n",
        "            case \"o\":\n",
        "                print(\"vocal: \", v_o)\n",
        "            case \"u\":\n",
        "                print(\"vocal: \", v_u)\n",
        "            case _ if (dato != v_a) or (dato != v_e) or (dato != v_i) or (\n",
        "                dato != v_o\n",
        "            ) or (dato != v_u):\n",
        "                print(\"No Vocales: \", dato)\n",
        "\n",
        "        dato = input(\"Introduce un nuevo dato: \")\n",
        "\n",
        "print(\"Fin del programa\")"
      ]
    },
    {
      "cell_type": "markdown",
      "metadata": {
        "id": "GD3JBcuJANCs"
      },
      "source": [
        "### Ejercicio 6\n",
        "Escribir un programa que imprima todos los números pares entre dos números que se le pidan al usuario."
      ]
    },
    {
      "cell_type": "code",
      "execution_count": null,
      "metadata": {},
      "outputs": [],
      "source": [
        "# Escribir un programa que imprima todos los números pares entre dos números que se le pidan al usuario.\n",
        "\n",
        "rango_inferior = int(input(\"Introduce el rango inferior: \"))\n",
        "rango_superior = int(input(\"Introduce el rango superior: \"))\n",
        "\n",
        "for i in range(rango_inferior, rango_superior):\n",
        "    if i % 2 == 0:\n",
        "        print(\"Soy par: \", i)\n",
        "    else:\n",
        "        print(\"No soy par: \", i)\n",
        "\n",
        "print(\"Fin del programa\")"
      ]
    },
    {
      "cell_type": "markdown",
      "metadata": {
        "id": "VQKLVUdvAOyH"
      },
      "source": [
        "### Ejercicio 7\n",
        "Realizar una algoritmo que muestre la tabla de multiplicar de un número introducido por teclado."
      ]
    },
    {
      "cell_type": "code",
      "execution_count": null,
      "metadata": {},
      "outputs": [],
      "source": [
        "# Realizar una algoritmo que muestre la tabla de multiplicar de un número introducido por teclado.\n",
        "\n",
        "numero = int(input(\"Intro el numero: \"))\n",
        "\n",
        "for i in range(0, 11):\n",
        "    print(numero, \" x \", i, \" = \", i * numero)"
      ]
    },
    {
      "cell_type": "markdown",
      "metadata": {
        "id": "8nIcY5XnAQY-"
      },
      "source": [
        "### Ejercicio 8\n",
        "Escribe un programa que pida el limite inferior y superior de un intervalo. Si el límite inferior es mayor que el superior lo tiene que volver a pedir.\n",
        "A continuación se van introduciendo números hasta que introduzcamos el 0. Cuando termine el programa dará las siguientes informaciones:\n",
        "\n",
        "La suma de los números que están dentro del intervalo (intervalo abierto).\n",
        "Cuantos números están fuera del intervalo.\n",
        "He informa si hemos introducido algún número igual a los límites del intervalo."
      ]
    },
    {
      "cell_type": "code",
      "execution_count": null,
      "metadata": {},
      "outputs": [],
      "source": [
        "# Escribe un programa que pida el límite inferior y superior de un intervalo.\n",
        "suma_intervalos = 0\n",
        "suma_intervalos_fuera = 0\n",
        "numero_fuera_intervalos = 0\n",
        "activo_intervalo_inferior = False\n",
        "activo_intervalo_superior = False\n",
        "numero = 1\n",
        "\n",
        "intervalo_inferior = int(input(\"↓ Introduce Limite Inferior: \"))\n",
        "print(\"• Intervalo inferior introducido : \", intervalo_inferior)\n",
        "intervalo_superior = int(input(\"↑ Introduce Limite Superior: \"))\n",
        "print(\"• Intervalo superior introducido : \", intervalo_superior)\n",
        "\n",
        "# Si el límite inferior es mayor que el límite superior lo tiene que volver a pedir.\n",
        "if intervalo_inferior > intervalo_superior:\n",
        "    print(\"♦ Intervalo inferior mayor que el superior\")\n",
        "    while intervalo_inferior > intervalo_superior:\n",
        "        intervalo_inferior = int(input(\"♦ Introduce un nuevo limite Inferior: \"))\n",
        "        print(\"♦ Valor Inferior \", intervalo_inferior)\n",
        "\n",
        "intervalo_inferior_establecido = intervalo_inferior\n",
        "intervalo_superior_establecido = intervalo_superior\n",
        "\n",
        "while numero != 0:\n",
        "    if numero != 0:\n",
        "        numero = int(input(\"♣ Introduce un Intervalo Inferior:\"))\n",
        "        intervalo_inferior = numero\n",
        "        print(\"♣ Intervalo Inferior: \", intervalo_inferior)\n",
        "        numero = int(input(\"♣ Introduce un Intervalo Superior:\"))\n",
        "        intervalo_superior = numero\n",
        "        print(\"♣ Intervalo Superior: \", intervalo_superior)\n",
        "        if intervalo_inferior_establecido > intervalo_superior_establecido:\n",
        "            print(\"♣ Intervalo inferior mayor que el superior\")\n",
        "            while intervalo_inferior > intervalo_superior:\n",
        "                intervalo_inferior = int(\n",
        "                    input(\n",
        "                        \"♣ Introduce un nuevo limite Inferior que sea mayor al limite Superior: \"\n",
        "                    )\n",
        "                )\n",
        "\n",
        "    # La suma de los números que están dentro del intervalo (intervalo abierto).\n",
        "    if numero > intervalo_inferior or numero < intervalo_superior:\n",
        "        suma_intervalos += intervalo_inferior\n",
        "        suma_intervalos += intervalo_superior\n",
        "    elif numero < intervalo_inferior or numero > intervalo_superior:\n",
        "        # Cuantos números están fuera del intervalo.\n",
        "        suma_intervalos_fuera += numero\n",
        "        numero_fuera_intervalos += 1\n",
        "    # He informa si hemos introducido algún número igual a los límites del intervalo.\n",
        "    elif numero == intervalo_inferior or numero == intervalo_superior:\n",
        "        activo_intervalo_inferior = True\n",
        "        activo_intervalo_superior = True\n",
        "    elif numero == 0:\n",
        "        print(\"§ Fin del programa\")\n",
        "\n",
        "# Cuando termine el programa dará las siguientes informaciones:\n",
        "print(\"------------------------------------------------\")\n",
        "print(\"○ Intervalo inferior:\", intervalo_inferior)\n",
        "print(\"○ Intervalo superior:\", intervalo_superior)\n",
        "\n",
        "print(\"○ Suma intervalos:\", suma_intervalos)\n",
        "print(\"○ Suma intervalos fuera:\", suma_intervalos)\n",
        "\n",
        "print(\n",
        "    \"○ Se han introducido un Intervalo fuera del inferior:\", activo_intervalo_inferior\n",
        ")\n",
        "print(\n",
        "    \"○ Se han introducido un Intervalo fuera del superior:\", activo_intervalo_superior\n",
        ")"
      ]
    },
    {
      "cell_type": "markdown",
      "metadata": {
        "id": "BhQQQpnEAShy"
      },
      "source": [
        "### Ejercicio 9\n",
        "Escribe un programa que dados dos números, uno real (base) y un entero positivo (exponente), saque por pantalla el resultado de la potencia. No se puede utilizar el operador de potencia."
      ]
    },
    {
      "cell_type": "code",
      "execution_count": null,
      "metadata": {},
      "outputs": [],
      "source": [
        "## Ejercicio 9\n",
        "# Escribe un programa que dados dos números, uno real (base) y un entero positivo (exponente),\n",
        "# saque por pantalla el resultado de la potencia.\n",
        "#\n",
        "# No se puede utilizar el operador de potencia.\n",
        "\n",
        "primer_numero = int(input(\"Primer numero\"))\n",
        "segundo_numero = int(input(\"Segundo numero\"))\n",
        "total = 0\n",
        "\n",
        "for i in range(primer_numero, segundo_numero):\n",
        "    total = primer_numero**segundo_numero\n",
        "\n",
        "print(total)"
      ]
    },
    {
      "cell_type": "markdown",
      "metadata": {
        "id": "fijFlwpJAW8c"
      },
      "source": [
        "### Ejercicio 10\n",
        "Algoritmo que muestre la tabla de multiplicar de los números 1,2,3,4 y 5."
      ]
    },
    {
      "cell_type": "code",
      "execution_count": null,
      "metadata": {},
      "outputs": [],
      "source": [
        "# Ejercicio 10\n",
        "# Algoritmo que muestre la tabla de multiplicar de los números 1,2,3,4 y 5.\n",
        "\n",
        "for i in range(1, 6):\n",
        "    print(f\"Tabla del numero: \", i)\n",
        "    for j in range(0, 11):\n",
        "        print(f\"{i} x {j} = {i * j}\")\n",
        "    print(\"\\n\")"
      ]
    },
    {
      "cell_type": "markdown",
      "metadata": {
        "id": "Cbm0MdKQAZns"
      },
      "source": [
        "### Ejercicio 11\n",
        "Escribe un programa que diga si un número introducido por teclado es o no primo. Un número primo es aquel que sólo es divisible entre él mismo y la unidad. Nota: Es suficiente probar hasta la raíz cuadrada del número para ver si es divisible por algún otro número."
      ]
    },
    {
      "cell_type": "code",
      "execution_count": null,
      "metadata": {},
      "outputs": [],
      "source": [
        "numero = random.randint(1, 100)\n",
        "\n",
        "es_primo = True\n",
        "\n",
        "if numero < 2:  # los números menores que 2 no son primos\n",
        "    es_primo = False\n",
        "else:\n",
        "    for i in range(2, numero):\n",
        "        if (\n",
        "            numero % i == 0\n",
        "        ):  # si el número es divisible por cualquier número en este rango, no es primo\n",
        "            es_primo = False\n",
        "            break\n",
        "\n",
        "if es_primo:\n",
        "    print(f\"{numero} es un número primo\")\n",
        "else:\n",
        "    print(f\"{numero} no es un número primo\")"
      ]
    },
    {
      "cell_type": "markdown",
      "metadata": {
        "id": "PZ77dm7SAaN2"
      },
      "source": [
        "### Ejercicio 12\n",
        "Realizar un algoritmo para determinar cuánto ahorrará una persona en un año, si al final de cada mes deposita cantidades variables de dinero; además, se quiere saber cuánto lleva ahorrado cada mes."
      ]
    },
    {
      "cell_type": "code",
      "execution_count": null,
      "metadata": {},
      "outputs": [],
      "source": [
        "import random\n",
        "\n",
        "cantidad_total = 0\n",
        "\n",
        "for i in range(1, 13):\n",
        "    cantidad_generada = random.randint(1, 100)\n",
        "    print(\"Mes →\", i, \"→ cantidad generada\", cantidad_generada)\n",
        "    cantidad_total += cantidad_generada\n",
        "\n",
        "print(\"Cantidad total acumulada: \", cantidad_total)"
      ]
    },
    {
      "cell_type": "markdown",
      "metadata": {
        "id": "r9qqJm62AdPQ"
      },
      "source": [
        "### Ejercicio 13\n",
        "Una empresa tiene el registro de las horas que trabaja diariamente un empleado durante la semana (seis días) y requiere determinar el total de éstas, así como el sueldo que recibirá por las horas trabajadas."
      ]
    },
    {
      "cell_type": "code",
      "execution_count": 2,
      "metadata": {},
      "outputs": [
        {
          "name": "stdout",
          "output_type": "stream",
          "text": [
            "Dia 1  - Salario diario  96\n",
            "Dia 2  - Salario diario  104\n",
            "Dia 3  - Salario diario  104\n",
            "Dia 4  - Salario diario  80\n",
            "Dia 5  - Salario diario  80\n",
            "Dia 6  - Salario diario  96\n",
            "Salario total :  590\n"
          ]
        }
      ],
      "source": [
        "import random\n",
        "\n",
        "horas_trabajadas = 8\n",
        "salario_semana_trabajada = 6\n",
        "\n",
        "for i in range(1, 7):\n",
        "    salario_diario = 8 * random.randint(10, 14)\n",
        "    print(\"Dia\", i, \" - Salario diario \", salario_diario)\n",
        "    salario_semana_trabajada += 8 * random.randint(10, 14)\n",
        "\n",
        "print(\"Salario total : \", salario_semana_trabajada)"
      ]
    },
    {
      "cell_type": "markdown",
      "metadata": {
        "id": "8cj18VlSAe2I"
      },
      "source": [
        "### Ejercicio 14\n",
        "Una persona se encuentra en el kilómetro 70 de una carretera, otra se encuentra en el km 150, los coches tienen sentido opuesto y tienen la misma velocidad. Realizar un programa para determinar en qué kilómetro de esa carretera se encontrarán."
      ]
    },
    {
      "cell_type": "code",
      "execution_count": 2,
      "metadata": {},
      "outputs": [
        {
          "name": "stdout",
          "output_type": "stream",
          "text": [
            "Los coches se encontrarán en el kilómetro 261.5\n"
          ]
        }
      ],
      "source": [
        "import random\n",
        "\n",
        "# Velocidad de los coches en km/h\n",
        "velocidad = random.randint(50, 120)\n",
        "\n",
        "# Posiciones iniciales de los coches\n",
        "posicion_coche1 = random.randint(100, 500)\n",
        "posicion_coche2 = random.randint(100, 500)\n",
        "\n",
        "# Calcular la distancia entre los coches\n",
        "distancia = posicion_coche2 - posicion_coche1\n",
        "\n",
        "# Calcular el tiempo que tardarán en encontrarse (en horas)\n",
        "tiempo = distancia / (2 * velocidad)\n",
        "\n",
        "# Calcular el punto de encuentro\n",
        "punto_encuentro = posicion_coche1 + velocidad * tiempo\n",
        "\n",
        "print(f\"Los coches se encontrarán en el kilómetro {punto_encuentro}\")"
      ]
    },
    {
      "cell_type": "markdown",
      "metadata": {
        "id": "EOKUpjcxAgs8"
      },
      "source": [
        "### Ejercicio 15\n",
        "Una persona adquirió un producto para pagar en 20 meses. El primer mes pagó 10 €, el segundo 20 €, el tercero 40 € y así sucesivamente. Realizar un algoritmo para determinar cuánto debe pagar mensualmente y el total de\n",
        "lo que pagó después de los 20 meses."
      ]
    },
    {
      "cell_type": "code",
      "execution_count": 5,
      "metadata": {},
      "outputs": [
        {
          "name": "stdout",
          "output_type": "stream",
          "text": [
            "• mes  1  =  10\n",
            "♦ mes  2  =  30\n",
            "♦ mes  3  =  50\n",
            "♦ mes  4  =  70\n",
            "♦ mes  5  =  90\n",
            "♦ mes  6  =  110\n",
            "♦ mes  7  =  130\n",
            "♦ mes  8  =  150\n",
            "♦ mes  9  =  170\n",
            "♦ mes  10  =  190\n",
            "♦ mes  11  =  210\n",
            "♦ mes  12  =  230\n",
            "♦ mes  13  =  250\n",
            "♦ mes  14  =  270\n",
            "♦ mes  15  =  290\n",
            "♦ mes  16  =  310\n",
            "♦ mes  17  =  330\n",
            "♦ mes  18  =  350\n",
            "♦ mes  19  =  370\n",
            "♦ mes  20  =  390\n"
          ]
        }
      ],
      "source": [
        "acumulador = 0\n",
        "for i in range(1, 20 + 1, 1):\n",
        "    if i == 1:\n",
        "        acumulador += 10\n",
        "        print(\"• mes \", i, \" = \", acumulador)\n",
        "    else:\n",
        "        acumulador *= 2\n",
        "        print(\"♦ mes \", i, \" = \", acumulador)"
      ]
    },
    {
      "cell_type": "markdown",
      "metadata": {
        "id": "cOYhPxpBAkK_"
      },
      "source": [
        "### Ejercicio 16\n",
        "Una empresa les paga a sus empleados con base en las horas trabajadas en la semana. Realice un algoritmo para determinar el sueldo semanal de N trabajadores y, además, calcule cuánto pagó la empresa por los N empleados."
      ]
    },
    {
      "cell_type": "code",
      "execution_count": null,
      "metadata": {},
      "outputs": [],
      "source": [
        "import random\n",
        "\n",
        "semana = 5\n",
        "numero_trabajadores = random.randint(5, 50)\n",
        "print(\"Numero de trabajadores:\", numero_trabajadores)\n",
        "horas_trabajadas = 40\n",
        "print(\"Horas trabajadas:\", horas_trabajadas)\n",
        "\n",
        "paga_trabajador = horas_trabajadas * semana\n",
        "paga_trabajadores = (horas_trabajadas * semana) * numero_trabajadores\n",
        "\n",
        "print(\"Paga Semanal x trabajador:\", paga_trabajador)\n",
        "print(\"Paga Semanal para todos los trabajadores:\", paga_trabajadores)"
      ]
    },
    {
      "cell_type": "markdown",
      "metadata": {
        "id": "OH55kh6OAl5H"
      },
      "source": [
        "### Ejercicio 17\n",
        "Una empresa les paga a sus empleados con base en las horas trabajadas en la semana. Para esto, se registran los días que trabajó y las horas de cada día. Realice un algoritmo para determinar el sueldo semanal de N trabajadores y además calcule cuánto pagó la empresa por los N empleados."
      ]
    },
    {
      "cell_type": "code",
      "execution_count": 1,
      "metadata": {},
      "outputs": [
        {
          "name": "stdout",
          "output_type": "stream",
          "text": [
            "Sueldo semanal: 1680\n",
            "Numero trabajadores: 1680\n",
            "Paga :  42000\n"
          ]
        }
      ],
      "source": [
        "import random\n",
        "\n",
        "paga = 0\n",
        "dias_trabajados = 5\n",
        "horas_cada_dia = 10\n",
        "sueldo_semanal = random.randint(100, 1000) * dias_trabajados\n",
        "print(\"Sueldo semanal:\", sueldo_semanal)\n",
        "numero_trabajadores = random.randint(5, 50)\n",
        "print(\"Numero trabajadores:\", numero_trabajadores)\n",
        "paga = sueldo_semanal * numero_trabajadores\n",
        "print(\"Paga : \", paga)"
      ]
    },
    {
      "cell_type": "markdown",
      "metadata": {
        "id": "Sy7ZTAtIAm21"
      },
      "source": [
        "### Ejercicio 18\n",
        "Hacer un programa que muestre un cronometro, indicando las horas, minutos y segundos."
      ]
    },
    {
      "cell_type": "code",
      "execution_count": 1,
      "metadata": {},
      "outputs": [
        {
          "name": "stdout",
          "output_type": "stream",
          "text": [
            "Time: 00:00:00\n",
            "Time: 00:00:01\n",
            "Time: 00:00:02\n",
            "Time: 00:00:03\n",
            "Time: 00:00:04\n",
            "Time: 00:00:05\n",
            "Time: 00:00:06\n",
            "Time: 00:00:07\n",
            "Time: 00:00:08\n",
            "Time: 00:00:09\n",
            "Time: 00:00:10\n",
            "Time: 00:00:11\n",
            "Time: 00:00:12\n",
            "Time: 00:00:13\n",
            "Time: 00:00:14\n",
            "Time: 00:00:15\n",
            "Time: 00:00:16\n",
            "Time: 00:00:17\n",
            "Time: 00:00:18\n"
          ]
        },
        {
          "ename": "KeyboardInterrupt",
          "evalue": "",
          "output_type": "error",
          "traceback": [
            "\u001b[1;31m---------------------------------------------------------------------------\u001b[0m",
            "\u001b[1;31mKeyboardInterrupt\u001b[0m                         Traceback (most recent call last)",
            "\u001b[1;32mk:\\Otros ordenadores\\Mi PC\\CURSO BD & IA\\Python_PIA\\PIA\\UT01\\2_Ejercicios\\12_Ejercicios_de_Estructuras_Iterativas.ipynb Celda 38\u001b[0m line \u001b[0;36m1\n\u001b[0;32m      <a href='vscode-notebook-cell:/k%3A/Otros%20ordenadores/Mi%20PC/CURSO%20BD%20%26%20IA/Python_PIA/PIA/UT01/2_Ejercicios/12_Ejercicios_de_Estructuras_Iterativas.ipynb#X52sZmlsZQ%3D%3D?line=8'>9</a>\u001b[0m \u001b[39mwhile\u001b[39;00m hh \u001b[39m<\u001b[39m \u001b[39m24\u001b[39m:\n\u001b[0;32m     <a href='vscode-notebook-cell:/k%3A/Otros%20ordenadores/Mi%20PC/CURSO%20BD%20%26%20IA/Python_PIA/PIA/UT01/2_Ejercicios/12_Ejercicios_de_Estructuras_Iterativas.ipynb#X52sZmlsZQ%3D%3D?line=9'>10</a>\u001b[0m     \u001b[39mprint\u001b[39m(\u001b[39mf\u001b[39m\u001b[39m\"\u001b[39m\u001b[39mTime: \u001b[39m\u001b[39m{\u001b[39;00mhh\u001b[39m:\u001b[39;00m\u001b[39m02d\u001b[39m\u001b[39m}\u001b[39;00m\u001b[39m:\u001b[39m\u001b[39m{\u001b[39;00mmm\u001b[39m:\u001b[39;00m\u001b[39m02d\u001b[39m\u001b[39m}\u001b[39;00m\u001b[39m:\u001b[39m\u001b[39m{\u001b[39;00mss\u001b[39m:\u001b[39;00m\u001b[39m02d\u001b[39m\u001b[39m}\u001b[39;00m\u001b[39m\"\u001b[39m)\n\u001b[1;32m---> <a href='vscode-notebook-cell:/k%3A/Otros%20ordenadores/Mi%20PC/CURSO%20BD%20%26%20IA/Python_PIA/PIA/UT01/2_Ejercicios/12_Ejercicios_de_Estructuras_Iterativas.ipynb#X52sZmlsZQ%3D%3D?line=10'>11</a>\u001b[0m     time\u001b[39m.\u001b[39;49msleep(\u001b[39m1\u001b[39;49m)\n\u001b[0;32m     <a href='vscode-notebook-cell:/k%3A/Otros%20ordenadores/Mi%20PC/CURSO%20BD%20%26%20IA/Python_PIA/PIA/UT01/2_Ejercicios/12_Ejercicios_de_Estructuras_Iterativas.ipynb#X52sZmlsZQ%3D%3D?line=11'>12</a>\u001b[0m     \u001b[39mif\u001b[39;00m ss \u001b[39m<\u001b[39m \u001b[39m59\u001b[39m:\n\u001b[0;32m     <a href='vscode-notebook-cell:/k%3A/Otros%20ordenadores/Mi%20PC/CURSO%20BD%20%26%20IA/Python_PIA/PIA/UT01/2_Ejercicios/12_Ejercicios_de_Estructuras_Iterativas.ipynb#X52sZmlsZQ%3D%3D?line=12'>13</a>\u001b[0m         ss \u001b[39m+\u001b[39m\u001b[39m=\u001b[39m \u001b[39m1\u001b[39m\n",
            "\u001b[1;31mKeyboardInterrupt\u001b[0m: "
          ]
        }
      ],
      "source": [
        "import time\n",
        "\n",
        "hh = 0\n",
        "mm = 0\n",
        "ss = 0\n",
        "\n",
        "contador = 0\n",
        "\n",
        "while hh < 24:\n",
        "    print(f\"Time: {hh:02d}:{mm:02d}:{ss:02d}\")\n",
        "    time.sleep(1)\n",
        "    if ss < 59:\n",
        "        ss += 1\n",
        "    else:\n",
        "        ss = 0\n",
        "        print(\"Segundos:\", ss)\n",
        "        if mm == 59:\n",
        "            mm += 1\n",
        "            print(\"Minutos:\", mm)\n",
        "        else:\n",
        "            mm = 0\n",
        "            if hh < 23:\n",
        "                hh += 1\n",
        "            else:\n",
        "                hh = 0\n",
        "print(\"Horas: \", hh, \" Minutos: \", mm, \" Segundos: \", ss)"
      ]
    },
    {
      "cell_type": "markdown",
      "metadata": {
        "id": "_EpqBGEcAoyC"
      },
      "source": [
        "### Ejercicio 19\n",
        "Realizar un ejemplo de menú, donde podemos escoger las distintas opciones hasta que seleccionamos la opción de “Salir”."
      ]
    },
    {
      "cell_type": "code",
      "execution_count": null,
      "metadata": {},
      "outputs": [],
      "source": [
        "# El valor de la variable `caso`\n",
        "caso = 1\n",
        "\n",
        "# El código a ejecutar para cada caso\n",
        "def accion_1():\n",
        "    print(\"Caso 1\")\n",
        "\n",
        "def accion_2():\n",
        "    print(\"Caso 2\")\n",
        "\n",
        "def accion_3():\n",
        "    print(\"Caso 3\")\n",
        "\n",
        "# El código principal\n",
        "if caso == 1:\n",
        "    accion_1()\n",
        "elif caso == 2:\n",
        "    accion_2()\n",
        "elif caso == 3:\n",
        "    accion_3()\n",
        "else:\n",
        "    print(\"Caso no encontrado\")\n"
      ]
    },
    {
      "cell_type": "code",
      "execution_count": null,
      "metadata": {},
      "outputs": [],
      "source": [
        "# Menu con funciones\n",
        "def switch_demo(argument):\n",
        "    switcher = {\n",
        "# Mapa\n",
        "#   Clave: Valor\n",
        "        1: \"Enero\",\n",
        "        2: \"Febrero\",\n",
        "        3: \"Marzo\",\n",
        "        4: \"Abril\",\n",
        "        5: \"Mayo\"\n",
        "    }\n",
        "    return switcher.get(argument, \"Mes inválido\")\n",
        "\n",
        "print(switch_demo(1))  # Salida: Enero\n",
        "print(switch_demo(5))  # Salida: Mayo\n",
        "print(switch_demo(0))  # Salida: Mes inválido\n"
      ]
    },
    {
      "cell_type": "code",
      "execution_count": null,
      "metadata": {},
      "outputs": [],
      "source": [
        "operador = 'suma'\n",
        "a = 5\n",
        "b = 3\n",
        "\n",
        "resultado = {\n",
        "    'suma': a + b,\n",
        "    'resta': a - b,\n",
        "    'multiplica': a * b,\n",
        "    'divide': a / b\n",
        "}.get(operador, 'Operador no válido')\n",
        "\n",
        "print(resultado)"
      ]
    },
    {
      "cell_type": "code",
      "execution_count": null,
      "metadata": {},
      "outputs": [],
      "source": [
        "# Ejemplo de Switch en Python\n",
        "import random\n",
        "\n",
        "status = 0\n",
        "contador = 0\n",
        "\n",
        "while contador <= 5:\n",
        "    status = random.randint(400, 418)\n",
        "    print(\"Estado generado: \", status)\n",
        "    match status:\n",
        "        case 400:\n",
        "            print(\"Bad request\")\n",
        "        case 404:\n",
        "            print(\"Not found\")\n",
        "        case 418:\n",
        "            print(\"I'am a teapot\")\n",
        "        case _:\n",
        "            print(\"Something's wrong with the internet\")\n",
        "    contador += 1\n"
      ]
    },
    {
      "cell_type": "markdown",
      "metadata": {
        "id": "_JaB_oZRAqsb"
      },
      "source": [
        "### Ejercicio 20\n",
        "Mostrar en pantalla los N primero número primos. Se pide por teclado la cantidad de números primos que queremos mostrar."
      ]
    },
    {
      "cell_type": "code",
      "execution_count": 8,
      "metadata": {},
      "outputs": [
        {
          "name": "stdout",
          "output_type": "stream",
          "text": [
            "Lista de números: [2, 3, 4, 5, 6, 7, 8, 9, 10, 11, 12, 13, 14, 15]\n",
            "Números primos: [2, 3, 5, 7, 11, 13]\n"
          ]
        }
      ],
      "source": [
        "longitud = int(input(\"Longitud de datos\"))\n",
        "\n",
        "numeros = []\n",
        "\n",
        "for i in range(2,longitud):\n",
        "    numeros.append(i) \n",
        "\n",
        "primos = []\n",
        "\n",
        "for numero in numeros:\n",
        "    if numero < 2:\n",
        "        es_primo = False\n",
        "    else:\n",
        "        es_primo = True\n",
        "        for i in range(2, int(numero**0.5) + 1):\n",
        "            if numero % i == 0:\n",
        "                es_primo = False\n",
        "                break\n",
        "    if es_primo:\n",
        "        primos.append(numero)\n",
        "\n",
        "print(\"Lista de números:\", numeros)\n",
        "print(\"Números primos:\", primos)"
      ]
    },
    {
      "cell_type": "code",
      "execution_count": 7,
      "metadata": {},
      "outputs": [
        {
          "name": "stdout",
          "output_type": "stream",
          "text": [
            "[2, 3, 5, 7, 11, 13, 17, 19, 23, 29, 31, 37, 41, 43, 47, 53, 59, 61, 67, 71, 73, 79, 83, 89, 97]\n"
          ]
        }
      ],
      "source": [
        "import math\n",
        "\n",
        "def criba_eratostenes(limite):\n",
        "  primos = [True] * (limite + 1)\n",
        "  primos[0] = primos[1] = False\n",
        "  for i in range(2, int(math.sqrt(limite)) + 1):\n",
        "    if primos[i]:\n",
        "      for j in range(i * i, limite + 1, i):\n",
        "        primos[j] = False\n",
        "  return [i for i in range(limite + 1) if primos[i]]\n",
        "\n",
        "print(criba_eratostenes(100))\n"
      ]
    }
  ],
  "metadata": {
    "colab": {
      "provenance": []
    },
    "kernelspec": {
      "display_name": "Python 3",
      "name": "python3"
    },
    "language_info": {
      "codemirror_mode": {
        "name": "ipython",
        "version": 3
      },
      "file_extension": ".py",
      "mimetype": "text/x-python",
      "name": "python",
      "nbconvert_exporter": "python",
      "pygments_lexer": "ipython3",
      "version": "3.11.6"
    }
  },
  "nbformat": 4,
  "nbformat_minor": 0
}
