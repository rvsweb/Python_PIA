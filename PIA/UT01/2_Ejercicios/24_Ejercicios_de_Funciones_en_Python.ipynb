{
  "nbformat": 4,
  "nbformat_minor": 0,
  "metadata": {
    "colab": {
      "provenance": []
    },
    "kernelspec": {
      "name": "python3",
      "display_name": "Python 3"
    },
    "language_info": {
      "name": "python"
    }
  },
  "cells": [
    {
      "cell_type": "markdown",
      "source": [
        "\n",
        "# Ejercicios de Funciones\n",
        "\n",
        "## Ejercicio 1\n",
        "\n",
        "Crea un función **CenterText**, que reciba como parámetro un texto y lo escriba centrado en pantalla (suponiendo una anchura de 80 columnas; **pista**: deberás escribir 40 - longitud/2 espacios antes del texto).\n",
        "\n",
        "Además subraya el mensaje utilizando el carácter =.\n",
        "\n"
      ],
      "metadata": {
        "id": "HFjw3Q0WVZ_i"
      }
    },
    {
      "cell_type": "markdown",
      "source": [
        "\n",
        "## Ejercicio 2\n",
        "Crea un programa que pida dos número enteros al usuario y diga si alguno de ellos es múltiplo del otro. Crea una función **EsMultiplo** que reciba los dos números, y devuelve si el primero es múltiplo del segundo.\n"
      ],
      "metadata": {
        "id": "Zov0-hjGVvHI"
      }
    },
    {
      "cell_type": "markdown",
      "source": [
        "## Ejercicio 3\n",
        "Crear una función que calcule la temperatura media de un día a partir de la temperatura máxima y mínima.\n",
        "\n",
        "Crear un programa principal, que utilizando la función anterior, vaya pidiendo la temperatura máxima y mínima de cada día y vaya mostrando la media.\n",
        "\n",
        "El programa pedirá el número de días que se van a introducir."
      ],
      "metadata": {
        "id": "sMFIz7Y6V4O4"
      }
    },
    {
      "cell_type": "markdown",
      "source": [
        "## Ejercicio 4\n",
        "Crea un función **“ConvertirEspaciado”**, que reciba como parámetro un texto y devuelve una cadena con un espacio adicional tras cada letra.\n",
        "\n",
        "Por ejemplo, “Hola, tú” devolverá “H o l a , t ú “. Crea un programa principal donde se use dicha función."
      ],
      "metadata": {
        "id": "hbfFfsW-WAZq"
      }
    },
    {
      "cell_type": "markdown",
      "source": [
        "## Ejercicio 5\n",
        "Crea una función **“calcularMaxMin”** que recibe una lista con valores numéricos y devuelve el valor máximo y el mínimo.\n",
        "\n",
        "Crea un programa que pida números por teclado y muestre el máximo y el mínimo, utilizando la función anterior."
      ],
      "metadata": {
        "id": "0RMKcLKAWJNk"
      }
    },
    {
      "cell_type": "markdown",
      "source": [
        "## Ejercicio 6\n",
        "Diseñar una función que calcule el área y el perímetro de una circunferencia.\n",
        "\n",
        "Utiliza dicha función en un programa principal que lea el radio de una circunferencia y muestre su área y perímetro."
      ],
      "metadata": {
        "id": "ltEZLGQaWSQb"
      }
    },
    {
      "cell_type": "markdown",
      "source": [
        "## Ejercicio 7\n",
        "Crear una subrutina llamada **“Login”**, que recibe un nombre de usuario y una contraseña y te devuelve Verdadero si el nombre de usuario es “usuario1” y la contraseña es “asdasd”.\n",
        "\n",
        "Además recibe el número de intentos que se ha intentado hacer login y si no se ha podido hacer login incremente este valor.\n",
        "\n",
        "Crear un programa principal donde se pida un nombre de usuario y una contraseña y se intente hacer login, solamente tenemos tres oportunidades para intentarlo."
      ],
      "metadata": {
        "id": "jTT6LIfjWZJd"
      }
    },
    {
      "cell_type": "markdown",
      "source": [
        "## Ejercicio 8\n",
        "Crear una función recursiva que permita calcular el factorial de un número.\n",
        "\n",
        "Realiza un programa principal donde se lea un entero y se muestre el resultado del factorial."
      ],
      "metadata": {
        "id": "EQepXrvfWiBy"
      }
    },
    {
      "cell_type": "markdown",
      "source": [
        "## Ejercicio 9\n",
        "Crear una función que calcule el MCD de dos número por el método de Euclides.\n",
        "\n",
        "El método de Euclides es el siguiente:\n",
        "\n",
        "+ Se divide el número mayor entre el menor.\n",
        "+ Si la división es exacta, el divisor es el MCD.\n",
        "+ Si la división no es exacta, dividimos el divisor entre el resto obtenido y se continúa de esta forma hasta obtener una división exacta, siendo el último divisor el MCD.\n",
        "\n",
        "\n",
        "Crea un programa principal que lea dos números enteros y muestre el MCD."
      ],
      "metadata": {
        "id": "ur7GAuRpWpk0"
      }
    },
    {
      "cell_type": "markdown",
      "source": [
        "## Ejercicio 10\n",
        "Escribir dos funciones que permitan calcular:\n",
        "\n",
        "+ La cantidad de segundos en un tiempo dado en horas, minutos y segundos.\n",
        "+ La cantidad de horas, minutos y segundos de un tiempo dado en segundos.\n",
        "\n",
        "Escribe un programa principal con un menú donde se pueda elegir la opción de convertir a segundos, convertir a horas,minutos y segundos o salir del programa."
      ],
      "metadata": {
        "id": "4GVQVdzcW2Jk"
      }
    },
    {
      "cell_type": "markdown",
      "source": [
        "## Ejercicio 11\n",
        "El día juliano correspondiente a una fecha es un número entero que indica los días que han transcurrido desde el 1 de enero del año indicado.\n",
        "\n",
        "Queremos crear un programa principal que al introducir una fecha nos diga el día juliano que corresponde. Para ello podemos hacer las siguientes subrutinas:\n",
        "\n",
        "+ LeerFecha: Nos permite leer por teclado una fecha (día, mes y año).\n",
        "+ DiasDelMes: Recibe un mes y un año y nos dice los días de ese mes en ese año.\n",
        "+ EsBisiesto: Recibe un año y nos dice si es bisiesto.\n",
        "+ Calcular_Dia_Juliano: recibe una fecha y nos devuelve el día juliano."
      ],
      "metadata": {
        "id": "sDgH3UJkXAn5"
      }
    },
    {
      "cell_type": "markdown",
      "source": [
        "## Ejercicio 12\n",
        "Vamos a mejorar el ejercicio anterior haciendo una función para validar la fecha. De tal forma que al leer una fecha se asegura que es válida."
      ],
      "metadata": {
        "id": "Johi6PUTXQlH"
      }
    },
    {
      "cell_type": "markdown",
      "source": [
        "## Ejercicio 13\n",
        "Queremos crear un programa que trabaje con fracciones a/b. Para representar una fracción vamos a utilizar dos enteros: numerador y denominador.\n",
        "\n",
        "Vamos a crear las siguientes funciones para trabajar con funciones:\n",
        "\n",
        "+ **Leer_fracción**: La tarea de esta función es leer por teclado el numerador y el denominador. Cuando leas una fracción debes simplificarla.\n",
        "+ **Escribir_fracción**: Esta función escribe en pantalla la fracción. Si el dominador es 1, se muestra sólo el numerador.\n",
        "+ **Calcular_mcd**: Esta función recibe dos número y devuelve el máximo común divisor.\n",
        "+ **Simplificar_fracción**: Esta función simplifica la fracción, para ello hay que dividir numerador y dominador por el MCD del numerador y denominador.\n",
        "+ **Sumar_fracciones**: Función que recibe dos funciones n1/d1 y n2/d2, y calcula la suma de las dos fracciones. La suma de dos fracciones es otra fracción cuyo numerador=n1*d2+d1*n2 y denominador=d1*d2. Se debe simplificar la fracción resultado.\n",
        "+ **Restar_fracciones**: Función que resta dos fracciones: numerador=n1*d2-d1*n2 y denominador=d1*d2. Se debe simplificar la fracción resultado.\n",
        "+ **Multiplicar_fracciones**: Función que recibe dos fracciones y calcula el producto, para ello numerador=n1*n2 y denominador=d1*d2. Se debe simplificar la fracción resultado.\n",
        "+ **Dividir_fracciones**: Función que recibe dos fracciones y calcula el cociente, para ello numerador=n1*d2 y denominador=d1*n2. Se debe simplificar la fracción resultado.\n",
        "\n",
        "Crear un programa que utilizando las funciones anteriores muestre el siguiente menú:\n",
        "\n",
        "1. Sumar dos fracciones: En esta opción se piden dos fracciones y se muestra el resultado.\n",
        "2. Restar dos fracciones: En esta opción se piden dos fracciones y se muestra la resta.\n",
        "3. Multiplicar dos fracciones: En esta opción se piden dos fracciones y se muestra la producto.\n",
        "4. Dividir dos fracciones: En esta opción se piden dos fracciones y se muestra la cociente.\n",
        "5. Salir"
      ],
      "metadata": {
        "id": "7AD6g_xhXXFi"
      }
    },
    {
      "cell_type": "markdown",
      "source": [
        "## Ejercicio 14\n",
        "Vamos a crear un programa para trabajar con una pila.\n",
        "\n",
        "Una pila es una estructura de datos que nos permite guardar un conjunto de variables. La característica fundamental es que el último elemento que se añade al conjunto es el primero que se puede sacar.\n",
        "\n",
        "Para representar una pila vamos a utilizar una lista de cadenas de caracteres.\n",
        "\n",
        "Vamos a crear varias funciones para trabajar con la pila:\n",
        "\n",
        "+ **LongitudPila**: Función que recibe una pila y devuelve el número de elementos que tiene.\n",
        "+ **EstaVaciaPila**: Función que recibe una pila y que devuelve si la pila está vacía, no tiene elementos.\n",
        "+ **EstaLlenaPila**: Función que recibe una pila y que devuelve si la pila está llena.\n",
        "+ **AddPila**: función que recibe una cadena de caracteres y una pila, y añade la cadena a la pila, si no está llena. si esta llena muestra un mensaje de error.\n",
        "+ **SacarDeLaPila**: Función que recibe una pila y devuelve el último elemento añadido y lo borra de la pila. Si la pila está vacía muestra un mensaje de error.\n",
        "+ **EscribirPila**: Función que recibe una pila y muestra en pantalla los elementos de la pila.\n",
        "\n",
        "\n",
        "Realiza un programa principal que nos permita usar las funciones anterior, que nos muestre un menú, con las siguientes opciones:\n",
        "\n",
        "1. Añadir elemento a la pila\n",
        "2. Sacar elemento de la pila\n",
        "3. Longitud de la pila\n",
        "4. Mostrar pila\n",
        "5. Salir"
      ],
      "metadata": {
        "id": "-R2uj4xIYV_U"
      }
    },
    {
      "cell_type": "markdown",
      "source": [
        "## Ejercicio 15\n",
        "Vamos a realizar un programa similar al anterior para trabajar con una **cola**.\n",
        "\n",
        "Una cola es una estructura de datos que nos permite guardar un conjunto de variables. La característica fundamental es que el primer elemento que se añade al conjunto es el primero que se puede sacar.\n",
        "\n",
        "En realidad nos sirven todas las funciones del ejercicio anterior menos la función **SacarDeLaCola** que es la que tienes que modificar."
      ],
      "metadata": {
        "id": "jx6kQJaTYyou"
      }
    }
  ]
}