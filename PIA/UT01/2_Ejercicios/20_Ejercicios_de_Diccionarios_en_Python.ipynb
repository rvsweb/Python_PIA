{
  "cells": [
    {
      "cell_type": "markdown",
      "metadata": {
        "id": "j29sm1Ngi89V"
      },
      "source": [
        "# Ejerccios de Diccionarios\n",
        "\n",
        "## Ejercicio 1\n",
        "\n",
        "Escribe un programa python que pida un número por teclado y que cree un diccionario cuyas claves sean desde el número 1 hasta el número indicado, y los valores sean los cuadrados de las claves."
      ]
    },
    {
      "cell_type": "code",
      "execution_count": 1,
      "metadata": {},
      "outputs": [
        {
          "name": "stdout",
          "output_type": "stream",
          "text": [
            "{1: 1, 2: 4, 3: 9, 4: 16}\n"
          ]
        }
      ],
      "source": [
        "# ☻ Solución\n",
        "n = int(input(\"Introduce un número: \"))\n",
        "\n",
        "diccionario = {}\n",
        "\n",
        "for i in range(1, n+1):\n",
        "\n",
        "    diccionario[i] = i**2\n",
        "\n",
        "print(diccionario)\n"
      ]
    },
    {
      "cell_type": "markdown",
      "metadata": {
        "id": "Hc1OttpvjI40"
      },
      "source": [
        "## Ejercicio 2\n",
        "\n",
        "Escribe un programa que lea una cadena y devuelva un diccionario con la cantidad de apariciones de cada carácter en la cadena."
      ]
    },
    {
      "cell_type": "code",
      "execution_count": null,
      "metadata": {},
      "outputs": [],
      "source": [
        "# ☻ Solución\n",
        "cadena = input(\"Introduce una cadena: \")\n",
        "diccionario = {}\n",
        "for caracter in cadena:\n",
        "    if caracter in diccionario:\n",
        "        diccionario[caracter] += 1\n",
        "    else:\n",
        "        diccionario[caracter] = 1\n",
        "        \n",
        "print(diccionario)\n",
        "\n"
      ]
    },
    {
      "cell_type": "markdown",
      "metadata": {
        "id": "Aepr-8fAjNmm"
      },
      "source": [
        "## Ejercicio 3\n",
        "\n",
        "Vamos a crear un programa en python donde vamos a declarar un diccionario para guardar los precios de las distintas frutas. El programa pedirá el nombre de la fruta y la cantidad que se ha vendido y nos mostrará el precio final de la fruta a partir de los datos guardados en el diccionario. Si la fruta no existe nos dará un error. Tras cada consulta el programa nos preguntará si queremos hacer otra consulta."
      ]
    },
    {
      "cell_type": "code",
      "execution_count": null,
      "metadata": {},
      "outputs": [],
      "source": [
        "# ☻ Solución\n",
        "def calcular_precio():\n",
        "    # Declaración del diccionario\n",
        "    precios = {\n",
        "        'manzana': 0.5,\n",
        "        'naranja': 0.3,\n",
        "        'plátano': 0.2,\n",
        "        'piña': 1.0\n",
        "    }\n",
        "\n",
        "    while True:\n",
        "        # Solicitar el nombre de la fruta\n",
        "        fruta = input('Introduce el nombre de la fruta: ')\n",
        "\n",
        "        # Comprobar si la fruta existe en el diccionario\n",
        "        if fruta not in precios:\n",
        "            print('Lo siento, esa fruta no está en el diccionario.')\n",
        "            continue\n",
        "\n",
        "        # Solicitar la cantidad vendida\n",
        "        cantidad = float(input('Introduce la cantidad vendida: '))\n",
        "\n",
        "        # Calcular y mostrar el precio final\n",
        "        precio_final = precios[fruta] * cantidad\n",
        "        print('El precio final es: ', precio_final)\n",
        "\n",
        "        # Preguntar si se quiere hacer otra consulta\n",
        "        otra_consulta = input('¿Quieres hacer otra consulta? (s/n): ')\n",
        "        if otra_consulta.lower() != 's':\n",
        "            break\n",
        "\n",
        "# Llamar a la función\n",
        "calcular_precio()\n"
      ]
    },
    {
      "cell_type": "markdown",
      "metadata": {
        "id": "RGzZWQm5jVYG"
      },
      "source": [
        "## Ejercicio 4\n",
        "\n",
        "Codifica un programa en python que nos permita guardar los nombres de los alumnos de una clase y las notas que han obtenido. Cada alumno puede tener distinta cantidad de notas. Guarda la información en un diccionario cuya claves serán los nombres de los alumnos y los valores serán listas con las notas de cada alumno.\n",
        "\n",
        "El programa pedirá el número de alumnos que vamos a introducir, pedirá su nombre e irá pidiendo sus notas hasta que introduzcamos un número negativo. Al final el programa nos mostrará la lista de alumnos y la nota media obtenida por cada uno de ellos. Nota: si se introduce el nombre de un alumno que ya existe el programa nos dará un error."
      ]
    },
    {
      "cell_type": "code",
      "execution_count": null,
      "metadata": {},
      "outputs": [],
      "source": [
        "# ☻ Solución\n",
        "def registrar_notas():\n",
        "    # Declaración del diccionario\n",
        "    notas = {}\n",
        "\n",
        "    # Solicitar el número de alumnos\n",
        "    num_alumnos = int(input('Introduce el número de alumnos: '))\n",
        "\n",
        "    for _ in range(num_alumnos):\n",
        "        # Solicitar el nombre del alumno\n",
        "        nombre = input('Introduce el nombre del alumno: ')\n",
        "\n",
        "        # Comprobar si el alumno ya existe en el diccionario\n",
        "        if nombre in notas:\n",
        "            print('Error: el alumno ya existe.')\n",
        "            continue\n",
        "\n",
        "        # Solicitar las notas del alumno\n",
        "        notas_alumno = []\n",
        "        while True:\n",
        "            nota = float(input('Introduce una nota del alumno (número negativo para terminar): '))\n",
        "            if nota < 0:\n",
        "                break\n",
        "            notas_alumno.append(nota)\n",
        "\n",
        "        # Guardar las notas del alumno en el diccionario\n",
        "        notas[nombre] = notas_alumno\n",
        "\n",
        "    # Mostrar la lista de alumnos y la nota media de cada uno\n",
        "    for nombre, notas_alumno in notas.items():\n",
        "        nota_media = sum(notas_alumno) / len(notas_alumno)\n",
        "        print('El alumno {} tiene una nota media de {:.2f}.'.format(nombre, nota_media))\n",
        "\n",
        "# Llamar a la función\n",
        "registrar_notas()\n"
      ]
    },
    {
      "cell_type": "markdown",
      "metadata": {
        "id": "6VVzevmsjbr-"
      },
      "source": [
        "## Ejercicio 5\n",
        "\n",
        "Escribir un programa que implemente una agenda. En la agenda se podrán guardar nombres y números de teléfono. El programa nos dará el siguiente menú:\n",
        "\n",
        "* Añadir/modificar: Nos pide un nombre. Si el nombre se encuentra en la agenda, debe mostrar el teléfono y, opcionalmente, permitir modificarlo si no es correcto. Si el nombre no se encuentra, debe permitir ingresar el teléfono correspondiente.\n",
        "* Buscar: Nos pide una cadena de caracteres, y nos muestras todos los contactos cuyos nombres comiencen por dicha cadena.\n",
        "* Borrar: Nos pide un nombre y si existe nos preguntará si queremos borrarlo de la agenda.\n",
        "* Listar: Nos muestra todos los contactos de la agenda.\n",
        "\n",
        "Implementar el programa con un diccionario."
      ]
    },
    {
      "cell_type": "code",
      "execution_count": null,
      "metadata": {},
      "outputs": [],
      "source": [
        "# ☻ Solución\n",
        "def agenda():\n",
        "    # Declaración del diccionario\n",
        "    contactos = {}\n",
        "\n",
        "    while True:\n",
        "        # Mostrar el menú\n",
        "        print('1. Añadir/modificar')\n",
        "        print('2. Buscar')\n",
        "        print('3. Borrar')\n",
        "        print('4. Listar')\n",
        "        print('5. Salir')\n",
        "        opcion = int(input('Elige una opción: '))\n",
        "\n",
        "        if opcion == 1:\n",
        "            # Añadir/modificar\n",
        "            nombre = input('Introduce el nombre del contacto: ')\n",
        "            if nombre in contactos:\n",
        "                print('El número de teléfono es: ', contactos[nombre])\n",
        "                modificar = input('¿Quieres modificar el número de teléfono? (s/n): ')\n",
        "                if modificar.lower() == 's':\n",
        "                    telefono = input('Introduce el nuevo número de teléfono: ')\n",
        "                    contactos[nombre] = telefono\n",
        "            else:\n",
        "                telefono = input('Introduce el número de teléfono: ')\n",
        "                contactos[nombre] = telefono\n",
        "\n",
        "        elif opcion == 2:\n",
        "            # Buscar\n",
        "            cadena = input('Introduce la cadena de caracteres a buscar: ')\n",
        "            for nombre, telefono in contactos.items():\n",
        "                if nombre.startswith(cadena):\n",
        "                    print('Nombre: ', nombre, ', Teléfono: ', telefono)\n",
        "\n",
        "        elif opcion == 3:\n",
        "            # Borrar\n",
        "            nombre = input('Introduce el nombre del contacto a borrar: ')\n",
        "            if nombre in contactos:\n",
        "                del contactos[nombre]\n",
        "                print('Contacto borrado con éxito.')\n",
        "            else:\n",
        "                print('Ese contacto no existe.')\n",
        "\n",
        "        elif opcion == 4:\n",
        "            # Listar\n",
        "            for nombre, telefono in contactos.items():\n",
        "                print('Nombre: ', nombre, ', Teléfono: ', telefono)\n",
        "\n",
        "        elif opcion == 5:\n",
        "            # Salir\n",
        "            break\n",
        "\n",
        "# Llamar a la función\n",
        "agenda()\n"
      ]
    }
  ],
  "metadata": {
    "colab": {
      "provenance": []
    },
    "kernelspec": {
      "display_name": "Python 3",
      "name": "python3"
    },
    "language_info": {
      "codemirror_mode": {
        "name": "ipython",
        "version": 3
      },
      "file_extension": ".py",
      "mimetype": "text/x-python",
      "name": "python",
      "nbconvert_exporter": "python",
      "pygments_lexer": "ipython3",
      "version": "3.11.6"
    }
  },
  "nbformat": 4,
  "nbformat_minor": 0
}
