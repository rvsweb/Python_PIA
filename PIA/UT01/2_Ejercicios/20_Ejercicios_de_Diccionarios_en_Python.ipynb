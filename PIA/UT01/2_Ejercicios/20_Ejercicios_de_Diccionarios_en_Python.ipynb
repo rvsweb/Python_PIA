{
  "cells": [
    {
      "cell_type": "markdown",
      "metadata": {
        "id": "j29sm1Ngi89V"
      },
      "source": [
        "# Ejerccios de Diccionarios\n",
        "\n",
        "## Ejercicio 1\n",
        "\n",
        "Escribe un programa python que pida un número por teclado y que cree un diccionario cuyas claves sean desde el número 1 hasta el número indicado, y los valores sean los cuadrados de las claves."
      ]
    },
    {
      "cell_type": "code",
      "execution_count": 1,
      "metadata": {},
      "outputs": [
        {
          "name": "stdout",
          "output_type": "stream",
          "text": [
            "{1: 1, 2: 4, 3: 9, 4: 16}\n"
          ]
        }
      ],
      "source": [
        "# ☻ Solución\n",
        "n = int(input(\"Introduce un número: \"))\n",
        "\n",
        "diccionario = {}\n",
        "\n",
        "for i in range(1, n+1):\n",
        "\n",
        "    diccionario[i] = i**2\n",
        "\n",
        "print(diccionario)\n"
      ]
    },
    {
      "cell_type": "markdown",
      "metadata": {
        "id": "Hc1OttpvjI40"
      },
      "source": [
        "## Ejercicio 2\n",
        "\n",
        "Escribe un programa que lea una cadena y devuelva un diccionario con la cantidad de apariciones de cada carácter en la cadena."
      ]
    },
    {
      "cell_type": "code",
      "execution_count": null,
      "metadata": {},
      "outputs": [],
      "source": [
        "cadena = input(\"Introduce una cadena\")\n",
        "diccionario = {}\n",
        "\n",
        "for caracter in cadena:\n",
        "    if caracter in diccionario:\n",
        "        diccionario[caracter] += 1\n",
        "    else:\n",
        "        diccionario[caracter] = 1\n",
        "\n",
        "cadena = input(\"Introduce una cadena: \")\n",
        "diccionario = contar_caracteres(cadena)\n",
        "print(diccionario)\n"
      ]
    },
    {
      "cell_type": "markdown",
      "metadata": {
        "id": "Aepr-8fAjNmm"
      },
      "source": [
        "## Ejercicio 3\n",
        "\n",
        "Vamos a crear un programa en python donde vamos a declarar un diccionario para guardar los precios de las distintas frutas. El programa pedirá el nombre de la fruta y la cantidad que se ha vendido y nos mostrará el precio final de la fruta a partir de los datos guardados en el diccionario. Si la fruta no existe nos dará un error. Tras cada consulta el programa nos preguntará si queremos hacer otra consulta."
      ]
    },
    {
      "cell_type": "markdown",
      "metadata": {
        "id": "RGzZWQm5jVYG"
      },
      "source": [
        "## Ejercicio 4\n",
        "\n",
        "Codifica un programa en python que nos permita guardar los nombres de los alumnos de una clase y las notas que han obtenido. Cada alumno puede tener distinta cantidad de notas. Guarda la información en un diccionario cuya claves serán los nombres de los alumnos y los valores serán listas con las notas de cada alumno.\n",
        "\n",
        "El programa pedirá el número de alumnos que vamos a introducir, pedirá su nombre e irá pidiendo sus notas hasta que introduzcamos un número negativo. Al final el programa nos mostrará la lista de alumnos y la nota media obtenida por cada uno de ellos. Nota: si se introduce el nombre de un alumno que ya existe el programa nos dará un error."
      ]
    },
    {
      "cell_type": "markdown",
      "metadata": {
        "id": "6VVzevmsjbr-"
      },
      "source": [
        "## Ejercicio 5\n",
        "\n",
        "Escribir un programa que implemente una agenda. En la agenda se podrán guardar nombres y números de teléfono. El programa nos dará el siguiente menú:\n",
        "\n",
        "* Añadir/modificar: Nos pide un nombre. Si el nombre se encuentra en la agenda, debe mostrar el teléfono y, opcionalmente, permitir modificarlo si no es correcto. Si el nombre no se encuentra, debe permitir ingresar el teléfono correspondiente.\n",
        "* Buscar: Nos pide una cadena de caracteres, y nos muestras todos los contactos cuyos nombres comiencen por dicha cadena.\n",
        "* Borrar: Nos pide un nombre y si existe nos preguntará si queremos borrarlo de la agenda.\n",
        "* Listar: Nos muestra todos los contactos de la agenda.\n",
        "\n",
        "Implementar el programa con un diccionario."
      ]
    }
  ],
  "metadata": {
    "colab": {
      "provenance": []
    },
    "kernelspec": {
      "display_name": "Python 3",
      "name": "python3"
    },
    "language_info": {
      "codemirror_mode": {
        "name": "ipython",
        "version": 3
      },
      "file_extension": ".py",
      "mimetype": "text/x-python",
      "name": "python",
      "nbconvert_exporter": "python",
      "pygments_lexer": "ipython3",
      "version": "3.11.6"
    }
  },
  "nbformat": 4,
  "nbformat_minor": 0
}
