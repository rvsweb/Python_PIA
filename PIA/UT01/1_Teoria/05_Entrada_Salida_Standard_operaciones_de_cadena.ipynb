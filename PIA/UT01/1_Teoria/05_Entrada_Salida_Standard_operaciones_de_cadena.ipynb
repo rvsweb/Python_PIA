{
  "nbformat": 4,
  "nbformat_minor": 0,
  "metadata": {
    "colab": {
      "provenance": []
    },
    "kernelspec": {
      "name": "python3",
      "display_name": "Python 3"
    },
    "language_info": {
      "name": "python"
    }
  },
  "cells": [
    {
      "cell_type": "markdown",
      "source": [
        "## Entrada y Salida Standard\n",
        "\n",
        "### Input\n",
        "\n",
        "Nos permite leer información que introducimos por teclado\n"
      ],
      "metadata": {
        "id": "PaQOPX2RDbKx"
      }
    },
    {
      "cell_type": "code",
      "source": [
        "nombre = input(\"Nombre: \")\n",
        "edad = int(input(\"Edad: \")) #Siempre devuelve un valor de tipo cadena a no ser que lo especifiquemos como en el ejemplo."
      ],
      "metadata": {
        "colab": {
          "base_uri": "https://localhost:8080/"
        },
        "id": "yB5Sf_jf8RV-",
        "outputId": "3bc4cc10-e610-47f7-f7aa-6f3342a42ce9"
      },
      "execution_count": null,
      "outputs": [
        {
          "name": "stdout",
          "output_type": "stream",
          "text": [
            "Nombre: Manu\n",
            "Edad: 43\n"
          ]
        }
      ]
    },
    {
      "cell_type": "markdown",
      "source": [
        "### Print\n",
        "\n",
        "Nos permite mostrar información en pantalla\n"
      ],
      "metadata": {
        "id": "tIgSOopvQ74W"
      }
    },
    {
      "cell_type": "code",
      "source": [
        "print(nombre)\n",
        "print(edad)\n",
        "print(type(edad))\n",
        "\n",
        "print(\"Hola, tu nombre es \" + nombre + \" y tienes \" + str(edad) + \" años\") # Aquí + hace de operador de concatenación de cadenas si concatenamos un valor que no es de tipo str dará error\n",
        "\n",
        "print(\"Tienes \" + str(edad) + \" años\") #Aquí estamos convirtiendo la variable edad de tipo int a str\n",
        "\n",
        "print()\n",
        "\n"
      ],
      "metadata": {
        "colab": {
          "base_uri": "https://localhost:8080/"
        },
        "id": "lLNPoY4gRKVc",
        "outputId": "4522d08f-24cf-43ee-d314-1a2a7a3cbea2"
      },
      "execution_count": null,
      "outputs": [
        {
          "output_type": "stream",
          "name": "stdout",
          "text": [
            "Manu\n",
            "43\n",
            "<class 'int'>\n",
            "Hola, tu nombre esManu y tienes 43 años\n",
            "Tienes 43 años\n",
            "\n"
          ]
        }
      ]
    },
    {
      "cell_type": "markdown",
      "source": [
        "También podemos dar formato a la información que se muestra por pantalla"
      ],
      "metadata": {
        "id": "JIqzWUtJT9bM"
      }
    },
    {
      "cell_type": "code",
      "source": [
        "print(\"%d %f %s\" % (2.5, 2.5, 2.5))"
      ],
      "metadata": {
        "colab": {
          "base_uri": "https://localhost:8080/"
        },
        "id": "dl3edc7ZUCzN",
        "outputId": "bb90e130-9189-45af-ac51-0f8c55d549e9"
      },
      "execution_count": null,
      "outputs": [
        {
          "output_type": "stream",
          "name": "stdout",
          "text": [
            "2 2.500000 2.5\n"
          ]
        }
      ]
    },
    {
      "cell_type": "code",
      "source": [
        "print(\"El producto %s con cantidad=%d tiene un precio de %.2f €\" % (\"Pendrive Medion\", 1, 34.999999))"
      ],
      "metadata": {
        "colab": {
          "base_uri": "https://localhost:8080/"
        },
        "id": "Hj8UOwJAUQan",
        "outputId": "ae56d044-ab5f-41b7-e9e7-e89e6925af17"
      },
      "execution_count": null,
      "outputs": [
        {
          "output_type": "stream",
          "name": "stdout",
          "text": [
            "El producto Pendrive Medion con cantidad=1 tiene un precio de 35.00 €\n"
          ]
        }
      ]
    },
    {
      "cell_type": "code",
      "source": [
        "precio = 67.70\n",
        "\n",
        "print(f'El precio es de {precio} Euros')"
      ],
      "metadata": {
        "colab": {
          "base_uri": "https://localhost:8080/"
        },
        "id": "aWn--cYtwlLZ",
        "outputId": "d359f097-8af2-4c3e-e485-a97902c71f84"
      },
      "execution_count": null,
      "outputs": [
        {
          "output_type": "stream",
          "name": "stdout",
          "text": [
            "El precio es de 67.7 Euros\n"
          ]
        }
      ]
    },
    {
      "cell_type": "markdown",
      "source": [
        "### Operaciones con Cadenas\n",
        "\n",
        "#### Definición\n",
        "\n",
        "Podemos usar comillas simples, dobles y triples"
      ],
      "metadata": {
        "id": "qHyTfynPVk3M"
      }
    },
    {
      "cell_type": "code",
      "source": [
        "c1='Hola'\n",
        "c2=\"Hola 2\"\n",
        "c3='''Hola\n",
        "que tal\n",
        "estas hoy'''\n",
        "\n",
        "c1\n",
        "c2\n",
        "c3\n",
        "\n",
        "print(c3)"
      ],
      "metadata": {
        "colab": {
          "base_uri": "https://localhost:8080/"
        },
        "id": "XyoGBiKjVsms",
        "outputId": "7e6212fc-434e-4ea7-fbf8-19541d520a41"
      },
      "execution_count": null,
      "outputs": [
        {
          "output_type": "stream",
          "name": "stdout",
          "text": [
            "Hola\n",
            "que tal\n",
            "estas hoy\n"
          ]
        }
      ]
    },
    {
      "cell_type": "markdown",
      "source": [
        "* Concatenacion +\n",
        "* Multiplicación *\n",
        "* Longitud (len)\n",
        "* Posición [0] a len(cadena)-1\n",
        "* Comparación: Se realiza comparando su valor con respecto a la tabla ASCII aunque python realmente usa Unicode"
      ],
      "metadata": {
        "id": "FfDcYcE5WBy4"
      }
    },
    {
      "cell_type": "code",
      "source": [
        "c4=' como estamos'\n",
        "c1+=c4\n",
        "print(c1)"
      ],
      "metadata": {
        "colab": {
          "base_uri": "https://localhost:8080/"
        },
        "id": "z8-d2GplWOVd",
        "outputId": "4288ce64-ac1e-4249-8357-5218d3943f58"
      },
      "execution_count": null,
      "outputs": [
        {
          "output_type": "stream",
          "name": "stdout",
          "text": [
            "Hola como estamos\n"
          ]
        }
      ]
    },
    {
      "cell_type": "code",
      "source": [
        "c5=c2*6\n",
        "print(c5)"
      ],
      "metadata": {
        "colab": {
          "base_uri": "https://localhost:8080/"
        },
        "id": "ViFzs2r1WakB",
        "outputId": "da2d0e15-639b-410f-843c-b9052cfa9e92"
      },
      "execution_count": null,
      "outputs": [
        {
          "output_type": "stream",
          "name": "stdout",
          "text": [
            "Hola 2Hola 2Hola 2Hola 2Hola 2Hola 2\n"
          ]
        }
      ]
    },
    {
      "cell_type": "code",
      "source": [
        "len(c5)"
      ],
      "metadata": {
        "colab": {
          "base_uri": "https://localhost:8080/"
        },
        "id": "O7E-kz-1Wj73",
        "outputId": "acfa0716-346c-4a9a-8bbf-cde8519a5fa8"
      },
      "execution_count": null,
      "outputs": [
        {
          "output_type": "execute_result",
          "data": {
            "text/plain": [
              "36"
            ]
          },
          "metadata": {},
          "execution_count": 11
        }
      ]
    },
    {
      "cell_type": "code",
      "source": [
        "c5[32]"
      ],
      "metadata": {
        "colab": {
          "base_uri": "https://localhost:8080/",
          "height": 35
        },
        "id": "ATwHrFxUWny8",
        "outputId": "746d92b6-195f-441b-bc3c-f8fae2f01dfd"
      },
      "execution_count": null,
      "outputs": [
        {
          "output_type": "execute_result",
          "data": {
            "text/plain": [
              "'l'"
            ],
            "application/vnd.google.colaboratory.intrinsic+json": {
              "type": "string"
            }
          },
          "metadata": {},
          "execution_count": 12
        }
      ]
    },
    {
      "cell_type": "code",
      "source": [
        "c5[36] #Dará error, los índices van desde el 0 a la longitud de la cadena menos 1"
      ],
      "metadata": {
        "colab": {
          "base_uri": "https://localhost:8080/",
          "height": 165
        },
        "id": "glySyikfWtwu",
        "outputId": "6b3e2fbb-4a4a-4458-dea5-06531218ff27"
      },
      "execution_count": null,
      "outputs": [
        {
          "output_type": "error",
          "ename": "IndexError",
          "evalue": "ignored",
          "traceback": [
            "\u001b[0;31m---------------------------------------------------------------------------\u001b[0m",
            "\u001b[0;31mIndexError\u001b[0m                                Traceback (most recent call last)",
            "\u001b[0;32m<ipython-input-14-f328974144b9>\u001b[0m in \u001b[0;36m<cell line: 1>\u001b[0;34m()\u001b[0m\n\u001b[0;32m----> 1\u001b[0;31m \u001b[0mc5\u001b[0m\u001b[0;34m[\u001b[0m\u001b[0;36m36\u001b[0m\u001b[0;34m]\u001b[0m \u001b[0;31m#Dará error, los índices van desde el 0 a la longitud de la cadena menos 1\u001b[0m\u001b[0;34m\u001b[0m\u001b[0;34m\u001b[0m\u001b[0m\n\u001b[0m",
            "\u001b[0;31mIndexError\u001b[0m: string index out of range"
          ]
        }
      ]
    }
  ]
}