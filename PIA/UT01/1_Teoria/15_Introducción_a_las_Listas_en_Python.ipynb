{
  "cells": [
    {
      "cell_type": "markdown",
      "metadata": {
        "id": "Accv8mAE1oP3"
      },
      "source": [
        "# Listas en Python\n",
        "\n",
        "Si queremos guardar un conjunto de valores, en pseudocódigo utilizamos los arreglos.\n",
        "\n",
        "Un array (o arreglo) es una estructura de datos con elementos homogéneos, del mismo tipo, numérico o alfanumérico, reconocidos por un nombre en común.\n",
        "\n",
        "Hay muchos lenguajes que implementan los arrays, pero esta estructura tiene dos limitaciones: **son homogéneas**, es decir sólo se pueden guardar datos del mismo tipo, y **son estáticas**, a la hora de declarar se indican las posiciones y la longitud del array no se puede cambiar durante la ejecución del programa.\n",
        "\n",
        "**En Python no existen los arrays**, tenemos varios tipos de datos que nos permiten guardar conjuntos de informaciones.\n",
        "\n",
        "En este notebook vamos a estudiar las Listas.\n",
        "\n",
        "Las listas (list) **me permiten guardar un conjunto de datos que se pueden repetir y que pueden ser de distintos tipos**. Además esta estructura **es dinámica**, en cualquier momento de la ejecución del programa puedo añadir o eliminar elementos de la lista.\n",
        "\n",
        "## 1. Construcción de una lista\n",
        "Para crear una lista puedo usamos los caracteres [ y ]:\n",
        "\n",
        "```\n",
        "lista1 = []\n",
        "lista2 = [\"a\",1,True]\n",
        "```\n",
        "\n",
        "\n",
        "## 2. Operaciones básicas con listas\n",
        "\n",
        "Las listas son secuencias, a las que podemos realizar las siguientes operaciones. Vamos a ver distintos ejemplos partiendo de la siguiente lista:\n",
        "\n",
        "\n",
        "```\n",
        "lista = [1,2,3,4,5,6]\n",
        "```\n",
        "\n",
        "\n",
        "### Las listas se pueden recorrer:\n",
        "\n",
        "\n",
        "\n",
        "```\n",
        " for num in lista:\n",
        "    print(num,end=\"\")\n",
        "    1123456\n",
        "```\n",
        "\n",
        "\n",
        "Con la instrucción for podemos recorrer más de una lista, utilizando la **función zip**. Veamos un ejemplo:\n",
        "\n",
        "\n",
        "```\n",
        " lista2 = [\"a\",\"b\",\"c\",\"d\",\"e\"]\n",
        " for num,letra in zip(lista,lista2):\n",
        "  ...     print(num,letra)\n",
        "  ...\n",
        "  1 a\n",
        "  2 b\n",
        "  3 c\n",
        "  4 d\n",
        "  5 e\n",
        "```\n",
        "\n",
        "\n",
        "**Operadores de pertenencia**: Se puede comprobar si un elemento pertenece o no a una lista con los operadores in y not in.\n",
        "\n",
        "  ```\n",
        "  >>> 2 in lista\n",
        "  True\n",
        "  >>> 8 not in lista\n",
        "  True\n",
        "  ```\n",
        "**Concatenación**: El operador + me permite unir datos de tipos listas:\n",
        "\n",
        "  ```\n",
        "  >>> lista + [7,8,9]\n",
        "  [1, 2, 3, 4, 5, 6, 7, 8, 9]\n",
        "  ```\n",
        "**Repetición**: El operador * me permite repetir un dato de una lista:\n",
        "\n",
        "  ```\n",
        "  >>> lista * 2\n",
        "  [1, 2, 3, 4, 5, 6, 1, 2, 3, 4, 5, 6]\n",
        "  ```\n",
        "**Indexación**: Puedo obtener el dato de una secuencia indicando la posición en la secuencia.\n",
        "\n",
        "  ```\n",
        "  >>> lista[3]\n",
        "  4\n",
        "  ```\n",
        "Cada elemento tiene un índice, empezamos a contar por el elemento en el índice 0. Si intento acceder a un índice que corresponda a un elemento que no existe obtenemos una excepción IndexError.\n",
        "\n",
        "  ```\n",
        "  >>> lista1[12]\n",
        "  Traceback (most recent call last):\n",
        "    File \"<stdin>\", line 1, in <module\n",
        "  IndexError: list index out of range\n",
        "  ```    \n",
        "Se pueden utilizar índices negativos:\n",
        "\n",
        " ```\n",
        "  >>> lista[-1]\n",
        "  6\n",
        " ```\n",
        "\n",
        "**Slice (rebanada)**: Puedo obtener una subsecuencia de los datos de una lista. Funciona de forma similar como en las cadenas, veamos algunos ejemplos:\n",
        "\n",
        "  ```\n",
        "  >>> lista[2:4]\n",
        "  [3, 4]\n",
        "  >>> lista[1:4:2]\n",
        "  [2, 4]\n",
        "  >>> lista[:5]\n",
        "  [1, 2, 3, 4, 5]\n",
        "  >>> lista[5:]\n",
        "  [6, 1, 2, 3, 4, 5, 6]\n",
        "  >>> lista[::-1]\n",
        "  [6, 5, 4, 3, 2, 1, 6, 5, 4, 3, 2, 1]\n",
        "  ```\n",
        "## 3. Funciones predefinidas que trabajan con listas\n",
        "\n",
        "```\n",
        ">>> lista1 = [20,40,10,40,50]\n",
        ">>> len(lista1)\n",
        "5\n",
        ">>> max(lista1)\n",
        "50\n",
        ">>> min(lista1)\n",
        "10\n",
        ">>> sum(lista1)\n",
        "150\n",
        ">>> sorted(lista1)\n",
        "[10, 20, 30, 40, 50]\n",
        ">>> sorted(lista1,reverse=True)\n",
        "[50, 40, 30, 20, 10]\n",
        "```\n",
        "## 4. Listas multidimensionales\n",
        "A la hora de definir las listas hemos indicado que podemos guardar en ellas datos de cualquier tipo, y evidentemente podemos guardar listas dentro de listas.\n",
        "\n",
        "```\n",
        ">>> tabla = [[1,2,3],[4,5,6],[7,8,9]]\n",
        ">>> tabla[1][1]\n",
        "5\n",
        "\n",
        ">>> for fila in tabla:\n",
        "...   for elem in fila:\n",
        "...      print(elem,end=\"\")\n",
        "...   print()\n",
        "\n",
        "123\n",
        "456\n",
        "789\n",
        "```"
      ]
    },
    {
      "cell_type": "code",
      "execution_count": null,
      "metadata": {},
      "outputs": [],
      "source": []
    },
    {
      "cell_type": "markdown",
      "metadata": {
        "id": "4LsLa2rotalG"
      },
      "source": [
        "### Nota: Al igual que las cadenas el tipo de datos lista es una clase, cada vez que creamos una variable de la clase lista estamos creando un objeto que además de guardar un conjunto de datos, posee un conjunto de métodos que nos permiten trabajar con la lista."
      ]
    },
    {
      "cell_type": "markdown",
      "metadata": {
        "id": "kAi1Ieqvtsjd"
      },
      "source": [
        "### ¿Qué significa que las listas son mutables?\n",
        "\n",
        "Los elementos de las listas se pueden modificar:"
      ]
    },
    {
      "cell_type": "code",
      "execution_count": null,
      "metadata": {
        "colab": {
          "base_uri": "https://localhost:8080/"
        },
        "id": "-bXEUIiH1jnR",
        "outputId": "1e04440f-c8a2-4fdc-9ba7-15fcb09097c6"
      },
      "outputs": [
        {
          "name": "stdout",
          "output_type": "stream",
          "text": [
            "5\n",
            "[1, 5]\n"
          ]
        }
      ],
      "source": [
        "lista = [1,2,3]\n",
        "lista[2] = 5\n",
        "\n",
        "print(lista[2])\n",
        "\n",
        "del lista[1] #eliminamos el elemento de la posición 2 de la lista\n",
        "\n",
        "print(lista)"
      ]
    },
    {
      "cell_type": "markdown",
      "metadata": {
        "id": "mHLjmvznubM5"
      },
      "source": [
        "Esto también ocurre cuando usamos los métodos, es decir, los métodos de las listas modifican el contenido de la lista, por ejemplo si usamos el método **append()** para añadir un elemento a la lista:"
      ]
    },
    {
      "cell_type": "code",
      "execution_count": null,
      "metadata": {
        "colab": {
          "base_uri": "https://localhost:8080/"
        },
        "id": "cL53b6I3ufxk",
        "outputId": "753fa937-d99f-488d-c593-9c1fca9fa748"
      },
      "outputs": [
        {
          "name": "stdout",
          "output_type": "stream",
          "text": [
            "[1, 5, 7]\n"
          ]
        }
      ],
      "source": [
        "lista.append(7)\n",
        "\n",
        "print(lista)"
      ]
    },
    {
      "cell_type": "markdown",
      "metadata": {
        "id": "AY-MaGSIuukv"
      },
      "source": [
        "Podemos observar que la lista se ha modificado con la inserción de ese nuevo elemento.\n",
        "\n",
        "### ¿Cómo se copian las listas?\n",
        "\n",
        "Para copiar una lista en otra no podemos utilizar el operador de asignación:"
      ]
    },
    {
      "cell_type": "code",
      "execution_count": null,
      "metadata": {
        "colab": {
          "base_uri": "https://localhost:8080/"
        },
        "id": "Jx4P1r8xu5Dc",
        "outputId": "493382e9-dbf3-452c-f217-14fa3bf05d14"
      },
      "outputs": [
        {
          "name": "stdout",
          "output_type": "stream",
          "text": [
            "[1, 10, 7]\n",
            "[1, 10, 7]\n"
          ]
        }
      ],
      "source": [
        "lista = [1,5,7]\n",
        "lista2 = lista\n",
        "\n",
        "lista[1] = 10\n",
        "\n",
        "print(lista)\n",
        "print(lista2)"
      ]
    },
    {
      "cell_type": "markdown",
      "metadata": {},
      "source": [
        "El operador de asignación no crea una nueva lista, sino que nombra con dos nombres distintos a la misma lista, por lo tanto la forma más fácil de copiar una lista en otra es:"
      ]
    },
    {
      "cell_type": "code",
      "execution_count": null,
      "metadata": {
        "colab": {
          "base_uri": "https://localhost:8080/"
        },
        "id": "0S5hIsjLvauv",
        "outputId": "7c2aa0c4-ba56-4c78-ecea-56338898e528"
      },
      "outputs": [
        {
          "name": "stdout",
          "output_type": "stream",
          "text": [
            "[1, 50, 7]\n",
            "[1, 10, 7]\n"
          ]
        }
      ],
      "source": [
        "lista2 = lista[:]\n",
        "\n",
        "lista[1] = 50\n",
        "\n",
        "print(lista)\n",
        "print(lista2)"
      ]
    },
    {
      "cell_type": "markdown",
      "metadata": {},
      "source": [
        "### Ampliando conceptos\n",
        "\n",
        "* El ``método zip()`` en Python se utiliza para combinar dos o más secuencias en una sola secuencia de tuplas. \n",
        "\n",
        "        Las tuplas resultantes contienen un elemento de cada secuencia.\n",
        "\n",
        "* Ejemplo de código\n",
        "\n",
        "```python\n",
        "zip(secuencia1, secuencia2, ...)\n",
        "```\n",
        "\n"
      ]
    },
    {
      "cell_type": "code",
      "execution_count": 6,
      "metadata": {},
      "outputs": [
        {
          "name": "stdout",
          "output_type": "stream",
          "text": [
            "[(1, 'Uno'), (2, 'Dos')]\n",
            "<class 'list'>\n",
            "(1, 'Uno')\n",
            "(2, 'Dos')\n"
          ]
        }
      ],
      "source": [
        "# Primera Lista\n",
        "a = [1 , 2]\n",
        "\n",
        "# Segunda Lista\n",
        "b = [\"Uno\" , \"Dos\"]\n",
        "\n",
        "# Tercera Lista\n",
        "c = zip(a,b)\n",
        "\n",
        "# Unir listas\n",
        "d = list(c)\n",
        "\n",
        "print(d)\n",
        "print(type(d))\n",
        "\n",
        "for i in d:\n",
        "    print(i)\n"
      ]
    },
    {
      "cell_type": "markdown",
      "metadata": {
        "id": "y9XT-inuvLfU"
      },
      "source": [
        "* Las ``listas`` lista1 y lista2 se combinan en una sola secuencia de ``tuplas``. \n",
        "\n",
        "Cada ``tupla`` contiene un elemento de cada ``lista``.\n",
        "\n",
        "**Usos:**\n",
        "\n",
        "El método ``zip()`` se puede utilizar para:\n",
        "\n",
        "1. Combinar dos o más listas en una sola ``lista``.\n",
        "\n",
        "2. Iterar sobre dos o más secuencias simultáneamente.\n",
        "\n",
        "3. Crear un ``diccionario`` a partir de dos ``listas``."
      ]
    },
    {
      "cell_type": "code",
      "execution_count": null,
      "metadata": {},
      "outputs": [],
      "source": [
        "# Combinar dos listas en una sola lista.\n",
        "\n",
        "lista1 = [\"a\", \"b\", \"c\"]\n",
        "lista2 = [1, 2, 3]\n",
        "\n",
        "lista_combinada = list(zip(lista1, lista2))\n",
        "\n",
        "print(lista_combinada)\n",
        "\n",
        "# Salida:\n",
        "# [('a', 1), ('b', 2), ('c', 3)]\n",
        "\n",
        "# Iterar sobre dos o más secuencias simultáneamente.\n",
        "\n",
        "lista1 = [\"a\", \"b\", \"c\"]\n",
        "lista2 = [1, 2, 3]\n",
        "\n",
        "for a, b in zip(lista1, lista2):\n",
        "    print(a, b)\n",
        "\n",
        "# Salida:\n",
        "# a 1\n",
        "# b 2\n",
        "# c 3\n",
        "\n",
        "# Crear un diccionario a partir de dos listas.\n",
        "\n",
        "nombres = [\"Juan\", \"María\", \"Pedro\"]\n",
        "apellidos = [\"Pérez\", \"García\", \"Rodríguez\"]\n",
        "\n",
        "diccionario = dict(zip(nombres, apellidos))\n",
        "\n",
        "print(diccionario)\n",
        "\n",
        "# Salida:\n",
        "# {'Juan': 'Pérez', 'María': 'García', 'Pedro': 'Rodríguez'}\n"
      ]
    },
    {
      "cell_type": "code",
      "execution_count": null,
      "metadata": {},
      "outputs": [],
      "source": []
    },
    {
      "cell_type": "code",
      "execution_count": null,
      "metadata": {},
      "outputs": [],
      "source": []
    }
  ],
  "metadata": {
    "colab": {
      "provenance": []
    },
    "kernelspec": {
      "display_name": "Python 3",
      "name": "python3"
    },
    "language_info": {
      "codemirror_mode": {
        "name": "ipython",
        "version": 3
      },
      "file_extension": ".py",
      "mimetype": "text/x-python",
      "name": "python",
      "nbconvert_exporter": "python",
      "pygments_lexer": "ipython3",
      "version": "3.11.6"
    }
  },
  "nbformat": 4,
  "nbformat_minor": 0
}
