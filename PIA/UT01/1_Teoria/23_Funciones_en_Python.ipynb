{
  "cells": [
    {
      "cell_type": "markdown",
      "metadata": {
        "id": "crVjWFhWP2QK"
      },
      "source": [
        "# Introducción a la programación estructurada y modular\n",
        "\n",
        "La **programación estructurada** es un paradigma de programación orientado a mejorar la claridad, calidad y tiempo de desarrollo de un programa de ordenador, utilizando únicamente subrutinas (funciones o procedimientos) y tres estructuras: secuencia, alternativas y repetitivas.\n",
        "\n",
        "La **programación modular** es un paradigma de programación que consiste en dividir un programa en módulos o subprogramas con el fin de hacerlo más legible y manejable.\n",
        "\n",
        "Al aplicar la programación modular, **un problema complejo debe ser dividido en varios subproblemas más simples**, y estos a su vez en otros subproblemas más simples. Esto debe hacerse hasta obtener subproblemas lo suficientemente simples como para poder ser resueltos fácilmente con algún lenguaje de programación (**divide y vencerás**).\n",
        "\n",
        "#### **La programación estructural y modular se lleva a cabo en python3 con la definición de funciones.**"
      ]
    },
    {
      "cell_type": "markdown",
      "metadata": {
        "id": "uj_qRnNZQZIy"
      },
      "source": [
        "## Definición de funciones\n",
        "\n",
        "Veamoslo con un ejemplo directamente:"
      ]
    },
    {
      "cell_type": "code",
      "execution_count": null,
      "metadata": {
        "id": "M8svpstJPzKv"
      },
      "outputs": [],
      "source": [
        "# Función que calcula el resultado de calcular el factorial de un número\n",
        "# Parametros formales\n",
        "#             ↓\n",
        "def factorial(n):\n",
        "  result = 1\n",
        "  for i in range(1, n+1):\n",
        "    result *= i\n",
        "  return result"
      ]
    },
    {
      "cell_type": "markdown",
      "metadata": {
        "id": "nv1aNCGCQ2dc"
      },
      "source": [
        "Y para poder usarla tendremos que llamar o invocar a dicha función:"
      ]
    },
    {
      "cell_type": "code",
      "execution_count": null,
      "metadata": {
        "colab": {
          "base_uri": "https://localhost:8080/"
        },
        "id": "h1nJdk84Q7MJ",
        "outputId": "ea1140d7-e5b3-4b31-9a9d-86acdccec76c"
      },
      "outputs": [
        {
          "name": "stdout",
          "output_type": "stream",
          "text": [
            "40320\n"
          ]
        }
      ],
      "source": [
        "print(factorial(8))"
      ]
    },
    {
      "cell_type": "markdown",
      "metadata": {
        "id": "SDOEj8JORKtq"
      },
      "source": [
        "## Parámetros formales y reales\n",
        "\n",
        "+ **Parámetros formales**: Son las variables que recibe la función, se crean al definir la función. Su contenido lo recibe al realizar la llamada a la función de los parámetro reales. Los parámetros formales son variables locales dentro de la función.\n",
        "\n",
        "+ **Parámetros reales**: Son la expresiones que se utilizan en la llamada de la función, sus valores se copiarán en los parámetros formales."
      ]
    },
    {
      "cell_type": "markdown",
      "metadata": {
        "id": "2JlTth2lRlz9"
      },
      "source": [
        "## Paso de parámetro por valor o por referencia\n",
        "\n",
        "**En Python el paso de parámetros es siempre por referencia**. El lenguaje no trabaja con el concepto de variables sino objetos y referencias. Al realizar la asignación a = 1 no se dice que “a contiene el valor 1” sino que “a referencia a 1”. Así, en comparación con otros lenguajes, podría decirse que en Python los parámetros siempre se pasan por referencia.\n",
        "\n",
        "Evidentemente **si se pasa un valor de un objeto inmutable**, **su valor no se podrá cambiar dentro de la función**:\n",
        "\n",
        "```\n",
        "def f(a):\n",
        "...     a=5\n",
        ">>> a=1\n",
        ">>> f(a)\n",
        ">>> a\n",
        "1\n",
        "```\n",
        "\n",
        "Sin embargo si pasamos un objeto de un tipo mutable, si podremos cambiar su valor:\n",
        "\n",
        "```\n",
        ">>> def f(lista):\n",
        "...   lista.append(5)\n",
        "...\n",
        ">>> l = [1,2]\n",
        ">>> f(l)\n",
        ">>> l\n",
        "[1, 2, 5]\n",
        "```\n",
        "\n",
        "### IMPORTANTE:\n",
        "\n",
        "Aunque podemos cambiar el parámetro real cuando los objetos pasados son de tipo mutables, no es recomendable hacerlo en Python. En otros lenguajes es necesario porque no tenemos opción de devolver múltiples valores, pero como veremos en Python podemos devolver tuplas o lista con la instrucción **return**."
      ]
    },
    {
      "cell_type": "markdown",
      "metadata": {
        "id": "JVyHvPb0S0D2"
      },
      "source": [
        "## Devolución de información\n",
        "\n",
        "Una función en python puede devolver información utilizando la instrucción **return**. La instrucción **return puede devolver cualquier tipo de resultados**, por lo tanto es fácil devolver múltiples datos guardados en una lista o en un diccionario.\n",
        "\n",
        "Cuando la función llega a la instrucción **return** devuelve el resultado y termina su ejecución."
      ]
    },
    {
      "cell_type": "markdown",
      "metadata": {
        "id": "M3StGih6TBtR"
      },
      "source": [
        "## Llamadas a una función\n",
        "\n",
        "Cuando se llama a una función se tienen que indicar los parámetros reales que se van a pasar. La llamada a una función se puede considerar una expresión cuyo valor y tipo es el retornado por la función. Si la función no tiene una instrucción **return** el tipo de la llamada será **None**."
      ]
    },
    {
      "cell_type": "code",
      "execution_count": null,
      "metadata": {
        "colab": {
          "base_uri": "https://localhost:8080/"
        },
        "id": "yiWkBH51TUV_",
        "outputId": "76e83a5e-306a-4f5a-a29f-9ac2f3b0d265"
      },
      "outputs": [
        {
          "name": "stdout",
          "output_type": "stream",
          "text": [
            "4\n",
            "10\n",
            "256\n",
            "<class 'int'>\n"
          ]
        }
      ],
      "source": [
        "def cuadrado(n):\n",
        "  return n*n\n",
        "\n",
        "a = cuadrado(2)\n",
        "\n",
        "print(a)\n",
        "\n",
        "print(cuadrado(3) +1)\n",
        "\n",
        "print(cuadrado(cuadrado(4)))\n",
        "\n",
        "print(type(cuadrado(2)))"
      ]
    },
    {
      "cell_type": "markdown",
      "metadata": {
        "id": "Ec467FU3T1wB"
      },
      "source": [
        "## Funciones Recursivas\n",
        "\n",
        "En el primer ejemplo hemos visto como crear una función para calcular el factorial de un número.\n",
        "\n",
        "También puede ser calculado de forma recursiva:\n",
        "\n",
        "*El factorial de un número también puede ser calculado de forma recursiva: el factorial del 0 o del 1 es 1, y el factorial de un número es igual al número multiplicado por el factorial del número menos 1.*\n",
        "\n",
        "#### Una función recursiva es aquella que al ejecutarse hace llamadas a ella misma. Por lo tanto tenemos que tener **“un caso base”** que hace terminar el bucle de llamadas. Veamos un ejemplo:"
      ]
    },
    {
      "cell_type": "code",
      "execution_count": null,
      "metadata": {
        "colab": {
          "base_uri": "https://localhost:8080/"
        },
        "id": "eEo7ChOdUUng",
        "outputId": "4b385988-7eda-4071-e52c-fffc48777958"
      },
      "outputs": [
        {
          "name": "stdout",
          "output_type": "stream",
          "text": [
            "362880\n"
          ]
        }
      ],
      "source": [
        "def factorial(num):\n",
        "  if num == 0 or num == 1:\n",
        "    return 1\n",
        "  else:\n",
        "    return num * factorial(num-1)\n",
        "\n",
        "\n",
        "print(factorial(9))"
      ]
    }
  ],
  "metadata": {
    "colab": {
      "provenance": []
    },
    "kernelspec": {
      "display_name": "Python 3",
      "name": "python3"
    },
    "language_info": {
      "name": "python"
    }
  },
  "nbformat": 4,
  "nbformat_minor": 0
}
