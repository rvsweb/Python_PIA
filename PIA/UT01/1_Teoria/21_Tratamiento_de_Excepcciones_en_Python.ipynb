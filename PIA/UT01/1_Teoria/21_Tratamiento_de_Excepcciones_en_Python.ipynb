{
  "nbformat": 4,
  "nbformat_minor": 0,
  "metadata": {
    "colab": {
      "provenance": []
    },
    "kernelspec": {
      "name": "python3",
      "display_name": "Python 3"
    },
    "language_info": {
      "name": "python"
    }
  },
  "cells": [
    {
      "cell_type": "markdown",
      "source": [
        "# Tratamiento de Excepcciones en Python\n",
        "\n",
        "## Errores sintácticos y errores de ejecución.\n",
        "\n",
        "Los errores sintácticos se producen cuando tenemos algo mal escrito en nuestro código fuente. Veamos un ejemplo de error sintáctico:"
      ],
      "metadata": {
        "id": "S9P13YfAHdK4"
      }
    },
    {
      "cell_type": "code",
      "execution_count": null,
      "metadata": {
        "colab": {
          "base_uri": "https://localhost:8080/",
          "height": 141
        },
        "id": "4dryv2HaHbut",
        "outputId": "261c8534-34aa-480f-a212-1201a081df42"
      },
      "outputs": [
        {
          "output_type": "error",
          "ename": "SyntaxError",
          "evalue": "ignored",
          "traceback": [
            "\u001b[0;36m  File \u001b[0;32m\"<ipython-input-1-7a481d3f46d4>\"\u001b[0;36m, line \u001b[0;32m1\u001b[0m\n\u001b[0;31m    while True print('Hello World')\u001b[0m\n\u001b[0m               ^\u001b[0m\n\u001b[0;31mSyntaxError\u001b[0m\u001b[0;31m:\u001b[0m invalid syntax\n"
          ]
        }
      ],
      "source": [
        "while True print('Hello World')"
      ]
    },
    {
      "cell_type": "markdown",
      "source": [
        "Una excepción o un error de ejecución **se produce durante la ejecución del programa**. Las excepciones **se pueden manejar para que no termine el programa**. Veamos algunos ejemplos de excepciones:\n",
        "\n",
        "\n",
        "\n",
        "```\n",
        "4/0\n",
        "Traceback (most recent call last):\n",
        "  File \"<stdin>\", line 1, in <module>\n",
        "ZeroDivisionError: division by zero\n",
        "```\n",
        "\n",
        "```\n",
        "a+4\n",
        "Traceback (most recent call last):\n",
        "  File \"<stdin>\", line 1, in <module>\n",
        "NameError: name 'a' is not defined    \n",
        "```\n",
        "\n",
        "```\n",
        "\"2\"+2\n",
        "Traceback (most recent call last):\n",
        "  File \"<stdin>\", line 1, in <module>\n",
        "TypeError: Can't convert 'int' object to str implicitly\n",
        "```\n",
        "\n",
        "Hemos obtenido varias excepciones: **ˋZeroDivisionErrorˋ**, **ˋNameErrorˋ** y **ˋTypeErrorˋ**. Puedes ver la [lista de excepciones](https://docs.python.org/es/3/tutorial/errors.html#exceptions) y su significado."
      ],
      "metadata": {
        "id": "0SPW0sb-H3pG"
      }
    },
    {
      "cell_type": "markdown",
      "source": [
        "## Manejando excepciones\n",
        "\n",
        "Veamos un ejemplo simple como podemos tratar una excepción:"
      ],
      "metadata": {
        "id": "9Y3jFD6UJkuN"
      }
    },
    {
      "cell_type": "code",
      "source": [
        "while True:\n",
        "   try:\n",
        "     x = int(input(\"Introduce un número:\"))\n",
        "     break\n",
        "   except ValueError:\n",
        "     print (\"Debes introducir un número\")"
      ],
      "metadata": {
        "id": "b5yVqVbIJq1K"
      },
      "execution_count": null,
      "outputs": []
    },
    {
      "cell_type": "markdown",
      "source": [
        "### ¿Cómo funciona este tratamiento?\n",
        "\n",
        "1. Se ejecuta el bloque de instrucciones de **try**.\n",
        "2. Si no se produce la excepción, el bloque de **except** no se ejecuta y continúa la ejecución secuencia.\n",
        "3. Si se produce una excepción, el resto del bloque **try** no se ejecuta, si la excepción que se ha produce corresponde con la indicada en **except** se salta a ejecutar el bloque de instrucciones **except**.\n",
        "4. Si la excepción producida no se corresponde con las indicadas en **except** se pasa a otra instrucción **try**, si finalmente no hay un manejador nos dará un error y el programa terminará."
      ],
      "metadata": {
        "id": "dLx_GnPgJztz"
      }
    },
    {
      "cell_type": "markdown",
      "source": [
        "Un bloque **except** puede manejar varios tipos de excepciones, si quiero controlar varios tipos de excepciones **puedo poner varios bloques except**.\n",
        "\n",
        "Teniendo en cuenta que en el último, si quiero no indico el tipo de excepción:"
      ],
      "metadata": {
        "id": "r4v1aF7LKWYY"
      }
    },
    {
      "cell_type": "code",
      "source": [
        "try:\n",
        "   print (10/int(cad))\n",
        "except ValueError:\n",
        "   print(\"No se puede convertir a entero\")\n",
        "except ZeroDivisionError:\n",
        "   print(\"No se puede dividir por cero\")\n",
        "except:\n",
        "   print(\"Otro error\")"
      ],
      "metadata": {
        "id": "cQOCqNr1KjEK"
      },
      "execution_count": null,
      "outputs": []
    },
    {
      "cell_type": "markdown",
      "source": [
        "Se puede utilizar también la cláusula **else**"
      ],
      "metadata": {
        "id": "M-Am8SMtKv5P"
      }
    },
    {
      "cell_type": "code",
      "source": [
        "try:\n",
        "   print (10/int(cad))\n",
        "except ValueError:\n",
        "   print(\"No se puede convertir a entero\")\n",
        "except ZeroDivisionError:\n",
        "   print(\"No se puede dividir por cero\")\n",
        "else:\n",
        "   print(\"Otro error\")"
      ],
      "metadata": {
        "id": "hLFNvRLtK5nL"
      },
      "execution_count": null,
      "outputs": []
    },
    {
      "cell_type": "markdown",
      "source": [
        "Por último indicar que podemos indicar una clausula **finally** para indicar un bloque de instrucciones que **siempre se debe ejecutar**, independientemente de si la excepción se ha producido o no."
      ],
      "metadata": {
        "id": "NwbTp7t1K9L2"
      }
    },
    {
      "cell_type": "code",
      "source": [
        "try:\n",
        "  result = x / y\n",
        "except ZeroDivisionError:\n",
        "  print(\"División por cero!\")\n",
        "else:\n",
        "  print(\"El resultado es\", result)\n",
        "finally:\n",
        "  print(\"Terminamos el programa\")"
      ],
      "metadata": {
        "id": "pUVPwLJuLNEw"
      },
      "execution_count": null,
      "outputs": []
    },
    {
      "cell_type": "markdown",
      "source": [
        "### Nota:\n",
        "\n",
        "Podemos saber el tipo de excepción que se ha producido y nos permitirá mostrar una información más detallada:"
      ],
      "metadata": {
        "id": "J22gYbYrLxI0"
      }
    },
    {
      "cell_type": "code",
      "source": [
        "try:\n",
        "  result = x / y\n",
        "except Exception as e:\n",
        "    print(repr(e))"
      ],
      "metadata": {
        "id": "uutaY8iQL-tN"
      },
      "execution_count": null,
      "outputs": []
    }
  ]
}