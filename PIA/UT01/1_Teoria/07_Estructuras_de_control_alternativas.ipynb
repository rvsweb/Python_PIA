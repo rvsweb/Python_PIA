{
  "nbformat": 4,
  "nbformat_minor": 0,
  "metadata": {
    "colab": {
      "provenance": []
    },
    "kernelspec": {
      "name": "python3",
      "display_name": "Python 3"
    },
    "language_info": {
      "name": "python"
    }
  },
  "cells": [
    {
      "cell_type": "markdown",
      "source": [
        "## Estructuras Condicionales\n",
        "\n",
        "Las estructuras condicionales son fundamentales en cualquier lenguaje de programación, incluido Python. Permiten que un programa **tome decisiones** basándose en **una o más condiciones**, lo que puede influir en el flujo de ejecución del código.\n",
        "\n",
        "### Alternativa simple (if)\n",
        "\n",
        "Al ejecutarse la instrucción if se evalúa la condición lógica.\n",
        "\n",
        "\n",
        "*   Si la condición lógica es True se ejecutan de manera secuencial el bloque de instrucciones\n",
        "*   Si la condición es False no se ejecuta el bloque de instrucciones.\n",
        "\n",
        " Una vez ejecutado el if (opción verdadera o falsa) se continúa la ejecución de forma secuencial por la siguiente instrucción (bloque de instrucción no identado).\n",
        "\n",
        "### Ejemplo\n",
        "Programa que pida la edad y diga si es mayor de edad.\n"
      ],
      "metadata": {
        "id": "VilesoFF9zpM"
      }
    },
    {
      "cell_type": "code",
      "execution_count": null,
      "metadata": {
        "id": "6hZUBhIb7zQ9"
      },
      "outputs": [],
      "source": [
        "edad = int(input(\"Dime tu edad:\"))\n",
        "if edad>=18:\n",
        "    print(\"Eres mayor de edad\")\n",
        "print(\"Programa terminado\")"
      ]
    },
    {
      "cell_type": "markdown",
      "source": [
        "\n",
        "## Alternativa doble\n",
        "Al ejecutarse la instrucción if se evalúa la condición lógica.  \n",
        "\n",
        "*   Si la condición lógica es True se ejecutan de manera secuencial el primer bloque de instrucciones.\n",
        "*   Si la condición es False se ejecuta el segundo bloque de instrucción.\n",
        "\n",
        "Una vez ejecutado el if (opción verdadera o falsa) se continúa la ejecución de forma secuencial por la siguiente instrucción (bloque de instrucción no identado).\n",
        "\n",
        "### Ejemplo\n",
        "Programa que pida la edad y diga si es mayor de edad o menor de edad.\n",
        "\n"
      ],
      "metadata": {
        "id": "XVoIRniw_WA7"
      }
    },
    {
      "cell_type": "code",
      "source": [
        "edad = int(input(\"Dime tu edad:\"))\n",
        "if edad>=18:\n",
        "    print(\"Eres mayor de edad\")\n",
        "else:\n",
        "    print(\"Eres menor de edad\")\n",
        "print(\"Programa terminado\")"
      ],
      "metadata": {
        "id": "UAkvLaG6_nOO"
      },
      "execution_count": null,
      "outputs": []
    },
    {
      "cell_type": "markdown",
      "source": [
        "\n",
        "## Alternativa múltiple\n",
        "En este caso tenemos varias opciones. Vamos preguntando por cada una de las opciones y según el valor de la expresión ejecutamos un bloque o otro.\n",
        "\n",
        "#### NOTA: Python no tiene instrucción switch-case\n",
        "\n",
        "Ejemplo\n",
        "Programa que pide una nota de un examen por teclado y muestra la nota como “Sobresaliente”, “Notable”, “Bien”, “Suficiente”, “Suspendido”. En pseudocódigo podemos usar la instrucción Segun:\n",
        "\n",
        "\n",
        "\n",
        "```\n",
        "Proceso notas\n",
        "    Definir nota como entero;\n",
        "    Escribir \"Dime tu nota:\";\n",
        "    Leer nota;\n",
        "    Segun nota Hacer\n",
        "        1,2,3,4: Escribir \"Suspenso\";\n",
        "        5: Escribir \"Suficiente\";\n",
        "        6,7: Escribir \"Bien\";\n",
        "        8: Escribir \"Notable\";\n",
        "        9,10: Escribir \"Sobresaliente\";\n",
        "        De Otro Modo:\n",
        "            Escribir \"Nota incorrecta\";\n",
        "    FinSegun\n",
        "    Escribir \"Programa terminado\";\n",
        "FinProceso\n",
        "```\n",
        "\n",
        "\n",
        "En python3 utilizamos la alternativa múltiple:\n",
        "\n"
      ],
      "metadata": {
        "id": "Nidd2_E1_nnh"
      }
    },
    {
      "cell_type": "code",
      "source": [
        "nota = int(input(\"Dime tu nota:\"))\n",
        "if nota >=1 and nota <= 4:\n",
        "    print(\"Suspenso\")\n",
        "elif nota == 5:\n",
        "    print(\"Suficiente\")\n",
        "elif nota == 6 or nota == 7:\n",
        "    print(\"Bien\")\n",
        "elif nota == 8:\n",
        "    print(\"Notable\")\n",
        "elif nota ==9 or nota == 10:\n",
        "    print(\"Sobresaliente\")\n",
        "else:\n",
        "    print(\"Nota incorrecta\")\n",
        "print(\"Programa terminado\")"
      ],
      "metadata": {
        "id": "EkVuPY3k_zaV"
      },
      "execution_count": null,
      "outputs": []
    }
  ]
}