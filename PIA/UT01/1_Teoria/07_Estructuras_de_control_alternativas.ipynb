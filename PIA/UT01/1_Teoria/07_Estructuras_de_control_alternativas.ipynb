{
  "cells": [
    {
      "cell_type": "markdown",
      "metadata": {
        "id": "VilesoFF9zpM"
      },
      "source": [
        "## Estructuras Condicionales\n",
        "\n",
        "Las estructuras condicionales son fundamentales en cualquier lenguaje de programación, incluido Python. Permiten que un programa **tome decisiones** basándose en **una o más condiciones**, lo que puede influir en el flujo de ejecución del código.\n",
        "\n",
        "### Alternativa simple (if)\n",
        "\n",
        "Al ejecutarse la instrucción if se evalúa la condición lógica.\n",
        "\n",
        "\n",
        "*   Si la condición lógica es True se ejecutan de manera secuencial el bloque de instrucciones\n",
        "*   Si la condición es False no se ejecuta el bloque de instrucciones.\n",
        "\n",
        " Una vez ejecutado el if (opción verdadera o falsa) se continúa la ejecución de forma secuencial por la siguiente instrucción (bloque de instrucción no identado).\n",
        "\n",
        "### Ejemplo\n",
        "Programa que pida la edad y diga si es mayor de edad.\n"
      ]
    },
    {
      "cell_type": "code",
      "execution_count": null,
      "metadata": {
        "id": "6hZUBhIb7zQ9"
      },
      "outputs": [],
      "source": [
        "edad = int(input(\"Dime tu edad:\"))\n",
        "if edad>=18:\n",
        "    print(\"Eres mayor de edad\")\n",
        "print(\"Programa terminado\")"
      ]
    },
    {
      "cell_type": "markdown",
      "metadata": {
        "id": "XVoIRniw_WA7"
      },
      "source": [
        "\n",
        "## Alternativa doble\n",
        "Al ejecutarse la instrucción if se evalúa la condición lógica.  \n",
        "\n",
        "*   Si la condición lógica es True se ejecutan de manera secuencial el primer bloque de instrucciones.\n",
        "*   Si la condición es False se ejecuta el segundo bloque de instrucción.\n",
        "\n",
        "Una vez ejecutado el if (opción verdadera o falsa) se continúa la ejecución de forma secuencial por la siguiente instrucción (bloque de instrucción no identado).\n",
        "\n",
        "### Ejemplo\n",
        "Programa que pida la edad y diga si es mayor de edad o menor de edad.\n",
        "\n"
      ]
    },
    {
      "cell_type": "code",
      "execution_count": null,
      "metadata": {
        "id": "UAkvLaG6_nOO"
      },
      "outputs": [],
      "source": [
        "edad = int(input(\"Dime tu edad:\"))\n",
        "if edad>=18:\n",
        "    print(\"Eres mayor de edad\")\n",
        "else:\n",
        "    print(\"Eres menor de edad\")\n",
        "print(\"Programa terminado\")"
      ]
    },
    {
      "cell_type": "markdown",
      "metadata": {
        "id": "Nidd2_E1_nnh"
      },
      "source": [
        "\n",
        "## Alternativa múltiple\n",
        "En este caso tenemos varias opciones. Vamos preguntando por cada una de las opciones y según el valor de la expresión ejecutamos un bloque o otro.\n",
        "\n",
        "#### NOTA: Python no tiene instrucción switch-case\n",
        "\n",
        "Ejemplo\n",
        "Programa que pide una nota de un examen por teclado y muestra la nota como “Sobresaliente”, “Notable”, “Bien”, “Suficiente”, “Suspendido”. En pseudocódigo podemos usar la instrucción Segun:\n",
        "\n",
        "\n",
        "\n",
        "```\n",
        "Proceso notas\n",
        "    Definir nota como entero;\n",
        "    Escribir \"Dime tu nota:\";\n",
        "    Leer nota;\n",
        "    Segun nota Hacer\n",
        "        1,2,3,4: Escribir \"Suspenso\";\n",
        "        5: Escribir \"Suficiente\";\n",
        "        6,7: Escribir \"Bien\";\n",
        "        8: Escribir \"Notable\";\n",
        "        9,10: Escribir \"Sobresaliente\";\n",
        "        De Otro Modo:\n",
        "            Escribir \"Nota incorrecta\";\n",
        "    FinSegun\n",
        "    Escribir \"Programa terminado\";\n",
        "FinProceso\n",
        "```\n",
        "\n",
        "\n",
        "En python3 utilizamos la alternativa múltiple:\n",
        "\n"
      ]
    },
    {
      "cell_type": "code",
      "execution_count": 1,
      "metadata": {
        "id": "EkVuPY3k_zaV"
      },
      "outputs": [
        {
          "name": "stdout",
          "output_type": "stream",
          "text": [
            "Sobresaliente\n",
            "Programa terminado\n"
          ]
        }
      ],
      "source": [
        "nota = int(input(\"Dime tu nota:\"))\n",
        "if nota >=1 and nota <= 4:\n",
        "    print(\"Suspenso\")\n",
        "elif nota == 5:\n",
        "    print(\"Suficiente\")\n",
        "elif nota == 6 or nota == 7:\n",
        "    print(\"Bien\")\n",
        "elif nota == 8:\n",
        "    print(\"Notable\")\n",
        "elif nota ==9 or nota == 10:\n",
        "    print(\"Sobresaliente\")\n",
        "else:\n",
        "    print(\"Nota incorrecta\")\n",
        "print(\"Programa terminado\")"
      ]
    },
    {
      "cell_type": "code",
      "execution_count": 3,
      "metadata": {},
      "outputs": [
        {
          "name": "stdout",
          "output_type": "stream",
          "text": [
            "Nivel 5 :  98\n",
            "Final :  98\n"
          ]
        }
      ],
      "source": [
        "import random as aleatorio\n",
        "\n",
        "numero = aleatorio.randint(1, 100)\n",
        "if numero >= 0 and numero <= 10:\n",
        "    print(\"Nivel 1 : \", numero)\n",
        "if numero >= 10 and numero <= 30:\n",
        "    print(\"Nivel 2 : \", numero)\n",
        "if numero >= 30 and numero <= 50:\n",
        "    print(\"Nivel 3 : \", numero)\n",
        "    print(numero)\n",
        "if numero >= 50 and numero <= 70:\n",
        "    print(\"Nivel 4 : \", numero)\n",
        "    print(numero)\n",
        "if numero >= 70 and numero <= 100:\n",
        "    print(\"Nivel 5 : \", numero)\n",
        "    \n",
        "print(\"Final : \", numero)\n",
        "    "
      ]
    }
  ],
  "metadata": {
    "colab": {
      "provenance": []
    },
    "kernelspec": {
      "display_name": "Python 3",
      "name": "python3"
    },
    "language_info": {
      "codemirror_mode": {
        "name": "ipython",
        "version": 3
      },
      "file_extension": ".py",
      "mimetype": "text/x-python",
      "name": "python",
      "nbconvert_exporter": "python",
      "pygments_lexer": "ipython3",
      "version": "3.11.6"
    }
  },
  "nbformat": 4,
  "nbformat_minor": 0
}
