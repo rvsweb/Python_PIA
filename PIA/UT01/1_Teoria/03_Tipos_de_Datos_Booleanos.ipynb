{
  "nbformat": 4,
  "nbformat_minor": 0,
  "metadata": {
    "colab": {
      "provenance": []
    },
    "kernelspec": {
      "name": "python3",
      "display_name": "Python 3"
    },
    "language_info": {
      "name": "python"
    }
  },
  "cells": [
    {
      "cell_type": "markdown",
      "source": [
        "## Tipos de Datos Booleanos o Lógicos\n",
        "\n",
        "### Solo tienen dos posibles valores (True (1) o False (0))\n",
        "\n",
        "Python considera como Verdadero o Falso cualquier dato cuyo valor sea 0 o 1, pero ¿Qué otros valores se consideran falsos?\n",
        "\n",
        "### Considerados False por python\n",
        "\n",
        "    * Cualquier número 0. (0,0.0) --> cualquier valor 0 independientemente de que esté aislado o dentro de una lista.\n",
        "    * Cualquier secuencia vacía ([], (), '')\n",
        "    * Cualquier diccionario vacío ({})\n",
        "\n",
        "### Operaciones con Datos Booleanos\n",
        "\n",
        "* **Lógicos**\n",
        "    * or, and not => x or y, x and y, not x\n",
        "\n",
        "* **Comparación**\n",
        "    * ==, !=, >=, >, <=, <"
      ],
      "metadata": {
        "id": "PaQOPX2RDbKx"
      }
    },
    {
      "cell_type": "code",
      "source": [
        "x = True\n",
        "y = False\n",
        "num = 43\n",
        "\n",
        "#Lógicos\n",
        "print(x and y)\n",
        "print(x or y)\n",
        "print(not x)\n",
        "print(not y)\n",
        "\n",
        "#Comparación\n",
        "print(x==y)\n",
        "print(x!=y)\n",
        "print(num==43)\n",
        "print(num<=100)\n",
        "print(num>=100)\n",
        "\n",
        "#Combinación de Operadores Lógicos y de Comparación\n",
        "print(num>10 and num<=50)"
      ],
      "metadata": {
        "colab": {
          "base_uri": "https://localhost:8080/"
        },
        "id": "yB5Sf_jf8RV-",
        "outputId": "adac0bda-0708-497e-b831-a3173a1b994a"
      },
      "execution_count": null,
      "outputs": [
        {
          "output_type": "stream",
          "name": "stdout",
          "text": [
            "False\n",
            "True\n",
            "False\n",
            "True\n",
            "False\n",
            "True\n",
            "True\n",
            "True\n",
            "False\n",
            "True\n"
          ]
        }
      ]
    },
    {
      "cell_type": "markdown",
      "source": [
        "### **Este tipo de instrucciones se usan mucho en las estructuras iterativas o repetitivas**."
      ],
      "metadata": {
        "id": "8swChfs64t4n"
      }
    }
  ]
}