{
  "nbformat": 4,
  "nbformat_minor": 0,
  "metadata": {
    "colab": {
      "provenance": []
    },
    "kernelspec": {
      "name": "python3",
      "display_name": "Python 3"
    },
    "language_info": {
      "name": "python"
    }
  },
  "cells": [
    {
      "cell_type": "markdown",
      "source": [
        "## Primer programa con Python.\n",
        "\n",
        "Usaremos la función print() que veremos más adelante con profundidad."
      ],
      "metadata": {
        "id": "X2Q3sYvlbzpm"
      }
    },
    {
      "cell_type": "code",
      "source": [
        "print('Hola Mundo')"
      ],
      "metadata": {
        "colab": {
          "base_uri": "https://localhost:8080/"
        },
        "id": "90Pbp_fZb4im",
        "outputId": "5310e6ce-a30f-4da1-a71c-c3afdc693114"
      },
      "execution_count": null,
      "outputs": [
        {
          "output_type": "stream",
          "name": "stdout",
          "text": [
            "Hola Mundo\n"
          ]
        }
      ]
    },
    {
      "cell_type": "code",
      "source": [],
      "metadata": {
        "id": "bCwMfoCvb6dq"
      },
      "execution_count": null,
      "outputs": []
    }
  ]
}