{
  "cells": [
    {
      "cell_type": "markdown",
      "metadata": {
        "id": "W9Gdw-6MCll2"
      },
      "source": [
        "La instrucción **while** ejecuta una secuencia de instrucciones **mientras una condición sea verdadera**.\n",
        "\n",
        "\n",
        "\n",
        "```\n",
        "while <condición>:\n",
        "    <instrucciones>\n",
        "```\n",
        "\n",
        "\n",
        "1.   Al ejecutarse esta instrucción, la condición es evaluada. Si la condición resulta verdadera, se ejecuta una vez la secuencia de instrucciones que forman el cuerpo del ciclo.\n",
        "2.   Al finalizar la ejecución del cuerpo del ciclo se vuelve a evaluar la condición y, si es verdadera, la ejecución se repite. Estos pasos se repiten mientras la condición sea verdadera.\n",
        "\n",
        "\n",
        "#### Se puede dar la circunstancia que las instrucciones del bucle no se ejecuten nunca, si al evaluar por primera vez la condición resulta ser falsa.\n",
        "\n",
        "#### Si la condición siempre es verdadera, al ejecutar esta instrucción se produce un **ciclo infinito**.\n",
        "\n",
        "A fin de evitarlo, las instrucciones del cuerpo del ciclo deben contener alguna instrucción que modifique la o las variables involucradas en la condición, de modo que ésta sea falsificada en algún momento y así finalice la ejecución del ciclo.\n",
        "\n",
        "### Ejemplo\n",
        "Crea un programa que pida al usuario una contraseña, de forma repetitiva mientras que no introduzca “asdasd”. Cuando finalmente escriba la contraseña correcta, se le dirá “Bienvenido” y terminará el programa.\n",
        "\n"
      ]
    },
    {
      "cell_type": "code",
      "execution_count": null,
      "metadata": {
        "id": "BqQDuQxXChOf"
      },
      "outputs": [],
      "source": [
        "secreto = \"asdasd\"\n",
        "clave = input(\"Dime la clave:\")\n",
        "while clave != secreto:\n",
        "    print(\"Clave incorrecta!!!\")\n",
        "    clave = input(\"Dime la clave:\")\n",
        "print(\"Bienvenido!!!\")\n",
        "print(\"Programa terminado\")"
      ]
    },
    {
      "cell_type": "code",
      "execution_count": 2,
      "metadata": {},
      "outputs": [
        {
          "name": "stdout",
          "output_type": "stream",
          "text": [
            "Clave incorrecta!!! 1\n",
            "Clave incorrecta!!! 2\n",
            "Clave incorrecta!!! 2\n",
            "Bienvenido!!!\n",
            "Programa Terminado\n"
          ]
        }
      ],
      "source": [
        "miSecreto = \"1234\"\n",
        "clave = input(\"Dime la clave\")\n",
        "\n",
        "contador = 0\n",
        "\n",
        "while clave != miSecreto :\n",
        "    contador += 1\n",
        "    print(\"Clave incorrecta - Numero de intentos \" , contador , \" - Clave introducida : \" ,clave)\n",
        "    clave = input(\"Dime la clave:\")\n",
        "\n",
        "print(\"Bienvenido!!!\")\n",
        "print(\"Programa Terminado\")    \n",
        "    "
      ]
    },
    {
      "cell_type": "markdown",
      "metadata": {
        "id": "jeG5Y8-GDmkf"
      },
      "source": [
        "\n",
        "## Instrucciones break y continue\n",
        "### break\n",
        "\n",
        "Termina la ejecución del bucle, además no ejecuta el bloque de instrucciones.\n",
        "\n",
        "Veamos un programa similar al anterior pero que tiene otra condición de salida:\n",
        "\n"
      ]
    },
    {
      "cell_type": "code",
      "execution_count": 1,
      "metadata": {
        "id": "mW1j36y5FhaS"
      },
      "outputs": [
        {
          "name": "stdout",
          "output_type": "stream",
          "text": [
            "Clave incorrecta!!!\n",
            "Clave incorrecta!!!\n",
            "Programa terminado\n"
          ]
        }
      ],
      "source": [
        "secreto = \"asdasd\"\n",
        "clave = input(\"Dime la clave:\")\n",
        "while clave != secreto:\n",
        "    print(\"Clave incorrecta!!!\")\n",
        "    otra = input(\"¿Quieres introducir otra clave (S/N)?:\")\n",
        "    if otra.upper()==\"N\":\n",
        "        break\n",
        "    clave = input(\"Dime la clave:\")\n",
        "if clave == secreto:\n",
        "    print(\"Bienvenido!!!\")\n",
        "print(\"Programa terminado\")"
      ]
    },
    {
      "cell_type": "markdown",
      "metadata": {
        "id": "vH8t9bt0FfnW"
      },
      "source": [
        "\n",
        "### continue\n",
        "\n",
        "* Deja de ejecutar las restantes instrucciones del bucle y vuelve a iterar.\n",
        "\n",
        "* Se utiliza para **SALTAR** las iteraciones dentro de los bucles iteradores\n",
        "\n",
        "    * Bucle ``for``\n",
        "\n",
        "    * Bucle ``while``\n",
        "\n",
        "* Aunque podemos de hacerlo de varias formas, vamos a usar la instrucción continue para mostrar los número pares del 1 al 10:\n",
        "\n"
      ]
    },
    {
      "cell_type": "code",
      "execution_count": 5,
      "metadata": {
        "id": "oQoRoX5RFxNz"
      },
      "outputs": [
        {
          "name": "stdout",
          "output_type": "stream",
          "text": [
            "2\n",
            "4\n",
            "6\n",
            "8\n",
            "10\n"
          ]
        }
      ],
      "source": [
        "cont = 0\n",
        "while cont<10:\n",
        "    cont = cont + 1\n",
        "    if cont % 2 != 0:\n",
        "        continue\n",
        "    print(cont)    \n",
        "\n",
        "\n",
        "\n"
      ]
    },
    {
      "cell_type": "code",
      "execution_count": 6,
      "metadata": {},
      "outputs": [
        {
          "name": "stdout",
          "output_type": "stream",
          "text": [
            "1\n",
            "3\n",
            "5\n",
            "7\n",
            "9\n"
          ]
        }
      ],
      "source": [
        "# En este ejemplo, el bucle for itera sobre los números del 1 al 10. \n",
        "# La instrucción continue se utiliza para saltar las iteraciones de los números pares. \n",
        "# Como resultado, solo se imprimen los números impares.\n",
        "\n",
        "for numero in range(1, 11):\n",
        "    if numero % 2 == 0:\n",
        "        continue\n",
        "    print(numero)"
      ]
    },
    {
      "cell_type": "code",
      "execution_count": 3,
      "metadata": {},
      "outputs": [
        {
          "name": "stdout",
          "output_type": "stream",
          "text": [
            "1\n",
            "2\n",
            "3\n",
            "4\n",
            "5\n"
          ]
        }
      ],
      "source": [
        "# En este ejemplo, el bucle \"for\" itera sobre los números del 1 al 10. \n",
        "\n",
        "# La instrucción \"continue\" se utiliza para saltar las iteraciones de los números pares. \n",
        "\n",
        "# Como resultado, solo se imprimen los números impares. \n",
        "\n",
        "numeros = [1, 2 , 3 , 4 , 5]\n",
        "\n",
        "for numero in numeros:\n",
        "    if numero == 33:\n",
        "        continue\n",
        "    print(numero)\n"
      ]
    },
    {
      "cell_type": "markdown",
      "metadata": {
        "id": "xitVkOSKFxhF"
      },
      "source": [
        "\n",
        "### Instrucción Repetir - Hasta Que\n",
        "En pseudocódigo podemos encontrar una instrucción Repetir - Hasta Que que nos permite ejecutar una secuencia de instrucciones hasta que la condición sea verdadera.\n",
        "\n",
        "Con esta estructura la secuencia de instrucciones que forma el cuerpo del ciclo se ejecuta una vez y luego se evalúa la condición (similiar al do-while de otros lenguajes de programación). Esta estructura de control la podemos encontrar en muchos lenguajes de programación, pero en Python no existe.\n",
        "\n",
        "Podemos simular el comportamiento de esta estructura utilizando un bucle con while y con la instrucción break:\n",
        "\n",
        "Ejemplo\n",
        "Crea un programa que pida al usuario una contraseña, de forma repetitiva mientras que no introduzca “asdasd”. Cuando finalmente escriba la contraseña correcta, se le dirá “Bienvenido” y terminará el programa.\n",
        "\n",
        "En pseudocódigo:\n",
        "\n",
        "\n",
        "```\n",
        "Proceso login\n",
        "    Definir secreto, clave como cadena;\n",
        "    secreto <- \"asdasd\";\n",
        "    Repetir\n",
        "        Escribir \"Dime la clave:\";\n",
        "        Leer clave;\n",
        "        Si clave<>secreto Entonces\n",
        "            Escribir \"Clave incorrecta!!!\";\n",
        "        FinSi\n",
        "    Hasta Que clave=secreto\n",
        "    Escribir \"Bienvenido!!!\";\n",
        "    Escribir \"Programa terminado\";\n",
        "FinProceso\n",
        "```\n",
        "\n",
        "\n",
        "En python3:\n",
        "\n"
      ]
    },
    {
      "cell_type": "code",
      "execution_count": null,
      "metadata": {
        "id": "c8f5kWnyGP3b"
      },
      "outputs": [],
      "source": [
        "secreto = \"asdasd\"\n",
        "while True:\n",
        "    clave = input(\"Dime la clave:\")\n",
        "    if clave != secreto:\n",
        "        print(\"Clave incorrecta!!!\")\n",
        "    if clave == secreto:\n",
        "        break;\n",
        "print(\"Bienvenido!!!\")\n",
        "print(\"Programa terminado\")"
      ]
    }
  ],
  "metadata": {
    "colab": {
      "provenance": []
    },
    "kernelspec": {
      "display_name": "Python 3",
      "name": "python3"
    },
    "language_info": {
      "codemirror_mode": {
        "name": "ipython",
        "version": 3
      },
      "file_extension": ".py",
      "mimetype": "text/x-python",
      "name": "python",
      "nbconvert_exporter": "python",
      "pygments_lexer": "ipython3",
      "version": "3.11.6"
    }
  },
  "nbformat": 4,
  "nbformat_minor": 0
}
