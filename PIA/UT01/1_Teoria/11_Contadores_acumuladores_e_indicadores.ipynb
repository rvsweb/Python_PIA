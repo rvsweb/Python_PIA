{
  "cells": [
    {
      "cell_type": "markdown",
      "metadata": {
        "id": "W9Gdw-6MCll2"
      },
      "source": [
        "## Contadores\n",
        "Un **contador** es una variable entera que la utilizamos para contar cuando ocurre un suceso.\n",
        "\n",
        "Un contador:\n",
        "\n",
        "\n",
        "\n",
        "* Se inicializa a un valor inicial.\n",
        "\n",
        "  ```\n",
        "  cont = 0\n",
        "  ```\n",
        "\n",
        "\n",
        "* Se incrementa, cuando ocurre el suceso que estamos contado se le suma 1.\n",
        "\n",
        "  ```\n",
        "  cont = cont + 1\n",
        "  ```\n",
        "  Otra forma de incrementar el contador:\n",
        "\n",
        "  ```\n",
        "  cont += 1\n",
        "  ```\n",
        "\n",
        "\n",
        "### Ejemplo\n",
        "\n",
        "Introducir 5 números y contar los números pares."
      ]
    },
    {
      "cell_type": "code",
      "execution_count": 1,
      "metadata": {
        "id": "BqQDuQxXChOf"
      },
      "outputs": [
        {
          "name": "stdout",
          "output_type": "stream",
          "text": [
            "Has introducido  1  números pares.\n"
          ]
        }
      ],
      "source": [
        "cont = 0\n",
        "for var in range(1,6):\n",
        "    num = int(input(\"Dime un número:\"))\n",
        "    if num % 2 == 0:\n",
        "        cont = cont + 1\n",
        "print(\"Has introducido \",cont,\" números pares.\")"
      ]
    },
    {
      "cell_type": "code",
      "execution_count": null,
      "metadata": {},
      "outputs": [],
      "source": [
        "import random\n",
        "\n",
        "cont = 0\n",
        "for var in range(1,6):\n",
        "    num = random.randint(1,10)\n",
        "    print(\"Numero introducido : \" , num)\n",
        "    if num % 2 == 0:\n",
        "        cont += 1\n",
        "print(\"Has introducido \" , cont , \" numeros pares\")"
      ]
    },
    {
      "cell_type": "markdown",
      "metadata": {
        "id": "jeG5Y8-GDmkf"
      },
      "source": [
        "### Acumuladores\n",
        "\n",
        "Siempre inicializado a 1 siempre\n",
        "\n",
        "Un acumulador es una variable numérica que permite ir acumulando resultados de operaciones. \n",
        "  \n",
        "  **Me permite ir haciendo operaciones parciales**.\n",
        "\n",
        "Un acumulador:\n",
        "\n",
        "* Se inicializa a un valor inicial según la operación que se va a acumular: a 0 si es una suma o a 1 si es un producto.\n",
        "* Se acumula un valor intermedio.\n",
        "\n",
        "  ```\n",
        "  acum  =  acum + num\n",
        "  ```\n",
        "\n",
        "  ```\n",
        "  acum += num\n",
        "  ```\n",
        "\n",
        "  ### Ejemplo\n",
        "\n",
        "  Introducir 5 números y sumar los números pares."
      ]
    },
    {
      "cell_type": "code",
      "execution_count": null,
      "metadata": {
        "id": "mW1j36y5FhaS"
      },
      "outputs": [],
      "source": [
        "suma = 0\n",
        "for var in range(1,6):\n",
        "    num = int(input(\"Dime un número:\"))\n",
        "    if num % 2 == 0:\n",
        "        suma = suma + num\n",
        "print(\"La suma de los números pares es \",suma)"
      ]
    },
    {
      "cell_type": "markdown",
      "metadata": {
        "id": "wtTzLLat-MyV"
      },
      "source": [
        "### Indicadores\n",
        "\n",
        "Un indicador es una variable lógica, que usamos para **recordar o indicar** algún suceso.\n",
        "\n",
        "Un acumulador:\n",
        "\n",
        "* Se inicializa a un valor lógico que indica que el suceso no ha ocurrido.\n",
        "  ```\n",
        "    indicador = False\n",
        "  ```\n",
        "* Cuando ocurre el suceso que queremos recordar cambiamos su valor.\n",
        "\n",
        "  ```\n",
        "   indicador = True\n",
        "  ```\n",
        "\n",
        "  ### Ejemplo\n",
        "\n",
        "  Introducir 5 número e indicar si se ha introducido algún número par."
      ]
    },
    {
      "cell_type": "code",
      "execution_count": null,
      "metadata": {
        "id": "Lyw9kMTQ-qHy"
      },
      "outputs": [],
      "source": [
        "indicador  =  False\n",
        "for var in range(1,6):\n",
        "    num = int(input(\"Dime un número:\"))\n",
        "    if num % 2 == 0:\n",
        "        indicador  = True\n",
        "if indicador:\n",
        "    print(\"Has introducido algún número par\")\n",
        "else:\n",
        "    print(\"No has introducido algún número par\")"
      ]
    }
  ],
  "metadata": {
    "colab": {
      "provenance": []
    },
    "kernelspec": {
      "display_name": "Python 3",
      "name": "python3"
    },
    "language_info": {
      "codemirror_mode": {
        "name": "ipython",
        "version": 3
      },
      "file_extension": ".py",
      "mimetype": "text/x-python",
      "name": "python",
      "nbconvert_exporter": "python",
      "pygments_lexer": "ipython3",
      "version": "3.11.6"
    }
  },
  "nbformat": 4,
  "nbformat_minor": 0
}
