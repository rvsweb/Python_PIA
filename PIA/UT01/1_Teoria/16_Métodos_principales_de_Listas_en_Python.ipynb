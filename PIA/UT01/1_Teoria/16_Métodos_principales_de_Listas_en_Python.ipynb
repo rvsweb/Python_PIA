{
  "nbformat": 4,
  "nbformat_minor": 0,
  "metadata": {
    "colab": {
      "provenance": []
    },
    "kernelspec": {
      "name": "python3",
      "display_name": "Python 3"
    },
    "language_info": {
      "name": "python"
    }
  },
  "cells": [
    {
      "cell_type": "markdown",
      "source": [
        "# Métodos de inserción: append, extend, insert\n",
        "\n",
        "* **append()**: añade un elemento a la lista:"
      ],
      "metadata": {
        "id": "Accv8mAE1oP3"
      }
    },
    {
      "cell_type": "code",
      "source": [
        "lista = [1,2,3]\n",
        "\n",
        "lista.append(4)\n",
        "\n",
        "print(lista)"
      ],
      "metadata": {
        "colab": {
          "base_uri": "https://localhost:8080/"
        },
        "id": "TVFKg2PvwDyZ",
        "outputId": "cd5a5a43-a83d-4ad7-fa48-f4485b3c9716"
      },
      "execution_count": null,
      "outputs": [
        {
          "output_type": "stream",
          "name": "stdout",
          "text": [
            "[1, 2, 3, 4]\n"
          ]
        }
      ]
    },
    {
      "cell_type": "markdown",
      "source": [
        "* **extend()**: Une dos listas:"
      ],
      "metadata": {
        "id": "4LsLa2rotalG"
      }
    },
    {
      "cell_type": "code",
      "source": [
        "lista2 = [6,7,8]\n",
        "\n",
        "lista.extend(lista2)\n",
        "\n",
        "print(lista)\n",
        "print(lista2)\n",
        "\n",
        "lista = lista + lista2 # Esto también vale\n",
        "\n",
        "print(lista)"
      ],
      "metadata": {
        "colab": {
          "base_uri": "https://localhost:8080/"
        },
        "id": "0fgpO1r8wxAQ",
        "outputId": "ab3397a8-6d3d-40ca-bf86-f0bb21063d2a"
      },
      "execution_count": null,
      "outputs": [
        {
          "output_type": "stream",
          "name": "stdout",
          "text": [
            "[1, 2, 3, 4, 6, 7, 8]\n",
            "[6, 7, 8]\n",
            "[1, 2, 3, 4, 6, 7, 8, 6, 7, 8]\n"
          ]
        }
      ]
    },
    {
      "cell_type": "markdown",
      "source": [
        "* **insert()**: Añade un elemento en un posición indicada de la lista:"
      ],
      "metadata": {
        "id": "kAi1Ieqvtsjd"
      }
    },
    {
      "cell_type": "code",
      "execution_count": null,
      "metadata": {
        "id": "-bXEUIiH1jnR",
        "colab": {
          "base_uri": "https://localhost:8080/"
        },
        "outputId": "21e1f5f5-b037-4bfa-be06-507621e19ab5"
      },
      "outputs": [
        {
          "output_type": "stream",
          "name": "stdout",
          "text": [
            "[1, 500, 2, 3, 4, 6, 7, 8, 6, 7, 8]\n"
          ]
        }
      ],
      "source": [
        "lista.insert(1, 500)\n",
        "\n",
        "print(lista)"
      ]
    },
    {
      "cell_type": "markdown",
      "source": [
        "# Métodos de eliminación: pop, remove\n",
        "\n",
        "* **pop()**: elimina un elemento de la lista y lo devuelve. Se puede indicar el índice del elemento que queremos obtener como parámetro, sino se indica se devuelve y elimina el último:"
      ],
      "metadata": {
        "id": "mHLjmvznubM5"
      }
    },
    {
      "cell_type": "code",
      "source": [
        "lista.pop()\n",
        "\n",
        "print(lista)\n",
        "\n",
        "lista.pop(2)\n",
        "\n",
        "print(lista)"
      ],
      "metadata": {
        "colab": {
          "base_uri": "https://localhost:8080/"
        },
        "id": "cL53b6I3ufxk",
        "outputId": "6fe5655c-e3fb-4195-b5fc-b20c9f51637a"
      },
      "execution_count": null,
      "outputs": [
        {
          "output_type": "stream",
          "name": "stdout",
          "text": [
            "[1, 500, 2, 3, 4, 6, 7]\n",
            "[1, 500, 3, 4, 6, 7]\n"
          ]
        }
      ]
    },
    {
      "cell_type": "markdown",
      "source": [
        "* **remove()**: Elimina el elemento de la lista indicado por la posición:"
      ],
      "metadata": {
        "id": "AY-MaGSIuukv"
      }
    },
    {
      "cell_type": "code",
      "source": [
        "lista.remove(3)\n",
        "\n",
        "print(lista)"
      ],
      "metadata": {
        "id": "Jx4P1r8xu5Dc",
        "colab": {
          "base_uri": "https://localhost:8080/"
        },
        "outputId": "bce3b5d4-2d03-4fff-ca3f-edb1929953db"
      },
      "execution_count": null,
      "outputs": [
        {
          "output_type": "stream",
          "name": "stdout",
          "text": [
            "[1, 500, 2, 4, 6, 7, 8, 6, 7, 8]\n"
          ]
        }
      ]
    },
    {
      "cell_type": "markdown",
      "source": [
        "\n",
        "# Métodos de ordenación: reverse y sort\n",
        "\n",
        "* **reverse()**: Modifica la lista invirtiendo los elementos:"
      ],
      "metadata": {
        "id": "y9XT-inuvLfU"
      }
    },
    {
      "cell_type": "code",
      "source": [
        "print(lista)\n",
        "\n",
        "lista.reverse()\n",
        "\n",
        "print(lista)"
      ],
      "metadata": {
        "colab": {
          "base_uri": "https://localhost:8080/"
        },
        "id": "0S5hIsjLvauv",
        "outputId": "a72af884-d22a-4744-e677-9bbcbf2fe587"
      },
      "execution_count": null,
      "outputs": [
        {
          "output_type": "stream",
          "name": "stdout",
          "text": [
            "[1, 500, 4, 6, 7]\n",
            "[7, 6, 4, 500, 1]\n"
          ]
        }
      ]
    },
    {
      "cell_type": "markdown",
      "source": [
        "* **sort()**: Modifica la lista ordenando los elementos, se puede indicar el sentido de la ordenación:"
      ],
      "metadata": {
        "id": "ByqJIEbm_NUn"
      }
    },
    {
      "cell_type": "code",
      "source": [
        "lista.sort()\n",
        "\n",
        "print(lista)\n",
        "\n",
        "lista.sort(reverse=True)\n",
        "\n",
        "print(lista)\n",
        "\n",
        "lista = ['hola', 'que', 'tal', 'Hola', 'Que', 'Tal']\n",
        "\n",
        "lista.sort()\n",
        "\n",
        "print(lista)"
      ],
      "metadata": {
        "colab": {
          "base_uri": "https://localhost:8080/"
        },
        "id": "Ah448P-D_SMu",
        "outputId": "6dd8d7e9-6af0-4215-8c46-177abf6b17bc"
      },
      "execution_count": null,
      "outputs": [
        {
          "output_type": "stream",
          "name": "stdout",
          "text": [
            "[1, 4, 6, 7, 500]\n",
            "[500, 7, 6, 4, 1]\n",
            "['Hola', 'Que', 'Tal', 'hola', 'que', 'tal']\n"
          ]
        }
      ]
    },
    {
      "cell_type": "markdown",
      "source": [
        "# Métodos de búsqueda: count, index\n",
        "\n",
        "* **count()**: devuelve el número de apariciones de un elemento en la lista:"
      ],
      "metadata": {
        "id": "uu_LcZy2_qWZ"
      }
    },
    {
      "cell_type": "code",
      "source": [
        "lista = [1,5,2,3,4,5]\n",
        "\n",
        "lista.count(5)"
      ],
      "metadata": {
        "colab": {
          "base_uri": "https://localhost:8080/"
        },
        "id": "Wxcc5Rgg_wSb",
        "outputId": "dc9f36c2-3269-4f92-ddd5-e301efa5d199"
      },
      "execution_count": null,
      "outputs": [
        {
          "output_type": "execute_result",
          "data": {
            "text/plain": [
              "2"
            ]
          },
          "metadata": {},
          "execution_count": 6
        }
      ]
    },
    {
      "cell_type": "markdown",
      "source": [
        "* **index()**: Nos devuelve la posición de la primera aparición del elemento indicado. Se puede indicar la posición inicial y final de búsqueda:"
      ],
      "metadata": {
        "id": "bmXCky7cALIq"
      }
    },
    {
      "cell_type": "code",
      "source": [
        "#lista.insert(0, 5)\n",
        "\n",
        "print(lista)\n",
        "\n",
        "print(lista.index(5))\n",
        "\n",
        "print(lista.index(5,5))\n",
        "\n"
      ],
      "metadata": {
        "colab": {
          "base_uri": "https://localhost:8080/"
        },
        "id": "vzyychlyAPnQ",
        "outputId": "440646d1-ab49-4ab1-a43f-099054888d1c"
      },
      "execution_count": null,
      "outputs": [
        {
          "output_type": "stream",
          "name": "stdout",
          "text": [
            "[5, 5, 5, 1, 5, 2, 3, 4, 5]\n",
            "0\n",
            "8\n"
          ]
        }
      ]
    },
    {
      "cell_type": "markdown",
      "source": [
        "Si no encuentra el elemento nos da una **excepción**."
      ],
      "metadata": {
        "id": "6QaYHOZWA47_"
      }
    },
    {
      "cell_type": "code",
      "source": [
        "print(lista.index(5,1,4))"
      ],
      "metadata": {
        "colab": {
          "base_uri": "https://localhost:8080/",
          "height": 181
        },
        "id": "bq1jSKo3A9ZR",
        "outputId": "16ea966d-3493-4537-dfc0-587003291b3d"
      },
      "execution_count": null,
      "outputs": [
        {
          "output_type": "error",
          "ename": "ValueError",
          "evalue": "ignored",
          "traceback": [
            "\u001b[0;31m---------------------------------------------------------------------------\u001b[0m",
            "\u001b[0;31mValueError\u001b[0m                                Traceback (most recent call last)",
            "\u001b[0;32m<ipython-input-23-b4a1cf77d0b8>\u001b[0m in \u001b[0;36m<cell line: 1>\u001b[0;34m()\u001b[0m\n\u001b[0;32m----> 1\u001b[0;31m \u001b[0mprint\u001b[0m\u001b[0;34m(\u001b[0m\u001b[0mlista\u001b[0m\u001b[0;34m.\u001b[0m\u001b[0mindex\u001b[0m\u001b[0;34m(\u001b[0m\u001b[0;36m5\u001b[0m\u001b[0;34m,\u001b[0m\u001b[0;36m1\u001b[0m\u001b[0;34m,\u001b[0m\u001b[0;36m4\u001b[0m\u001b[0;34m)\u001b[0m\u001b[0;34m)\u001b[0m\u001b[0;34m\u001b[0m\u001b[0;34m\u001b[0m\u001b[0m\n\u001b[0m",
            "\u001b[0;31mValueError\u001b[0m: 5 is not in list"
          ]
        }
      ]
    }
  ]
}