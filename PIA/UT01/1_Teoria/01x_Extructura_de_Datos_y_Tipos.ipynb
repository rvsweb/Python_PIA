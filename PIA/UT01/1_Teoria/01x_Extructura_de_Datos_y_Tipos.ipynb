{
  "cells": [
    {
      "cell_type": "markdown",
      "metadata": {
        "id": "PaQOPX2RDbKx"
      },
      "source": [
        "## **Estructura de Datos**\n",
        "\n",
        "### Datos y Tipos de Datos\n",
        "\n",
        "En Python tenemos varios tipos de datos, veamos los principales\n",
        "\n",
        "#### Literales, variables y expresiones\n",
        "\n",
        "##### Literales\n",
        "\n",
        "* Literales enteros: 3, 12, -23\n",
        "* Literales reales: 12.3, 44.7 (Usando el punto decimal)\n",
        "* Literales cadenas: 'Hola que tal', \"Muy bien\", '''Que tal si nos \\n escapamos a la playa? ''' (Podemos usar comillas simples, dobles y triples -> múltiples líneas)\n",
        "\n",
        "##### Variables\n",
        "\n",
        "Ya sabemos que Python es un Lenguaje de programación no tipado, quiere decir que para definir una variable no es necesario indicar que tipo de dato va a almacenar y automáticamente tomará el tipo del valor que le hayamos asignado, además esa variable puede cambiar su tipo durante la ejecución del programa (aunque esto no es una buena práctica)\n",
        "\n",
        "Ejemplo: my_var = 5"
      ]
    },
    {
      "cell_type": "code",
      "execution_count": null,
      "metadata": {
        "colab": {
          "base_uri": "https://localhost:8080/"
        },
        "id": "vD_6h4LHDZsi",
        "outputId": "85febff8-2843-47eb-935f-44f1c97df0b2"
      },
      "outputs": [
        {
          "name": "stdout",
          "output_type": "stream",
          "text": [
            "5\n"
          ]
        }
      ],
      "source": [
        "my_var = 5\n",
        "\n",
        "print(my_var)"
      ]
    },
    {
      "cell_type": "markdown",
      "metadata": {
        "id": "NQ1gk1GJJA3P"
      },
      "source": [
        "##### Expresiones\n",
        "\n",
        "Son operaciones entre literales, constantes o variables de distinto tipo, por ejemplo:\n",
        "\n",
        "a + 7 => suma entre una variable y un valor numérico\n",
        "\n",
        "(a ** 2) + b => potencia de 2 de la variable a y al resultado se le suma el valor de la variable b"
      ]
    },
    {
      "cell_type": "code",
      "execution_count": null,
      "metadata": {
        "colab": {
          "base_uri": "https://localhost:8080/"
        },
        "id": "aJ8b1Jds3MUf",
        "outputId": "64d4a43a-bb5a-49c5-bd43-bc5d547ff1ac"
      },
      "outputs": [
        {
          "name": "stdout",
          "output_type": "stream",
          "text": [
            "37\n",
            "905\n"
          ]
        }
      ],
      "source": [
        "a = 30\n",
        "b = 5\n",
        "\n",
        "print(a + 7)\n",
        "\n",
        "print ((a ** 2) + b)"
      ]
    },
    {
      "cell_type": "markdown",
      "metadata": {
        "id": "of-WvInb4Esc"
      },
      "source": [
        "##### Operadores\n",
        "\n",
        "* Operadores aritméticos:\n",
        "    * Suma +\n",
        "    * Resta -\n",
        "    * Multiplicación *\n",
        "    * División /\n",
        "    * División Entera //\n",
        "    * Módulo % (resto de la división)\n",
        "    * Potencia **\n",
        "\n",
        "* Operadores de cadenas:\n",
        "    * Concatenación +\n",
        "    * Repetir cadena *\n",
        "\n",
        "* Operadores de Asignación: =\n",
        "\n",
        "* Operadores de comparación: ==, !=, >=, >, <=, <\n",
        "\n",
        "* Operadores Lógicos: and, or, not\n",
        "\n",
        "* Operadores de pertenencia: in, not in"
      ]
    },
    {
      "cell_type": "markdown",
      "metadata": {
        "id": "AVjwKlJN7y3y"
      },
      "source": [
        "#### Precedencia de Operadores\n",
        "\n",
        "1. Los paréntesis rompen la precedencia.\n",
        "2. La potencia (**)\n",
        "3. Operadores unarios (+ -)\n",
        "4. Multiplicar, dividir, módulo y división entera (* % // )\n",
        "5. Suma y resta (+ -)\n",
        "6. Operador binario AND (&)\n",
        "7. Operadores binario OR y XOR (^ |)\n",
        "8. Operadores de comparación (<= < > >=)\n",
        "9. Operadores de igualdad (<> == !=)\n",
        "10. Operadores de asignación (=)\n",
        "11. Operadores de pertenencia (in, in not)\n",
        "12. Operadores lógicos (not, or, and)"
      ]
    },
    {
      "cell_type": "code",
      "execution_count": 7,
      "metadata": {},
      "outputs": [
        {
          "name": "stdout",
          "output_type": "stream",
          "text": [
            "True\n",
            "False\n",
            "False\n",
            "True\n",
            "True\n",
            "False\n",
            "False\n",
            "True\n"
          ]
        }
      ],
      "source": [
        "# Operadores de pertenencia\n",
        "\n",
        "lista = [1 , 2 , 3 , 4 , 5 ]\n",
        "\n",
        "# Si existe\n",
        "print(3 in lista)\n",
        "print(3 not in lista)\n",
        "\n",
        "# No existe\n",
        "print(6 in lista)\n",
        "print(6  not in lista)\n",
        "\n",
        "cadena = \"Hola Mundo\"\n",
        "\n",
        "# Si existe\n",
        "print(\"Mundo\" in cadena)\n",
        "print(\"Mundo\" not in cadena)\n",
        "\n",
        "# No existe\n",
        "print(\"Adios\" in cadena)\n",
        "print(\"Adios\" not in cadena)\n"
      ]
    },
    {
      "cell_type": "code",
      "execution_count": null,
      "metadata": {},
      "outputs": [
        {
          "name": "stdout",
          "output_type": "stream",
          "text": [
            "True\n",
            "False\n",
            "False\n",
            "True\n",
            "True\n",
            "False\n",
            "False\n",
            "True\n"
          ]
        }
      ],
      "source": [
        "# Operadores de pertenencia\n",
        "\n",
        "lista = [1 , 2 , 3 , 4 , 5 ]\n",
        "\n",
        "# Si existe\n",
        "print(3 in lista)\n",
        "print(3 not in lista)\n",
        "\n",
        "# No existe\n",
        "print(6 in lista)\n",
        "print(6  not in lista)\n",
        "\n",
        "cadena = \"Hola Mundo\"\n",
        "\n",
        "# Si existe\n",
        "print(\"Mundo\" in cadena)\n",
        "print(\"Mundo\" not in cadena)\n",
        "\n",
        "# No existe\n",
        "print(\"Adios\" in cadena)\n",
        "print(\"Adios\" not in cadena)\n"
      ]
    },
    {
      "cell_type": "code",
      "execution_count": null,
      "metadata": {},
      "outputs": [
        {
          "name": "stdout",
          "output_type": "stream",
          "text": [
            "True\n",
            "False\n",
            "False\n",
            "True\n",
            "True\n",
            "False\n",
            "False\n",
            "True\n"
          ]
        }
      ],
      "source": [
        "# Operadores de pertenencia\n",
        "\n",
        "lista = [1 , 2 , 3 , 4 , 5 ]\n",
        "\n",
        "# Si existe\n",
        "print(3 in lista)\n",
        "print(3 not in lista)\n",
        "\n",
        "# No existe\n",
        "print(6 in lista)\n",
        "print(6  not in lista)\n",
        "\n",
        "cadena = \"Hola Mundo\"\n",
        "\n",
        "# Si existe\n",
        "print(\"Mundo\" in cadena)\n",
        "print(\"Mundo\" not in cadena)\n",
        "\n",
        "# No existe\n",
        "print(\"Adios\" in cadena)\n",
        "print(\"Adios\" not in cadena)\n"
      ]
    },
    {
      "cell_type": "markdown",
      "metadata": {
        "id": "vApEehJn76pp"
      },
      "source": [
        "#### Tipos de datos\n",
        "\n",
        "* Tipos númericos\n",
        "    * Tipo entero (int)\n",
        "    * Tipo real (float)\n",
        "* Tipos booleanos (bool)\n",
        "* Tipo de datos secuencia\n",
        "    * Tipo lista (list)\n",
        "    * Tipo tuplas (tuple)\n",
        "* Tipo de datos cadenas de caracteres\n",
        "    * Tipo cadena (str)\n",
        "* Tipo de datos mapas o diccionario (dict)"
      ]
    },
    {
      "cell_type": "code",
      "execution_count": null,
      "metadata": {
        "colab": {
          "base_uri": "https://localhost:8080/"
        },
        "id": "yB5Sf_jf8RV-",
        "outputId": "a2d9d019-8258-4e99-f092-757f42669d3d"
      },
      "outputs": [
        {
          "name": "stdout",
          "output_type": "stream",
          "text": [
            "<class 'int'>\n",
            "<class 'float'>\n",
            "<class 'list'>\n",
            "<class 'bool'>\n",
            "<class 'str'>\n",
            "<class 'type'>\n"
          ]
        }
      ],
      "source": [
        "print(type(5))\n",
        "\n",
        "print(type(5.5))\n",
        "\n",
        "print(type([1,2]))\n",
        "\n",
        "resultado = True\n",
        "\n",
        "print(type(resultado))\n",
        "\n",
        "string = \"Hola soy una cadena de caracteres\"\n",
        "\n",
        "print(type(string))\n",
        "\n",
        "print(type(int))\n"
      ]
    },
    {
      "cell_type": "markdown",
      "metadata": {},
      "source": [
        "# Listas\n",
        "\n",
        "* Una lista en Python es una colecciön ordenada y modificable de elementos. \n",
        "\n",
        "* Los elementos pueden ser de cualquier tipo (nümeros, cadenas, otras listas, etc.) y se pueden agregar, eliminar o cambiar elementos despuss de que la lista ha sido creada.\n",
        "\n"
      ]
    },
    {
      "cell_type": "code",
      "execution_count": 1,
      "metadata": {},
      "outputs": [],
      "source": [
        "lista = [ 1 , 2 , 3 , 4 , 5 ]\n",
        "lista.append(6)\n",
        "lista[0] = 0\n",
        "del lista[1]"
      ]
    },
    {
      "cell_type": "markdown",
      "metadata": {},
      "source": [
        "## Tuplas\n",
        "\n",
        "* Similar a una lista pero inmutable (``Una vez se crea una tupla , No se puede cambiar``)"
      ]
    },
    {
      "cell_type": "code",
      "execution_count": 3,
      "metadata": {},
      "outputs": [
        {
          "name": "stdout",
          "output_type": "stream",
          "text": [
            "1\n"
          ]
        }
      ],
      "source": [
        "tupla = (1 , 2 , 3 )\n",
        "print(tupla[0])"
      ]
    },
    {
      "cell_type": "markdown",
      "metadata": {},
      "source": [
        "## Conjuntos\n",
        "\n",
        "* Es una colección no ordenada de elemenos únicos\n",
        "\n",
        "* Los conjuntos son útiles cuando quieres eliminar duplicados o comprobar si un elemento pertenece a la colección"
      ]
    },
    {
      "cell_type": "code",
      "execution_count": 4,
      "metadata": {},
      "outputs": [
        {
          "name": "stdout",
          "output_type": "stream",
          "text": [
            "True\n"
          ]
        }
      ],
      "source": [
        "# Crear un conjunto ( el duplicado se elimina )\n",
        "conjunto = { 1 , 2 , 3 }\n",
        "# Agrega un elemento\n",
        "conjunto.add(4)\n",
        "# Comprobar si un elemento está en el conjunto ( devuelve True)\n",
        "print(1 in conjunto)"
      ]
    },
    {
      "cell_type": "markdown",
      "metadata": {},
      "source": [
        "## Diccionarios\n",
        "\n",
        "* Un ``diccionario`` es una **colección** ``no ordenada de pares`` **clave-valor**\n",
        "\n",
        "* Las ``claves`` deben de ser ``únicas`` y los ``valores`` pueden ser de **cualquier tipo de dato**"
      ]
    },
    {
      "cell_type": "code",
      "execution_count": 9,
      "metadata": {},
      "outputs": [
        {
          "name": "stdout",
          "output_type": "stream",
          "text": [
            "1\n"
          ]
        }
      ],
      "source": [
        "# Crear el diccionario\n",
        "diccionario = {\"manzana\" : 1 , \"banana\" : 2 }\n",
        "\n",
        "# Agregar un par de clave-valor\n",
        "diccionario[\"cereza\"] = 3\n",
        "\n",
        "# Acceder al valor asociado a una clave\n",
        "print(diccionario[\"manzana\"])"
      ]
    }
  ],
  "metadata": {
    "colab": {
      "provenance": []
    },
    "kernelspec": {
      "display_name": "Python 3",
      "name": "python3"
    },
    "language_info": {
      "codemirror_mode": {
        "name": "ipython",
        "version": 3
      },
      "file_extension": ".py",
      "mimetype": "text/x-python",
      "name": "python",
      "nbconvert_exporter": "python",
      "pygments_lexer": "ipython3",
      "version": "3.11.6"
    }
  },
  "nbformat": 4,
  "nbformat_minor": 0
}
