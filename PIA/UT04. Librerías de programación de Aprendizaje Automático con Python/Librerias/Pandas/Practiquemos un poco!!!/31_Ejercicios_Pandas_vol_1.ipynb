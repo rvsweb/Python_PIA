{
  "cells": [
    {
      "cell_type": "markdown",
      "metadata": {
        "id": "1_tVFSfBNciO"
      },
      "source": [
        "# Ejercicios Pandas Vol 1."
      ]
    },
    {
      "cell_type": "markdown",
      "metadata": {
        "id": "VxuUG_p4e57d"
      },
      "source": [
        "Tras hacer tus propias pruebas con la teoría de Pandas, completa los siguientes ejercicios en orden:"
      ]
    },
    {
      "cell_type": "markdown",
      "metadata": {
        "id": "no2XCQiLfFdd"
      },
      "source": [
        "---\n",
        "## Ejercicio 1"
      ]
    },
    {
      "cell_type": "markdown",
      "metadata": {
        "id": "68dqg3OefH2O"
      },
      "source": [
        "Al igual que con NumPy, tendrás que importar las librerías necesarias para poder trabajar:\n",
        "\n",
        "1.   Elemento de lista\n",
        "2.   Elemento de lista\n",
        "\n"
      ]
    },
    {
      "cell_type": "code",
      "execution_count": 1,
      "metadata": {
        "id": "XaNbjqZmfIGW"
      },
      "outputs": [
        {
          "ename": "ModuleNotFoundError",
          "evalue": "No module named 'numpy'",
          "output_type": "error",
          "traceback": [
            "\u001b[1;31m---------------------------------------------------------------------------\u001b[0m",
            "\u001b[1;31mModuleNotFoundError\u001b[0m                       Traceback (most recent call last)",
            "\u001b[1;32md:\\Otros ordenadores\\Mi PC\\CURSO BD & IA\\Python_PIA2\\Python_PIA\\PIA\\UT04. Librerías de programación de Aprendizaje Automático con Python\\Librerias\\Pandas\\Ejecicios\\31_Ejercicios_Pandas_vol_1.ipynb Celda 5\u001b[0m line \u001b[0;36m1\n\u001b[1;32m----> <a href='vscode-notebook-cell:/d%3A/Otros%20ordenadores/Mi%20PC/CURSO%20BD%20%26%20IA/Python_PIA2/Python_PIA/PIA/UT04.%20Librer%C3%ADas%20de%20programaci%C3%B3n%20de%20Aprendizaje%20Autom%C3%A1tico%20con%20Python/Librerias/Pandas/Ejecicios/31_Ejercicios_Pandas_vol_1.ipynb#W4sZmlsZQ%3D%3D?line=0'>1</a>\u001b[0m \u001b[39mimport\u001b[39;00m \u001b[39mnumpy\u001b[39;00m \u001b[39mas\u001b[39;00m \u001b[39mnp\u001b[39;00m\n\u001b[0;32m      <a href='vscode-notebook-cell:/d%3A/Otros%20ordenadores/Mi%20PC/CURSO%20BD%20%26%20IA/Python_PIA2/Python_PIA/PIA/UT04.%20Librer%C3%ADas%20de%20programaci%C3%B3n%20de%20Aprendizaje%20Autom%C3%A1tico%20con%20Python/Librerias/Pandas/Ejecicios/31_Ejercicios_Pandas_vol_1.ipynb#W4sZmlsZQ%3D%3D?line=2'>3</a>\u001b[0m \u001b[39mimport\u001b[39;00m \u001b[39mpandas\u001b[39;00m \u001b[39mas\u001b[39;00m \u001b[39mpd\u001b[39;00m\n\u001b[0;32m      <a href='vscode-notebook-cell:/d%3A/Otros%20ordenadores/Mi%20PC/CURSO%20BD%20%26%20IA/Python_PIA2/Python_PIA/PIA/UT04.%20Librer%C3%ADas%20de%20programaci%C3%B3n%20de%20Aprendizaje%20Autom%C3%A1tico%20con%20Python/Librerias/Pandas/Ejecicios/31_Ejercicios_Pandas_vol_1.ipynb#W4sZmlsZQ%3D%3D?line=4'>5</a>\u001b[0m \u001b[39m# Crear la primera serie\u001b[39;00m\n",
            "\u001b[1;31mModuleNotFoundError\u001b[0m: No module named 'numpy'"
          ]
        }
      ],
      "source": [
        "import numpy as np\n",
        "\n",
        "import pandas as pd\n",
        "\n",
        "# Crear la primera serie\n",
        "serie1 = pd.Series([1, 2, 3, 4, 5])\n",
        "print(\"Primera serie:\")\n",
        "print(serie1)\n",
        "\n",
        "# Crear la segunda serie\n",
        "serie2 = pd.Series(['a', 'b', 'c', 'd', 'e'])\n",
        "print(\"\\nSegunda serie:\")\n",
        "print(serie2)"
      ]
    },
    {
      "cell_type": "markdown",
      "metadata": {
        "id": "1DbbyDP8fIwt"
      },
      "source": [
        "---\n",
        "## Ejercicio 2"
      ]
    },
    {
      "cell_type": "markdown",
      "metadata": {
        "id": "dwnu3mgHfKZR"
      },
      "source": [
        "Crea una serie a partir de un diccionario con al menos 3 elementos. Muestra por pantalla la serie:"
      ]
    },
    {
      "cell_type": "code",
      "execution_count": null,
      "metadata": {
        "id": "ut0CenZ2fKlL"
      },
      "outputs": [],
      "source": [
        "# Crear un diccionario\n",
        "mi_diccionario = {'a': 1, 'b': 2, 'c': 3}\n",
        "\n",
        "# Crear una serie a partir del diccionario\n",
        "mi_serie = pd.Series(mi_diccionario)\n",
        "\n",
        "# Mostrar la serie\n",
        "print(mi_serie)"
      ]
    },
    {
      "cell_type": "markdown",
      "metadata": {
        "id": "N1U6BRkIfKyd"
      },
      "source": [
        "---\n",
        "## Ejercicio 3"
      ]
    },
    {
      "cell_type": "markdown",
      "metadata": {
        "id": "CHfJkoEIhHKp"
      },
      "source": [
        "Crea una matriz de NumPy con al menos 3 filas y 3 columnas. A partir de esta, crea un dataframe, teniendo en cuenta que la primera fila serán los nombres de las columnas y la primera columna los índices de las filas. Muestra el DataFrame por pantalla:"
      ]
    },
    {
      "cell_type": "code",
      "execution_count": null,
      "metadata": {
        "id": "p7Y0PVsFfLbu"
      },
      "outputs": [],
      "source": [
        "import pandas as pd\n",
        "\n",
        "# Crear una matriz de numpy con al menos 3 filas y 3 columnas\n",
        "matriz = np.array([['', 'col1', 'col2', 'col3'],\n",
        "                   ['fila1', 1, 2, 3],\n",
        "                   ['fila2', 4, 5, 6],\n",
        "                   ['fila3', 7, 8, 9]])\n",
        "\n",
        "# Crear un dataframe a partir de la matriz\n",
        "df = pd.DataFrame(data=matriz[1:,1:],\n",
        "                  index=matriz[1:,0],\n",
        "                  columns=matriz[0,1:])\n",
        "\n",
        "# Mostrar el dataframe\n",
        "print(df)\n"
      ]
    },
    {
      "cell_type": "markdown",
      "metadata": {
        "id": "HRyyXIHZfLnk"
      },
      "source": [
        "---\n",
        "## Ejercicio 4"
      ]
    },
    {
      "cell_type": "markdown",
      "metadata": {
        "id": "id8NOuK4fMY7"
      },
      "source": [
        "Crea una matriz 10x5 de números enteros comprendidos entre el 0 y el 9 con Numpy. Después, crea un DataFrame a partir de esta sin indicar columnas ni índice para las filas y muestralo por pantalla:"
      ]
    },
    {
      "cell_type": "code",
      "execution_count": null,
      "metadata": {
        "id": "FFPby3q4fMjv"
      },
      "outputs": [],
      "source": []
    },
    {
      "cell_type": "markdown",
      "metadata": {
        "id": "hA03mDyhfMv9"
      },
      "source": [
        "---\n",
        "## Ejercicio 5"
      ]
    },
    {
      "cell_type": "markdown",
      "metadata": {
        "id": "sqWITlIKfO3K"
      },
      "source": [
        "Del DataFrame creado en el ejercicio anterior, muestra su forma, índice, número de filas, media por columnas, valores máximos y mínimos por columnas, mediana por columnas y la desviación típica por columnas:"
      ]
    },
    {
      "cell_type": "code",
      "execution_count": null,
      "metadata": {
        "id": "BaSO6O43fPQG"
      },
      "outputs": [],
      "source": []
    },
    {
      "cell_type": "markdown",
      "metadata": {
        "id": "dHaTuCZIfPeP"
      },
      "source": [
        "---\n",
        "## Ejercicio 6"
      ]
    },
    {
      "cell_type": "markdown",
      "metadata": {
        "id": "YWsa2kQkfQiz"
      },
      "source": [
        "Crea un DataFrame a partir de una matriz con valores definidos por tí. Estos valores deberán incluir valores nulos. Luego muestra la cantidad de valores nulos por pantalla y modifica los valores nulos por la media que tenga dicha columna sin incluir los nulos. Muestra el resultado por pantalla:"
      ]
    },
    {
      "cell_type": "code",
      "execution_count": null,
      "metadata": {
        "id": "V-3cunAXfQvm"
      },
      "outputs": [],
      "source": []
    },
    {
      "cell_type": "markdown",
      "metadata": {
        "id": "EV1ZJwU9fQ7a"
      },
      "source": [
        "---\n",
        "## Ejercicio 7"
      ]
    },
    {
      "cell_type": "markdown",
      "metadata": {
        "id": "4F-EBYAYfRxQ"
      },
      "source": [
        "Importa en DataFrames distintos, al menos los datos de un CSV y un JSON contenidos en el fichero comprimido \"02-Pandas_ficheros.zip\". Muestra por pantalla la descripción básica de los datos de cada una de ellas:"
      ]
    },
    {
      "cell_type": "code",
      "execution_count": null,
      "metadata": {
        "id": "Z6OwSjj3fSCG"
      },
      "outputs": [],
      "source": []
    },
    {
      "cell_type": "markdown",
      "metadata": {
        "id": "bZxKvry8fSVa"
      },
      "source": [
        "---\n",
        "## Ejercicio 8"
      ]
    },
    {
      "cell_type": "markdown",
      "metadata": {
        "id": "bfrAjupwfS8U"
      },
      "source": [
        "Crea una matriz aleatoria 100x3 de números comprendidos entre el 0 y el 1 con Numpy. Exportala tanto a un fichero CSV como a un fichero JSON y comprueba el resultado abriendo dichos ficheros:"
      ]
    },
    {
      "cell_type": "code",
      "execution_count": null,
      "metadata": {
        "id": "y72zbKAefTM5"
      },
      "outputs": [],
      "source": []
    },
    {
      "cell_type": "markdown",
      "metadata": {
        "id": "D_aVLrUnfTeH"
      },
      "source": [
        "---\n",
        "## Ejercicio 9"
      ]
    },
    {
      "cell_type": "markdown",
      "metadata": {
        "id": "uyWFLw3PfUTe"
      },
      "source": [
        "Investiga qué es la correlación entre columnas. Cuando lo hayas entendido, crea una matriz 10x3 con datos manuales que entre la primera y segunda columna de una correlación de 1 en ambos sentidos. Muestra la matriz y su correlación entre columnas por pantalla:"
      ]
    },
    {
      "cell_type": "code",
      "execution_count": null,
      "metadata": {
        "id": "RKiyYicSfUjh"
      },
      "outputs": [],
      "source": []
    }
  ],
  "metadata": {
    "colab": {
      "provenance": []
    },
    "kernelspec": {
      "display_name": "Python 3",
      "name": "python3"
    },
    "language_info": {
      "codemirror_mode": {
        "name": "ipython",
        "version": 3
      },
      "file_extension": ".py",
      "mimetype": "text/x-python",
      "name": "python",
      "nbconvert_exporter": "python",
      "pygments_lexer": "ipython3",
      "version": "3.11.6"
    }
  },
  "nbformat": 4,
  "nbformat_minor": 0
}
