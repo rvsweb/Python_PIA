{
  "cells": [
    {
      "cell_type": "markdown",
      "metadata": {
        "id": "LXgzv1V5lPXi"
      },
      "source": [
        "# Ejercicios NumPy"
      ]
    },
    {
      "cell_type": "markdown",
      "metadata": {
        "id": "dA5cYe7AlShE"
      },
      "source": [
        "Tras hacer tus propias pruebas con la teoría de NumPy, completa los siguientes ejercicios en orden"
      ]
    },
    {
      "cell_type": "markdown",
      "metadata": {
        "id": "ADfp2pApl4BF"
      },
      "source": [
        "---\n",
        "## Ejercicio 1"
      ]
    },
    {
      "cell_type": "markdown",
      "metadata": {
        "id": "KXZZO1zol8Qo"
      },
      "source": [
        "Antes de empezar a trabajar de verdad, tendrás que importar la librería de NumPy para poder trabajar con ella:"
      ]
    },
    {
      "cell_type": "code",
      "execution_count": null,
      "metadata": {
        "id": "KZOgslZVl9OD"
      },
      "outputs": [],
      "source": [
        "import numpy as np\n",
        "\n",
        "print(np.__version__)\n",
        "\n"
      ]
    },
    {
      "cell_type": "markdown",
      "metadata": {
        "id": "4VkL00bgl9ge"
      },
      "source": [
        "---\n",
        "## Ejercicio 2"
      ]
    },
    {
      "cell_type": "markdown",
      "metadata": {
        "id": "BoZhx3JLl-Si"
      },
      "source": [
        "Crea un array de **una dimensión** con los 10 valores que tu quieras y muéstralo por pantalla:"
      ]
    },
    {
      "cell_type": "code",
      "execution_count": null,
      "metadata": {
        "id": "Dy7Unk9Wl-qx"
      },
      "outputs": [],
      "source": [
        "array_1d = np.arange(1,11)\n",
        "print(array_1d)"
      ]
    },
    {
      "cell_type": "markdown",
      "metadata": {
        "id": "6677oBi5l--F"
      },
      "source": [
        "---\n",
        "## Ejercicio 3"
      ]
    },
    {
      "cell_type": "markdown",
      "metadata": {
        "id": "41JYosl8l_wm"
      },
      "source": [
        "Crea un array de distinto nombre al anterior de **dos dimensiones** con los 3x3 valores que tu quieras y muéstrala por pantalla:"
      ]
    },
    {
      "cell_type": "code",
      "execution_count": null,
      "metadata": {
        "id": "5mlfPZf6mABE"
      },
      "outputs": [],
      "source": [
        "array_2d = np.arange(1, 10).reshape(3, 3)\n",
        "print(array_2d)"
      ]
    },
    {
      "cell_type": "markdown",
      "metadata": {
        "id": "eVg9kk42mAX_"
      },
      "source": [
        "---\n",
        "## Ejercicio 4"
      ]
    },
    {
      "cell_type": "markdown",
      "metadata": {
        "id": "pedf75MGmA-I"
      },
      "source": [
        "Crea un array de distinto nombre a los anteriores de **tres dimensiones** con los 2x2x2 valores que tu quieras y muéstrala por pantalla:"
      ]
    },
    {
      "cell_type": "code",
      "execution_count": null,
      "metadata": {
        "id": "N6u9E6i3mBLv"
      },
      "outputs": [],
      "source": [
        "# Crear un array tridimensional\n",
        "mi_array = np.array([[[1, 2], [3, 4]], [[5, 6], [7, 8]]])\n",
        "\n",
        "# Mostrar el array\n",
        "print(mi_array)\n"
      ]
    },
    {
      "cell_type": "markdown",
      "metadata": {
        "id": "NK3e4TpmmBfN"
      },
      "source": [
        "---\n",
        "## Ejercicio 5"
      ]
    },
    {
      "cell_type": "markdown",
      "metadata": {
        "id": "YNcdlYDjmCBY"
      },
      "source": [
        "Muestra las dimensiones, el tamaño y la forma que tienen las tres matrices creadas anteriormente:"
      ]
    },
    {
      "cell_type": "code",
      "execution_count": null,
      "metadata": {
        "id": "kB77aVDhmCN2"
      },
      "outputs": [],
      "source": [
        "# Crear tres matrices\n",
        "matriz1 = np.array([[1, 2], [3, 4]])\n",
        "matriz2 = np.array([[5, 6], [7, 8]])\n",
        "matriz3 = np.array([[[9, 10], [11, 12]], [[13, 14], [15, 16]]])\n",
        "\n",
        "# Mostrar las dimensiones, el tamaño y la forma de las matrices\n",
        "for i, matriz in enumerate([matriz1, matriz2, matriz3], start=1):\n",
        "    print(f\"Matriz{i}:\")\n",
        "    print(f\"Dimensiones: {matriz.ndim}\")\n",
        "    print(f\"Tamaño: {matriz.size}\")\n",
        "    print(f\"Forma: {matriz.shape}\\n\")\n"
      ]
    },
    {
      "cell_type": "markdown",
      "metadata": {
        "id": "dWM-6b0lnBbZ"
      },
      "source": [
        "---\n",
        "## Ejercicio 6"
      ]
    },
    {
      "cell_type": "markdown",
      "metadata": {
        "id": "oowvRvyrnCMy"
      },
      "source": [
        "Crea un array de una dimensión de tipo int8. \n",
        "\n",
        "En una de las posiciones pon el valor 1000. \n",
        "\n",
        "¿Qué ocurre y por qué?\n",
        "\n",
        "*Si creas un array de una dimensión de tipo int8 en Python y tratas de almacenar el valor 1000 en una de las posiciones, obtendrás un comportamiento llamado “desbordamiento de enteros” o “integer overflow”*\n",
        "\n",
        "*Esto se debe a que el tipo int8 puede almacenar valores enteros que van desde -128 hasta 127.*\n",
        "\n",
        "*Cuando intentas almacenar un valor que está fuera de este rango, como 1000, el valor se “desborda” y se almacena como otro valor dentro del rango permitido*"
      ]
    },
    {
      "cell_type": "code",
      "execution_count": null,
      "metadata": {
        "id": "8l_eEmAvnCcL"
      },
      "outputs": [],
      "source": [
        "# Crear un array de una dimensión de tipo int8\n",
        "mi_array = np.array([0], dtype=np.int8)\n",
        "\n",
        "# Intentar almacenar el valor 1000 en una de las posiciones\n",
        "mi_array[0] = 1000\n",
        "\n",
        "# Mostrar el array\n",
        "print(mi_array)"
      ]
    },
    {
      "cell_type": "markdown",
      "metadata": {
        "id": "qV3M-sd0nC26"
      },
      "source": [
        "---\n",
        "## Ejercicio 7"
      ]
    },
    {
      "cell_type": "markdown",
      "metadata": {
        "id": "yYZC-dFOnDmZ"
      },
      "source": [
        "Crea un array de dos dimensiones de tipo float128 y luego muestra su tipo por pantalla:"
      ]
    },
    {
      "cell_type": "code",
      "execution_count": null,
      "metadata": {
        "id": "LkAGxyuFnDwh"
      },
      "outputs": [],
      "source": [
        "# Crear un array de dos dimensiones de tipo float128\n",
        "mi_array = np.array([[1.0, 2.0], [3.0, 4.0]], dtype=np.float128)\n",
        "\n",
        "# Mostrar el tipo del array\n",
        "print(mi_array.dtype)"
      ]
    },
    {
      "cell_type": "markdown",
      "metadata": {
        "id": "OZ3XX41HnEO1"
      },
      "source": [
        "---\n",
        "## Ejercicio 8"
      ]
    },
    {
      "cell_type": "markdown",
      "metadata": {
        "id": "3qBso9AbnE-9"
      },
      "source": [
        "Crea un array con todos los múltiplos de 5 en una sola instrucción y muéstralo por pantalla:"
      ]
    },
    {
      "cell_type": "code",
      "execution_count": null,
      "metadata": {
        "id": "NpShB_oUnFKN"
      },
      "outputs": [],
      "source": [
        "# Crear un array con todos los múltiplos de 5\n",
        "mi_array = np.arange(0, 101, 5)\n",
        "\n",
        "# Mostrar el array\n",
        "print(mi_array)\n"
      ]
    },
    {
      "cell_type": "markdown",
      "metadata": {
        "id": "Z2Ymsre1nFp-"
      },
      "source": [
        "---\n",
        "## Ejercicio 9"
      ]
    },
    {
      "cell_type": "markdown",
      "metadata": {
        "id": "R2LvvpIUnGXJ"
      },
      "source": [
        "Crea un array con 20 valores entre los números 1 y 2. Estos valores deben estar distribuídos de manera equitativa:"
      ]
    },
    {
      "cell_type": "code",
      "execution_count": null,
      "metadata": {
        "id": "ft9_dnY1nGhd"
      },
      "outputs": [],
      "source": [
        "# Crear un array con 20 valores equitativamente distribuidos entre 1 y 2\n",
        "mi_array = np.linspace(1, 2, 20)\n",
        "\n",
        "# Mostrar el array\n",
        "print(mi_array)"
      ]
    },
    {
      "cell_type": "markdown",
      "metadata": {
        "id": "V_2YvVrUnGzO"
      },
      "source": [
        "---\n",
        "## Ejercicio 10"
      ]
    },
    {
      "cell_type": "markdown",
      "metadata": {
        "id": "veIUhoHdnHkC"
      },
      "source": [
        "Crea una matriz de forma 2x3 y muéstrala por pantalla. A continuación cambia su forma a una matriz 3x2"
      ]
    },
    {
      "cell_type": "code",
      "execution_count": null,
      "metadata": {
        "id": "4xmNj-genHwf"
      },
      "outputs": [],
      "source": [
        "# Crear una matriz de forma 2x3\n",
        "mi_matriz = np.array([[1, 2, 3], [4, 5, 6]])\n",
        "print(\"Matriz original de forma 2x3:\")\n",
        "print(mi_matriz)\n",
        "\n",
        "# Cambiar la forma de la matriz a 3x2\n",
        "mi_matriz = mi_matriz.reshape(3, 2)\n",
        "print(\"\\nMatriz después de cambiar su forma a 3x2:\")\n",
        "print(mi_matriz)"
      ]
    },
    {
      "cell_type": "markdown",
      "metadata": {
        "id": "0OKve7lDoPMT"
      },
      "source": [
        "---\n",
        "## Ejercicio 11"
      ]
    },
    {
      "cell_type": "markdown",
      "metadata": {
        "id": "O-WK7p6soR8-"
      },
      "source": [
        "Crea una matriz de 3x6 con valores aleatorios. Después muestra por pantalla las siguientes convinaciones:\n",
        "*   La primera fila entera\n",
        "*   La primera columna entera\n",
        "*   Todos los valores entre las columnas 2 y 4\n",
        "*   Todos los valores de las filas 1 y 2\n",
        "*   Todos los valores entre las filas 2 y 3 y las columnas 5 y 6"
      ]
    },
    {
      "cell_type": "code",
      "execution_count": null,
      "metadata": {
        "id": "A21uA-KdohAT"
      },
      "outputs": [],
      "source": [
        "import numpy as np\n",
        "\n",
        "# Crear una matriz de 3x6 con valores aleatorios\n",
        "mi_matriz = np.random.rand(3, 6)\n",
        "print(\"Matriz original de 3x6 con valores aleatorios:\")\n",
        "print(mi_matriz)\n",
        "\n",
        "# Mostrar la primera fila entera\n",
        "print(\"\\nPrimera fila entera:\")\n",
        "print(mi_matriz[0])\n",
        "\n",
        "# Mostrar la primera columna entera\n",
        "print(\"\\nPrimera columna entera:\")\n",
        "print(mi_matriz[:, 0])\n",
        "\n",
        "# Mostrar todos los valores entre las columnas 2 y 4\n",
        "print(\"\\nValores entre las columnas 2 y 4:\")\n",
        "print(mi_matriz[:, 1:4])\n",
        "\n",
        "# Mostrar todos los valores de las filas 1 y 2\n",
        "print(\"\\nValores de las filas 1 y 2:\")\n",
        "print(mi_matriz[0:2])\n",
        "\n",
        "# Mostrar todos los valores entre las filas 2 y 3 y las columnas 5 y 6\n",
        "print(\"\\nValores entre las filas 2 y 3 y las columnas 5 y 6:\")\n",
        "print(mi_matriz[1:3, 4:6])\n"
      ]
    },
    {
      "cell_type": "markdown",
      "metadata": {
        "id": "NcMs8O0xohx0"
      },
      "source": [
        "---\n",
        "## Ejercicio 12"
      ]
    },
    {
      "cell_type": "markdown",
      "metadata": {
        "id": "O2Aabc_Uoiqe"
      },
      "source": [
        "Crea un array de tamaño 1x5. Después añádele 5 elementos nuevos. Por último, elimina los dos primeros valores y muéstralo por pantalla:"
      ]
    },
    {
      "cell_type": "code",
      "execution_count": null,
      "metadata": {
        "id": "8tSosR39oi2O"
      },
      "outputs": [],
      "source": [
        "# Crear un array de tamaño 1x5\n",
        "mi_array = np.array([1, 2, 3, 4, 5])\n",
        "print(\"Array original de tamaño 1x5:\")\n",
        "print(mi_array)\n",
        "\n",
        "# Añadir 5 elementos nuevos\n",
        "mi_array = np.append(mi_array, [6, 7, 8, 9, 10])\n",
        "print(\"\\nArray después de añadir 5 elementos nuevos:\")\n",
        "print(mi_array)\n",
        "\n",
        "# Eliminar los dos primeros valores\n",
        "mi_array = np.delete(mi_array, [0, 1])\n",
        "print(\"\\nArray después de eliminar los dos primeros valores:\")\n",
        "print(mi_array)\n"
      ]
    },
    {
      "cell_type": "markdown",
      "metadata": {
        "id": "M9WW962tojUz"
      },
      "source": [
        "---\n",
        "## Ejercicio 13"
      ]
    },
    {
      "cell_type": "markdown",
      "metadata": {
        "id": "kPfnKIW6okVX"
      },
      "source": [
        "Crea dos matrices 3x3, una con valores aleatorios y otra de identidad. Realiza las cuatro operaciones básicas entre ellas (suma, resta, multiplicación y división). Por último, calcula la raíz cuadrada de matriz de identidad."
      ]
    },
    {
      "cell_type": "code",
      "execution_count": null,
      "metadata": {
        "id": "h5PJEntqoks0"
      },
      "outputs": [],
      "source": []
    },
    {
      "cell_type": "markdown",
      "metadata": {
        "id": "-pvYqcfFolmh"
      },
      "source": [
        "---\n",
        "## Ejercicio 14"
      ]
    },
    {
      "cell_type": "markdown",
      "metadata": {
        "id": "sM9V2Ulnomoo"
      },
      "source": [
        "Sin utilizar las funciones std, mean y median de NumPy, programa dichas funcionalidades:"
      ]
    },
    {
      "cell_type": "code",
      "execution_count": null,
      "metadata": {
        "id": "eeN5RTZQom_m"
      },
      "outputs": [],
      "source": [
        "# Crear una matriz 3x3 con valores aleatorios\n",
        "matriz_aleatoria = np.random.rand(3, 3)\n",
        "print(\"Matriz aleatoria 3x3:\")\n",
        "print(matriz_aleatoria)\n",
        "\n",
        "# Crear una matriz de identidad 3x3\n",
        "matriz_identidad = np.eye(3)\n",
        "print(\"\\nMatriz de identidad 3x3:\")\n",
        "print(matriz_identidad)\n",
        "\n",
        "# Realizar las cuatro operaciones básicas entre las matrices\n",
        "suma = np.add(matriz_aleatoria, matriz_identidad)\n",
        "print(\"\\nSuma de las matrices:\")\n",
        "print(suma)\n",
        "\n",
        "resta = np.subtract(matriz_aleatoria, matriz_identidad)\n",
        "print(\"\\nResta de las matrices:\")\n",
        "print(resta)\n",
        "\n",
        "multiplicacion = np.multiply(matriz_aleatoria, matriz_identidad)\n",
        "print(\"\\nMultiplicación de las matrices:\")\n",
        "print(multiplicacion)\n",
        "\n",
        "division = np.divide(matriz_aleatoria, matriz_identidad)\n",
        "print(\"\\nDivisión de las matrices:\")\n",
        "print(division)\n",
        "\n",
        "# Calcular la raíz cuadrada de la matriz de identidad\n",
        "raiz_cuadrada = np.sqrt(matriz_identidad)\n",
        "print(\"\\nRaíz cuadrada de la matriz de identidad:\")\n",
        "print(raiz_cuadrada)"
      ]
    },
    {
      "cell_type": "code",
      "execution_count": null,
      "metadata": {},
      "outputs": [],
      "source": [
        "\"\"\"\n",
        "  Calcula la desviación estándar de un array.\n",
        "\n",
        "  Argumentos\n",
        "    array: El array del que se quiere calcular la desviación estándar.\n",
        "\n",
        "  Returns:\n",
        "    La desviación estándar del array.\n",
        "\"\"\"\n",
        "def std(array):\n",
        "  # Calculamos la media del array.\n",
        "  mean = np.mean(array)\n",
        "\n",
        "  # Calculamos la suma de los cuadrados de las diferencias entre los valores del array y la media.\n",
        "  squared_diffs = np.square(array - mean)\n",
        "\n",
        "  # Calculamos la varianza del array.\n",
        "  variance = np.mean(squared_diffs)\n",
        "\n",
        "  # Devolvemos la desviación estándar, que es la raíz cuadrada de la varianza.\n",
        "  return np.sqrt(variance)"
      ]
    },
    {
      "cell_type": "code",
      "execution_count": null,
      "metadata": {},
      "outputs": [],
      "source": [
        "\"\"\"\n",
        "  Calcula la media de un array.\n",
        "\n",
        "  Argumentos\n",
        "    array: El array del que se quiere calcular la media.\n",
        "\n",
        "  Returns:\n",
        "    La media del array.\n",
        "\"\"\"\n",
        "def mean(array):\n",
        "\n",
        "  # Calculamos la suma de los valores del array.\n",
        "  sum = np.sum(array)\n",
        "\n",
        "  # Calculamos la cantidad de valores del array.\n",
        "  n = len(array)\n",
        "\n",
        "  # Devolvemos la media, que es la suma de los valores dividida por la cantidad de valores.\n",
        "  return sum / n"
      ]
    },
    {
      "cell_type": "code",
      "execution_count": null,
      "metadata": {},
      "outputs": [],
      "source": [
        "\"\"\"\n",
        "  Calcula la mediana de un array.\n",
        "\n",
        "  Argumentos\n",
        "    array: El array del que se quiere calcular la mediana.\n",
        "\n",
        "  Returns:\n",
        "    La mediana del array.\n",
        "\"\"\"\n",
        "def median(array):\n",
        "  # Ordenamos el array.\n",
        "  array = np.sort(array)\n",
        "\n",
        "  # Si el array tiene un número par de elementos, la mediana es la media de los dos valores centrales.\n",
        "  if len(array) % 2 == 0:\n",
        "    median = (array[len(array) // 2] + array[len(array) // 2 - 1]) / 2\n",
        "\n",
        "  # Si el array tiene un número impar de elementos, la mediana es el valor central.\n",
        "  else:\n",
        "    median = array[len(array) // 2]\n",
        "\n",
        "  return median"
      ]
    },
    {
      "cell_type": "markdown",
      "metadata": {
        "id": "-QL_QTj-oncQ"
      },
      "source": [
        "---\n",
        "## Ejercicio 15"
      ]
    },
    {
      "cell_type": "markdown",
      "metadata": {
        "id": "jxdjFioFooZS"
      },
      "source": [
        "Compara los tiempos de ejecución entre las funciones que has creado anteriormente  y las de NumPy para matrices de tamaño 1.000.000 x 1.000.000 con valores aleatorios:"
      ]
    },
    {
      "cell_type": "code",
      "execution_count": null,
      "metadata": {
        "id": "3Z7iVaiooosD"
      },
      "outputs": [],
      "source": [
        "import timeit\n",
        "\n",
        "# Generamos una matriz de tamaño 1.000.000 x 1.000.000 con valores aleatorios.\n",
        "array = np.random.rand(1000000, 1000000)\n",
        "\n",
        "# Calculamos la desviación estándar de la matriz utilizando la función `std()` de NumPy.\n",
        "std_numpy = np.std(array)\n",
        "\n",
        "# Calculamos la desviación estándar de la matriz utilizando la función `std()` creada anteriormente.\n",
        "std_custom = std(array)\n",
        "\n",
        "# Imprimimos los tiempos de ejecución de ambas funciones.\n",
        "print(\"Tiempo de ejecución de NumPy:\", timeit.timeit(lambda: np.std(array), number=10))\n",
        "print(\"Tiempo de ejecución de custom:\", timeit.timeit(lambda: std(array), number=10))\n"
      ]
    },
    {
      "cell_type": "code",
      "execution_count": null,
      "metadata": {},
      "outputs": [],
      "source": [
        "import timeit\n",
        "\n",
        "# Generamos una matriz de tamaño 1.000.000 x 1.000.000 con valores aleatorios.\n",
        "array = np.random.rand(1000000, 1000000)\n",
        "\n",
        "# Calculamos la media de la matriz utilizando la función `mean()` de NumPy.\n",
        "mean_numpy = np.mean(array)\n",
        "\n",
        "# Calculamos la media de la matriz utilizando la función `mean()` creada anteriormente.\n",
        "mean_custom = mean(array)\n",
        "\n",
        "# Imprimimos los tiempos de ejecución de ambas funciones.\n",
        "print(\"Tiempo de ejecución de NumPy:\", timeit.timeit(lambda: np.mean(array), number=10))\n",
        "print(\"Tiempo de ejecución de custom:\", timeit.timeit(lambda: mean(array), number=10))\n"
      ]
    },
    {
      "cell_type": "code",
      "execution_count": null,
      "metadata": {},
      "outputs": [],
      "source": [
        "import timeit\n",
        "\n",
        "# Generamos una matriz de tamaño 1.000.000 x 1.000.000 con valores aleatorios.\n",
        "array = np.random.rand(1000000, 1000000)\n",
        "\n",
        "# Calculamos la mediana de la matriz utilizando la función `median()` de NumPy.\n",
        "median_numpy = np.median(array)\n",
        "\n",
        "# Calculamos la mediana de la matriz utilizando la función `median()` creada anteriormente.\n",
        "median_custom = median(array)\n",
        "\n",
        "# Imprimimos los tiempos de ejecución de ambas funciones.\n",
        "print(\"Tiempo de ejecución de NumPy:\", timeit.timeit(lambda: np.median(array), number=10))\n",
        "print(\"Tiempo de ejecución de custom:\", timeit.timeit(lambda: median(array), number=10))\n"
      ]
    }
  ],
  "metadata": {
    "colab": {
      "provenance": []
    },
    "kernelspec": {
      "display_name": "Python 3",
      "name": "python3"
    },
    "language_info": {
      "codemirror_mode": {
        "name": "ipython",
        "version": 3
      },
      "file_extension": ".py",
      "mimetype": "text/x-python",
      "name": "python",
      "nbconvert_exporter": "python",
      "pygments_lexer": "ipython3",
      "version": "3.11.6"
    }
  },
  "nbformat": 4,
  "nbformat_minor": 0
}
