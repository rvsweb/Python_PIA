{
  "cells": [
    {
      "cell_type": "markdown",
      "metadata": {},
      "source": [
        "# Fundamentos Básicos: \n",
        "\n",
        "## Programación Orientada a Objetos en Python\n",
        "\n",
        "* La Programación Orientado a Objetos (POO) se basa en la agrupación de objetos de distintas clases que interactúan entre sí y que, en conjunto, consiguen que un programa cumpla su propósito.\n",
        " \n",
        "* En Python cualquier elemento del lenguaje pertenece a una clase \n",
        "y todas las clases tienen el mismo rango y se utilizan del mismo modo."
      ]
    },
    {
      "cell_type": "markdown",
      "metadata": {
        "id": "2NOcts_e02Ao"
      },
      "source": [
        "## Definición de clase, objeto, atributos y métodos\n",
        "\n",
        "* Llamamos **clase** a la representación abstracta de un concepto. \n",
        "\n",
        "    * Por ejemplo, “perro”, “número entero” o “servidor web”.\n",
        "\n",
        "```python\n",
        "# Declaración de una clase\n",
        "class Persona:\n",
        "```\n",
        "\n",
        "* Las clases se componen de **atributos** y **métodos**.\n",
        "\n",
        "```python\n",
        "# Declaración de una clase\n",
        "class Persona:\n",
        "    # Atributos\n",
        "    name = \"\"\n",
        "    age = 0\n",
        "\n",
        "# Metodo void 'set'\n",
        "def saludar(self):\n",
        "    print(\"Hola, soy {} de {} años\".format(self.name,self.age))\n",
        "```\n",
        "\n",
        "* Un **objeto** es cada una de las instancias de una clase.\n",
        "\n",
        "```python\n",
        "# Declarar un objeto\n",
        "persona1 = Persona()\n",
        "```\n",
        "\n",
        "* Los **atributos** definen las ``características propias`` del **objeto** y ``modifican`` su estado. \n",
        "\n",
        "* Son datos asociados a las ``clases`` y a los ``objetos`` creados a partir de ellas.\n",
        "\n",
        "```python\n",
        "# Declaración de una clase\n",
        "class Persona:\n",
        "    # Atributos\n",
        "    name = \"\"\n",
        "    age = 0\n",
        "```\n",
        "\n",
        "* Un **atributo de objeto** se define dentro de un método y pertenece a un objeto determinado de la clase instanciada.\n",
        "\n",
        "```python\n",
        "class Persona:\n",
        "    # Metodo de clase\n",
        "    def saludar(self):\n",
        "        # Atributo de objeto\n",
        "        self.saludo = \"Hola, soy {}!\".format(self.name)\n",
        "\n",
        "        # Imprime el saludo\n",
        "        print(self.saludo)\n",
        "```\n",
        "\n",
        "* Los **métodos** son bloques de código (o funciones) de una clase que se utilizan para definir el comportamiento de los objetos."
      ]
    },
    {
      "cell_type": "markdown",
      "metadata": {
        "id": "6adSLIBm1Wxv"
      },
      "source": [
        "## Atributos de objetos\n",
        "\n",
        "* Para definir **atributos de objetos**, basta con definir una variable dentro de los métodos\n",
        "\n",
        "* Es una buena idea definir todos los atributos de nuestras instancias en el **constructor**, de modo que se creen con algún valor válido."
      ]
    },
    {
      "cell_type": "markdown",
      "metadata": {
        "id": "Cgdt_ypE1dfK"
      },
      "source": [
        "## Método constructor init\n",
        "\n",
        "* Los atributos de objetos no se crean hasta que no hemos ejecutado el método. \n",
        "\n",
        "* Tenemos un método especial, llamado constructor **__init__**, que nos permite inicializar los atributos de objetos. \n",
        "\n",
        "* **Este método se llama cada vez que se crea una nueva instancia de la clase (objeto)**."
      ]
    },
    {
      "cell_type": "markdown",
      "metadata": {
        "id": "1AMhskgd2Asx"
      },
      "source": [
        "## Definiendo métodos. El parámetro self\n",
        "\n",
        "* El método **constructor**, al igual que todos los métodos de cualquier clase, recibe como primer parámetro a la instancia sobre la que está trabajando. \n",
        "\n",
        "* Por convención a ese primer parámetro se lo suele llamar **self** (que podríamos traducir como yo mismo), pero puede llamarse de cualquier forma.\n",
        "\n",
        "* Para referirse a los atributos de objetos hay que hacerlo a partir del objeto **self**."
      ]
    },
    {
      "cell_type": "markdown",
      "metadata": {
        "id": "Zn1vgByG2Tu_"
      },
      "source": [
        "## Definición de objetos\n",
        "\n",
        "Vamos a crear una nueva clase:"
      ]
    },
    {
      "cell_type": "code",
      "execution_count": null,
      "metadata": {
        "id": "P3-IZhC00odG"
      },
      "outputs": [],
      "source": [
        "import math as m\n",
        "\n",
        "class Punto:\n",
        "  \"\"\" Representación de un punto en el plano, los atributos\n",
        "  son x e y\n",
        "  que representan los valores de las coordenadas cartesianas.\n",
        "  \"\"\"\n",
        "  def __init__(self, x: int =0, y: int =0) -> None:\n",
        "    self.x = x\n",
        "    self.y = y\n",
        "\n",
        "  def mostrar(self):\n",
        "    return str(self.x)+ \":\" + str(self.y)\n",
        "\n",
        "  def distancia(self, point):\n",
        "    ''' Devuelve la distancia entre ambos puntos. '''\n",
        "    dx = self.x - point.x\n",
        "    dy = self.y - point.y\n",
        "\n",
        "    return m.sqrt((dx*dy + dy*dy))"
      ]
    },
    {
      "cell_type": "markdown",
      "metadata": {
        "id": "PODbvdRb_ihQ"
      },
      "source": [
        "Para crear un objeto, utilizamos el nombre de la clase enviando como parámetro los valores que va a recibir el constructor."
      ]
    },
    {
      "cell_type": "code",
      "execution_count": null,
      "metadata": {
        "colab": {
          "base_uri": "https://localhost:8080/"
        },
        "id": "KBWuFkYNkeHs",
        "outputId": "2d9d271a-1ab9-460e-a4dc-6bd539ef9c25"
      },
      "outputs": [
        {
          "name": "stdout",
          "output_type": "stream",
          "text": [
            "0:0\n",
            "4:6\n",
            "7.745966692414834\n"
          ]
        }
      ],
      "source": [
        "a = Punto() #Creación de un objeto de la clase Punto\n",
        "b = Punto(4, 6) #Creación de otro objeto de la clase Punto\n",
        "\n",
        "print(a.mostrar())\n",
        "print(b.mostrar())\n",
        "\n",
        "print(a.distancia(b))"
      ]
    },
    {
      "cell_type": "markdown",
      "metadata": {
        "id": "7B6Abuwf_ud_"
      },
      "source": [
        "También podemos acceder y modificar los atributos de objeto"
      ]
    },
    {
      "cell_type": "code",
      "execution_count": null,
      "metadata": {
        "colab": {
          "base_uri": "https://localhost:8080/"
        },
        "id": "nadalxyN_0Dy",
        "outputId": "96721f19-4070-4b4f-faa2-7a74bc8555d3"
      },
      "outputs": [
        {
          "name": "stdout",
          "output_type": "stream",
          "text": [
            "0\n"
          ]
        },
        {
          "data": {
            "text/plain": [
              "9"
            ]
          },
          "execution_count": 3,
          "metadata": {},
          "output_type": "execute_result"
        }
      ],
      "source": [
        "print(a.x)\n",
        "\n",
        "a.x = 9\n",
        "\n",
        "a.x"
      ]
    },
    {
      "cell_type": "markdown",
      "metadata": {
        "id": "CVqlyWDqAJH3"
      },
      "source": [
        "# Encapsulamiento en la Programación Orientada a Objetos\n",
        "\n",
        "Acabamos de ver que tenemos la posibilidad de cambiar los valores de los atributos de un objeto.\n",
        "\n",
        "En muchas ocasiones es necesario que esta modificación **no se haga directamente**, sino que tengamos utilizar un método para realizar la modificación y poder controlar esa operación. También puede ser deseable que la devolución del valor de los atributos se haga utilizando un método. La característica de no acceder o modificar los valores de los atributos directamente y utilizar métodos para ello lo llamamos **encapsulamiento**."
      ]
    },
    {
      "cell_type": "markdown",
      "metadata": {
        "id": "yFrJxtzvAm3y"
      },
      "source": [
        "##Atributos Privados\n",
        "\n",
        "Las variables que comienzan por un **doble guión bajo __** la podemos considerar como atributos privados. Veamos un ejemplo:"
      ]
    },
    {
      "cell_type": "code",
      "execution_count": null,
      "metadata": {
        "colab": {
          "base_uri": "https://localhost:8080/",
          "height": 210
        },
        "id": "_9B_T3R1As95",
        "outputId": "765b3978-46ed-4558-f257-43fc92600a86"
      },
      "outputs": [
        {
          "ename": "AttributeError",
          "evalue": "ignored",
          "output_type": "error",
          "traceback": [
            "\u001b[0;31m---------------------------------------------------------------------------\u001b[0m",
            "\u001b[0;31mAttributeError\u001b[0m                            Traceback (most recent call last)",
            "\u001b[0;32m<ipython-input-11-7825dbb5e597>\u001b[0m in \u001b[0;36m<cell line: 7>\u001b[0;34m()\u001b[0m\n\u001b[1;32m      5\u001b[0m \u001b[0;34m\u001b[0m\u001b[0m\n\u001b[1;32m      6\u001b[0m \u001b[0ma1\u001b[0m \u001b[0;34m=\u001b[0m \u001b[0mAlumno\u001b[0m\u001b[0;34m(\u001b[0m\u001b[0;34m'Manu'\u001b[0m\u001b[0;34m)\u001b[0m\u001b[0;34m\u001b[0m\u001b[0;34m\u001b[0m\u001b[0m\n\u001b[0;32m----> 7\u001b[0;31m \u001b[0ma1\u001b[0m\u001b[0;34m.\u001b[0m\u001b[0m__secreto\u001b[0m\u001b[0;34m\u001b[0m\u001b[0;34m\u001b[0m\u001b[0m\n\u001b[0m",
            "\u001b[0;31mAttributeError\u001b[0m: 'Alumno' object has no attribute '__secreto'"
          ]
        }
      ],
      "source": [
        "class Alumno:\n",
        "  def __init__(self, nombre: str = \"\"):\n",
        "    self.nombre=nombre\n",
        "    self.__secreto = 'asdasd'\n",
        "\n",
        "a1 = Alumno('Manu')\n",
        "a1.__secreto"
      ]
    },
    {
      "cell_type": "markdown",
      "metadata": {
        "id": "24npqXG6EFOU"
      },
      "source": [
        "## Propiedades: getters y setters\n",
        "\n",
        "Para implementar la encapsulación y no permitir el acceso directo a los atributos, podemos poner los atributos ocultos y declarar métodos específicos para acceder y modificar los atributos.\n",
        "\n",
        "* En Python, las **propiedades (getters)** nos permiten implementar la funcionalidad exponiendo estos métodos como atributos.\n",
        "* Los métodos **setters** son métodos que nos permiten modificar los atributos a través de un método."
      ]
    },
    {
      "cell_type": "code",
      "execution_count": null,
      "metadata": {
        "id": "6Ssjj9sMEUbz"
      },
      "outputs": [],
      "source": [
        "class Circulo:\n",
        "  def __init__(self, radio: float = 0) -> None:\n",
        "    self.__radio = radio\n",
        "\n",
        "  @property\n",
        "  def radio(self) -> float:\n",
        "    print('Mostrando el radio')\n",
        "    return self.__radio\n",
        "\n",
        "  @radio.setter\n",
        "  def radio(self,radio: float):\n",
        "    if radio>=0:\n",
        "      self.__radio = radio\n",
        "    else:\n",
        "      print('El radio de la circunferencia debe ser positivo')\n",
        "      self.__radio=0"
      ]
    },
    {
      "cell_type": "code",
      "execution_count": null,
      "metadata": {
        "colab": {
          "base_uri": "https://localhost:8080/"
        },
        "id": "CzZf6oRTFjVz",
        "outputId": "aebb792a-4ad4-4f41-e775-fdf02c9371a6"
      },
      "outputs": [
        {
          "name": "stdout",
          "output_type": "stream",
          "text": [
            "Mostrando el radio\n",
            "5\n",
            "El radio de la circunferencia debe ser positivo\n",
            "Mostrando el radio\n",
            "0\n"
          ]
        }
      ],
      "source": [
        "c1 = Circulo(5)\n",
        "\n",
        "print(c1.radio)\n",
        "\n",
        "c1.radio = 6\n",
        "\n",
        "c1.radio = -1\n",
        "\n",
        "print(c1.radio)"
      ]
    },
    {
      "cell_type": "markdown",
      "metadata": {
        "id": "P8jsPLqOGOtV"
      },
      "source": [
        "# Herencia y Delegación\n",
        "\n",
        "## Herencia\n",
        "\n",
        "La herencia es un mecanismo de la programación orientada a objetos que sirve para crear clases nuevas a partir de clases preexistentes. Se toman (heredan) atributos y métodos de las clases bases y se los modifica para modelar una nueva situación.\n",
        "\n",
        "La clase desde la que se hereda se llama clase base y la que se construye a partir de ella es una clase derivada.\n",
        "\n",
        "Si nuestra clase base es la clase **punto** que hemos visto antes, puedo crear una nueva clase de la siguiente manera:"
      ]
    },
    {
      "cell_type": "code",
      "execution_count": null,
      "metadata": {
        "id": "n4jO2WfVL30F"
      },
      "outputs": [],
      "source": [
        "class Punto():\n",
        "  \"\"\" Representación de un punto en el plano, los atributos\n",
        "  son x e y\n",
        "  que representan los valores de las coordenadas cartesianas.\n",
        "  \"\"\"\n",
        "\n",
        "  def __init__(self, x: int =0, y: int =0) -> None:\n",
        "    self.__x = x\n",
        "    self.__y = y\n",
        "\n",
        "  @property\n",
        "  def x(self):\n",
        "    print('Imprimiendo coordenada X:')\n",
        "    return self.__x\n",
        "\n",
        "  @property\n",
        "  def y(self):\n",
        "    print('Imprimiendo coordenada Y:')\n",
        "    return self.__y\n",
        "\n",
        "  @x.setter\n",
        "  def x(self, x):\n",
        "    print('Cambio x')\n",
        "    self.__x = x\n",
        "\n",
        "  @y.setter\n",
        "  def y(self, y):\n",
        "    print('Cambio y')\n",
        "    self.__y = y\n",
        "\n",
        "\n",
        "  def mostrar(self):\n",
        "    return str(self.__x)+ \":\" + str(self.__y)\n",
        "\n",
        "  def distancia(self, point):\n",
        "    ''' Devuelve la distancia entre ambos puntos. '''\n",
        "    dx = self.__x - point.x\n",
        "    dy = self.__y - point.y\n",
        "\n",
        "    return m.sqrt((dx*dy + dy*dy)** 0.5)"
      ]
    },
    {
      "cell_type": "code",
      "execution_count": null,
      "metadata": {
        "id": "iyl8c_0-Gkaa"
      },
      "outputs": [],
      "source": [
        "class Punto3d(Punto):\n",
        "  def __init__(self, x: int = 0, y: int = 0, z: int = 0):\n",
        "    super().__init__(x,y)\n",
        "    self.z = z\n",
        "\n",
        "  @property\n",
        "  def z(self):\n",
        "    print('Imprimiendo coordenada Z:')\n",
        "    return self.__z\n",
        "\n",
        "  @z.setter\n",
        "  def z(self, z):\n",
        "    print('Cambiando valor de z...')\n",
        "    self.__z = z\n",
        "\n",
        "  #Sobreescritura de métodos\n",
        "  def mostrar(self):\n",
        "    return super().mostrar()+\":\"+str(self.__z)\n",
        "\n",
        "  def distancia(self, otro):\n",
        "    \"\"\" Devuelve la distancia entre ambos puntos 3D. \"\"\"\n",
        "    dx = self.x - otro.x  # Fijado: usa la propiedad\n",
        "    dy = self.y - otro.y  # Fijado: usa la propiedad\n",
        "    dz = self.__z - otro.z\n",
        "\n",
        "    return (dx*dx + dy*dy + dz*dz) ** 0.5"
      ]
    },
    {
      "cell_type": "markdown",
      "metadata": {
        "id": "Yt3J2ZNKJB0z"
      },
      "source": [
        "La clase **Punto3d** hereda de la clase Punto todas sus propiedades y sus métodos. En la clase hija hemos añadido la propiedad y el setter para el nuevo atributo z, y hemos modificado el **constructor** (sobreescritura) el método **mostrar** y el método **distancia**.\n",
        "\n",
        "Creemos dos objetos de cada clase y veamos los atributos y métodos que tienen definido:"
      ]
    },
    {
      "cell_type": "code",
      "execution_count": null,
      "metadata": {
        "colab": {
          "base_uri": "https://localhost:8080/"
        },
        "id": "iyp6DVVpJ3Vr",
        "outputId": "37a4d138-01a6-424f-ac79-8a63e3579648"
      },
      "outputs": [
        {
          "name": "stdout",
          "output_type": "stream",
          "text": [
            "Cambiando valor de z...\n",
            "Cambiando valor de z...\n",
            "Imprimiendo coordenada Z:\n"
          ]
        },
        {
          "data": {
            "text/plain": [
              "(5.656854249492381, 1.7320508075688772)"
            ]
          },
          "execution_count": 5,
          "metadata": {},
          "output_type": "execute_result"
        }
      ],
      "source": [
        "p = Punto(1,2)\n",
        "p3d = Punto3d(1,2,3)\n",
        "\n",
        "distancia_punto = p.distancia(Punto(5, 6))\n",
        "distancia_punto3d = p3d.distancia(Punto3d(2, 3, 4))\n",
        "\n",
        "\n",
        "distancia_punto, distancia_punto3d"
      ]
    },
    {
      "cell_type": "markdown",
      "metadata": {
        "id": "m-_g3dJSRKRS"
      },
      "source": [
        "## La función super()\n",
        "\n",
        "La función **super()** me proporciona una referencia a la clase base. Como vemos en el ejemplo hemos reescrito algunos métodos: **__init()__**, **mostrar()** y **distancia()**. En algunos de ellos es necesario usar el método de la clase base. Para acceder a esos métodos usamos la función **super()**.\n",
        "\n",
        "```\n",
        "def __init__(self,x=0,y=0,z=0):\n",
        "       super().__init__(x,y)\n",
        "       self.z=z\n",
        "\n",
        "def mostrar(self):\n",
        "       return super().mostrar()+\":\"+str(self.__z)\n",
        "```"
      ]
    },
    {
      "cell_type": "markdown",
      "metadata": {
        "id": "AF0cc8iURm5L"
      },
      "source": [
        "## Delegación\n",
        "\n",
        "Llamamos delegación a la situación en la que una clase contiene (como atributos) una o más instancias de otra clase, a las que delegará parte de sus funcionalidades.\n",
        "\n",
        "A partir de la clase **Punto**, podemos crear la clase **Circulo** de esta forma:"
      ]
    },
    {
      "cell_type": "code",
      "execution_count": null,
      "metadata": {
        "id": "DlBfeka9Ryiy"
      },
      "outputs": [],
      "source": [
        "class Circulo():\n",
        "  def __init__(self, centro: float =0, radio: float = 0):\n",
        "    self.centro = centro\n",
        "    self.radio = radio\n",
        "\n",
        "  def mostrar(self):\n",
        "    return f\"Centro:{self.centro.mostrar()}-Radio:{self.radio}\""
      ]
    },
    {
      "cell_type": "markdown",
      "metadata": {
        "id": "ckVUwy9pTdav"
      },
      "source": [
        "Y creamos un objeto Circulo cuyo centro sea un objeto de la clase Punto."
      ]
    },
    {
      "cell_type": "code",
      "execution_count": null,
      "metadata": {
        "colab": {
          "base_uri": "https://localhost:8080/"
        },
        "id": "DyP_yFpfTy1I",
        "outputId": "f8eb30c9-f252-4b4f-ea53-5e3590e74318"
      },
      "outputs": [
        {
          "name": "stdout",
          "output_type": "stream",
          "text": [
            "Centro:1:2-Radio:5\n"
          ]
        }
      ],
      "source": [
        "c2 = Circulo(Punto(1,2), 5)\n",
        "\n",
        "print(c2.mostrar())"
      ]
    }
  ],
  "metadata": {
    "colab": {
      "provenance": []
    },
    "kernelspec": {
      "display_name": "Python 3",
      "name": "python3"
    },
    "language_info": {
      "name": "python"
    }
  },
  "nbformat": 4,
  "nbformat_minor": 0
}
