{
  "cells": [
    {
      "cell_type": "markdown",
      "metadata": {
        "id": "W9Gdw-6MCll2"
      },
      "source": [
        "# **Cadenas de Caracteres**\n",
        "\n",
        "Como vimos en sesiones anteriores, las cadenas de caracteres (str): Nos permiten guardar secuencias de caracteres.\n",
        "\n",
        "Además de realizar estas operaciones que ya hemos estudiado:\n",
        "\n",
        "* **Concatenación: +**: El operador + me permite unir datos de tipos secuenciales, en este caso dos cadenas de caracteres.\n",
        "* **Repetición:*** : El operador * me permite repetir un dato de un tipo secuencial, en este caso de cadenas de caracteres.\n",
        "* **Indexación**: Puedo obtener el dato de una secuencia indicando la posición en la secuencia. En este caso puedo obtener el carácter de la cadena indicando la posición (**empezando por la posición 0**).\n",
        "\n",
        "**Para obtener la longitud de una cadena** (número de caracteres que tiene), utilizamos la función **len**."
      ]
    },
    {
      "cell_type": "code",
      "execution_count": null,
      "metadata": {
        "colab": {
          "base_uri": "https://localhost:8080/"
        },
        "id": "BqQDuQxXChOf",
        "outputId": "33af9a91-b2f5-4e78-c8cc-3fecad5ea064"
      },
      "outputs": [
        {
          "name": "stdout",
          "output_type": "stream",
          "text": [
            "Concatenación: Hola que talHola que tal\n",
            "Repetición: Hola que talHola que talHola que tal\n",
            "Indexación: Ho\n",
            "Longitud de la cadena (len): 12\n"
          ]
        }
      ],
      "source": [
        "cadena = \"Hola que tal\"\n",
        "\n",
        "print('Concatenación: ' + cadena + cadena)\n",
        "\n",
        "print('Repetición: ' + cadena*3)\n",
        "\n",
        "print('Indexación: ' + cadena[0] + cadena[1])\n",
        "\n",
        "print('Longitud de la cadena (len): ' + str(len(cadena)))"
      ]
    },
    {
      "cell_type": "markdown",
      "metadata": {
        "id": "jeG5Y8-GDmkf"
      },
      "source": [
        "### Tenemos más operaciones que podemos realizar:\n",
        "\n",
        "\n",
        "\n",
        "* Las cadenas se pueden recorrer\n",
        "\n"
      ]
    },
    {
      "cell_type": "code",
      "execution_count": null,
      "metadata": {
        "colab": {
          "base_uri": "https://localhost:8080/"
        },
        "id": "mW1j36y5FhaS",
        "outputId": "4fca5977-1dee-471d-cbfd-e29fa9c9b808"
      },
      "outputs": [
        {
          "name": "stdout",
          "output_type": "stream",
          "text": [
            "informática"
          ]
        }
      ],
      "source": [
        "cadena = 'informática'\n",
        "\n",
        "for caracter in cadena:\n",
        "  print(caracter, end=\"\")"
      ]
    },
    {
      "cell_type": "markdown",
      "metadata": {
        "id": "wtTzLLat-MyV"
      },
      "source": [
        "\n",
        "\n",
        "* **Operadores de pertenencia**: Se puede comprobar si un elemento (subcadena) pertenece o no a una cadena de caracteres con los operadores **in** y **not in**.\n"
      ]
    },
    {
      "cell_type": "code",
      "execution_count": null,
      "metadata": {
        "colab": {
          "base_uri": "https://localhost:8080/"
        },
        "id": "Lyw9kMTQ-qHy",
        "outputId": "6a5410e5-7991-4dfb-ff02-d59097ac6cd8"
      },
      "outputs": [
        {
          "name": "stdout",
          "output_type": "stream",
          "text": [
            "True\n",
            "False\n",
            "True\n"
          ]
        }
      ],
      "source": [
        "print('a' in cadena)\n",
        "\n",
        "print('p' in cadena)\n",
        "\n",
        "print('p' not in cadena)"
      ]
    },
    {
      "cell_type": "markdown",
      "metadata": {
        "id": "RvaiePCVO1PE"
      },
      "source": [
        "* Slice (rebanada): Puedo obtener una subcadena de la cadena de caracteres. Se indica el carácter inicial, y el carácter final, además podemos indicar opcionalmente un salto. Si no se indica el carácter inicial se supone que es desde el primero, sino se indica el carácter final se supone que es hasta el final. Por último podemos usar salto negativo para empezar a contar desde el final.\n",
        "\n",
        "Como resumen de las distintas posibilidades podemos indicar:\n",
        "\n",
        "  * **cadena[start:end]** # Elementos desde la posición start hasta end-1\n",
        "  * **cadena[start:]** # Elementos desde la posición start hasta el final\n",
        "  * **cadena[:end]** # Elementos desde el principio hasta la posición end-1\n",
        "  * **cadena[:]** # Todos Los elementos\n",
        "  * **cadena[start:end:step]** # Igual que el anterior pero dando step saltos.\n",
        "\n",
        "  Veamos algunos ejemplos:"
      ]
    },
    {
      "cell_type": "code",
      "execution_count": null,
      "metadata": {
        "colab": {
          "base_uri": "https://localhost:8080/"
        },
        "id": "wkgi7mmBPn4A",
        "outputId": "c2c60a04-47b8-42c3-8500-ace74d195163"
      },
      "outputs": [
        {
          "name": "stdout",
          "output_type": "stream",
          "text": [
            "for\n",
            "frá\n",
            "infor\n",
            "mática\n",
            "\n",
            "acitámrofni\n"
          ]
        }
      ],
      "source": [
        "print(cadena[2:5])\n",
        "\n",
        "# posición 2 hasta la 6 dando saltos de 2 en 2\n",
        "print(cadena[2:7:2])\n",
        "\n",
        "print(cadena[:5])\n",
        "\n",
        "print(cadena[5:])\n",
        "# desde el final hasta el inició - inveso\n",
        "print(cadena[-1:-3])\n",
        "# Invertir la cadena\n",
        "print(cadena[::-1])"
      ]
    },
    {
      "cell_type": "markdown",
      "metadata": {
        "id": "3g-VPkifQQ6o"
      },
      "source": [
        "## Conversión de tipos\n",
        "\n",
        "Podemos convertir cualquier número en una cadena de caracteres utilizando la función **str**:\n",
        "\n"
      ]
    },
    {
      "cell_type": "code",
      "execution_count": null,
      "metadata": {
        "colab": {
          "base_uri": "https://localhost:8080/"
        },
        "id": "bVUlvFFhQWx0",
        "outputId": "8ec63a12-10e2-41bd-cb28-169f4c77e693"
      },
      "outputs": [
        {
          "name": "stdout",
          "output_type": "stream",
          "text": [
            "<class 'str'>\n",
            "7.8\n"
          ]
        }
      ],
      "source": [
        "strnum = str(7.8)\n",
        "\n",
        "print(type(strnum))\n",
        "\n",
        "print(strnum)"
      ]
    },
    {
      "cell_type": "markdown",
      "metadata": {
        "id": "bUkTQx7QQvW7"
      },
      "source": [
        "# **Las cadenas de caracteres son inmutables**\n",
        "\n",
        "Cuando creamos una variable de tipo cadena de caracteres, estamos creando un **objeto de la clase str**.\n",
        "\n",
        "Se trata de una clase especifica que podemos guardar en un tipo\n",
        "de datos y lleva asociados una serie de operaciones que pueden\n",
        "realizar.\n",
        "\n",
        "Cada vez que creamos una variable de una determinada clase, **creamos un objeto**, que además de guardar información (en nuestro caso los caracteres de la cadena) puede realizar distintas operaciones que llamamos **métodos**.\n",
        "\n",
        "**Nosotros ya hemos usado un método de la clase str**. El método **upper()** nos permite convertir la cadena a mayúsculas.\n",
        "\n",
        "## **Pero ¿Qué significa que las cadenas de caracteres son inmutables?**\n",
        "No podemos cambiar los caracteres de una cadena de la siguiente forma:"
      ]
    },
    {
      "cell_type": "code",
      "execution_count": null,
      "metadata": {
        "colab": {
          "base_uri": "https://localhost:8080/",
          "height": 245
        },
        "id": "LRrqrhjPSJAB",
        "outputId": "625d7614-bde7-47dd-8588-70cc8dea71cd"
      },
      "outputs": [
        {
          "ename": "TypeError",
          "evalue": "ignored",
          "output_type": "error",
          "traceback": [
            "\u001b[0;31m---------------------------------------------------------------------------\u001b[0m",
            "\u001b[0;31mTypeError\u001b[0m                                 Traceback (most recent call last)",
            "\u001b[0;32m<ipython-input-9-cf07bdeb95c2>\u001b[0m in \u001b[0;36m<cell line: 3>\u001b[0;34m()\u001b[0m\n\u001b[1;32m      1\u001b[0m \u001b[0mcadena\u001b[0m \u001b[0;34m=\u001b[0m \u001b[0;34m'informática'\u001b[0m\u001b[0;34m\u001b[0m\u001b[0;34m\u001b[0m\u001b[0m\n\u001b[1;32m      2\u001b[0m \u001b[0;34m\u001b[0m\u001b[0m\n\u001b[0;32m----> 3\u001b[0;31m \u001b[0mcadena\u001b[0m\u001b[0;34m[\u001b[0m\u001b[0;36m2\u001b[0m\u001b[0;34m]\u001b[0m \u001b[0;34m=\u001b[0m \u001b[0;34m'g'\u001b[0m\u001b[0;34m\u001b[0m\u001b[0;34m\u001b[0m\u001b[0m\n\u001b[0m\u001b[1;32m      4\u001b[0m \u001b[0;34m\u001b[0m\u001b[0m\n\u001b[1;32m      5\u001b[0m \u001b[0mprint\u001b[0m\u001b[0;34m(\u001b[0m\u001b[0mcadena\u001b[0m\u001b[0;34m)\u001b[0m\u001b[0;34m\u001b[0m\u001b[0;34m\u001b[0m\u001b[0m\n",
            "\u001b[0;31mTypeError\u001b[0m: 'str' object does not support item assignment"
          ]
        }
      ],
      "source": [
        "cadena = 'informática'\n",
        "\n",
        "cadena[2] = 'g'\n",
        "\n",
        "print(cadena)\n"
      ]
    },
    {
      "cell_type": "markdown",
      "metadata": {
        "id": "q5t2lTZeSZ7F"
      },
      "source": [
        "Esto implica que al usar un método la cadena original no cambia, el método devuelve otra cadena modificada.\n",
        "\n",
        "Veamos un ejemplo:"
      ]
    },
    {
      "cell_type": "code",
      "execution_count": null,
      "metadata": {
        "colab": {
          "base_uri": "https://localhost:8080/"
        },
        "id": "eLguCt1LSbgR",
        "outputId": "8d145400-5b5a-4837-af98-808887ac1f99"
      },
      "outputs": [
        {
          "name": "stdout",
          "output_type": "stream",
          "text": [
            "INFORMÁTICA\n",
            "informática\n"
          ]
        }
      ],
      "source": [
        "cadena = 'informática'\n",
        "\n",
        "print(cadena.upper())\n",
        "\n",
        "print(cadena)"
      ]
    },
    {
      "cell_type": "markdown",
      "metadata": {
        "id": "qjJ8EFcVTHJG"
      },
      "source": [
        "# **Métodos principales de cadenas**\n",
        "\n",
        "Aunque las cadenas de caracteres tiene muchos métodos definidos, vamos a estudiar los más importantes:\n",
        "\n",
        "## **Métodos de Formato**\n",
        "\n",
        "* **capitalize()** nos permite devolver la cadena con el primer carácter en mayúsculas."
      ]
    },
    {
      "cell_type": "code",
      "execution_count": null,
      "metadata": {
        "colab": {
          "base_uri": "https://localhost:8080/"
        },
        "id": "W_NcQeTETXmn",
        "outputId": "8519aea8-9c61-4983-8cc0-2a68bf729a91"
      },
      "outputs": [
        {
          "name": "stdout",
          "output_type": "stream",
          "text": [
            "Hola, ¿como estás?\n"
          ]
        }
      ],
      "source": [
        "cadena = \"hola, ¿como estás?\"\n",
        "print(cadena.capitalize())"
      ]
    },
    {
      "cell_type": "markdown",
      "metadata": {
        "id": "5Sc6n_h4TdkW"
      },
      "source": [
        "* **lower() y upper()** convierte la cadena de caracteres en minúsculas y mayúsculas respectivamente."
      ]
    },
    {
      "cell_type": "code",
      "execution_count": null,
      "metadata": {
        "colab": {
          "base_uri": "https://localhost:8080/"
        },
        "id": "FvDCu0aPTc2c",
        "outputId": "aef14bbf-80b7-41a9-a0ed-dd4c6e034166"
      },
      "outputs": [
        {
          "name": "stdout",
          "output_type": "stream",
          "text": [
            "hola mundo\n",
            "HOLA MUNDO\n"
          ]
        }
      ],
      "source": [
        "cadena = \"Hola Mundo\"\n",
        "\n",
        "print(cadena.lower())\n",
        "\n",
        "print(cadena.upper())"
      ]
    },
    {
      "cell_type": "markdown",
      "metadata": {
        "id": "tSQbhkCoT8ih"
      },
      "source": [
        "* **swapcase()**: devuelve una cadena nueva con las minúsculas convertidas a mayúsculas y viceversa. (Yo no termino de verle la utilidad pero bueno, ahí está)"
      ]
    },
    {
      "cell_type": "code",
      "execution_count": null,
      "metadata": {
        "colab": {
          "base_uri": "https://localhost:8080/"
        },
        "id": "Qgx15JyYUFWG",
        "outputId": "392c3920-f0a2-404c-d1f3-22f8a9eca472"
      },
      "outputs": [
        {
          "name": "stdout",
          "output_type": "stream",
          "text": [
            "hOLA mUNDO\n"
          ]
        }
      ],
      "source": [
        "print(cadena.swapcase())"
      ]
    },
    {
      "cell_type": "markdown",
      "metadata": {
        "id": "qUDQcMpVUOPk"
      },
      "source": [
        "* **title()**: Devuelve una cadena con los primeros caracteres en mayúsculas de cada palabra."
      ]
    },
    {
      "cell_type": "code",
      "execution_count": null,
      "metadata": {
        "colab": {
          "base_uri": "https://localhost:8080/"
        },
        "id": "cu_VsRWMUR__",
        "outputId": "c7af228c-1954-4f28-c45a-f1b846871dda"
      },
      "outputs": [
        {
          "name": "stdout",
          "output_type": "stream",
          "text": [
            "Esto Es Una Cadena De Caracteres\n"
          ]
        }
      ],
      "source": [
        "cadena = \"esto es una cadena de caracteres\"\n",
        "\n",
        "print(cadena.title())"
      ]
    },
    {
      "cell_type": "markdown",
      "metadata": {
        "id": "zk-Al0tHVFKZ"
      },
      "source": [
        "## **Métodos de Búsqueda**\n",
        "\n",
        "* **`count()`**: Es un método al que indicamos como parámetro una subcadena y cuenta cuantas apariciones hay de esa subcadena en la cadena."
      ]
    },
    {
      "cell_type": "code",
      "execution_count": null,
      "metadata": {
        "colab": {
          "base_uri": "https://localhost:8080/"
        },
        "id": "hm71jlhmVOY3",
        "outputId": "39711068-8eb3-418a-90e2-5b8a5d64be56"
      },
      "outputs": [
        {
          "name": "stdout",
          "output_type": "stream",
          "text": [
            "3\n"
          ]
        }
      ],
      "source": [
        "cadena = \"bienvenido a mi aplicación\"\n",
        "\n",
        "print(cadena.count('a'))"
      ]
    },
    {
      "cell_type": "markdown",
      "metadata": {
        "id": "csWxUmafVZLA"
      },
      "source": [
        "Además podemos indicar otro parámetro para indicar la posición desde la que queremos iniciar la búsqueda. Y otro parámetro optativo para indicar la posición final de búsqueda."
      ]
    },
    {
      "cell_type": "code",
      "execution_count": null,
      "metadata": {
        "colab": {
          "base_uri": "https://localhost:8080/"
        },
        "id": "pc2i0lX7VjcA",
        "outputId": "b9049351-4a9d-4cbe-9816-b8d584e1dbb7"
      },
      "outputs": [
        {
          "name": "stdout",
          "output_type": "stream",
          "text": [
            "2\n",
            "1\n"
          ]
        }
      ],
      "source": [
        "print(cadena.count(\"a\",16))\n",
        "print(cadena.count('a',10,16))"
      ]
    },
    {
      "cell_type": "markdown",
      "metadata": {
        "id": "zRNvkXjlV03C"
      },
      "source": [
        "* **find()** nos devuelve la posición de la subcadena que hemos indicado como parámetro. Si no se encuentra devuelve -1."
      ]
    },
    {
      "cell_type": "code",
      "execution_count": null,
      "metadata": {
        "colab": {
          "base_uri": "https://localhost:8080/"
        },
        "id": "aui6tgN0WAH5",
        "outputId": "e762806a-ce84-45f9-b551-035d82644eeb"
      },
      "outputs": [
        {
          "name": "stdout",
          "output_type": "stream",
          "text": [
            "13\n",
            "-1\n"
          ]
        }
      ],
      "source": [
        "print(cadena.find('mi'))\n",
        "print(cadena.find('hola'))"
      ]
    },
    {
      "cell_type": "markdown",
      "metadata": {
        "id": "Zm4sZjoVWPIK"
      },
      "source": [
        "## **Métodos de Validación**\n",
        "\n",
        "* **startswith()**: nos indica con un valor lógico si la cadena empieza por la subcadena que hemos indicado como parámetro. Podemos indicar también con otro parámetro la posición donde tiene que buscar."
      ]
    },
    {
      "cell_type": "code",
      "execution_count": null,
      "metadata": {
        "colab": {
          "base_uri": "https://localhost:8080/"
        },
        "id": "Cs0v3ZpAWYaX",
        "outputId": "26a3fcea-8148-418d-945f-8fc0696c6341"
      },
      "outputs": [
        {
          "name": "stdout",
          "output_type": "stream",
          "text": [
            "True\n",
            "False\n",
            "True\n"
          ]
        }
      ],
      "source": [
        "print(cadena.startswith('b'))\n",
        "\n",
        "print(cadena.startswith('m'))\n",
        "\n",
        "print(cadena.startswith('m',13))"
      ]
    },
    {
      "cell_type": "markdown",
      "metadata": {
        "id": "vo4awgh_Wwz9"
      },
      "source": [
        "* **endswith()** igual que la anterior pero indica si la cadena termina con la subcadena indicada. En este caso, se puede indicar la posición de inicio y final de búsqueda."
      ]
    },
    {
      "cell_type": "code",
      "execution_count": null,
      "metadata": {
        "colab": {
          "base_uri": "https://localhost:8080/"
        },
        "id": "w8npVeS3W1Ed",
        "outputId": "d9b49a81-308c-489a-d8fb-fff79aaed3b2"
      },
      "outputs": [
        {
          "name": "stdout",
          "output_type": "stream",
          "text": [
            "True\n",
            "False\n",
            "True\n"
          ]
        }
      ],
      "source": [
        "print(cadena.endswith('ción'))\n",
        "\n",
        "print(cadena.endswith(\"ción\",0,10))\n",
        "\n",
        "print(cadena.endswith(\"nido\",0,10))"
      ]
    },
    {
      "cell_type": "markdown",
      "metadata": {
        "id": "aKToPap_XaIm"
      },
      "source": [
        "## **Métodos de Sustitución**\n",
        "\n",
        "* **replace()**: Devuelve una cadena donde se ha sustituido las apariciones de la primera subcadena indicada por la segunda subcadena indicada como parámetro.\n",
        "\n"
      ]
    },
    {
      "cell_type": "code",
      "execution_count": null,
      "metadata": {
        "colab": {
          "base_uri": "https://localhost:8080/"
        },
        "id": "YJAWF7P_XyA4",
        "outputId": "d4e3a6c1-0ae8-479e-f22d-3946c0fcee1d"
      },
      "outputs": [
        {
          "name": "stdout",
          "output_type": "stream",
          "text": [
            "Estimado Sr. Manu Rodríguez:\n"
          ]
        }
      ],
      "source": [
        "buscar = \"nombre apellido\"\n",
        "reemplazar = \"Manu Rodríguez\"\n",
        "\n",
        "print (\"Estimado Sr. nombre apellido:\".replace(buscar, reemplazar))"
      ]
    },
    {
      "cell_type": "markdown",
      "metadata": {
        "id": "A0jLcE_Y7DUk"
      },
      "source": [
        "* **strip()**: Devuelve una cadena donde se han quitado los espacios del principio y del final. Si indicamos una subcadena como parámetro quitará dicha subcadena del principio y del final."
      ]
    },
    {
      "cell_type": "code",
      "execution_count": null,
      "metadata": {
        "colab": {
          "base_uri": "https://localhost:8080/"
        },
        "id": "uzRw-Awc7IWu",
        "outputId": "194b8437-66e4-4310-ad67-3326a1fb3746"
      },
      "outputs": [
        {
          "name": "stdout",
          "output_type": "stream",
          "text": [
            "www.iesalandalus.org\n",
            "123\n"
          ]
        }
      ],
      "source": [
        "cadena = \"    www.iesalandalus.org    \"\n",
        "\n",
        "print(cadena.strip())\n",
        "\n",
        "cadena = \"00000000123000000000000\"\n",
        "\n",
        "print(cadena.strip('0'))"
      ]
    },
    {
      "cell_type": "markdown",
      "metadata": {
        "id": "46oRpZr67o1e"
      },
      "source": [
        "## **Métodos de unión y división**\n",
        "\n",
        "aunque todavía no lo hemos estudiado, el método **split()** nos permite convertir una cadena en una lista. Lo usaremos más adelante.\n",
        "\n"
      ]
    },
    {
      "cell_type": "code",
      "execution_count": null,
      "metadata": {
        "colab": {
          "base_uri": "https://localhost:8080/"
        },
        "id": "Wkkj9Fzo8OnP",
        "outputId": "b9e998ca-ee59-404c-b92d-9c38807857cf"
      },
      "outputs": [
        {
          "name": "stdout",
          "output_type": "stream",
          "text": [
            "['14', '37', '23']\n",
            "<class 'list'>\n"
          ]
        }
      ],
      "source": [
        "hora = \"14:37:23\"\n",
        "\n",
        "print(hora.split(':'))\n",
        "\n",
        "print(type(hora.split(':')))"
      ]
    },
    {
      "cell_type": "markdown",
      "metadata": {
        "id": "VF3guwA68gx_"
      },
      "source": [
        "* **splitlines()**: Nos permite separar las líneas que hay en una cadena (indicada con el carácter \\n) en una lista."
      ]
    },
    {
      "cell_type": "code",
      "execution_count": null,
      "metadata": {
        "colab": {
          "base_uri": "https://localhost:8080/"
        },
        "id": "oUD4ScXp8lgr",
        "outputId": "a9503147-4846-4cf4-fe16-62c11ccc9253"
      },
      "outputs": [
        {
          "name": "stdout",
          "output_type": "stream",
          "text": [
            "Cadena 1 \n",
            " Cadena 2 \n",
            " Cadena 3\n",
            "['Cadena 1 ', ' Cadena 2 ', ' Cadena 3']\n"
          ]
        }
      ],
      "source": [
        "multi = \"Cadena 1 \\n Cadena 2 \\n Cadena 3\"\n",
        "\n",
        "print(multi)\n",
        "\n",
        "print(multi.splitlines())"
      ]
    }
  ],
  "metadata": {
    "colab": {
      "provenance": []
    },
    "kernelspec": {
      "display_name": "Python 3",
      "name": "python3"
    },
    "language_info": {
      "name": "python"
    }
  },
  "nbformat": 4,
  "nbformat_minor": 0
}
