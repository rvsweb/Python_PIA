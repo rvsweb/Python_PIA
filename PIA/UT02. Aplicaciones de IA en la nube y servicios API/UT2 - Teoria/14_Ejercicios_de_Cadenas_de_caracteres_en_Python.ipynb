{
  "nbformat": 4,
  "nbformat_minor": 0,
  "metadata": {
    "colab": {
      "provenance": []
    },
    "kernelspec": {
      "name": "python3",
      "display_name": "Python 3"
    },
    "language_info": {
      "name": "python"
    }
  },
  "cells": [
    {
      "cell_type": "markdown",
      "source": [
        "# **Ejercicios de Cadenas de Caracteres**\n",
        "\n",
        "## Ejercicio 1\n",
        "\n",
        "Escribir por pantalla cada carácter de una cadena introducida por teclado."
      ],
      "metadata": {
        "id": "W9Gdw-6MCll2"
      }
    },
    {
      "cell_type": "markdown",
      "source": [
        "## Ejercicio 2\n",
        "\n",
        "Realizar un programa que comprueba si una cadena leída por teclado comienza por una subcadena introducida por teclado."
      ],
      "metadata": {
        "id": "zmyG292wDOiG"
      }
    },
    {
      "cell_type": "markdown",
      "source": [
        "## Ejercicio 3\n",
        "\n",
        "Pide una cadena y un carácter por teclado (valida que sea un carácter) y muestra cuantas veces aparece el carácter en la cadena."
      ],
      "metadata": {
        "id": "FVzv8hz3DUef"
      }
    },
    {
      "cell_type": "markdown",
      "source": [
        "## Ejercicio 4\n",
        "\n",
        "Suponiendo que hemos introducido una cadena por teclado que representa una frase (palabras separadas por espacios), realiza un programa que cuente cuantas palabras tiene."
      ],
      "metadata": {
        "id": "XtEjQoQpDaGW"
      }
    },
    {
      "cell_type": "markdown",
      "source": [
        "# Ejercicio 5\n",
        "\n",
        "Si tenemos una cadena con un nombre y apellidos, realizar un programa que muestre las iniciales en mayúsculas."
      ],
      "metadata": {
        "id": "J__5_DHTDjci"
      }
    },
    {
      "cell_type": "markdown",
      "source": [
        "## Ejercicio 6\n",
        "\n",
        "Realizar un programa que dada una cadena de caracteres, genere otra cadena resultado de invertir la primera."
      ],
      "metadata": {
        "id": "joAkqTC4Doum"
      }
    },
    {
      "cell_type": "markdown",
      "source": [
        "## Ejercicio 7\n",
        "\n",
        "Pide una cadena y dos caracteres por teclado (valida que sea un carácter), sustituye la aparición del primer carácter en la cadena por el segundo carácter."
      ],
      "metadata": {
        "id": "CSZfCwUeD0IH"
      }
    },
    {
      "cell_type": "markdown",
      "source": [
        "## Ejercicio 8\n",
        "\n",
        "Realizar un programa que lea una cadena por teclado y convierta las mayúsculas a minúsculas y viceversa."
      ],
      "metadata": {
        "id": "5ibc80xoD5fa"
      }
    },
    {
      "cell_type": "markdown",
      "source": [
        "## Ejercicio 9\n",
        "\n",
        "Realizar un programa que compruebe si una cadena contiene una **subcadena**. Las dos cadenas se introducen por teclado."
      ],
      "metadata": {
        "id": "BUJSIWtzD_QY"
      }
    },
    {
      "cell_type": "markdown",
      "source": [
        "## Ejercicio 10\n",
        "\n",
        "Introducir una cadena de caracteres e indicar si es un palíndromo. Una palabra palíndroma es aquella que se lee igual adelante que atrás."
      ],
      "metadata": {
        "id": "yX7KMeUQEG1C"
      }
    }
  ]
}