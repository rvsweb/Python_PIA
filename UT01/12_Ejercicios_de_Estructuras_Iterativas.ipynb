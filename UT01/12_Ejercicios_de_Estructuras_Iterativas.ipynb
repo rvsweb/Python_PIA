{
  "nbformat": 4,
  "nbformat_minor": 0,
  "metadata": {
    "colab": {
      "provenance": []
    },
    "kernelspec": {
      "name": "python3",
      "display_name": "Python 3"
    },
    "language_info": {
      "name": "python"
    }
  },
  "cells": [
    {
      "cell_type": "markdown",
      "source": [
        "## Ejercicios estructuras repetitivas\n",
        "\n",
        "### Ejercicio 1\n",
        "\n",
        "Crea una aplicación que pida un número y calcule su factorial (El factorial de un número es el producto de todos los enteros entre 1 y el propio número y se representa por el número seguido de un signo de exclamación. Por ejemplo 5! = 1x2x3x4x5=120),\n",
        "\n"
      ],
      "metadata": {
        "id": "W9Gdw-6MCll2"
      }
    },
    {
      "cell_type": "markdown",
      "source": [
        "### Ejercicio 2\n",
        "Crea una aplicación que permita adivinar un número. La aplicación genera un número aleatorio del 1 al 100. A continuación va pidiendo números y va respondiendo si el número a adivinar es mayor o menor que el introducido,a demás de los intentos que te quedan (tienes 10 intentos para acertarlo). El programa termina cuando se acierta el número (además te dice en cuantos intentos lo has acertado), si se llega al limite de intentos te muestra el número que había generado.\n",
        "\n"
      ],
      "metadata": {
        "id": "6-7ZvIQwABgv"
      }
    },
    {
      "cell_type": "markdown",
      "source": [
        "### Ejercicio 3\n",
        "Algoritmo que pida números hasta que se introduzca un cero. Debe imprimir la suma y la media de todos los números introducidos.\n",
        "\n"
      ],
      "metadata": {
        "id": "DHBXQLiPAEa7"
      }
    },
    {
      "cell_type": "markdown",
      "source": [
        "### Ejercicio 4\n",
        "Realizar un algoritmo que pida números (se pedirá por teclado la cantidad de números a introducir). El programa debe informar de cuantos números introducidos son mayores que 0, menores que 0 e iguales a 0.\n",
        "\n"
      ],
      "metadata": {
        "id": "wd3cjiHPAHg1"
      }
    },
    {
      "cell_type": "markdown",
      "source": [
        "### Ejercicio 5\n",
        "Algoritmo que pida caracteres e imprima ‘VOCAL’ si son vocales y ‘NO VOCAL’ en caso contrario, el programa termina cuando se introduce un espacio."
      ],
      "metadata": {
        "id": "Rx90_59QAKY8"
      }
    },
    {
      "cell_type": "markdown",
      "source": [
        "### Ejercicio 6\n",
        "Escribir un programa que imprima todos los números pares entre dos números que se le pidan al usuario."
      ],
      "metadata": {
        "id": "GD3JBcuJANCs"
      }
    },
    {
      "cell_type": "markdown",
      "source": [
        "### Ejercicio 7\n",
        "Realizar una algoritmo que muestre la tabla de multiplicar de un número introducido por teclado."
      ],
      "metadata": {
        "id": "VQKLVUdvAOyH"
      }
    },
    {
      "cell_type": "markdown",
      "source": [
        "### Ejercicio 8\n",
        "Escribe un programa que pida el limite inferior y superior de un intervalo. Si el límite inferior es mayor que el superior lo tiene que volver a pedir.\n",
        "A continuación se van introduciendo números hasta que introduzcamos el 0. Cuando termine el programa dará las siguientes informaciones:\n",
        "\n",
        "La suma de los números que están dentro del intervalo (intervalo abierto).\n",
        "Cuantos números están fuera del intervalo.\n",
        "He informa si hemos introducido algún número igual a los límites del intervalo."
      ],
      "metadata": {
        "id": "8nIcY5XnAQY-"
      }
    },
    {
      "cell_type": "markdown",
      "source": [
        "### Ejercicio 9\n",
        "Escribe un programa que dados dos números, uno real (base) y un entero positivo (exponente), saque por pantalla el resultado de la potencia. No se puede utilizar el operador de potencia."
      ],
      "metadata": {
        "id": "BhQQQpnEAShy"
      }
    },
    {
      "cell_type": "markdown",
      "source": [
        "### Ejercicio 10\n",
        "Algoritmo que muestre la tabla de multiplicar de los números 1,2,3,4 y 5."
      ],
      "metadata": {
        "id": "fijFlwpJAW8c"
      }
    },
    {
      "cell_type": "markdown",
      "source": [
        "### Ejercicio 11\n",
        "Escribe un programa que diga si un número introducido por teclado es o no primo. Un número primo es aquel que sólo es divisible entre él mismo y la unidad. Nota: Es suficiente probar hasta la raíz cuadrada del número para ver si es divisible por algún otro número."
      ],
      "metadata": {
        "id": "Cbm0MdKQAZns"
      }
    },
    {
      "cell_type": "markdown",
      "source": [
        "### Ejercicio 12\n",
        "Realizar un algoritmo para determinar cuánto ahorrará una persona en un año, si al final de cada mes deposita cantidades variables de dinero; además, se quiere saber cuánto lleva ahorrado cada mes."
      ],
      "metadata": {
        "id": "PZ77dm7SAaN2"
      }
    },
    {
      "cell_type": "markdown",
      "source": [
        "### Ejercicio 13\n",
        "Una empresa tiene el registro de las horas que trabaja diariamente un empleado durante la semana (seis días) y requiere determinar el total de éstas, así como el sueldo que recibirá por las horas trabajadas."
      ],
      "metadata": {
        "id": "r9qqJm62AdPQ"
      }
    },
    {
      "cell_type": "markdown",
      "source": [
        "### Ejercicio 14\n",
        "Una persona se encuentra en el kilómetro 70 de una carretera, otra se encuentra en el km 150, los coches tienen sentido opuesto y tienen la misma velocidad. Realizar un programa para determinar en qué kilómetro de esa carretera se encontrarán."
      ],
      "metadata": {
        "id": "8cj18VlSAe2I"
      }
    },
    {
      "cell_type": "markdown",
      "source": [
        "### Ejercicio 15\n",
        "Una persona adquirió un producto para pagar en 20 meses. El primer mes pagó 10 €, el segundo 20 €, el tercero 40 € y así sucesivamente. Realizar un algoritmo para determinar cuánto debe pagar mensualmente y el total de\n",
        "lo que pagó después de los 20 meses."
      ],
      "metadata": {
        "id": "EOKUpjcxAgs8"
      }
    },
    {
      "cell_type": "markdown",
      "source": [
        "### Ejercicio 16\n",
        "Una empresa les paga a sus empleados con base en las horas trabajadas en la semana. Realice un algoritmo para determinar el sueldo semanal de N trabajadores y, además, calcule cuánto pagó la empresa por los N empleados."
      ],
      "metadata": {
        "id": "cOYhPxpBAkK_"
      }
    },
    {
      "cell_type": "markdown",
      "source": [
        "### Ejercicio 17\n",
        "Una empresa les paga a sus empleados con base en las horas trabajadas en la semana. Para esto, se registran los días que trabajó y las horas de cada día. Realice un algoritmo para determinar el sueldo semanal de N trabajadores y además calcule cuánto pagó la empresa por los N empleados."
      ],
      "metadata": {
        "id": "OH55kh6OAl5H"
      }
    },
    {
      "cell_type": "markdown",
      "source": [
        "### Ejercicio 18\n",
        "Hacer un programa que muestre un cronometro, indicando las horas, minutos y segundos."
      ],
      "metadata": {
        "id": "Sy7ZTAtIAm21"
      }
    },
    {
      "cell_type": "markdown",
      "source": [
        "### Ejercicio 19\n",
        "Realizar un ejemplo de menú, donde podemos escoger las distintas opciones hasta que seleccionamos la opción de “Salir”."
      ],
      "metadata": {
        "id": "_EpqBGEcAoyC"
      }
    },
    {
      "cell_type": "markdown",
      "source": [
        "### Ejercicio 20\n",
        "Mostrar en pantalla los N primero número primos. Se pide por teclado la cantidad de números primos que queremos mostrar."
      ],
      "metadata": {
        "id": "_JaB_oZRAqsb"
      }
    }
  ]
}